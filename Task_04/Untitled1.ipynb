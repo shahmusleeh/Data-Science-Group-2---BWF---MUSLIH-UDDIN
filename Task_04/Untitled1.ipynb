{
 "cells": [
  {
   "cell_type": "markdown",
   "id": "e6e7b39a-d8b3-4caf-9257-11391cfbfd02",
   "metadata": {},
   "source": [
    "BMI Calculator"
   ]
  },
  {
   "cell_type": "code",
   "execution_count": null,
   "id": "cbc97280-cc5b-4242-8d10-698746f8790e",
   "metadata": {},
   "outputs": [],
   "source": [
    "weight = float(input(\"Enter your Weight\"))\n",
    "height = float(input(\"Enter your Height in meters\"))\n",
    "\n",
    "bmi = weight / (height ** 2)\n",
    "\n",
    "print (\"Your BMI is\", bmi)"
   ]
  },
  {
   "cell_type": "code",
   "execution_count": null,
   "id": "3caa5c30-4581-47ec-b0f5-082d3c22955f",
   "metadata": {},
   "outputs": [],
   "source": []
  }
 ],
 "metadata": {
  "kernelspec": {
   "display_name": "Python 3 (ipykernel)",
   "language": "python",
   "name": "python3"
  },
  "language_info": {
   "codemirror_mode": {
    "name": "ipython",
    "version": 3
   },
   "file_extension": ".py",
   "mimetype": "text/x-python",
   "name": "python",
   "nbconvert_exporter": "python",
   "pygments_lexer": "ipython3",
   "version": "3.11.7"
  }
 },
 "nbformat": 4,
 "nbformat_minor": 5
}
