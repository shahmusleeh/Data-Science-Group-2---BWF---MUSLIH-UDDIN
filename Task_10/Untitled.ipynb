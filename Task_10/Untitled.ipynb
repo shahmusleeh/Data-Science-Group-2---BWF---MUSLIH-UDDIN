{
 "cells": [
  {
   "cell_type": "code",
   "execution_count": 1,
   "id": "216b33a5",
   "metadata": {},
   "outputs": [
    {
     "name": "stdout",
     "output_type": "stream",
     "text": [
      "1D Array: [0 1 2 3 4 5 6 7 8 9]\n"
     ]
    }
   ],
   "source": [
    "import numpy as np\n",
    "\n",
    "array_1d = np.arange(10)\n",
    "print(\"1D Array:\", array_1d)"
   ]
  },
  {
   "cell_type": "code",
   "execution_count": 4,
   "id": "590b68d6",
   "metadata": {},
   "outputs": [
    {
     "name": "stdout",
     "output_type": "stream",
     "text": [
      "2D Array (3x3):\n",
      " [[ 3 15  3]\n",
      " [10 13  1]\n",
      " [ 8  7 15]]\n"
     ]
    }
   ],
   "source": [
    "import numpy as np\n",
    "\n",
    "array_2d = np.random.randint(1, 21, size=(3, 3))\n",
    "print(\"2D Array (3x3):\\n\", array_2d)"
   ]
  },
  {
   "cell_type": "code",
   "execution_count": 11,
   "id": "39a2f02e",
   "metadata": {},
   "outputs": [
    {
     "name": "stdout",
     "output_type": "stream",
     "text": [
      "{'Fruits', 1, 2, 'Minirals', 'animals'}\n"
     ]
    }
   ],
   "source": [
    "a = {\"animals\", \"Fruits\", \"Minirals\", \"animals\", \"Fruits\", 1, 2, True}\n",
    "print(a)"
   ]
  },
  {
   "cell_type": "code",
   "execution_count": 12,
   "id": "77ee5000",
   "metadata": {},
   "outputs": [
    {
     "name": "stdout",
     "output_type": "stream",
     "text": [
      "{1, 2, 3} {1.2, 1.3, 1.4} {'b', 'a', 'c'} {False, True}\n"
     ]
    }
   ],
   "source": [
    "x1 = {1,2,3}\n",
    "x2 = {1.2, 1.3, 1.4}\n",
    "x3 = {\"a\", \"b\", \"c\"}\n",
    "x4 = {True, False}\n",
    "print(x1,x2,x3,x4)"
   ]
  },
  {
   "cell_type": "markdown",
   "id": "b38ff2ee",
   "metadata": {},
   "source": [
    "# Dimensions in array"
   ]
  },
  {
   "cell_type": "code",
   "execution_count": 33,
   "id": "54fe1f7d",
   "metadata": {},
   "outputs": [
    {
     "name": "stdout",
     "output_type": "stream",
     "text": [
      "20\n",
      "<class 'numpy.ndarray'>\n",
      "0\n"
     ]
    }
   ],
   "source": [
    "# 0 D array\n",
    "\n",
    "arr = np.array(20)\n",
    "print(arr)\n",
    "print(type(arr))\n",
    "print(arr.ndim)"
   ]
  },
  {
   "cell_type": "code",
   "execution_count": 36,
   "id": "fbdc5967",
   "metadata": {},
   "outputs": [
    {
     "name": "stdout",
     "output_type": "stream",
     "text": [
      "[1 2 3 4 5 6]\n",
      "<class 'numpy.ndarray'>\n",
      "1\n"
     ]
    }
   ],
   "source": [
    "# 1D array\n",
    "\n",
    "arr = np.array([1,2,3,4,5,6])\n",
    "print(arr)\n",
    "print(type(arr))\n",
    "print(arr.ndim)"
   ]
  },
  {
   "cell_type": "code",
   "execution_count": 42,
   "id": "c748802c",
   "metadata": {},
   "outputs": [
    {
     "name": "stdout",
     "output_type": "stream",
     "text": [
      "[[10 34 87 43]\n",
      " [ 6  7  8  9]]\n",
      "<class 'numpy.ndarray'>\n",
      "2\n"
     ]
    }
   ],
   "source": [
    "# 2D array\n",
    "\n",
    "arr = np.array([[10,34,87,43], [6,7,8,9]])\n",
    "print(arr)\n",
    "print(type(arr))\n",
    "print(arr.ndim)"
   ]
  },
  {
   "cell_type": "code",
   "execution_count": 46,
   "id": "45251dd8",
   "metadata": {},
   "outputs": [
    {
     "name": "stdout",
     "output_type": "stream",
     "text": [
      "[[[10 34 43]\n",
      "  [ 6  7  9]\n",
      "  [90 29 46]]]\n",
      "<class 'numpy.ndarray'>\n",
      "3\n"
     ]
    }
   ],
   "source": [
    "# 3DD array\n",
    "\n",
    "arr = np.array([[[10,34,43], [6,7,9], [90,29,46]]])\n",
    "print(arr)\n",
    "print(type(arr))\n",
    "print(arr.ndim)"
   ]
  },
  {
   "cell_type": "code",
   "execution_count": 47,
   "id": "a53f6c32",
   "metadata": {},
   "outputs": [
    {
     "name": "stdout",
     "output_type": "stream",
     "text": [
      "0\n",
      "1\n",
      "2\n",
      "3\n"
     ]
    }
   ],
   "source": [
    "a = np.array(42)\n",
    "b = np.array([1,2,3])\n",
    "c = np.array([[4,5,6], [7,8,9]])\n",
    "d = np.array([[[10,11,12],[13,14,15], [16,17,18]]])\n",
    "\n",
    "print(a.ndim)\n",
    "print(b.ndim)\n",
    "print(c.ndim)\n",
    "print(d.ndim)"
   ]
  },
  {
   "cell_type": "markdown",
   "id": "dc37babd",
   "metadata": {},
   "source": [
    "# Slicing of numpy arrays"
   ]
  },
  {
   "cell_type": "code",
   "execution_count": 1,
   "id": "c2d817ed",
   "metadata": {},
   "outputs": [],
   "source": [
    "import numpy as np"
   ]
  },
  {
   "cell_type": "code",
   "execution_count": 2,
   "id": "055b49df",
   "metadata": {},
   "outputs": [
    {
     "name": "stdout",
     "output_type": "stream",
     "text": [
      "[3 4 5 6]\n"
     ]
    }
   ],
   "source": [
    "arr = np.array([2,3,4,5,6,7])\n",
    "print(arr[1:5])"
   ]
  },
  {
   "cell_type": "code",
   "execution_count": 3,
   "id": "3f9eda18",
   "metadata": {},
   "outputs": [
    {
     "name": "stdout",
     "output_type": "stream",
     "text": [
      "[2 4 6]\n"
     ]
    }
   ],
   "source": [
    "arr = np.array([2,3,4,5,6,7])\n",
    "print(arr[::2])"
   ]
  },
  {
   "cell_type": "code",
   "execution_count": 7,
   "id": "09b4750c",
   "metadata": {},
   "outputs": [
    {
     "name": "stdout",
     "output_type": "stream",
     "text": [
      "[2 3 4]\n"
     ]
    }
   ],
   "source": [
    "a = np.array([[12,12,13,14,15], [1,2,3,4,5]])\n",
    "print(a[1, 1:4])"
   ]
  },
  {
   "cell_type": "markdown",
   "id": "5d755cde",
   "metadata": {},
   "source": [
    "Data types in numpy\n",
    "Numpy has some extra data types, and refer to data types with one character, like;\n",
    "\n",
    "i - integer\n",
    "b - boolean\n",
    "u - unsigned integer\n",
    "f - float\n",
    "c - complex float\n",
    "m - timedelta\n",
    "M - datetime\n",
    "O - object\n",
    "S - string\n",
    "U - unicode string\n",
    "V - fixed chunk of memory for other type (void)"
   ]
  },
  {
   "cell_type": "markdown",
   "id": "760faa1d-f420-47f7-942c-921750bfa44f",
   "metadata": {},
   "source": [
    "# Create a 1D NumPy array containing the integers from 0 to 9"
   ]
  },
  {
   "cell_type": "code",
   "execution_count": 6,
   "id": "627b5c3d-2224-49db-8697-07888409da45",
   "metadata": {},
   "outputs": [
    {
     "name": "stdout",
     "output_type": "stream",
     "text": [
      "1D Array: [0 1 2 3 4 5 6 7 8 9]\n"
     ]
    }
   ],
   "source": [
    "import numpy as np\n",
    "\n",
    "array_1d = np.arange(10)\n",
    "print(\"1D Array:\", array_1d)"
   ]
  },
  {
   "cell_type": "markdown",
   "id": "c693316a-d9d6-4ab7-89a0-ab5977125453",
   "metadata": {},
   "source": [
    "# Create a 2D NumPy array (3x3) containing random integers between 1 and 20."
   ]
  },
  {
   "cell_type": "code",
   "execution_count": 7,
   "id": "a67862a3-c22f-46ad-8e18-21e6e52edf83",
   "metadata": {},
   "outputs": [
    {
     "name": "stdout",
     "output_type": "stream",
     "text": [
      "2D Array (3x3):\n",
      " [[10  6 12]\n",
      " [ 2 17  6]\n",
      " [16 13 15]]\n"
     ]
    }
   ],
   "source": [
    "import numpy as np\n",
    "\n",
    "array_2d = np.random.randint(1, 21, size=(3, 3))\n",
    "print(\"2D Array (3x3):\\n\", array_2d)"
   ]
  },
  {
   "cell_type": "markdown",
   "id": "aeb97014-fd9e-4a1e-823a-c7fda372c609",
   "metadata": {},
   "source": [
    "# Create a 3D NumPy array with dimensions (2, 3, 4) filled with ones."
   ]
  },
  {
   "cell_type": "code",
   "execution_count": 11,
   "id": "4c3b0016-8467-4625-b14c-6b6e10e53d13",
   "metadata": {},
   "outputs": [
    {
     "name": "stdout",
     "output_type": "stream",
     "text": [
      "3D Array (2x3x4):\n",
      " [[[1. 1. 1. 1.]\n",
      "  [1. 1. 1. 1.]\n",
      "  [1. 1. 1. 1.]]\n",
      "\n",
      " [[1. 1. 1. 1.]\n",
      "  [1. 1. 1. 1.]\n",
      "  [1. 1. 1. 1.]]]\n"
     ]
    }
   ],
   "source": [
    "array_3d = np.ones((2, 3, 4))\n",
    "print(\"3D Array (2x3x4):\\n\", array_3d)"
   ]
  },
  {
   "cell_type": "markdown",
   "id": "146d693c-a33f-45ad-9c04-342f56fe2c6e",
   "metadata": {},
   "source": [
    "# Add two 1D arrays element-wise"
   ]
  },
  {
   "cell_type": "code",
   "execution_count": 12,
   "id": "ded7b089-2bd2-4fd7-8672-92a3115bd6dc",
   "metadata": {},
   "outputs": [
    {
     "name": "stdout",
     "output_type": "stream",
     "text": [
      "Sum of 1D arrays: [5 7 9]\n"
     ]
    }
   ],
   "source": [
    "array_a = np.array([1, 2, 3])\n",
    "array_b = np.array([4, 5, 6])\n",
    "\n",
    "array_sum = np.add(array_a, array_b)\n",
    "print(\"Sum of 1D arrays:\", array_sum)"
   ]
  },
  {
   "cell_type": "markdown",
   "id": "00ad0d8d-9d88-464c-a1cd-f6d67c99d4e3",
   "metadata": {},
   "source": [
    "# Multiply two 2D arrays element-wise"
   ]
  },
  {
   "cell_type": "code",
   "execution_count": 14,
   "id": "25c97667-eeb7-41b4-9f90-96c48ca1787e",
   "metadata": {},
   "outputs": [
    {
     "name": "stdout",
     "output_type": "stream",
     "text": [
      "Element-wise product of 2D arrays:\n",
      " [[ 9 16 21]\n",
      " [24 25 24]\n",
      " [21 16  9]]\n"
     ]
    }
   ],
   "source": [
    "array_a = np.array([[1, 2, 3], [4, 5, 6], [7, 8, 9]])\n",
    "array_b = np.array([[9, 8, 7], [6, 5, 4], [3, 2, 1]])\n",
    "\n",
    "array_product = np.multiply(array_a, array_b)\n",
    "print(\"Element-wise product of 2D arrays:\\n\", array_product)"
   ]
  },
  {
   "cell_type": "markdown",
   "id": "5748140a-deaa-43c1-8241-9640cdf6c65c",
   "metadata": {},
   "source": [
    "# Calculate the dot product of two matrices"
   ]
  },
  {
   "cell_type": "code",
   "execution_count": 15,
   "id": "253d0649-2bc4-453e-9a56-b04fd61b2302",
   "metadata": {},
   "outputs": [
    {
     "name": "stdout",
     "output_type": "stream",
     "text": [
      "Dot product of matrices:\n",
      " [[19 22]\n",
      " [43 50]]\n"
     ]
    }
   ],
   "source": [
    "matrix_a = np.array([[1, 2], [3, 4]])\n",
    "matrix_b = np.array([[5, 6], [7, 8]])\n",
    "\n",
    "dot_product = np.dot(matrix_a, matrix_b)\n",
    "print(\"Dot product of matrices:\\n\", dot_product)"
   ]
  },
  {
   "cell_type": "markdown",
   "id": "8b375a6f-7268-42c2-bc82-093b5bcb16cd",
   "metadata": {},
   "source": [
    "# Calculate the mean, median, and standard deviation of a 1D array."
   ]
  },
  {
   "cell_type": "code",
   "execution_count": 19,
   "id": "05d1ee9c-1dfb-46db-b708-8d0c4d8c67da",
   "metadata": {},
   "outputs": [
    {
     "name": "stdout",
     "output_type": "stream",
     "text": [
      "Mean: 40.27777777777778 Median: 30.0 Standard Deviation: 30.879345048386046\n"
     ]
    }
   ],
   "source": [
    "array_stats = np.array([11, 56, 99, 83, 14, 56, 56, 14, 11, 21, 35, 11, 98, 66, 11, 25, 56, 2])\n",
    "mean = np.mean(array_stats)\n",
    "median = np.median(array_stats)\n",
    "std_dev = np.std(array_stats)\n",
    "\n",
    "print(\"Mean:\", mean, \"Median:\", median, \"Standard Deviation:\", std_dev)"
   ]
  },
  {
   "cell_type": "markdown",
   "id": "261b73a0-7135-4dc7-9a0e-b534c9a6106f",
   "metadata": {},
   "source": [
    "# Find the maximum and minimum values in a 2D array."
   ]
  },
  {
   "cell_type": "code",
   "execution_count": 20,
   "id": "85a9cc9f-41eb-4aef-a580-0001f6c71c14",
   "metadata": {},
   "outputs": [
    {
     "name": "stdout",
     "output_type": "stream",
     "text": [
      "2D Array:\n",
      " [[ 84  88  62  70  60]\n",
      " [ 23  96   2  66 100]\n",
      " [ 98  57  16  86  60]\n",
      " [ 37  20  13  58  98]\n",
      " [ 16  32  87  58  45]]\n",
      "Max value: 100 Min value: 2\n"
     ]
    }
   ],
   "source": [
    "array_values = np.random.randint(1, 101, size=(5, 5))\n",
    "\n",
    "max_value = np.max(array_values)\n",
    "min_value = np.min(array_values)\n",
    "\n",
    "print(\"2D Array:\\n\", array_values)\n",
    "print(\"Max value:\", max_value, \"Min value:\", min_value)"
   ]
  },
  {
   "cell_type": "markdown",
   "id": "0f3e3960-40ef-416c-bef5-748925202640",
   "metadata": {},
   "source": [
    "# Generate an array of 1000 random numbers from a normal distribution with a mean of 0 and a standard deviation of 1."
   ]
  },
  {
   "cell_type": "code",
   "execution_count": 22,
   "id": "de027f85-8b9d-4283-8215-e22b6f743610",
   "metadata": {},
   "outputs": [
    {
     "name": "stdout",
     "output_type": "stream",
     "text": [
      "Random numbers from normal distribution:\n",
      " [-1.82627320e+00  1.13652958e+00 -6.06091274e-02  6.94544431e-01\n",
      " -8.10619003e-01  5.45992163e-01 -3.87050362e-01  2.28722102e+00\n",
      "  9.13638004e-01  1.90629613e-01  4.18363641e-01  7.40882392e-01\n",
      " -1.37677970e+00 -1.01237178e+00  1.77544788e+00  7.47849247e-02\n",
      " -1.33605594e+00  1.39417416e+00  5.74789047e-03  1.23567461e+00\n",
      " -6.72050702e-01  5.09506833e-01  1.20613120e+00 -5.33185063e-02\n",
      "  1.40887841e+00  4.13196906e-01  1.55753750e+00 -6.08426312e-02\n",
      "  2.40463002e+00  8.79464763e-01 -3.86110418e-01  2.46722766e-01\n",
      " -8.61839396e-01  5.71820806e-01  6.59756138e-01 -4.75070747e-02\n",
      " -1.59558283e+00  1.53480727e+00  2.49096023e+00 -1.89303019e-01\n",
      " -1.37775681e+00  1.63910554e+00  7.41400753e-01 -8.84632605e-02\n",
      " -1.78916534e-01  1.35973264e+00 -1.39311724e-01  2.26046903e-01\n",
      "  1.17616280e+00 -6.72792614e-01 -7.41712923e-01  9.17031181e-01\n",
      " -6.63326576e-01  1.09397956e+00  1.36802324e+00 -1.07894107e+00\n",
      "  3.36439860e-01 -7.07480444e-01 -1.14826187e+00  8.64813034e-01\n",
      "  2.59645130e-01 -5.32547155e-01 -1.19102834e+00 -1.37594629e+00\n",
      " -1.74676543e-01 -2.26153488e+00 -7.68240411e-01  1.45168646e+00\n",
      " -6.40784277e-01 -1.40183503e+00 -8.42290526e-01  8.20383775e-01\n",
      " -8.51008463e-01 -1.07300323e+00  1.07253320e+00  1.84453599e-01\n",
      "  5.66235737e-01 -5.52665440e-01 -2.14258633e-01  6.52068415e-01\n",
      " -1.85809563e-02  8.40887125e-01 -5.42233396e-01 -7.52380586e-01\n",
      "  1.29828104e+00  1.26053221e+00 -2.48379815e-01  1.36478648e+00\n",
      " -5.37689467e-01 -1.11326189e+00 -6.45553942e-01  6.19134209e-01\n",
      "  1.61308701e+00 -5.97917307e-01 -1.25186342e+00 -1.88004765e+00\n",
      "  3.32198525e-01 -1.35976032e+00  1.53679993e+00  1.89736376e+00\n",
      " -1.41887743e+00 -1.96790804e-01  1.15363350e+00 -3.40011843e-02\n",
      " -5.79945870e-01  2.09907728e+00  1.52091284e+00  2.10632186e-02\n",
      "  4.79068129e-01 -7.86168728e-01 -2.08199321e-01 -1.36059492e-01\n",
      " -2.75300310e-01 -3.55511856e-01  1.40229908e+00 -1.92671007e+00\n",
      "  8.89742535e-01  2.73971686e-01  3.98927667e-01  1.00546221e+00\n",
      "  7.37860594e-01 -1.77707047e+00 -2.18278046e+00  3.05699927e-01\n",
      " -8.05710680e-01  1.69830319e+00  6.58549132e-01 -1.04153059e+00\n",
      "  1.72802201e+00  2.21380174e-01 -6.07096635e-01 -5.76555519e-01\n",
      "  1.95781973e+00  1.39911693e+00 -1.37448726e-01  3.70320852e-01\n",
      " -1.12895774e+00 -4.03201419e-01 -1.63246061e-01 -6.54898843e-01\n",
      " -9.88908668e-02 -8.25492485e-01 -2.27355345e-01 -1.58569277e+00\n",
      "  7.03282873e-01  1.90252816e+00 -8.56545692e-01 -6.69746391e-01\n",
      "  1.78768135e-01  6.58722521e-01 -2.68265356e+00 -7.64490069e-02\n",
      "  7.72544250e-01  2.84404020e+00  1.41899107e-01 -1.03423195e+00\n",
      "  1.61460345e+00 -2.44928080e-01  1.71580801e-02 -1.49894053e+00\n",
      "  1.26395100e-01  8.34514668e-02  1.30376536e+00  4.29659521e-01\n",
      "  7.97644027e-01 -1.21955722e-01 -1.66820191e+00 -3.67717208e-02\n",
      " -4.91298598e-01  1.53164334e+00  7.69140873e-01 -1.35521089e+00\n",
      "  4.45700925e-01 -5.64335906e-01 -3.39951154e-02  8.16806130e-01\n",
      "  1.66069939e+00  5.12912896e-01  8.20711792e-02 -7.41024426e-01\n",
      " -1.41515346e+00 -9.99178919e-02 -4.24485748e-02  1.11629721e-01\n",
      " -2.76946656e-01  7.94039573e-01  2.28924888e+00 -7.20426362e-02\n",
      "  1.37822533e+00 -8.94627123e-01  3.11428501e-01 -5.29190203e-01\n",
      "  1.77290650e+00 -2.76422835e-02  9.28381381e-01  5.06657244e-02\n",
      " -1.39855182e+00 -1.14921210e-01  1.43219659e+00  1.45406125e+00\n",
      "  2.67362798e-01 -7.23601515e-01  3.77425995e-01  1.12145260e+00\n",
      "  4.78181433e-01 -9.98804785e-01  1.23227840e+00 -7.06398931e-01\n",
      "  4.37500950e-01  1.06808503e+00 -1.85145100e+00 -3.70345126e-01\n",
      "  1.10126616e+00  3.42878206e-01  8.11591088e-01  4.56085368e-01\n",
      "  1.22419858e+00  2.09099269e+00  1.46105815e+00 -2.03213412e+00\n",
      " -4.77220574e-01  1.64173413e+00  1.42759586e+00  1.27167303e+00\n",
      "  4.20394123e-01  4.00205096e-01 -1.30432931e+00  1.76783147e+00\n",
      "  1.43671959e+00  6.78541204e-01 -2.72810431e-01 -1.03698834e+00\n",
      "  6.51197208e-01  4.89344940e-01  2.96904080e-01 -1.18034536e+00\n",
      "  9.71341856e-01 -2.69686103e-01  7.45154847e-01 -3.49845028e-02\n",
      " -4.66274726e-01  1.01522411e+00  4.74832148e-01  6.13019923e-01\n",
      " -1.39413117e+00  6.05635448e-01 -3.19274776e-01 -8.91427985e-01\n",
      " -1.90899709e+00 -4.79475171e-01  5.14276528e-03 -1.22695166e+00\n",
      "  4.00494678e-01  8.72526582e-01  3.46680190e-01  7.13917865e-01\n",
      "  1.85872352e+00  6.08675159e-02  1.89007401e+00 -1.02948251e+00\n",
      "  5.17576940e-01 -1.32578126e-01  8.45398277e-01 -2.15225655e+00\n",
      " -1.54945601e+00 -1.71183789e-01 -3.58876861e-01 -1.50599171e+00\n",
      "  1.79285688e+00  1.02506283e+00  4.57101414e-01 -3.04819969e-02\n",
      "  4.43310794e-01  7.64374462e-01 -8.95358655e-01 -4.36030460e-02\n",
      " -9.73146512e-02 -4.42220391e-01 -8.54691519e-01 -2.83372811e-01\n",
      " -7.97481959e-01  2.35008837e+00  6.32511753e-02 -7.58037186e-01\n",
      " -4.92751319e-01 -1.91994305e+00 -1.61094853e+00 -1.00197131e+00\n",
      " -4.20427661e-01  3.70900386e-03 -3.65593039e-01  3.86783851e-03\n",
      " -5.07239320e-01  1.64310753e+00 -5.28680853e-01 -1.34419400e+00\n",
      " -7.51458291e-01 -6.10416978e-01 -1.72388237e+00 -1.23877493e+00\n",
      "  1.52429314e+00  8.21296468e-02  5.39789654e-01 -1.65387182e+00\n",
      "  3.91157139e-01 -3.81932576e-01 -3.02029129e-02  4.20182899e-01\n",
      " -1.81000778e-01 -3.20170908e-01  3.72562877e-02 -1.12452873e+00\n",
      " -3.20665970e-01 -2.66400539e-01  2.17516222e-01 -3.51307705e-01\n",
      " -1.09464930e-01 -5.13623041e-01  1.30450112e+00  2.67613386e-02\n",
      " -7.24322032e-02 -3.70990748e-01  5.03700391e-01  4.51020415e-01\n",
      "  1.58680769e+00  6.11007676e-01 -5.14222153e-01  1.62480898e-03\n",
      " -1.88403665e-01 -1.05461876e+00  9.45350123e-01  9.83906084e-02\n",
      " -2.06945142e-01 -1.27944506e+00  2.27313866e+00  5.51578391e-01\n",
      " -3.26682814e-01  1.59100882e+00  3.45789709e-01 -6.76495855e-01\n",
      " -9.16682504e-02 -2.34465743e+00 -1.15385620e-01  1.23095551e+00\n",
      "  1.15076145e+00 -8.20693100e-01  5.13428855e-01  1.55955879e+00\n",
      "  4.59450638e-01  1.84471526e+00 -2.52011553e+00 -1.00130884e+00\n",
      " -7.30621620e-01  1.70033862e+00  1.57769908e+00 -8.37473277e-01\n",
      "  1.54047483e-01 -9.97325665e-01  6.21272909e-01  1.20102966e+00\n",
      " -1.88580551e+00  4.58867293e-01 -1.35152074e+00 -1.64410177e+00\n",
      "  1.46547721e-01  2.40842939e-02  7.84748553e-01  1.22732400e+00\n",
      "  3.08036216e-01 -1.46311599e+00 -7.59883893e-01  1.58294831e+00\n",
      " -2.12861758e+00 -1.28220181e+00  1.99709437e+00  1.92288330e+00\n",
      " -1.28015818e-01  1.44080946e-01 -6.12538216e-01 -9.61372410e-01\n",
      "  6.36955461e-01 -8.05244158e-02  1.10810646e-01 -1.44224356e-01\n",
      "  5.53518498e-01 -1.00074976e+00 -1.16669107e+00  1.31524500e+00\n",
      "  8.17643802e-02  3.57362748e-01  6.12192317e-01 -1.46952584e+00\n",
      " -2.06921139e+00  4.03202264e-01 -5.66976427e-01 -2.40399750e+00\n",
      " -7.71342709e-01  5.33686955e-01  1.58684008e-01  1.37131031e-02\n",
      "  7.43959590e-01 -2.23060765e+00  1.03357169e+00 -1.89698640e-01\n",
      "  3.56807823e-01 -3.75600816e-01 -3.70767875e-01 -5.12113140e-01\n",
      "  4.40929646e-01  2.50292147e-01  1.65716135e-01 -1.17840520e+00\n",
      "  4.77426504e-01 -6.95087702e-02 -4.56935852e-01 -1.91126688e-01\n",
      "  1.30214233e+00  4.25033616e-01  7.28245941e-01  2.17784597e+00\n",
      "  2.74980065e-01  9.11984750e-01 -8.81988074e-01  9.94046107e-01\n",
      " -2.18491151e+00  1.90061724e+00  7.28687567e-01  1.11974742e+00\n",
      "  6.89687499e-02  5.19935675e-01  1.45211937e-01 -9.22234461e-01\n",
      " -3.60845744e-01  5.15939593e-01 -1.63641101e-01  7.48886332e-01\n",
      " -8.68421047e-01 -1.20905793e+00  8.08042227e-01 -1.08715848e+00\n",
      "  5.92958550e-01 -5.82062682e-01 -3.53646889e-02 -6.02262073e-01\n",
      "  1.42757254e+00 -1.18146297e-01 -4.38280727e-01 -2.62408989e-02\n",
      " -1.56423032e+00  1.03631211e+00  2.18435040e+00  1.29227955e-01\n",
      "  9.00010932e-01 -1.13053973e+00 -2.66653359e-02  9.03271658e-01\n",
      "  1.13267947e+00  5.70638173e-01 -8.51447670e-01  5.83030942e-01\n",
      " -2.32289156e-02 -1.32208992e-02  7.89889360e-01 -7.22721793e-01\n",
      " -3.79215024e-01 -1.53674157e+00 -1.45561196e+00 -7.99052731e-01\n",
      "  5.73261065e-02  1.61320936e+00  1.92666427e+00  1.23117404e-01\n",
      "  1.59713897e+00  1.24822229e+00 -3.02302705e-01 -1.47523294e-01\n",
      "  2.01177975e+00 -1.50675267e-01  6.29655723e-01  1.14246422e-01\n",
      "  8.20344973e-01 -1.47713989e-01  9.37261758e-01 -9.28269215e-01\n",
      " -2.63913080e-01 -3.78469873e-01 -6.32767241e-01  7.80887793e-01\n",
      "  1.00309356e+00 -1.62034793e+00  8.67099032e-01  3.64283229e-01\n",
      " -1.15412554e-01 -7.15824599e-03  4.88279158e-01 -4.19299207e-01\n",
      "  2.49325500e+00 -8.42428342e-01 -6.57236292e-02 -1.54641064e+00\n",
      "  7.73218139e-01 -1.69371227e-01 -1.19337745e+00  1.04830408e+00\n",
      "  3.12792883e-01 -2.44268083e+00 -5.64460420e-01 -9.10919868e-01\n",
      "  2.65468555e+00 -1.84819961e+00 -1.31100975e-02 -1.16207230e+00\n",
      " -3.20419369e-01  1.03687191e+00 -5.51909408e-01 -2.86159225e+00\n",
      " -9.48087543e-01 -6.90777927e-01  1.27959826e+00  1.05769367e+00\n",
      " -1.63391143e-01 -4.32319383e-01 -1.79120559e+00  6.97675086e-01\n",
      "  1.79559055e+00  4.40917403e-01  1.91258178e+00 -9.17289706e-01\n",
      " -5.09406981e-01  4.15045362e-02 -1.53937214e+00 -6.11399857e-01\n",
      " -3.76100947e-02  1.17666454e-01  8.55208357e-01  9.14153178e-01\n",
      "  5.75831168e-01 -4.15338861e+00  1.64818050e+00 -3.09857787e-01\n",
      " -8.97281811e-01 -4.69659890e-01  7.21997215e-02 -2.46190788e-02\n",
      "  1.52713204e+00  1.28152258e+00  1.36784872e+00  1.56267006e+00\n",
      " -7.67614688e-01 -4.11099454e-02  4.05399084e-01 -1.63396098e+00\n",
      " -8.96733331e-01 -2.87789536e-01 -4.75576993e-01  1.95026670e+00\n",
      "  1.67210961e-02 -7.23668089e-01 -4.99205731e-01 -1.06301138e+00\n",
      " -8.56894354e-01  4.17979757e-01  8.29395734e-01  2.32242299e-01\n",
      "  6.42331039e-01  1.52660640e-01  1.07457653e+00  1.13494412e+00\n",
      "  9.16959936e-01  9.54131122e-01 -7.43256145e-01 -1.22606493e+00\n",
      "  9.87264952e-01  1.08256850e+00 -3.47629718e-02 -1.12942288e+00\n",
      " -1.64230773e-01  1.82696726e-03  9.93738508e-01 -5.75089376e-01\n",
      " -3.04348528e-01 -2.97051241e-01 -2.05296010e+00 -1.62070921e-01\n",
      " -3.30823038e-01  7.32528956e-01 -1.52333659e+00 -4.73404217e-01\n",
      "  6.46721459e-01 -1.19603330e-01 -1.59864633e+00  1.68110353e+00\n",
      " -1.24003693e+00 -8.92935989e-01  3.85377300e-01 -1.32127433e+00\n",
      "  3.59466439e-01  1.38882460e-01  1.69835037e-03 -2.81346983e-01\n",
      "  1.01376944e+00  1.66225734e+00 -4.07345761e-01  6.76380912e-01\n",
      " -7.30667389e-01 -2.53872171e+00 -1.16895395e+00 -5.44966880e-01\n",
      "  1.99594222e+00  2.61537785e-01  7.09603850e-01 -1.26019157e-01\n",
      "  1.14825529e+00 -1.05767052e+00  1.35619969e+00 -3.34269182e-03\n",
      "  7.87385981e-01 -2.40091013e-01 -1.35359839e+00 -2.75728936e-01\n",
      " -4.17419802e-01 -4.34221854e-01  4.30792816e-01  3.12609868e-01\n",
      " -3.86279822e-01 -5.07270475e-01  1.13465787e+00 -3.29297560e-01\n",
      "  1.22146757e-01 -7.04383065e-01  1.10679519e+00 -7.39843284e-01\n",
      "  1.48738981e+00 -6.24220089e-01  9.13182253e-01  2.09426419e-01\n",
      "  1.20664821e+00  4.87899536e-01  1.73807407e-01 -3.88233517e-01\n",
      "  3.24517214e-01 -5.42850868e-01  3.82945150e-01  3.38896904e-01\n",
      "  1.07273304e+00 -4.50635591e-02  1.19049690e+00 -6.75369147e-01\n",
      " -2.05389064e+00 -6.72711000e-01 -1.74319733e-01 -9.90292937e-01\n",
      " -6.91965468e-01 -4.75238054e-01  1.80522641e+00  1.37904161e+00\n",
      "  4.33074169e-01  1.04542478e-01  1.64797627e-01 -2.84631411e-01\n",
      " -9.24712489e-01 -1.47153240e+00  3.99130100e-01  1.78756143e+00\n",
      "  3.21463794e-01 -3.17648097e-02  1.68048266e+00 -2.10430932e-01\n",
      "  5.96085772e-01 -3.88531613e-02  5.07290909e-01 -2.88944346e-01\n",
      "  2.44903286e+00 -1.11749252e+00 -3.62084626e-01 -9.33279117e-01\n",
      " -1.40265598e+00 -1.40716574e+00  1.26924290e+00  5.32625744e-01\n",
      " -8.79452153e-02  6.02119878e-01 -1.03756256e+00  7.66082145e-01\n",
      " -1.25320378e+00  2.09541396e+00  1.56794608e+00  8.71534906e-02\n",
      "  1.33710668e+00 -9.04404396e-01  9.60040862e-01 -1.73175578e+00\n",
      "  8.90277359e-01 -1.40710928e+00  7.46832286e-02 -3.31036187e-01\n",
      " -1.38196494e+00 -5.60775738e-01 -2.98295306e+00  1.36431585e+00\n",
      "  9.23150583e-01 -5.49576941e-01  1.71495539e+00  5.97296114e-01\n",
      "  3.11107687e-01  2.09061168e+00  3.88615482e-02  1.09790129e+00\n",
      "  6.13034406e-01  2.87425755e-01  1.12094816e+00 -2.00794732e-01\n",
      " -1.15926492e+00  1.32173917e+00 -1.00296379e+00 -2.85242149e-01\n",
      "  6.77955628e-01  1.71832687e+00 -3.63293761e-01  3.07388574e-01\n",
      " -1.17676705e+00 -5.62054643e-03  3.71439916e-01  6.01596287e-01\n",
      "  2.54044164e-01 -3.61940732e-01 -1.77110139e+00  1.22455213e-02\n",
      " -1.68060928e-01  9.47924032e-01 -1.13987246e+00  2.61532869e-01\n",
      "  3.06356229e-02  2.88299905e-01  2.75185772e-01 -3.40554237e-01\n",
      " -5.29518263e-01 -1.49797802e+00 -2.23887498e+00  2.47509866e+00\n",
      " -2.10197977e-01  1.14832205e+00 -1.39731297e+00 -2.53494475e-02\n",
      "  4.06080275e-01 -5.57639506e-01 -3.19452846e-01 -2.33500021e-02\n",
      "  2.89154836e-01  7.06430256e-01  8.41222790e-01 -3.68020632e-01\n",
      "  1.14258343e+00  1.81488381e+00  2.13805521e-01  1.10395383e+00\n",
      "  5.55145384e-01 -7.06740763e-01  5.78599012e-01  7.46415732e-01\n",
      " -9.96680321e-01  2.42673825e+00  1.39307803e+00 -8.62964702e-01\n",
      " -8.48834509e-01 -1.34418983e+00 -6.45969026e-01  1.01680791e+00\n",
      "  1.71880037e+00  6.30124680e-01  1.81236815e+00 -1.03237793e+00\n",
      " -7.93204231e-01 -1.03112233e+00  1.47285436e+00  9.16506112e-02\n",
      "  1.06301818e+00  9.17090691e-01 -5.44260551e-01 -1.53991069e+00\n",
      " -5.58644101e-01 -1.33291797e+00 -1.61392897e+00 -1.02136870e+00\n",
      "  8.01737825e-01 -2.44822948e-01  2.20662065e-01 -1.18518857e+00\n",
      "  1.83993449e+00 -6.04190281e-02 -6.78033798e-01 -1.83925278e-01\n",
      " -4.17916974e-01  9.05320605e-01 -1.16021201e-01 -5.59350695e-01\n",
      "  7.27193618e-01  9.10463597e-01  5.09957281e-01  7.79274896e-01\n",
      " -1.74303645e+00  4.68590719e-01 -1.24503562e+00 -3.73429359e-01\n",
      " -3.80657021e-02  6.85560543e-01  8.91207999e-01  5.03509798e-01\n",
      " -5.11776699e-01 -6.77813719e-01 -1.43012250e+00 -9.90398879e-02\n",
      "  1.16861112e+00 -5.93949681e-02  8.20843785e-01  4.58508197e-01\n",
      "  2.17454520e-01  7.78937284e-01  6.62424757e-01  9.12531544e-01\n",
      " -6.11526152e-01 -2.37096017e-01  7.85768243e-01  1.30880296e-01\n",
      "  1.98349983e+00 -1.32699176e+00  6.00484477e-01  2.99061292e-01\n",
      " -1.97588690e-02  1.23906499e-01 -8.63959625e-01  6.00638879e-01\n",
      "  1.07751327e+00  1.49871938e+00 -4.91433575e-01 -3.45411857e-01\n",
      " -1.09414257e+00 -1.10885696e+00  5.70822194e-01 -1.41241920e+00\n",
      " -9.21375656e-01  7.36615320e-02 -2.53523325e-01  1.23302139e+00\n",
      " -4.54383670e-01 -1.11629200e+00  1.92566576e+00  6.07709914e-01\n",
      "  1.35297823e-01  1.02708149e+00 -6.62708577e-01  1.65048677e+00\n",
      " -3.63671599e-01  6.53690823e-01 -2.23447242e-01  5.92640308e-01\n",
      " -2.35186486e+00 -2.84758547e-01 -1.40487715e+00 -1.38299615e+00\n",
      "  6.98224175e-01  8.38348625e-01  1.80900461e-01  4.65471151e-01\n",
      " -6.83020733e-01  6.49365702e-01  1.57506541e-01  9.33890183e-01\n",
      "  1.65493577e-01 -1.53662737e+00 -6.00257271e-01  8.25586650e-02\n",
      " -7.35712910e-01 -1.86038650e+00 -9.39206609e-01 -1.81887104e+00\n",
      "  7.15417620e-02  6.93831270e-01  7.89517670e-01 -1.09923514e+00\n",
      "  6.67092318e-01 -1.12537527e+00 -1.03937225e+00  2.38422390e-01\n",
      "  1.23635916e+00  9.76009557e-01  1.45073260e+00  4.96962254e-01\n",
      "  1.11290436e+00 -8.41259861e-02 -9.06262985e-01  2.35053488e-01\n",
      " -1.17268517e+00  2.03381396e-01 -3.95612262e-01 -2.01900344e-01\n",
      " -5.50564056e-01  1.16619180e+00  4.07120554e-01  8.20304872e-01\n",
      " -9.66072193e-01  1.20936980e+00 -1.01995837e+00  1.30636585e+00\n",
      "  2.83188506e-01 -6.54618469e-01 -5.55676252e-01 -8.33279312e-01\n",
      "  3.90565476e-01 -1.13257198e+00 -8.27877327e-01 -5.57712085e-01\n",
      "  8.31288487e-01 -7.95105149e-01 -2.03702588e-01 -2.48938957e+00\n",
      " -4.83258905e-01 -1.85083097e+00  1.54384230e+00  1.63137385e+00\n",
      " -1.05226955e+00  1.28627967e+00 -8.51524651e-01 -1.20779914e+00\n",
      "  6.28779088e-02 -1.37375666e+00  7.85616251e-02 -1.72973645e+00\n",
      "  1.69968561e+00 -1.87595816e+00  2.20839100e+00  1.20207157e+00\n",
      " -1.47513546e-01 -1.43100533e+00 -6.47401211e-01  7.52506891e-01\n",
      "  5.67362096e-02 -7.23648362e-01  1.04883785e+00 -1.21657173e+00\n",
      "  3.51784764e-01  6.46621025e-01  1.00333506e+00 -3.34035349e-02\n",
      " -1.79491644e+00 -1.35906273e+00  2.69454840e-01  4.93078223e-01\n",
      " -3.64136641e-01 -3.51322236e-01 -5.11652275e-01  9.82028127e-01\n",
      "  8.47348854e-01  1.20695813e-01 -3.08212231e-01 -3.45366750e-01\n",
      " -4.78144139e-01  1.80401651e+00 -7.75502374e-01  8.53074197e-01\n",
      " -1.14375730e+00  3.90333878e-01  2.02319521e+00  1.42498380e+00\n",
      "  1.21265932e+00  1.45305170e-01 -7.70390791e-02  8.33157784e-01\n",
      "  1.03176317e+00  1.47067961e-01  3.95283191e-01  1.58322167e-01\n",
      " -2.37446824e-01  1.38203416e-01 -2.18892422e+00  6.87762992e-01\n",
      "  4.38571641e-01  1.42940027e+00  9.69797798e-01 -7.36024428e-01\n",
      "  2.32943700e-01  4.29303085e-01  5.55939563e-01  1.81697760e+00\n",
      "  1.77787779e+00 -1.82210550e+00 -1.41753350e+00 -1.15853059e-01\n",
      " -2.62810651e-02  1.04417375e-01  3.10082750e-01 -1.17111088e+00\n",
      "  1.31781669e+00 -1.59210064e+00 -8.13354740e-02  6.13775077e-01\n",
      " -2.78376495e-01  1.29293110e+00 -3.11709872e-01  3.57037209e-01]\n"
     ]
    }
   ],
   "source": [
    "normal_array = np.random.normal(0, 1, 1000)\n",
    "print(\"Random numbers from normal distribution:\\n\", normal_array)"
   ]
  },
  {
   "cell_type": "markdown",
   "id": "cdfb59d3-504c-486a-8082-8dd94ee9ceba",
   "metadata": {},
   "source": [
    "# Create a 2D array of shapes (5, 5) with random integers from a uniform distribution between 10 and 50"
   ]
  },
  {
   "cell_type": "code",
   "execution_count": 23,
   "id": "328e1a50-c864-45d6-bd62-a520a98f5f43",
   "metadata": {},
   "outputs": [
    {
     "name": "stdout",
     "output_type": "stream",
     "text": [
      "2D Array (5x5) with random integers:\n",
      " [[48 35 46 34 24]\n",
      " [32 38 43 43 28]\n",
      " [18 38 22 49 18]\n",
      " [20 19 34 44 27]\n",
      " [29 39 40 17 36]]\n"
     ]
    }
   ],
   "source": [
    "uniform_array = np.random.randint(10, 51, size=(5, 5))\n",
    "\n",
    "print(\"2D Array (5x5) with random integers:\\n\", uniform_array)"
   ]
  },
  {
   "cell_type": "markdown",
   "id": "3a35259e-f6d2-4673-a01e-0c4a2cf7aee8",
   "metadata": {},
   "source": [
    "# Calculate the cumulative sum of a 1D array."
   ]
  },
  {
   "cell_type": "code",
   "execution_count": 24,
   "id": "e9d15151-ce58-40b5-b878-83132ef1331a",
   "metadata": {},
   "outputs": [
    {
     "name": "stdout",
     "output_type": "stream",
     "text": [
      "Cumulative sum of the array: \n",
      " [ 1  3  6 10 15]\n"
     ]
    }
   ],
   "source": [
    "array_sum = np.array([1, 2, 3, 4, 5])\n",
    "cumulative_sum = np.cumsum(array_sum)\n",
    "\n",
    "print(\"Cumulative sum of the array: \\n\", cumulative_sum)"
   ]
  },
  {
   "cell_type": "markdown",
   "id": "de41a2c4-5333-4c60-9aa7-e13de20a32e6",
   "metadata": {},
   "source": [
    "# Compute the correlation coefficient matrix of a 2D array"
   ]
  },
  {
   "cell_type": "code",
   "execution_count": 25,
   "id": "4b1af879-9abc-4270-9a93-fc4c4d513596",
   "metadata": {},
   "outputs": [
    {
     "name": "stdout",
     "output_type": "stream",
     "text": [
      "2D Array for correlation:\n",
      " [[2.96152755e-01 3.93465285e-01 7.73438879e-01]\n",
      " [9.17959334e-01 9.27337973e-02 2.15871063e-01]\n",
      " [5.49431218e-01 1.80967352e-01 1.93245507e-01]\n",
      " [7.48565039e-01 7.58879197e-01 1.66931654e-01]\n",
      " [2.74959134e-04 2.10796112e-01 2.96993204e-01]]\n",
      "Correlation coefficient matrix:\n",
      " [[ 1.          0.12115778 -0.45838278]\n",
      " [ 0.12115778  1.          0.03578063]\n",
      " [-0.45838278  0.03578063  1.        ]]\n"
     ]
    }
   ],
   "source": [
    "array_corr = np.random.rand(5, 3)\n",
    "correlation_matrix = np.corrcoef(array_corr, rowvar=False)\n",
    "\n",
    "print(\"2D Array for correlation:\\n\", array_corr)\n",
    "print(\"Correlation coefficient matrix:\\n\", correlation_matrix)"
   ]
  },
  {
   "cell_type": "markdown",
   "id": "0efa6327-d180-43b5-a3d7-cbbed1dfb8df",
   "metadata": {},
   "source": [
    "# Compute the correlation coefficient matrix of a 2D array."
   ]
  },
  {
   "cell_type": "code",
   "execution_count": 26,
   "id": "e5c105fe-6ced-4ea6-a675-68df87415d6a",
   "metadata": {},
   "outputs": [
    {
     "name": "stdout",
     "output_type": "stream",
     "text": [
      "2D Array for correlation:\n",
      " [[0.09404436 0.96915046 0.94663128]\n",
      " [0.32726536 0.12107453 0.78719057]\n",
      " [0.4770293  0.27960389 0.85549436]\n",
      " [0.73162468 0.76442012 0.54910298]\n",
      " [0.21666925 0.2670904  0.7808817 ]]\n",
      "Correlation coefficient matrix:\n",
      " [[ 1.         -0.01549868 -0.83784502]\n",
      " [-0.01549868  1.         -0.0095968 ]\n",
      " [-0.83784502 -0.0095968   1.        ]]\n"
     ]
    }
   ],
   "source": [
    "array_corr = np.random.rand(5, 3)\n",
    "correlation_matrix = np.corrcoef(array_corr, rowvar=False)\n",
    "\n",
    "print(\"2D Array for correlation:\\n\", array_corr)\n",
    "print(\"Correlation coefficient matrix:\\n\", correlation_matrix)"
   ]
  },
  {
   "cell_type": "markdown",
   "id": "50b69898-0814-42ac-945a-07588dc94f7a",
   "metadata": {},
   "source": [
    "# Simulate rolling a six-sided die 1000 times and count the frequency of each outcome."
   ]
  },
  {
   "cell_type": "code",
   "execution_count": 27,
   "id": "d2806f91-3341-4ffc-beac-af15565c72e2",
   "metadata": {},
   "outputs": [
    {
     "name": "stdout",
     "output_type": "stream",
     "text": [
      "Frequency of each outcome (1-6): [132 194 180 153 179 162]\n"
     ]
    }
   ],
   "source": [
    "rolls = np.random.randint(1, 7, 1000)\n",
    "frequency = np.bincount(rolls)[1:]\n",
    "\n",
    "print(\"Frequency of each outcome (1-6):\", frequency)"
   ]
  },
  {
   "cell_type": "markdown",
   "id": "e3ae1593-bc4e-43f2-a00d-985b97df7b63",
   "metadata": {},
   "source": [
    "# Note"
   ]
  },
  {
   "cell_type": "markdown",
   "id": "50b16044-5847-42c1-a7fd-8cf464629bb3",
   "metadata": {},
   "source": [
    "==> np.random.randint is a function in the NumPy library that generates random integers. The function can be used to create arrays of random integers within a specified range. Here are some key details about np.random.randint.\n",
    "\n",
    "==> By using np.random.randint, you can generate arrays of random integers for various purposes, such as simulating random events, creating test data, or populating matrices for mathematical operations.\n",
    "\n",
    "==> np.bincount is a function in NumPy that counts the number of occurrences of each value in an array of non-negative integers. It returns an array where the value at each index i is the count of occurrences of i in the input array. This can be particularly useful for histogram-like operations.\n",
    "\n",
    "==> np.corrcoef is a function in NumPy that calculates the Pearson correlation coefficients between rows or columns of a given input array. The Pearson correlation coefficient is a measure of the linear correlation between two variables, ranging from -1 (perfect negative correlation) to +1 (perfect positive correlation).\n",
    "\n",
    "==> np.random.rand is a function in the NumPy library that generates an array of random numbers uniformly distributed between 0 (inclusive) and 1 (exclusive). The numbers are generated in a continuous uniform distribution."
   ]
  }
 ],
 "metadata": {
  "kernelspec": {
   "display_name": "Python 3 (ipykernel)",
   "language": "python",
   "name": "python3"
  },
  "language_info": {
   "codemirror_mode": {
    "name": "ipython",
    "version": 3
   },
   "file_extension": ".py",
   "mimetype": "text/x-python",
   "name": "python",
   "nbconvert_exporter": "python",
   "pygments_lexer": "ipython3",
   "version": "3.11.7"
  }
 },
 "nbformat": 4,
 "nbformat_minor": 5
}
