{
 "cells": [
  {
   "cell_type": "markdown",
   "id": "583b7724-1c18-4d03-81e2-5f8b9311174b",
   "metadata": {},
   "source": [
    "# Exploring Cross-Validation, Overfitting, and Underfitting"
   ]
  },
  {
   "cell_type": "code",
   "execution_count": 1,
   "id": "516136ce-f42f-4efe-8724-6a42f573d883",
   "metadata": {},
   "outputs": [],
   "source": [
    "import pandas as pd\n",
    "import matplotlib.pyplot as plt\n",
    "from sklearn.tree import DecisionTreeClassifier\n",
    "from sklearn.preprocessing import StandardScaler, LabelEncoder\n",
    "from sklearn.model_selection import train_test_split\n",
    "from sklearn.linear_model import LogisticRegression\n",
    "from sklearn.model_selection import cross_val_score"
   ]
  },
  {
   "cell_type": "code",
   "execution_count": 3,
   "id": "d5b2f0ee-2056-467f-b6b2-e1e05befb131",
   "metadata": {},
   "outputs": [],
   "source": [
    "engagement_data = pd.read_csv('course_engagement_data.csv')"
   ]
  },
  {
   "cell_type": "code",
   "execution_count": 4,
   "id": "653aa3ea-a4a2-4f14-b84c-04a776bcbfc1",
   "metadata": {},
   "outputs": [
    {
     "data": {
      "text/html": [
       "<div>\n",
       "<style scoped>\n",
       "    .dataframe tbody tr th:only-of-type {\n",
       "        vertical-align: middle;\n",
       "    }\n",
       "\n",
       "    .dataframe tbody tr th {\n",
       "        vertical-align: top;\n",
       "    }\n",
       "\n",
       "    .dataframe thead th {\n",
       "        text-align: right;\n",
       "    }\n",
       "</style>\n",
       "<table border=\"1\" class=\"dataframe\">\n",
       "  <thead>\n",
       "    <tr style=\"text-align: right;\">\n",
       "      <th></th>\n",
       "      <th>UserID</th>\n",
       "      <th>CourseCategory</th>\n",
       "      <th>TimeSpentOnCourse</th>\n",
       "      <th>NumberOfVideosWatched</th>\n",
       "      <th>NumberOfQuizzesTaken</th>\n",
       "      <th>QuizScores</th>\n",
       "      <th>CompletionRate</th>\n",
       "      <th>DeviceType</th>\n",
       "      <th>CourseCompletion</th>\n",
       "    </tr>\n",
       "  </thead>\n",
       "  <tbody>\n",
       "    <tr>\n",
       "      <th>0</th>\n",
       "      <td>5618</td>\n",
       "      <td>Health</td>\n",
       "      <td>29.979719</td>\n",
       "      <td>17</td>\n",
       "      <td>3</td>\n",
       "      <td>50.365656</td>\n",
       "      <td>20.860773</td>\n",
       "      <td>1</td>\n",
       "      <td>0</td>\n",
       "    </tr>\n",
       "    <tr>\n",
       "      <th>1</th>\n",
       "      <td>4326</td>\n",
       "      <td>Arts</td>\n",
       "      <td>27.802640</td>\n",
       "      <td>1</td>\n",
       "      <td>5</td>\n",
       "      <td>62.615970</td>\n",
       "      <td>65.632415</td>\n",
       "      <td>1</td>\n",
       "      <td>0</td>\n",
       "    </tr>\n",
       "    <tr>\n",
       "      <th>2</th>\n",
       "      <td>5849</td>\n",
       "      <td>Arts</td>\n",
       "      <td>86.820485</td>\n",
       "      <td>14</td>\n",
       "      <td>2</td>\n",
       "      <td>78.458962</td>\n",
       "      <td>63.812007</td>\n",
       "      <td>1</td>\n",
       "      <td>1</td>\n",
       "    </tr>\n",
       "    <tr>\n",
       "      <th>3</th>\n",
       "      <td>4992</td>\n",
       "      <td>Science</td>\n",
       "      <td>35.038427</td>\n",
       "      <td>17</td>\n",
       "      <td>10</td>\n",
       "      <td>59.198853</td>\n",
       "      <td>95.433162</td>\n",
       "      <td>0</td>\n",
       "      <td>1</td>\n",
       "    </tr>\n",
       "    <tr>\n",
       "      <th>4</th>\n",
       "      <td>3866</td>\n",
       "      <td>Programming</td>\n",
       "      <td>92.490647</td>\n",
       "      <td>16</td>\n",
       "      <td>0</td>\n",
       "      <td>98.428285</td>\n",
       "      <td>18.102478</td>\n",
       "      <td>0</td>\n",
       "      <td>0</td>\n",
       "    </tr>\n",
       "    <tr>\n",
       "      <th>...</th>\n",
       "      <td>...</td>\n",
       "      <td>...</td>\n",
       "      <td>...</td>\n",
       "      <td>...</td>\n",
       "      <td>...</td>\n",
       "      <td>...</td>\n",
       "      <td>...</td>\n",
       "      <td>...</td>\n",
       "      <td>...</td>\n",
       "    </tr>\n",
       "    <tr>\n",
       "      <th>8995</th>\n",
       "      <td>8757</td>\n",
       "      <td>Health</td>\n",
       "      <td>37.445225</td>\n",
       "      <td>14</td>\n",
       "      <td>4</td>\n",
       "      <td>54.469359</td>\n",
       "      <td>32.990704</td>\n",
       "      <td>1</td>\n",
       "      <td>0</td>\n",
       "    </tr>\n",
       "    <tr>\n",
       "      <th>8996</th>\n",
       "      <td>894</td>\n",
       "      <td>Science</td>\n",
       "      <td>48.631443</td>\n",
       "      <td>7</td>\n",
       "      <td>7</td>\n",
       "      <td>59.413257</td>\n",
       "      <td>0.254625</td>\n",
       "      <td>0</td>\n",
       "      <td>0</td>\n",
       "    </tr>\n",
       "    <tr>\n",
       "      <th>8997</th>\n",
       "      <td>6323</td>\n",
       "      <td>Health</td>\n",
       "      <td>38.212512</td>\n",
       "      <td>3</td>\n",
       "      <td>3</td>\n",
       "      <td>69.508297</td>\n",
       "      <td>70.188159</td>\n",
       "      <td>1</td>\n",
       "      <td>0</td>\n",
       "    </tr>\n",
       "    <tr>\n",
       "      <th>8998</th>\n",
       "      <td>3652</td>\n",
       "      <td>Health</td>\n",
       "      <td>70.048665</td>\n",
       "      <td>13</td>\n",
       "      <td>10</td>\n",
       "      <td>79.655182</td>\n",
       "      <td>72.975225</td>\n",
       "      <td>1</td>\n",
       "      <td>1</td>\n",
       "    </tr>\n",
       "    <tr>\n",
       "      <th>8999</th>\n",
       "      <td>5595</td>\n",
       "      <td>Health</td>\n",
       "      <td>93.589781</td>\n",
       "      <td>7</td>\n",
       "      <td>5</td>\n",
       "      <td>56.274546</td>\n",
       "      <td>11.299071</td>\n",
       "      <td>0</td>\n",
       "      <td>0</td>\n",
       "    </tr>\n",
       "  </tbody>\n",
       "</table>\n",
       "<p>9000 rows × 9 columns</p>\n",
       "</div>"
      ],
      "text/plain": [
       "      UserID CourseCategory  TimeSpentOnCourse  NumberOfVideosWatched  \\\n",
       "0       5618         Health          29.979719                     17   \n",
       "1       4326           Arts          27.802640                      1   \n",
       "2       5849           Arts          86.820485                     14   \n",
       "3       4992        Science          35.038427                     17   \n",
       "4       3866    Programming          92.490647                     16   \n",
       "...      ...            ...                ...                    ...   \n",
       "8995    8757         Health          37.445225                     14   \n",
       "8996     894        Science          48.631443                      7   \n",
       "8997    6323         Health          38.212512                      3   \n",
       "8998    3652         Health          70.048665                     13   \n",
       "8999    5595         Health          93.589781                      7   \n",
       "\n",
       "      NumberOfQuizzesTaken  QuizScores  CompletionRate  DeviceType  \\\n",
       "0                        3   50.365656       20.860773           1   \n",
       "1                        5   62.615970       65.632415           1   \n",
       "2                        2   78.458962       63.812007           1   \n",
       "3                       10   59.198853       95.433162           0   \n",
       "4                        0   98.428285       18.102478           0   \n",
       "...                    ...         ...             ...         ...   \n",
       "8995                     4   54.469359       32.990704           1   \n",
       "8996                     7   59.413257        0.254625           0   \n",
       "8997                     3   69.508297       70.188159           1   \n",
       "8998                    10   79.655182       72.975225           1   \n",
       "8999                     5   56.274546       11.299071           0   \n",
       "\n",
       "      CourseCompletion  \n",
       "0                    0  \n",
       "1                    0  \n",
       "2                    1  \n",
       "3                    1  \n",
       "4                    0  \n",
       "...                ...  \n",
       "8995                 0  \n",
       "8996                 0  \n",
       "8997                 0  \n",
       "8998                 1  \n",
       "8999                 0  \n",
       "\n",
       "[9000 rows x 9 columns]"
      ]
     },
     "execution_count": 4,
     "metadata": {},
     "output_type": "execute_result"
    }
   ],
   "source": [
    "engagement_data"
   ]
  },
  {
   "cell_type": "code",
   "execution_count": 5,
   "id": "79ffa49f-1890-49d3-a24a-058ef2a2b459",
   "metadata": {},
   "outputs": [
    {
     "data": {
      "text/html": [
       "<div>\n",
       "<style scoped>\n",
       "    .dataframe tbody tr th:only-of-type {\n",
       "        vertical-align: middle;\n",
       "    }\n",
       "\n",
       "    .dataframe tbody tr th {\n",
       "        vertical-align: top;\n",
       "    }\n",
       "\n",
       "    .dataframe thead th {\n",
       "        text-align: right;\n",
       "    }\n",
       "</style>\n",
       "<table border=\"1\" class=\"dataframe\">\n",
       "  <thead>\n",
       "    <tr style=\"text-align: right;\">\n",
       "      <th></th>\n",
       "      <th>UserID</th>\n",
       "      <th>CourseCategory</th>\n",
       "      <th>TimeSpentOnCourse</th>\n",
       "      <th>NumberOfVideosWatched</th>\n",
       "      <th>NumberOfQuizzesTaken</th>\n",
       "      <th>QuizScores</th>\n",
       "      <th>CompletionRate</th>\n",
       "      <th>DeviceType</th>\n",
       "      <th>CourseCompletion</th>\n",
       "    </tr>\n",
       "  </thead>\n",
       "  <tbody>\n",
       "    <tr>\n",
       "      <th>0</th>\n",
       "      <td>5618</td>\n",
       "      <td>Health</td>\n",
       "      <td>29.979719</td>\n",
       "      <td>17</td>\n",
       "      <td>3</td>\n",
       "      <td>50.365656</td>\n",
       "      <td>20.860773</td>\n",
       "      <td>1</td>\n",
       "      <td>0</td>\n",
       "    </tr>\n",
       "    <tr>\n",
       "      <th>1</th>\n",
       "      <td>4326</td>\n",
       "      <td>Arts</td>\n",
       "      <td>27.802640</td>\n",
       "      <td>1</td>\n",
       "      <td>5</td>\n",
       "      <td>62.615970</td>\n",
       "      <td>65.632415</td>\n",
       "      <td>1</td>\n",
       "      <td>0</td>\n",
       "    </tr>\n",
       "    <tr>\n",
       "      <th>2</th>\n",
       "      <td>5849</td>\n",
       "      <td>Arts</td>\n",
       "      <td>86.820485</td>\n",
       "      <td>14</td>\n",
       "      <td>2</td>\n",
       "      <td>78.458962</td>\n",
       "      <td>63.812007</td>\n",
       "      <td>1</td>\n",
       "      <td>1</td>\n",
       "    </tr>\n",
       "    <tr>\n",
       "      <th>3</th>\n",
       "      <td>4992</td>\n",
       "      <td>Science</td>\n",
       "      <td>35.038427</td>\n",
       "      <td>17</td>\n",
       "      <td>10</td>\n",
       "      <td>59.198853</td>\n",
       "      <td>95.433162</td>\n",
       "      <td>0</td>\n",
       "      <td>1</td>\n",
       "    </tr>\n",
       "    <tr>\n",
       "      <th>4</th>\n",
       "      <td>3866</td>\n",
       "      <td>Programming</td>\n",
       "      <td>92.490647</td>\n",
       "      <td>16</td>\n",
       "      <td>0</td>\n",
       "      <td>98.428285</td>\n",
       "      <td>18.102478</td>\n",
       "      <td>0</td>\n",
       "      <td>0</td>\n",
       "    </tr>\n",
       "  </tbody>\n",
       "</table>\n",
       "</div>"
      ],
      "text/plain": [
       "   UserID CourseCategory  TimeSpentOnCourse  NumberOfVideosWatched  \\\n",
       "0    5618         Health          29.979719                     17   \n",
       "1    4326           Arts          27.802640                      1   \n",
       "2    5849           Arts          86.820485                     14   \n",
       "3    4992        Science          35.038427                     17   \n",
       "4    3866    Programming          92.490647                     16   \n",
       "\n",
       "   NumberOfQuizzesTaken  QuizScores  CompletionRate  DeviceType  \\\n",
       "0                     3   50.365656       20.860773           1   \n",
       "1                     5   62.615970       65.632415           1   \n",
       "2                     2   78.458962       63.812007           1   \n",
       "3                    10   59.198853       95.433162           0   \n",
       "4                     0   98.428285       18.102478           0   \n",
       "\n",
       "   CourseCompletion  \n",
       "0                 0  \n",
       "1                 0  \n",
       "2                 1  \n",
       "3                 1  \n",
       "4                 0  "
      ]
     },
     "execution_count": 5,
     "metadata": {},
     "output_type": "execute_result"
    }
   ],
   "source": [
    "engagement_data.head()"
   ]
  },
  {
   "cell_type": "code",
   "execution_count": 6,
   "id": "43da52d1-9949-4367-9fff-8676447dbbdd",
   "metadata": {},
   "outputs": [
    {
     "data": {
      "text/plain": [
       "(9000, 9)"
      ]
     },
     "execution_count": 6,
     "metadata": {},
     "output_type": "execute_result"
    }
   ],
   "source": [
    "engagement_data.shape"
   ]
  },
  {
   "cell_type": "code",
   "execution_count": 7,
   "id": "91790ceb-5ba5-4252-a8a0-abb3d17d7f98",
   "metadata": {},
   "outputs": [
    {
     "data": {
      "text/plain": [
       "<bound method NDFrame.describe of       UserID CourseCategory  TimeSpentOnCourse  NumberOfVideosWatched  \\\n",
       "0       5618         Health          29.979719                     17   \n",
       "1       4326           Arts          27.802640                      1   \n",
       "2       5849           Arts          86.820485                     14   \n",
       "3       4992        Science          35.038427                     17   \n",
       "4       3866    Programming          92.490647                     16   \n",
       "...      ...            ...                ...                    ...   \n",
       "8995    8757         Health          37.445225                     14   \n",
       "8996     894        Science          48.631443                      7   \n",
       "8997    6323         Health          38.212512                      3   \n",
       "8998    3652         Health          70.048665                     13   \n",
       "8999    5595         Health          93.589781                      7   \n",
       "\n",
       "      NumberOfQuizzesTaken  QuizScores  CompletionRate  DeviceType  \\\n",
       "0                        3   50.365656       20.860773           1   \n",
       "1                        5   62.615970       65.632415           1   \n",
       "2                        2   78.458962       63.812007           1   \n",
       "3                       10   59.198853       95.433162           0   \n",
       "4                        0   98.428285       18.102478           0   \n",
       "...                    ...         ...             ...         ...   \n",
       "8995                     4   54.469359       32.990704           1   \n",
       "8996                     7   59.413257        0.254625           0   \n",
       "8997                     3   69.508297       70.188159           1   \n",
       "8998                    10   79.655182       72.975225           1   \n",
       "8999                     5   56.274546       11.299071           0   \n",
       "\n",
       "      CourseCompletion  \n",
       "0                    0  \n",
       "1                    0  \n",
       "2                    1  \n",
       "3                    1  \n",
       "4                    0  \n",
       "...                ...  \n",
       "8995                 0  \n",
       "8996                 0  \n",
       "8997                 0  \n",
       "8998                 1  \n",
       "8999                 0  \n",
       "\n",
       "[9000 rows x 9 columns]>"
      ]
     },
     "execution_count": 7,
     "metadata": {},
     "output_type": "execute_result"
    }
   ],
   "source": [
    "engagement_data.describe"
   ]
  },
  {
   "cell_type": "markdown",
   "id": "963d9784-a9c5-4710-a14e-3dc13f3163a5",
   "metadata": {},
   "source": [
    "### Check for missing values"
   ]
  },
  {
   "cell_type": "code",
   "execution_count": 11,
   "id": "d6e957cd-ab47-43d7-8d9a-4a99ea26a1b6",
   "metadata": {},
   "outputs": [
    {
     "data": {
      "text/plain": [
       "UserID                   0\n",
       "CourseCategory           0\n",
       "TimeSpentOnCourse        0\n",
       "NumberOfVideosWatched    0\n",
       "NumberOfQuizzesTaken     0\n",
       "QuizScores               0\n",
       "CompletionRate           0\n",
       "DeviceType               0\n",
       "CourseCompletion         0\n",
       "dtype: int64"
      ]
     },
     "execution_count": 11,
     "metadata": {},
     "output_type": "execute_result"
    }
   ],
   "source": [
    "engagement_data.isnull().sum()"
   ]
  },
  {
   "cell_type": "code",
   "execution_count": 9,
   "id": "262fc4db-39cc-4b48-8813-bffec619215b",
   "metadata": {},
   "outputs": [
    {
     "ename": "TypeError",
     "evalue": "Could not convert ['HealthArtsArtsScienceProgrammingHealthHealthBusinessBusinessProgrammingScienceArtsArtsProgrammingScienceScienceProgrammingHealthBusinessHealthScienceScienceArtsBusinessScienceProgrammingProgrammingScienceProgrammingProgrammingArtsProgrammingArtsBusinessProgrammingHealthHealthArtsArtsArtsArtsScienceScienceBusinessProgrammingBusinessScienceHealthBusinessScienceProgrammingHealthProgrammingScienceHealthArtsArtsProgrammingProgrammingArtsArtsArtsArtsBusinessArtsProgrammingArtsHealthScienceHealthProgrammingProgrammingHealthHealthScienceScienceProgrammingHealthBusinessHealthHealthBusinessHealthHealthHealthBusinessScienceHealthHealthHealthHealthArtsArtsScienceBusinessProgrammingProgrammingHealthHealthHealthHealthBusinessHealthHealthArtsProgrammingBusinessArtsArtsBusinessHealthProgrammingProgrammingArtsBusinessArtsScienceHealthBusinessProgrammingArtsScienceBusinessScienceScienceBusinessHealthBusinessScienceArtsBusinessHealthHealthProgrammingBusinessScienceBusinessProgrammingArtsArtsProgrammingBusinessBusinessHealthProgrammingHealthProgrammingProgrammingArtsHealthProgrammingProgrammingBusinessProgrammingBusinessHealthArtsHealthHealthBusinessScienceProgrammingArtsArtsScienceScienceBusinessArtsArtsBusinessHealthArtsArtsProgrammingBusinessProgrammingArtsBusinessArtsArtsArtsBusinessProgrammingScienceArtsScienceArtsArtsProgrammingBusinessArtsBusinessHealthBusinessBusinessBusinessScienceArtsProgrammingBusinessBusinessScienceBusinessScienceProgrammingScienceHealthHealthProgrammingScienceHealthBusinessProgrammingBusinessBusinessScienceBusinessBusinessBusinessHealthArtsBusinessBusinessScienceProgrammingBusinessArtsBusinessArtsBusinessScienceScienceScienceHealthHealthProgrammingHealthProgrammingBusinessArtsProgrammingProgrammingScienceArtsProgrammingScienceArtsBusinessBusinessBusinessBusinessHealthArtsScienceHealthScienceBusinessHealthHealthScienceScienceArtsArtsBusinessBusinessScienceProgrammingHealthBusinessProgrammingBusinessProgrammingProgrammingHealthProgrammingHealthProgrammingHealthHealthProgrammingBusinessScienceBusinessBusinessHealthHealthHealthArtsArtsHealthBusinessProgrammingProgrammingHealthProgrammingBusinessHealthScienceProgrammingHealthProgrammingProgrammingBusinessBusinessBusinessBusinessHealthArtsBusinessArtsArtsScienceScienceProgrammingProgrammingScienceBusinessProgrammingScienceScienceArtsBusinessScienceProgrammingBusinessBusinessProgrammingArtsProgrammingArtsProgrammingProgrammingProgrammingBusinessHealthProgrammingArtsProgrammingBusinessScienceScienceScienceScienceProgrammingProgrammingArtsHealthProgrammingProgrammingArtsArtsProgrammingScienceProgrammingProgrammingScienceArtsArtsHealthProgrammingProgrammingHealthBusinessProgrammingProgrammingScienceScienceProgrammingBusinessHealthHealthProgrammingProgrammingBusinessScienceProgrammingScienceArtsProgrammingScienceScienceScienceScienceScienceArtsHealthBusinessArtsProgrammingProgrammingArtsBusinessHealthScienceHealthArtsHealthBusinessProgrammingHealthProgrammingArtsArtsBusinessBusinessProgrammingScienceBusinessArtsBusinessArtsArtsArtsScienceBusinessProgrammingProgrammingScienceBusinessBusinessBusinessArtsScienceArtsProgrammingHealthScienceScienceArtsProgrammingScienceScienceScienceArtsScienceScienceHealthArtsScienceArtsScienceHealthBusinessHealthHealthScienceProgrammingScienceProgrammingArtsHealthScienceProgrammingProgrammingProgrammingProgrammingScienceArtsScienceHealthArtsScienceArtsBusinessProgrammingBusinessScienceHealthScienceBusinessHealthArtsScienceArtsScienceHealthProgrammingProgrammingProgrammingProgrammingScienceArtsArtsHealthHealthBusinessBusinessHealthBusinessScienceScienceScienceProgrammingProgrammingScienceBusinessHealthArtsHealthProgrammingScienceProgrammingHealthBusinessHealthArtsHealthArtsArtsHealthHealthArtsScienceScienceProgrammingBusinessScienceBusinessProgrammingScienceArtsBusinessHealthBusinessScienceScienceArtsScienceArtsArtsProgrammingArtsBusinessArtsScienceBusinessArtsHealthScienceScienceProgrammingHealthHealthScienceScienceScienceArtsBusinessProgrammingProgrammingArtsHealthArtsHealthBusinessArtsBusinessProgrammingScienceHealthHealthArtsProgrammingScienceHealthScienceHealthProgrammingScienceBusinessHealthHealthProgrammingProgrammingArtsProgrammingBusinessProgrammingScienceBusinessScienceScienceScienceScienceHealthScienceScienceArtsArtsScienceScienceBusinessBusinessArtsArtsProgrammingProgrammingProgrammingBusinessHealthScienceScienceArtsProgrammingScienceProgrammingArtsBusinessScienceBusinessArtsArtsScienceProgrammingProgrammingHealthArtsHealthScienceScienceScienceScienceScienceArtsArtsArtsHealthProgrammingBusinessArtsArtsArtsArtsHealthProgrammingScienceScienceBusinessHealthArtsScienceScienceProgrammingScienceBusinessHealthScienceProgrammingProgrammingBusinessBusinessScienceHealthHealthScienceHealthArtsArtsBusinessBusinessBusinessHealthHealthHealthArtsProgrammingBusinessBusinessArtsBusinessBusinessProgrammingArtsProgrammingProgrammingScienceArtsArtsHealthHealthArtsArtsBusinessArtsBusinessScienceBusinessScienceHealthArtsScienceHealthBusinessArtsArtsBusinessScienceScienceScienceScienceProgrammingProgrammingScienceArtsBusinessBusinessArtsScienceProgrammingScienceHealthScienceHealthHealthScienceScienceArtsArtsHealthProgrammingProgrammingProgrammingHealthArtsBusinessArtsBusinessArtsHealthBusinessBusinessBusinessProgrammingHealthArtsScienceScienceBusinessHealthHealthProgrammingBusinessScienceBusinessScienceScienceProgrammingArtsScienceHealthArtsArtsHealthArtsBusinessArtsProgrammingProgrammingHealthArtsProgrammingProgrammingProgrammingScienceScienceArtsProgrammingHealthProgrammingBusinessScienceHealthScienceArtsArtsBusinessScienceHealthArtsBusinessHealthArtsProgrammingArtsProgrammingHealthProgrammingHealthBusinessArtsBusinessHealthScienceProgrammingHealthBusinessBusinessBusinessBusinessBusinessBusinessScienceProgrammingProgrammingProgrammingArtsProgrammingProgrammingProgrammingScienceScienceProgrammingScienceHealthScienceBusinessBusinessArtsArtsHealthBusinessProgrammingScienceProgrammingArtsScienceProgrammingHealthScienceArtsHealthProgrammingBusinessArtsArtsArtsProgrammingScienceProgrammingScienceScienceProgrammingArtsHealthArtsArtsScienceBusinessBusinessBusinessArtsBusinessProgrammingBusinessBusinessHealthScienceHealthScienceHealthBusinessScienceHealthBusinessBusinessHealthHealthHealthProgrammingProgrammingProgrammingBusinessProgrammingArtsProgrammingBusinessArtsScienceBusinessBusinessProgrammingScienceScienceScienceArtsBusinessBusinessArtsBusinessHealthScienceArtsScienceBusinessScienceHealthArtsBusinessBusinessProgrammingProgrammingArtsHealthScienceProgrammingBusinessBusinessBusinessHealthScienceBusinessArtsArtsProgrammingBusinessBusinessArtsHealthProgrammingBusinessProgrammingProgrammingProgrammingHealthArtsHealthProgrammingHealthProgrammingHealthBusinessScienceBusinessScienceArtsHealthProgrammingArtsProgrammingArtsScienceScienceHealthBusinessArtsScienceScienceArtsScienceScienceHealthScienceBusinessProgrammingArtsScienceBusinessArtsScienceProgrammingArtsBusinessBusinessProgrammingHealthHealthProgrammingHealthHealthBusinessHealthScienceBusinessHealthScienceProgrammingArtsArtsBusinessArtsBusinessProgrammingScienceScienceProgrammingBusinessBusinessArtsScienceBusinessBusinessProgrammingArtsArtsBusinessHealthHealthArtsBusinessScienceArtsScienceBusinessProgrammingHealthHealthScienceBusinessProgrammingBusinessProgrammingProgrammingHealthBusinessHealthArtsProgrammingScienceHealthArtsProgrammingHealthHealthScienceHealthArtsBusinessBusinessProgrammingProgrammingArtsHealthArtsHealthBusinessArtsHealthScienceBusinessArtsBusinessArtsScienceHealthHealthScienceHealthHealthProgrammingScienceBusinessBusinessProgrammingHealthHealthBusinessBusinessProgrammingBusinessProgrammingProgrammingHealthHealthHealthProgrammingBusinessScienceScienceProgrammingBusinessBusinessBusinessScienceHealthBusinessHealthArtsScienceProgrammingBusinessArtsBusinessBusinessArtsArtsScienceHealthHealthProgrammingArtsBusinessArtsScienceHealthScienceBusinessBusinessScienceProgrammingProgrammingHealthHealthHealthProgrammingBusinessScienceScienceScienceScienceHealthBusinessArtsScienceProgrammingHealthArtsArtsBusinessHealthArtsArtsHealthArtsProgrammingHealthBusinessArtsArtsBusinessScienceBusinessScienceProgrammingArtsBusinessProgrammingHealthScienceHealthProgrammingBusinessProgrammingBusinessBusinessScienceScienceArtsProgrammingBusinessHealthBusinessArtsHealthHealthProgrammingScienceArtsHealthScienceScienceHealthProgrammingArtsHealthProgrammingProgrammingProgrammingScienceBusinessArtsScienceHealthArtsBusinessProgrammingProgrammingProgrammingHealthHealthBusinessArtsArtsBusinessProgrammingBusinessScienceScienceBusinessScienceBusinessScienceBusinessProgrammingArtsScienceProgrammingScienceProgrammingHealthArtsBusinessHealthBusinessArtsScienceScienceBusinessBusinessArtsProgrammingHealthHealthHealthArtsArtsArtsScienceBusinessHealthHealthBusinessBusinessHealthScienceScienceArtsProgrammingHealthArtsScienceBusinessArtsProgrammingScienceBusinessHealthBusinessArtsArtsScienceProgrammingScienceScienceScienceHealthScienceBusinessHealthHealthHealthBusinessHealthHealthHealthHealthBusinessBusinessBusinessProgrammingBusinessBusinessBusinessHealthArtsArtsHealthProgrammingBusinessBusinessBusinessScienceArtsScienceArtsBusinessBusinessArtsHealthBusinessArtsScienceHealthBusinessBusinessArtsBusinessBusinessArtsScienceProgrammingBusinessScienceBusinessProgrammingBusinessProgrammingProgrammingProgrammingScienceArtsBusinessHealthArtsProgrammingBusinessBusinessBusinessArtsHealthScienceArtsHealthArtsBusinessHealthBusinessScienceArtsBusinessScienceArtsProgrammingProgrammingProgrammingBusinessProgrammingHealthScienceScienceArtsBusinessProgrammingProgrammingBusinessBusinessBusinessScienceScienceBusinessArtsScienceArtsBusinessArtsArtsProgrammingHealthHealthProgrammingProgrammingScienceProgrammingArtsHealthHealthHealthArtsArtsProgrammingScienceProgrammingArtsArtsArtsBusinessBusinessHealthBusinessArtsProgrammingArtsHealthBusinessProgrammingProgrammingHealthBusinessHealthHealthBusinessBusinessArtsProgrammingScienceScienceHealthBusinessBusinessBusinessBusinessProgrammingScienceHealthArtsScienceScienceScienceScienceBusinessHealthProgrammingProgrammingBusinessBusinessBusinessProgrammingHealthProgrammingProgrammingScienceProgrammingBusinessProgrammingProgrammingBusinessHealthHealthArtsArtsBusinessHealthArtsProgrammingScienceArtsHealthProgrammingScienceScienceBusinessHealthArtsProgrammingHealthArtsScienceScienceArtsHealthHealthScienceArtsBusinessProgrammingHealthArtsScienceScienceScienceArtsArtsArtsScienceBusinessBusinessHealthProgrammingProgrammingHealthBusinessProgrammingBusinessProgrammingProgrammingArtsBusinessBusinessHealthScienceProgrammingScienceHealthBusinessScienceProgrammingScienceProgrammingBusinessArtsProgrammingBusinessProgrammingScienceScienceScienceBusinessProgrammingProgrammingArtsBusinessProgrammingArtsBusinessScienceScienceScienceProgrammingBusinessArtsHealthBusinessScienceBusinessBusinessScienceHealthProgrammingBusinessHealthProgrammingBusinessArtsProgrammingBusinessBusinessScienceHealthArtsProgrammingProgrammingArtsProgrammingBusinessBusinessHealthArtsBusinessArtsScienceBusinessBusinessScienceProgrammingBusinessArtsBusinessProgrammingProgrammingScienceBusinessArtsHealthScienceArtsScienceHealthScienceProgrammingHealthScienceBusinessScienceScienceBusinessHealthHealthArtsBusinessHealthScienceProgrammingProgrammingHealthHealthHealthHealthBusinessProgrammingProgrammingBusinessBusinessScienceHealthScienceArtsScienceBusinessHealthProgrammingArtsScienceProgrammingArtsBusinessArtsArtsScienceProgrammingBusinessArtsArtsBusinessBusinessHealthHealthProgrammingArtsScienceBusinessScienceArtsProgrammingScienceBusinessScienceScienceProgrammingArtsScienceBusinessProgrammingBusinessScienceHealthScienceArtsScienceProgrammingProgrammingHealthScienceBusinessHealthScienceArtsHealthArtsProgrammingScienceBusinessProgrammingHealthArtsScienceScienceBusinessProgrammingHealthBusinessBusinessArtsScienceHealthScienceArtsScienceScienceHealthProgrammingProgrammingBusinessScienceScienceScienceHealthProgrammingArtsArtsProgrammingHealthHealthArtsScienceProgrammingBusinessBusinessScienceHealthProgrammingHealthProgrammingScienceProgrammingProgrammingHealthScienceHealthScienceScienceProgrammingHealthScienceProgrammingScienceArtsScienceScienceHealthScienceHealthBusinessArtsBusinessProgrammingScienceProgrammingArtsProgrammingScienceHealthBusinessScienceHealthProgrammingHealthHealthArtsBusinessHealthBusinessProgrammingProgrammingScienceBusinessScienceArtsArtsHealthProgrammingScienceBusinessArtsHealthHealthHealthScienceHealthHealthArtsArtsScienceProgrammingArtsHealthBusinessScienceArtsBusinessArtsProgrammingArtsScienceArtsBusinessScienceProgrammingProgrammingHealthArtsArtsHealthScienceArtsArtsProgrammingArtsBusinessProgrammingBusinessHealthScienceScienceProgrammingHealthHealthProgrammingScienceBusinessArtsHealthArtsArtsArtsHealthBusinessScienceScienceArtsArtsProgrammingBusinessBusinessBusinessScienceHealthArtsArtsBusinessScienceArtsBusinessArtsHealthProgrammingBusinessHealthProgrammingArtsProgrammingBusinessHealthHealthHealthProgrammingBusinessArtsHealthProgrammingBusinessScienceArtsBusinessBusinessBusinessArtsProgrammingArtsScienceProgrammingProgrammingBusinessArtsProgrammingScienceScienceProgrammingHealthBusinessBusinessScienceHealthBusinessBusinessBusinessScienceProgrammingArtsBusinessHealthProgrammingArtsArtsScienceScienceArtsBusinessBusinessHealthArtsArtsScienceScienceBusinessProgrammingProgrammingArtsProgrammingBusinessProgrammingScienceArtsProgrammingArtsBusinessHealthScienceArtsHealthProgrammingArtsArtsHealthScienceBusinessScienceBusinessProgrammingArtsBusinessHealthHealthProgrammingArtsBusinessProgrammingScienceHealthProgrammingScienceHealthBusinessScienceBusinessArtsHealthProgrammingBusinessArtsHealthHealthHealthBusinessArtsHealthScienceBusinessProgrammingArtsBusinessArtsArtsHealthScienceProgrammingScienceProgrammingBusinessArtsArtsProgrammingBusinessProgrammingScienceHealthScienceScienceScienceArtsProgrammingBusinessBusinessArtsScienceArtsScienceHealthProgrammingBusinessHealthProgrammingProgrammingProgrammingProgrammingArtsArtsBusinessScienceHealthProgrammingArtsHealthProgrammingProgrammingScienceHealthHealthScienceHealthHealthScienceBusinessHealthBusinessBusinessProgrammingHealthScienceArtsBusinessHealthProgrammingScienceHealthHealthProgrammingProgrammingHealthBusinessArtsProgrammingScienceBusinessScienceProgrammingProgrammingProgrammingScienceArtsArtsHealthScienceHealthArtsProgrammingArtsArtsProgrammingHealthProgrammingScienceBusinessBusinessHealthHealthHealthHealthProgrammingHealthProgrammingBusinessArtsArtsHealthProgrammingScienceScienceBusinessScienceProgrammingBusinessScienceArtsBusinessBusinessProgrammingArtsArtsHealthHealthScienceBusinessHealthBusinessArtsArtsBusinessArtsArtsProgrammingArtsBusinessScienceBusinessBusinessProgrammingScienceHealthArtsBusinessHealthBusinessBusinessHealthArtsHealthProgrammingArtsBusinessBusinessBusinessHealthBusinessScienceProgrammingHealthArtsScienceProgrammingScienceArtsHealthBusinessArtsScienceArtsBusinessScienceHealthBusinessArtsScienceBusinessArtsBusinessHealthArtsArtsBusinessArtsHealthBusinessScienceProgrammingBusinessProgrammingHealthScienceBusinessHealthScienceBusinessScienceHealthHealthScienceArtsHealthScienceScienceScienceProgrammingHealthArtsScienceScienceArtsBusinessHealthArtsHealthProgrammingHealthArtsScienceProgrammingBusinessProgrammingHealthBusinessArtsBusinessArtsScienceBusinessHealthArtsScienceHealthBusinessHealthArtsScienceArtsBusinessBusinessBusinessProgrammingHealthBusinessHealthProgrammingScienceProgrammingProgrammingBusinessBusinessBusinessScienceProgrammingBusinessScienceProgrammingProgrammingHealthArtsArtsBusinessProgrammingHealthScienceHealthScienceScienceHealthProgrammingHealthProgrammingBusinessHealthArtsHealthHealthBusinessScienceScienceBusinessBusinessProgrammingProgrammingScienceScienceArtsHealthBusinessScienceHealthScienceProgrammingProgrammingBusinessArtsBusinessBusinessHealthBusinessProgrammingArtsHealthBusinessHealthProgrammingScienceProgrammingProgrammingProgrammingArtsBusinessArtsBusinessProgrammingArtsArtsBusinessProgrammingHealthProgrammingProgrammingBusinessScienceScienceArtsScienceProgrammingHealthArtsScienceHealthScienceScienceHealthHealthHealthScienceArtsBusinessScienceProgrammingHealthProgrammingHealthProgrammingBusinessScienceHealthArtsScienceBusinessHealthScienceProgrammingProgrammingBusinessScienceHealthArtsHealthArtsScienceBusinessArtsArtsScienceHealthScienceBusinessArtsProgrammingArtsBusinessArtsProgrammingHealthArtsProgrammingBusinessProgrammingBusinessBusinessProgrammingArtsScienceScienceArtsScienceArtsHealthArtsHealthProgrammingProgrammingArtsProgrammingProgrammingProgrammingScienceHealthBusinessArtsScienceBusinessProgrammingArtsHealthScienceBusinessBusinessHealthScienceScienceBusinessArtsArtsArtsProgrammingScienceProgrammingScienceScienceScienceScienceBusinessArtsHealthArtsScienceHealthBusinessProgrammingArtsBusinessProgrammingBusinessBusinessBusinessScienceProgrammingBusinessArtsScienceHealthArtsHealthBusinessScienceBusinessBusinessHealthProgrammingProgrammingScienceScienceArtsScienceScienceBusinessProgrammingScienceHealthHealthHealthProgrammingHealthBusinessHealthProgrammingArtsArtsArtsBusinessArtsArtsArtsArtsProgrammingArtsBusinessProgrammingArtsProgrammingScienceScienceBusinessHealthArtsProgrammingScienceProgrammingProgrammingArtsHealthProgrammingScienceBusinessHealthScienceScienceScienceProgrammingScienceBusinessHealthArtsArtsHealthArtsArtsScienceHealthBusinessBusinessBusinessArtsArtsArtsProgrammingProgrammingArtsHealthProgrammingBusinessProgrammingScienceBusinessBusinessProgrammingScienceScienceScienceBusinessBusinessHealthProgrammingHealthArtsProgrammingBusinessBusinessHealthBusinessBusinessScienceBusinessBusinessProgrammingArtsScienceProgrammingBusinessProgrammingArtsHealthProgrammingBusinessBusinessScienceProgrammingHealthArtsProgrammingArtsBusinessProgrammingHealthBusinessProgrammingScienceBusinessArtsScienceBusinessArtsScienceScienceArtsProgrammingProgrammingScienceBusinessProgrammingScienceProgrammingScienceProgrammingHealthHealthArtsBusinessScienceArtsProgrammingBusinessHealthArtsArtsScienceScienceBusinessProgrammingProgrammingBusinessHealthScienceArtsHealthHealthArtsScienceBusinessBusinessArtsScienceArtsArtsArtsHealthScienceScienceHealthArtsProgrammingProgrammingProgrammingProgrammingScienceBusinessScienceScienceBusinessArtsScienceArtsScienceBusinessHealthArtsBusinessArtsProgrammingBusinessProgrammingHealthBusinessHealthBusinessBusinessBusinessProgrammingBusinessScienceHealthHealthScienceArtsBusinessArtsBusinessProgrammingBusinessScienceArtsBusinessHealthHealthBusinessScienceScienceHealthBusinessProgrammingHealthScienceScienceBusinessBusinessArtsArtsScienceProgrammingBusinessBusinessHealthScienceHealthScienceBusinessProgrammingHealthHealthArtsProgrammingBusinessBusinessBusinessProgrammingArtsArtsBusinessArtsScienceProgrammingHealthBusinessHealthBusinessArtsBusinessBusinessBusinessBusinessProgrammingHealthArtsArtsScienceProgrammingArtsHealthBusinessHealthProgrammingHealthProgrammingProgrammingScienceHealthArtsArtsHealthScienceProgrammingProgrammingBusinessBusinessArtsBusinessArtsArtsProgrammingScienceHealthScienceProgrammingArtsHealthBusinessHealthArtsProgrammingArtsArtsArtsArtsArtsHealthProgrammingBusinessBusinessScienceHealthProgrammingBusinessScienceHealthArtsArtsBusinessScienceProgrammingProgrammingArtsArtsScienceHealthHealthBusinessScienceArtsScienceHealthBusinessProgrammingProgrammingHealthScienceScienceHealthScienceProgrammingHealthArtsProgrammingArtsHealthProgrammingBusinessProgrammingHealthScienceHealthHealthArtsProgrammingProgrammingScienceProgrammingArtsArtsArtsScienceScienceArtsArtsScienceArtsArtsScienceHealthHealthBusinessScienceArtsProgrammingHealthArtsScienceHealthBusinessHealthHealthArtsArtsScienceProgrammingArtsScienceBusinessBusinessHealthScienceHealthArtsProgrammingBusinessArtsHealthProgrammingBusinessHealthScienceScienceProgrammingHealthProgrammingProgrammingBusinessBusinessScienceProgrammingHealthBusinessBusinessArtsProgrammingHealthScienceScienceHealthArtsArtsScienceProgrammingHealthHealthProgrammingArtsHealthScienceScienceBusinessArtsArtsHealthProgrammingHealthArtsHealthArtsBusinessHealthProgrammingScienceArtsArtsBusinessBusinessHealthProgrammingScienceProgrammingArtsArtsScienceHealthHealthBusinessHealthProgrammingArtsHealthHealthBusinessArtsScienceHealthScienceBusinessScienceProgrammingScienceScienceScienceBusinessArtsScienceProgrammingArtsProgrammingHealthBusinessBusinessHealthScienceArtsBusinessScienceProgrammingScienceArtsHealthScienceBusinessScienceBusinessHealthBusinessHealthHealthProgrammingScienceHealthHealthHealthBusinessArtsHealthProgrammingBusinessScienceProgrammingScienceBusinessBusinessHealthArtsHealthProgrammingProgrammingProgrammingArtsArtsBusinessArtsHealthHealthBusinessHealthHealthScienceProgrammingBusinessArtsScienceArtsArtsScienceHealthArtsProgrammingHealthProgrammingBusinessProgrammingScienceBusinessHealthProgrammingScienceArtsArtsBusinessScienceBusinessHealthArtsArtsArtsScienceArtsProgrammingBusinessArtsArtsScienceHealthHealthHealthScienceHealthScienceProgrammingBusinessScienceProgrammingBusinessArtsProgrammingProgrammingArtsBusinessHealthHealthHealthProgrammingHealthHealthScienceScienceHealthHealthArtsBusinessArtsScienceBusinessHealthProgrammingBusinessProgrammingHealthScienceArtsBusinessHealthBusinessProgrammingBusinessHealthHealthScienceProgrammingArtsHealthHealthBusinessArtsHealthBusinessHealthArtsProgrammingArtsBusinessHealthScienceScienceHealthHealthArtsScienceScienceScienceBusinessArtsBusinessArtsProgrammingArtsArtsScienceHealthBusinessProgrammingProgrammingScienceScienceHealthScienceProgrammingArtsArtsArtsHealthHealthHealthArtsArtsProgrammingArtsScienceArtsProgrammingBusinessHealthHealthProgrammingProgrammingArtsHealthProgrammingBusinessScienceProgrammingProgrammingHealthProgrammingArtsBusinessBusinessArtsScienceProgrammingProgrammingBusinessHealthBusinessBusinessScienceProgrammingScienceScienceScienceArtsArtsScienceBusinessHealthScienceScienceScienceProgrammingScienceArtsArtsScienceScienceHealthProgrammingScienceProgrammingHealthArtsBusinessHealthArtsArtsBusinessArtsProgrammingProgrammingArtsScienceHealthProgrammingHealthArtsArtsArtsBusinessProgrammingArtsProgrammingArtsHealthProgrammingBusinessBusinessBusinessProgrammingProgrammingArtsBusinessBusinessProgrammingProgrammingScienceScienceScienceHealthHealthProgrammingHealthScienceHealthBusinessBusinessScienceProgrammingArtsScienceHealthProgrammingScienceBusinessProgrammingArtsArtsHealthProgrammingBusinessProgrammingHealthHealthArtsArtsHealthScienceScienceScienceProgrammingHealthProgrammingBusinessArtsBusinessHealthHealthArtsProgrammingProgrammingArtsProgrammingProgrammingArtsArtsScienceHealthBusinessScienceArtsProgrammingBusinessProgrammingProgrammingHealthHealthHealthProgrammingBusinessArtsArtsScienceHealthArtsScienceArtsScienceScienceArtsHealthArtsBusinessHealthScienceScienceArtsArtsScienceBusinessProgrammingHealthBusinessScienceArtsBusinessArtsProgrammingProgrammingHealthBusinessProgrammingProgrammingBusinessBusinessHealthProgrammingProgrammingBusinessProgrammingHealthBusinessHealthBusinessHealthBusinessHealthHealthHealthScienceBusinessBusinessProgrammingScienceArtsArtsArtsHealthProgrammingBusinessProgrammingHealthHealthScienceArtsBusinessBusinessBusinessScienceHealthBusinessBusinessHealthScienceProgrammingBusinessHealthProgrammingProgrammingProgrammingArtsBusinessScienceProgrammingScienceProgrammingScienceArtsHealthBusinessBusinessBusinessHealthArtsScienceScienceArtsScienceScienceBusinessBusinessArtsScienceScienceProgrammingProgrammingScienceScienceArtsProgrammingScienceHealthHealthArtsProgrammingArtsScienceArtsScienceProgrammingProgrammingBusinessArtsHealthHealthHealthScienceHealthScienceBusinessScienceBusinessProgrammingBusinessArtsArtsHealthArtsScienceArtsHealthArtsArtsProgrammingScienceHealthHealthProgrammingBusinessArtsScienceHealthArtsScienceScienceScienceProgrammingArtsArtsHealthScienceScienceScienceScienceScienceProgrammingArtsScienceArtsArtsArtsHealthProgrammingScienceProgrammingHealthProgrammingArtsArtsHealthBusinessArtsHealthHealthArtsBusinessHealthBusinessArtsScienceBusinessArtsArtsScienceBusinessBusinessProgrammingHealthProgrammingBusinessProgrammingScienceHealthBusinessHealthProgrammingArtsScienceBusinessBusinessScienceScienceScienceScienceHealthScienceHealthBusinessScienceBusinessScienceArtsBusinessArtsScienceScienceBusinessProgrammingBusinessHealthArtsBusinessBusinessBusinessScienceBusinessHealthProgrammingProgrammingProgrammingProgrammingBusinessScienceArtsProgrammingScienceArtsBusinessHealthBusinessBusinessScienceHealthProgrammingBusinessBusinessProgrammingHealthScienceScienceArtsArtsHealthBusinessBusinessScienceHealthArtsScienceBusinessHealthProgrammingScienceBusinessProgrammingScienceScienceBusinessHealthArtsProgrammingArtsBusinessProgrammingBusinessBusinessProgrammingHealthProgrammingProgrammingScienceBusinessProgrammingArtsProgrammingScienceProgrammingHealthArtsHealthArtsScienceProgrammingBusinessHealthArtsHealthBusinessScienceProgrammingArtsBusinessProgrammingBusinessScienceProgrammingScienceHealthBusinessBusinessBusinessHealthBusinessScienceProgrammingHealthHealthHealthScienceScienceScienceScienceHealthHealthProgrammingHealthBusinessScienceArtsArtsHealthProgrammingBusinessHealthArtsProgrammingScienceArtsHealthBusinessArtsScienceProgrammingHealthBusinessHealthProgrammingScienceProgrammingScienceScienceArtsArtsScienceBusinessArtsHealthProgrammingHealthBusinessBusinessProgrammingBusinessHealthArtsProgrammingProgrammingBusinessScienceHealthBusinessArtsHealthBusinessBusinessBusinessArtsHealthHealthBusinessHealthBusinessScienceProgrammingHealthHealthBusinessArtsScienceHealthProgrammingScienceScienceHealthBusinessArtsBusinessProgrammingScienceHealthHealthBusinessProgrammingHealthProgrammingArtsProgrammingProgrammingScienceArtsScienceProgrammingBusinessHealthScienceBusinessHealthProgrammingHealthProgrammingArtsScienceBusinessArtsScienceScienceProgrammingScienceBusinessArtsScienceProgrammingProgrammingArtsProgrammingHealthArtsArtsArtsScienceProgrammingProgrammingHealthProgrammingArtsBusinessHealthHealthBusinessHealthArtsBusinessScienceProgrammingBusinessProgrammingScienceHealthScienceArtsProgrammingScienceArtsArtsProgrammingBusinessHealthArtsHealthArtsProgrammingProgrammingBusinessScienceHealthScienceBusinessBusinessHealthProgrammingScienceProgrammingArtsArtsProgrammingScienceProgrammingArtsBusinessArtsBusinessScienceBusinessScienceArtsHealthArtsHealthScienceHealthHealthBusinessScienceArtsScienceHealthBusinessBusinessArtsProgrammingArtsProgrammingBusinessHealthScienceProgrammingScienceBusinessHealthArtsProgrammingHealthArtsProgrammingProgrammingScienceProgrammingProgrammingProgrammingScienceArtsProgrammingScienceScienceScienceScienceHealthBusinessBusinessScienceScienceBusinessScienceHealthScienceArtsScienceProgrammingHealthHealthBusinessScienceProgrammingArtsScienceProgrammingBusinessBusinessProgrammingScienceScienceArtsBusinessProgrammingHealthHealthScienceProgrammingBusinessScienceHealthScienceArtsBusinessScienceProgrammingScienceBusinessArtsScienceProgrammingScienceHealthHealthArtsBusinessScienceBusinessArtsArtsProgrammingHealthScienceHealthHealthArtsArtsProgrammingHealthScienceProgrammingArtsScienceProgrammingHealthBusinessScienceScienceHealthHealthBusinessProgrammingBusinessScienceArtsBusinessHealthArtsHealthScienceArtsScienceHealthArtsHealthBusinessHealthHealthProgrammingArtsScienceHealthHealthArtsBusinessProgrammingBusinessArtsArtsHealthBusinessProgrammingBusinessHealthProgrammingScienceArtsProgrammingScienceScienceProgrammingScienceProgrammingScienceProgrammingHealthBusinessScienceScienceScienceBusinessProgrammingBusinessArtsArtsScienceBusinessScienceHealthArtsScienceHealthBusinessProgrammingBusinessHealthScienceArtsScienceBusinessHealthArtsArtsArtsHealthHealthHealthArtsScienceBusinessHealthProgrammingProgrammingBusinessProgrammingProgrammingScienceBusinessScienceHealthArtsProgrammingBusinessScienceScienceProgrammingHealthArtsArtsArtsHealthProgrammingProgrammingHealthHealthHealthHealthArtsBusinessScienceProgrammingHealthHealthBusinessHealthHealthProgrammingHealthArtsScienceBusinessBusinessHealthProgrammingHealthBusinessHealthBusinessArtsProgrammingHealthBusinessProgrammingArtsHealthBusinessHealthBusinessHealthBusinessBusinessHealthScienceBusinessHealthProgrammingArtsArtsArtsScienceBusinessScienceHealthBusinessBusinessHealthArtsScienceProgrammingHealthBusinessArtsProgrammingBusinessScienceScienceHealthArtsHealthArtsHealthScienceBusinessBusinessProgrammingHealthHealthScienceHealthScienceProgrammingProgrammingScienceScienceArtsScienceBusinessHealthArtsProgrammingBusinessScienceHealthArtsBusinessScienceHealthBusinessBusinessArtsBusinessBusinessScienceBusinessHealthProgrammingHealthScienceScienceHealthArtsScienceBusinessArtsHealthScienceHealthArtsProgrammingProgrammingHealthArtsArtsHealthScienceProgrammingProgrammingArtsHealthProgrammingBusinessHealthScienceProgrammingProgrammingProgrammingArtsArtsProgrammingHealthArtsBusinessProgrammingBusinessBusinessScienceBusinessProgrammingProgrammingScienceScienceProgrammingScienceHealthHealthBusinessArtsArtsHealthBusinessArtsScienceHealthBusinessArtsBusinessProgrammingScienceHealthProgrammingHealthProgrammingArtsBusinessProgrammingScienceScienceScienceArtsArtsBusinessScienceScienceProgrammingScienceBusinessArtsHealthProgrammingArtsHealthArtsArtsScienceBusinessProgrammingBusinessProgrammingBusinessArtsHealthScienceArtsArtsArtsBusinessBusinessArtsScienceArtsScienceArtsBusinessArtsArtsScienceBusinessScienceProgrammingBusinessArtsHealthBusinessArtsArtsArtsScienceScienceBusinessScienceProgrammingArtsProgrammingScienceHealthHealthHealthScienceHealthArtsHealthBusinessBusinessScienceArtsHealthHealthProgrammingHealthProgrammingArtsProgrammingArtsHealthHealthProgrammingProgrammingArtsProgrammingHealthProgrammingProgrammingArtsArtsHealthBusinessHealthBusinessBusinessProgrammingArtsArtsArtsArtsProgrammingScienceScienceBusinessHealthArtsBusinessBusinessHealthProgrammingArtsArtsHealthBusinessProgrammingScienceScienceBusinessBusinessScienceArtsBusinessArtsBusinessArtsScienceHealthBusinessBusinessBusinessScienceProgrammingBusinessScienceArtsArtsProgrammingScienceBusinessBusinessBusinessHealthScienceBusinessHealthHealthScienceScienceBusinessBusinessHealthBusinessScienceBusinessHealthScienceScienceArtsArtsBusinessScienceHealthHealthScienceScienceProgrammingProgrammingHealthProgrammingArtsArtsHealthProgrammingProgrammingArtsProgrammingHealthHealthProgrammingProgrammingProgrammingProgrammingArtsBusinessBusinessHealthScienceArtsScienceBusinessHealthScienceHealthBusinessArtsProgrammingProgrammingArtsProgrammingProgrammingProgrammingHealthBusinessScienceProgrammingProgrammingBusinessHealthProgrammingScienceProgrammingArtsHealthScienceBusinessHealthBusinessArtsBusinessHealthArtsProgrammingArtsArtsArtsArtsHealthArtsProgrammingHealthHealthArtsProgrammingBusinessProgrammingBusinessBusinessProgrammingBusinessProgrammingBusinessHealthArtsScienceScienceScienceArtsBusinessScienceScienceScienceScienceHealthProgrammingBusinessHealthHealthArtsScienceBusinessScienceBusinessProgrammingHealthHealthArtsProgrammingProgrammingBusinessHealthScienceArtsProgrammingBusinessHealthProgrammingHealthHealthProgrammingArtsBusinessBusinessScienceScienceArtsProgrammingHealthHealthProgrammingBusinessProgrammingScienceArtsScienceHealthProgrammingBusinessBusinessBusinessBusinessArtsHealthArtsBusinessHealthBusinessHealthArtsProgrammingArtsHealthHealthArtsHealthScienceProgrammingProgrammingBusinessBusinessProgrammingProgrammingProgrammingArtsBusinessArtsArtsHealthBusinessBusinessScienceHealthHealthHealthScienceProgrammingArtsScienceBusinessArtsArtsHealthHealthProgrammingBusinessHealthBusinessProgrammingHealthProgrammingScienceArtsBusinessArtsProgrammingProgrammingArtsBusinessHealthScienceProgrammingScienceArtsProgrammingScienceProgrammingHealthArtsBusinessProgrammingArtsBusinessScienceProgrammingHealthBusinessHealthBusinessHealthScienceHealthProgrammingScienceScienceArtsBusinessProgrammingScienceArtsProgrammingBusinessHealthProgrammingProgrammingArtsBusinessProgrammingBusinessScienceArtsScienceBusinessProgrammingScienceProgrammingProgrammingArtsHealthProgrammingProgrammingProgrammingHealthHealthProgrammingArtsScienceArtsScienceArtsBusinessScienceBusinessProgrammingHealthBusinessHealthArtsArtsBusinessProgrammingBusinessProgrammingBusinessScienceArtsHealthBusinessHealthArtsHealthHealthBusinessScienceBusinessArtsScienceScienceScienceScienceScienceScienceProgrammingScienceArtsHealthProgrammingHealthBusinessProgrammingProgrammingHealthHealthArtsScienceHealthBusinessBusinessProgrammingHealthBusinessHealthBusinessHealthHealthProgrammingProgrammingBusinessProgrammingBusinessArtsProgrammingBusinessProgrammingScienceArtsProgrammingProgrammingProgrammingHealthProgrammingProgrammingScienceScienceHealthArtsBusinessHealthProgrammingProgrammingProgrammingHealthProgrammingProgrammingArtsBusinessArtsHealthBusinessHealthHealthScienceArtsArtsHealthHealthHealthHealthArtsHealthBusinessScienceScienceBusinessHealthHealthProgrammingScienceBusinessProgrammingBusinessArtsProgrammingBusinessHealthScienceArtsBusinessScienceBusinessHealthBusinessHealthScienceHealthProgrammingScienceProgrammingBusinessBusinessBusinessScienceHealthProgrammingBusinessHealthBusinessProgrammingHealthBusinessBusinessArtsArtsScienceBusinessHealthHealthProgrammingProgrammingScienceScienceArtsHealthBusinessBusinessArtsProgrammingScienceProgrammingScienceArtsScienceHealthProgrammingHealthBusinessProgrammingArtsBusinessScienceArtsScienceArtsProgrammingArtsBusinessScienceArtsHealthBusinessProgrammingScienceBusinessArtsHealthProgrammingScienceProgrammingScienceBusinessHealthBusinessBusinessBusinessArtsBusinessBusinessBusinessProgrammingBusinessHealthScienceArtsHealthHealthProgrammingHealthHealthProgrammingBusinessBusinessProgrammingHealthScienceHealthHealthProgrammingHealthHealthBusinessArtsProgrammingArtsArtsArtsHealthBusinessArtsHealthProgrammingHealthHealthHealthBusinessBusinessScienceHealthArtsBusinessProgrammingArtsBusinessHealthBusinessHealthProgrammingHealthScienceHealthProgrammingProgrammingHealthScienceScienceScienceHealthArtsBusinessScienceHealthBusinessHealthHealthArtsProgrammingScienceScienceBusinessProgrammingBusinessProgrammingArtsScienceBusinessProgrammingArtsProgrammingProgrammingProgrammingArtsHealthHealthBusinessHealthScienceArtsProgrammingScienceScienceBusinessProgrammingProgrammingProgrammingScienceScienceProgrammingBusinessHealthScienceBusinessHealthProgrammingBusinessScienceArtsProgrammingScienceScienceBusinessProgrammingProgrammingArtsHealthProgrammingBusinessBusinessHealthHealthArtsHealthScienceBusinessHealthProgrammingBusinessArtsProgrammingArtsHealthScienceHealthProgrammingProgrammingBusinessBusinessScienceScienceScienceProgrammingArtsScienceHealthScienceScienceHealthArtsScienceHealthScienceProgrammingHealthProgrammingBusinessHealthHealthHealthArtsProgrammingScienceProgrammingHealthScienceHealthArtsProgrammingHealthBusinessScienceProgrammingHealthBusinessHealthHealthBusinessScienceProgrammingHealthBusinessBusinessBusinessArtsHealthHealthArtsScienceBusinessProgrammingArtsProgrammingProgrammingProgrammingScienceScienceHealthBusinessProgrammingScienceProgrammingArtsArtsBusinessProgrammingHealthScienceProgrammingHealthProgrammingHealthProgrammingHealthBusinessBusinessScienceBusinessProgrammingProgrammingProgrammingArtsProgrammingProgrammingHealthHealthHealthArtsArtsArtsProgrammingArtsHealthProgrammingBusinessScienceArtsHealthProgrammingBusinessHealthScienceScienceHealthHealthScienceScienceScienceBusinessArtsProgrammingHealthBusinessProgrammingArtsBusinessArtsHealthProgrammingScienceArtsScienceHealthProgrammingArtsBusinessArtsArtsProgrammingArtsHealthArtsProgrammingHealthArtsArtsBusinessHealthArtsScienceBusinessProgrammingProgrammingHealthArtsBusinessBusinessScienceBusinessProgrammingBusinessScienceScienceProgrammingHealthProgrammingProgrammingScienceBusinessBusinessArtsProgrammingArtsProgrammingProgrammingProgrammingHealthScienceBusinessHealthHealthArtsScienceProgrammingArtsArtsArtsScienceScienceArtsArtsProgrammingHealthArtsHealthProgrammingScienceScienceProgrammingHealthScienceArtsHealthHealthHealthProgrammingScienceProgrammingBusinessScienceProgrammingProgrammingArtsArtsBusinessBusinessHealthProgrammingHealthBusinessProgrammingProgrammingArtsProgrammingHealthProgrammingScienceBusinessArtsProgrammingArtsArtsHealthHealthHealthHealthHealthProgrammingProgrammingHealthScienceHealthProgrammingProgrammingProgrammingArtsHealthScienceProgrammingArtsProgrammingArtsBusinessBusinessProgrammingProgrammingHealthProgrammingHealthProgrammingBusinessScienceHealthBusinessArtsBusinessArtsArtsBusinessProgrammingProgrammingHealthScienceScienceArtsBusinessHealthHealthScienceHealthScienceBusinessArtsProgrammingBusinessArtsHealthHealthProgrammingProgrammingArtsHealthProgrammingArtsArtsScienceHealthScienceBusinessArtsBusinessArtsBusinessBusinessScienceBusinessProgrammingHealthArtsBusinessProgrammingHealthProgrammingArtsBusinessScienceArtsScienceBusinessProgrammingBusinessHealthScienceScienceBusinessBusinessScienceBusinessBusinessArtsProgrammingArtsScienceProgrammingArtsHealthScienceArtsScienceHealthScienceScienceBusinessProgrammingBusinessArtsBusinessProgrammingScienceScienceProgrammingHealthScienceArtsScienceProgrammingProgrammingProgrammingScienceProgrammingArtsArtsProgrammingHealthBusinessScienceScienceBusinessScienceProgrammingArtsProgrammingHealthHealthBusinessProgrammingScienceScienceScienceScienceHealthScienceBusinessProgrammingHealthBusinessScienceProgrammingHealthScienceProgrammingScienceHealthArtsProgrammingArtsScienceArtsArtsHealthProgrammingProgrammingProgrammingProgrammingScienceScienceProgrammingScienceScienceProgrammingBusinessProgrammingArtsScienceBusinessProgrammingHealthHealthScienceProgrammingHealthProgrammingHealthBusinessBusinessArtsArtsArtsScienceArtsScienceBusinessScienceHealthArtsBusinessScienceArtsArtsScienceBusinessBusinessBusinessHealthArtsBusinessHealthBusinessProgrammingArtsProgrammingProgrammingProgrammingBusinessScienceScienceProgrammingArtsScienceScienceScienceHealthHealthBusinessProgrammingProgrammingScienceScienceScienceHealthBusinessBusinessProgrammingScienceProgrammingArtsBusinessScienceArtsHealthArtsArtsBusinessBusinessArtsHealthArtsHealthHealthProgrammingHealthHealthArtsHealthProgrammingScienceBusinessProgrammingScienceHealthScienceProgrammingHealthArtsHealthProgrammingHealthArtsBusinessScienceScienceHealthBusinessProgrammingProgrammingBusinessBusinessProgrammingBusinessScienceHealthProgrammingScienceProgrammingHealthBusinessBusinessScienceArtsProgrammingArtsProgrammingArtsProgrammingArtsHealthHealthBusinessBusinessScienceArtsProgrammingArtsArtsArtsArtsProgrammingArtsBusinessProgrammingBusinessProgrammingScienceBusinessProgrammingHealthArtsProgrammingScienceHealthHealthHealthHealthBusinessHealthScienceScienceScienceHealthScienceHealthScienceBusinessProgrammingProgrammingProgrammingArtsScienceScienceProgrammingArtsArtsScienceProgrammingBusinessBusinessProgrammingScienceProgrammingScienceProgrammingHealthArtsBusinessProgrammingScienceHealthArtsScienceHealthHealthArtsBusinessHealthScienceHealthArtsScienceArtsScienceHealthScienceProgrammingProgrammingProgrammingScienceArtsHealthHealthProgrammingScienceProgrammingScienceProgrammingHealthArtsArtsHealthProgrammingArtsScienceProgrammingProgrammingHealthArtsScienceBusinessArtsProgrammingHealthHealthBusinessProgrammingArtsArtsScienceScienceHealthHealthHealthHealthScienceBusinessBusinessHealthArtsScienceBusinessProgrammingScienceBusinessProgrammingArtsBusinessBusinessHealthBusinessBusinessBusinessArtsBusinessScienceBusinessBusinessScienceBusinessProgrammingArtsScienceProgrammingBusinessArtsBusinessHealthScienceArtsArtsHealthHealthArtsHealthScienceArtsHealthScienceArtsScienceBusinessScienceHealthHealthProgrammingHealthBusinessProgrammingHealthHealthBusinessHealthArtsBusinessHealthProgrammingArtsBusinessScienceArtsBusinessHealthProgrammingProgrammingProgrammingProgrammingScienceArtsHealthBusinessArtsScienceBusinessArtsArtsBusinessScienceProgrammingScienceScienceArtsArtsHealthScienceProgrammingProgrammingProgrammingArtsProgrammingProgrammingArtsArtsArtsScienceHealthArtsBusinessHealthProgrammingBusinessArtsHealthArtsHealthProgrammingHealthArtsScienceArtsProgrammingProgrammingBusinessScienceArtsProgrammingProgrammingProgrammingHealthProgrammingProgrammingScienceArtsScienceBusinessBusinessScienceScienceBusinessBusinessScienceBusinessHealthArtsHealthScienceBusinessBusinessScienceProgrammingBusinessBusinessBusinessProgrammingBusinessBusinessScienceBusinessScienceHealthHealthHealthBusinessProgrammingScienceBusinessHealthArtsHealthBusinessScienceProgrammingArtsArtsBusinessProgrammingScienceBusinessProgrammingBusinessProgrammingHealthHealthHealthScienceHealthHealthBusinessProgrammingHealthScienceProgrammingArtsBusinessProgrammingHealthHealthScienceProgrammingBusinessHealthArtsProgrammingBusinessHealthBusinessHealthArtsBusinessScienceProgrammingScienceHealthArtsScienceArtsHealthHealthScienceScienceArtsHealthScienceScienceArtsArtsScienceBusinessProgrammingProgrammingScienceHealthArtsBusinessProgrammingArtsBusinessProgrammingHealthProgrammingProgrammingProgrammingBusinessBusinessProgrammingHealthBusinessArtsProgrammingProgrammingHealthScienceBusinessBusinessHealthArtsProgrammingProgrammingScienceArtsHealthArtsBusinessBusinessBusinessProgrammingArtsProgrammingArtsBusinessBusinessProgrammingBusinessScienceHealthHealthScienceBusinessBusinessProgrammingProgrammingScienceBusinessScienceArtsBusinessProgrammingProgrammingArtsArtsHealthArtsBusinessBusinessScienceArtsArtsBusinessBusinessScienceScienceArtsBusinessProgrammingProgrammingScienceArtsArtsBusinessBusinessBusinessHealthProgrammingProgrammingHealthArtsArtsScienceProgrammingScienceBusinessBusinessProgrammingBusinessBusinessScienceScienceArtsBusinessArtsHealthBusinessArtsArtsHealthScienceProgrammingBusinessBusinessHealthArtsProgrammingHealthScienceHealthBusinessScienceArtsScienceScienceHealthBusinessProgrammingBusinessProgrammingScienceProgrammingProgrammingHealthBusinessScienceScienceProgrammingBusinessHealthScienceHealthBusinessArtsArtsBusinessHealthHealthBusinessHealthHealthProgrammingHealthArtsArtsHealthHealthHealthBusinessScienceBusinessBusinessHealthBusinessHealthArtsProgrammingArtsProgrammingBusinessArtsProgrammingArtsArtsHealthProgrammingBusinessHealthArtsArtsBusinessHealthScienceArtsHealthArtsArtsBusinessBusinessArtsHealthArtsArtsArtsScienceArtsHealthBusinessArtsArtsBusinessBusinessHealthProgrammingScienceArtsProgrammingScienceHealthBusinessHealthBusinessScienceScienceScienceBusinessBusinessArtsArtsScienceScienceHealthBusinessProgrammingProgrammingProgrammingArtsHealthArtsProgrammingHealthProgrammingScienceProgrammingProgrammingHealthBusinessProgrammingProgrammingProgrammingArtsScienceProgrammingScienceBusinessHealthScienceArtsProgrammingScienceBusinessHealthScienceProgrammingArtsArtsBusinessArtsArtsScienceProgrammingProgrammingScienceBusinessArtsScienceScienceProgrammingBusinessProgrammingProgrammingScienceArtsArtsArtsBusinessHealthArtsProgrammingBusinessScienceScienceProgrammingHealthBusinessProgrammingArtsBusinessArtsScienceScienceScienceScienceHealthArtsScienceHealthHealthBusinessArtsProgrammingArtsProgrammingArtsScienceScienceHealthBusinessHealthProgrammingBusinessScienceScienceHealthHealthScienceArtsHealthScienceHealthScienceArtsArtsArtsArtsScienceProgrammingArtsBusinessHealthBusinessHealthArtsBusinessBusinessArtsArtsBusinessHealthScienceArtsProgrammingProgrammingScienceScienceHealthHealthArtsBusinessBusinessProgrammingHealthProgrammingArtsHealthHealthScienceBusinessArtsArtsScienceArtsHealthHealthScienceArtsHealthArtsScienceProgrammingProgrammingScienceProgrammingProgrammingBusinessScienceScienceHealthProgrammingBusinessScienceArtsScienceBusinessBusinessHealthBusinessScienceArtsBusinessProgrammingArtsProgrammingHealthHealthProgrammingScienceHealthArtsArtsArtsScienceScienceScienceArtsArtsProgrammingScienceProgrammingProgrammingBusinessBusinessProgrammingHealthBusinessHealthArtsHealthBusinessBusinessScienceHealthScienceHealthHealthHealthProgrammingProgrammingHealthBusinessBusinessBusinessBusinessScienceArtsProgrammingArtsBusinessScienceBusinessArtsBusinessBusinessArtsScienceHealthHealthHealthHealthArtsArtsBusinessProgrammingProgrammingScienceArtsArtsScienceHealthProgrammingBusinessProgrammingBusinessBusinessArtsHealthScienceScienceProgrammingProgrammingArtsBusinessScienceProgrammingHealthHealthProgrammingHealthArtsArtsArtsBusinessHealthBusinessHealthProgrammingScienceScienceBusinessBusinessArtsHealthHealthBusinessProgrammingArtsBusinessHealthArtsProgrammingProgrammingScienceBusinessProgrammingBusinessBusinessHealthProgrammingProgrammingArtsHealthProgrammingProgrammingBusinessBusinessBusinessProgrammingArtsBusinessHealthHealthProgrammingHealthHealthHealthHealthProgrammingHealthProgrammingBusinessHealthProgrammingHealthBusinessBusinessBusinessScienceArtsBusinessScienceScienceScienceArtsBusinessScienceHealthScienceBusinessHealthHealthArtsBusinessBusinessProgrammingScienceProgrammingScienceArtsArtsProgrammingScienceHealthBusinessArtsProgrammingProgrammingBusinessScienceArtsHealthHealthArtsProgrammingArtsScienceProgrammingArtsProgrammingBusinessBusinessHealthScienceScienceProgrammingHealthHealthBusinessArtsBusinessBusinessBusinessArtsBusinessProgrammingScienceScienceScienceArtsArtsScienceHealthHealthBusinessProgrammingHealthArtsProgrammingProgrammingArtsProgrammingBusinessBusinessProgrammingHealthScienceHealthArtsHealthHealthBusinessProgrammingHealthScienceHealthHealthHealthHealthBusinessScienceScienceProgrammingHealthBusinessScienceArtsArtsProgrammingProgrammingHealthBusinessScienceArtsArtsScienceHealthProgrammingBusinessProgrammingArtsScienceBusinessArtsBusinessHealthProgrammingBusinessArtsBusinessScienceBusinessArtsHealthHealthBusinessArtsProgrammingBusinessHealthHealthArtsScienceBusinessBusinessArtsProgrammingScienceProgrammingHealthBusinessScienceHealthProgrammingScienceScienceHealthArtsArtsArtsHealthScienceHealthHealthScienceBusinessProgrammingProgrammingBusinessHealthBusinessScienceBusinessProgrammingArtsHealthHealthHealthScienceHealthBusinessArtsHealthBusinessBusinessHealthBusinessBusinessArtsBusinessScienceProgrammingBusinessHealthArtsHealthScienceScienceProgrammingArtsArtsProgrammingArtsScienceHealthProgrammingArtsScienceScienceProgrammingBusinessHealthHealthScienceProgrammingScienceBusinessHealthArtsBusinessProgrammingBusinessProgrammingBusinessBusinessBusinessHealthBusinessProgrammingScienceScienceArtsProgrammingArtsProgrammingArtsProgrammingHealthProgrammingArtsHealthBusinessArtsProgrammingHealthProgrammingArtsHealthProgrammingHealthHealthHealthScienceBusinessHealthProgrammingScienceScienceBusinessScienceBusinessBusinessHealthScienceProgrammingProgrammingBusinessHealthBusinessArtsProgrammingBusinessScienceBusinessProgrammingArtsScienceBusinessBusinessBusinessArtsProgrammingArtsProgrammingArtsProgrammingBusinessHealthHealthScienceArtsArtsHealthScienceProgrammingArtsArtsScienceHealthHealthScienceHealthProgrammingScienceBusinessArtsScienceScienceProgrammingProgrammingArtsScienceHealthHealthArtsHealthArtsHealthScienceArtsArtsProgrammingHealthBusinessScienceScienceScienceHealthBusinessArtsProgrammingBusinessProgrammingArtsArtsHealthProgrammingArtsScienceHealthHealthHealthScienceHealthHealthBusinessHealthProgrammingScienceHealthBusinessBusinessHealthHealthProgrammingScienceProgrammingBusinessProgrammingProgrammingArtsScienceProgrammingArtsBusinessHealthScienceArtsArtsBusinessHealthBusinessProgrammingArtsProgrammingBusinessHealthHealthProgrammingArtsBusinessHealthScienceProgrammingScienceArtsScienceScienceScienceHealthScienceArtsHealthBusinessProgrammingBusinessArtsScienceHealthProgrammingScienceBusinessHealthBusinessProgrammingArtsBusinessProgrammingScienceProgrammingHealthProgrammingProgrammingBusinessScienceHealthArtsProgrammingHealthArtsProgrammingHealthScienceHealthScienceScienceProgrammingScienceScienceArtsArtsScienceBusinessScienceScienceScienceScienceBusinessScienceArtsHealthProgrammingArtsHealthScienceArtsBusinessBusinessArtsScienceBusinessHealthArtsHealthProgrammingHealthArtsBusinessHealthArtsBusinessProgrammingArtsScienceScienceArtsScienceScienceProgrammingArtsProgrammingProgrammingScienceScienceScienceScienceScienceProgrammingHealthScienceHealthBusinessArtsHealthScienceArtsProgrammingHealthArtsHealthProgrammingArtsScienceBusinessHealthHealthBusinessScienceScienceScienceHealthProgrammingArtsArtsScienceBusinessScienceScienceArtsScienceArtsProgrammingHealthHealthBusinessProgrammingArtsProgrammingBusinessHealthProgrammingHealthScienceArtsProgrammingProgrammingScienceBusinessScienceArtsArtsProgrammingScienceScienceScienceProgrammingProgrammingBusinessArtsArtsScienceHealthHealthArtsScienceProgrammingProgrammingBusinessHealthScienceHealthProgrammingProgrammingProgrammingProgrammingProgrammingProgrammingHealthProgrammingBusinessArtsProgrammingScienceBusinessHealthBusinessArtsProgrammingArtsScienceBusinessHealthProgrammingBusinessBusinessScienceBusinessScienceScienceProgrammingScienceHealthHealthBusinessBusinessScienceArtsProgrammingScienceProgrammingProgrammingScienceProgrammingArtsHealthHealthProgrammingHealthBusinessHealthProgrammingArtsProgrammingScienceProgrammingProgrammingHealthHealthProgrammingProgrammingBusinessHealthProgrammingHealthBusinessProgrammingHealthArtsBusinessHealthProgrammingBusinessScienceProgrammingBusinessScienceBusinessBusinessProgrammingProgrammingProgrammingScienceBusinessHealthScienceBusinessArtsHealthScienceArtsHealthScienceHealthScienceArtsHealthBusinessHealthScienceScienceScienceArtsBusinessScienceHealthProgrammingHealthProgrammingScienceProgrammingScienceScienceBusinessScienceArtsHealthHealthArtsHealthHealthScienceHealthBusinessScienceScienceArtsBusinessHealthProgrammingHealthScienceArtsHealthBusinessArtsHealthProgrammingArtsArtsProgrammingArtsHealthBusinessBusinessProgrammingHealthProgrammingArtsBusinessArtsBusinessHealthProgrammingProgrammingArtsProgrammingArtsScienceArtsProgrammingScienceBusinessProgrammingArtsArtsScienceArtsProgrammingScienceBusinessProgrammingScienceHealthProgrammingProgrammingArtsProgrammingScienceBusinessBusinessHealthArtsArtsBusinessHealthArtsArtsHealthBusinessBusinessArtsScienceScienceHealthArtsHealthBusinessHealthHealthHealthHealthScienceProgrammingBusinessHealthArtsBusinessArtsScienceBusinessHealthScienceScienceBusinessScienceScienceHealthScienceProgrammingBusinessBusinessScienceScienceScienceScienceBusinessScienceHealthScienceProgrammingProgrammingProgrammingArtsArtsHealthHealthArtsBusinessBusinessArtsScienceHealthProgrammingProgrammingProgrammingHealthProgrammingScienceHealthBusinessScienceScienceProgrammingHealthBusinessProgrammingProgrammingHealthBusinessProgrammingProgrammingProgrammingBusinessProgrammingProgrammingArtsScienceBusinessBusinessBusinessHealthBusinessScienceProgrammingHealthArtsArtsBusinessProgrammingScienceScienceHealthProgrammingHealthProgrammingHealthArtsProgrammingProgrammingScienceScienceHealthHealthHealthScienceArtsBusinessBusinessScienceHealthProgrammingArtsArtsProgrammingArtsHealthProgrammingProgrammingBusinessHealthBusinessHealthArtsBusinessArtsHealthProgrammingBusinessHealthBusinessBusinessBusinessArtsArtsScienceScienceScienceHealthScienceScienceProgrammingArtsProgrammingBusinessProgrammingArtsHealthArtsScienceHealthHealthBusinessScienceArtsBusinessHealthArtsHealthArtsBusinessBusinessArtsArtsArtsScienceScienceScienceScienceScienceBusinessHealthBusinessHealthBusinessHealthScienceScienceHealthArtsHealthProgrammingBusinessBusinessBusinessArtsScienceHealthProgrammingBusinessScienceHealthArtsArtsArtsProgrammingProgrammingProgrammingHealthProgrammingProgrammingBusinessArtsHealthScienceHealthProgrammingScienceProgrammingBusinessBusinessProgrammingArtsArtsArtsHealthProgrammingHealthBusinessBusinessScienceBusinessArtsArtsProgrammingHealthHealthBusinessScienceScienceScienceScienceHealthScienceBusinessHealthScienceProgrammingArtsArtsProgrammingBusinessProgrammingBusinessBusinessProgrammingHealthScienceHealthBusinessArtsScienceArtsBusinessProgrammingProgrammingArtsProgrammingArtsArtsProgrammingBusinessScienceScienceScienceProgrammingBusinessScienceScienceArtsArtsArtsScienceHealthScienceArtsArtsHealthBusinessProgrammingArtsBusinessHealthHealthArtsProgrammingScienceHealthScienceHealthArtsProgrammingBusinessProgrammingScienceProgrammingBusinessProgrammingHealthProgrammingScienceScienceHealthProgrammingArtsScienceBusinessArtsArtsScienceHealthProgrammingBusinessHealthBusinessProgrammingHealthBusinessArtsScienceArtsBusinessHealthHealthArtsBusinessProgrammingProgrammingScienceProgrammingArtsScienceProgrammingScienceArtsArtsScienceBusinessHealthScienceArtsHealthScienceBusinessArtsScienceArtsArtsBusinessScienceScienceBusinessProgrammingScienceHealthHealthHealthBusinessArtsHealthBusinessHealthScienceHealthScienceProgrammingScienceScienceArtsHealthArtsArtsScienceProgrammingBusinessProgrammingHealthHealthHealthProgrammingScienceBusinessScienceProgrammingHealthScienceArtsScienceArtsArtsArtsProgrammingBusinessHealthScienceScienceProgrammingScienceArtsArtsProgrammingHealthScienceBusinessProgrammingArtsBusinessHealthHealthHealthProgrammingProgrammingBusinessBusinessHealthBusinessArtsArtsScienceArtsScienceProgrammingHealthProgrammingArtsHealthProgrammingScienceProgrammingBusinessProgrammingScienceArtsArtsHealthScienceScienceHealthArtsProgrammingBusinessHealthProgrammingHealthProgrammingArtsProgrammingBusinessBusinessArtsProgrammingHealthProgrammingHealthArtsArtsArtsProgrammingArtsProgrammingArtsArtsScienceScienceProgrammingScienceProgrammingBusinessArtsBusinessProgrammingHealthBusinessHealthProgrammingScienceProgrammingBusinessProgrammingProgrammingHealthArtsScienceBusinessHealthBusinessHealthProgrammingProgrammingScienceArtsBusinessScienceProgrammingHealthBusinessBusinessHealthBusinessScienceArtsHealthBusinessHealthScienceArtsProgrammingProgrammingHealthScienceScienceHealthScienceBusinessScienceHealthHealthHealthHealthArtsBusinessBusinessProgrammingBusinessBusinessHealthScienceProgrammingScienceHealthArtsProgrammingHealthArtsProgrammingProgrammingBusinessProgrammingHealthProgrammingProgrammingScienceProgrammingArtsProgrammingArtsProgrammingProgrammingBusinessProgrammingArtsHealthScienceHealthScienceArtsBusinessHealthHealthProgrammingHealthHealthScienceProgrammingScienceBusinessBusinessArtsArtsProgrammingScienceHealthHealthArtsProgrammingBusinessArtsProgrammingBusinessScienceHealthScienceProgrammingScienceArtsBusinessBusinessProgrammingBusinessHealthScienceProgrammingProgrammingHealthScienceProgrammingArtsScienceProgrammingScienceProgrammingProgrammingScienceProgrammingBusinessBusinessBusinessArtsProgrammingProgrammingScienceArtsScienceHealthBusinessArtsScienceBusinessProgrammingProgrammingScienceBusinessHealthProgrammingProgrammingBusinessHealthBusinessArtsArtsArtsScienceProgrammingHealthArtsProgrammingArtsArtsBusinessProgrammingBusinessProgrammingProgrammingArtsArtsHealthArtsArtsBusinessArtsArtsHealthBusinessScienceHealthBusinessBusinessBusinessArtsBusinessScienceScienceArtsProgrammingProgrammingProgrammingHealthHealthScienceScienceBusinessArtsProgrammingArtsHealthProgrammingHealthHealthBusinessScienceProgrammingProgrammingBusinessScienceBusinessScienceArtsScienceScienceHealthProgrammingArtsBusinessScienceScienceHealthHealthScienceProgrammingHealthScienceHealthBusinessBusinessBusinessArtsProgrammingBusinessHealthScienceProgrammingBusinessProgrammingScienceArtsHealthBusinessScienceHealthHealthProgrammingArtsArtsProgrammingHealthHealthScienceArtsScienceHealthScienceHealthScienceScienceHealthBusinessProgrammingArtsProgrammingHealthScienceBusinessArtsProgrammingArtsHealthScienceHealthProgrammingHealthScienceHealthScienceHealthArtsHealthProgrammingArtsProgrammingScienceScienceProgrammingBusinessHealthArtsProgrammingScienceProgrammingProgrammingProgrammingProgrammingScienceProgrammingProgrammingHealthProgrammingScienceScienceProgrammingArtsArtsBusinessArtsArtsBusinessHealthBusinessBusinessHealthScienceBusinessBusinessProgrammingScienceScienceBusinessScienceScienceProgrammingArtsProgrammingScienceProgrammingProgrammingBusinessHealthScienceBusinessHealthScienceProgrammingProgrammingBusinessArtsBusinessBusinessProgrammingHealthArtsProgrammingBusinessArtsArtsBusinessScienceProgrammingScienceHealthArtsProgrammingProgrammingArtsScienceScienceProgrammingBusinessProgrammingHealthProgrammingHealthArtsBusinessArtsScienceProgrammingProgrammingHealthArtsProgrammingBusinessProgrammingBusinessArtsScienceArtsProgrammingBusinessScienceHealthScienceBusinessProgrammingHealthScienceProgrammingProgrammingBusinessArtsArtsProgrammingHealthBusinessScienceBusinessArtsArtsScienceArtsArtsProgrammingScienceArtsScienceArtsHealthScienceBusinessProgrammingBusinessScienceArtsHealthProgrammingHealthScienceBusinessBusinessBusinessScienceHealthScienceHealthScienceBusinessScienceHealthScienceScienceBusinessArtsHealthArtsArtsBusinessScienceScienceArtsHealthScienceHealthHealthScienceArtsBusinessScienceBusinessBusinessProgrammingArtsArtsArtsArtsHealthBusinessHealthHealthBusinessProgrammingHealthProgrammingScienceProgrammingProgrammingScienceBusinessArtsHealthProgrammingArtsHealthBusinessScienceProgrammingHealthProgrammingProgrammingBusinessBusinessProgrammingProgrammingScienceBusinessBusinessArtsHealthBusinessScienceHealthScienceBusinessScienceHealthArtsArtsHealthHealthHealthArtsProgrammingProgrammingHealthProgrammingScienceBusinessArtsBusinessScienceHealthBusinessArtsBusinessHealthScienceHealthScienceArtsScienceArtsProgrammingBusinessScienceArtsHealthScienceBusinessArtsProgrammingScienceBusinessProgrammingScienceHealthScienceProgrammingProgrammingScienceProgrammingArtsHealthScienceArtsHealthHealthScienceBusinessArtsBusinessScienceScienceHealthScienceScienceScienceHealthHealthHealthBusinessBusinessArtsArtsArtsHealthHealthBusinessBusinessProgrammingArtsProgrammingBusinessBusinessArtsProgrammingScienceArtsHealthProgrammingProgrammingScienceBusinessProgrammingProgrammingArtsHealthArtsProgrammingHealthHealthBusinessScienceScienceHealthArtsProgrammingArtsArtsScienceProgrammingBusinessProgrammingProgrammingArtsBusinessArtsProgrammingScienceProgrammingHealthHealthScienceHealthArtsHealthArtsArtsArtsScienceScienceBusinessBusinessArtsBusinessBusinessBusinessBusinessBusinessScienceBusinessScienceProgrammingBusinessArtsHealthArtsHealthArtsBusinessHealthBusinessProgrammingArtsScienceHealthHealthHealthBusinessHealthScienceProgrammingArtsArtsProgrammingBusinessHealthArtsBusinessHealthHealthScienceBusinessProgrammingBusinessHealthHealthHealthBusinessHealthScienceArtsArtsScienceProgrammingHealthHealthProgrammingHealthArtsProgrammingBusinessArtsProgrammingProgrammingArtsProgrammingBusinessHealthArtsHealthArtsArtsScienceProgrammingProgrammingArtsHealthHealthBusinessArtsArtsBusinessProgrammingProgrammingHealthArtsBusinessBusinessHealthBusinessBusinessProgrammingArtsBusinessArtsArtsArtsScienceArtsArtsProgrammingProgrammingBusinessHealthHealthScienceHealthArtsHealthScienceScienceProgrammingScienceHealthArtsScienceScienceBusinessScienceScienceScienceHealthProgrammingBusinessProgrammingProgrammingHealthProgrammingBusinessBusinessBusinessScienceScienceArtsHealthHealthBusinessBusinessArtsHealthBusinessBusinessHealthBusinessProgrammingBusinessScienceArtsBusinessArtsBusinessScienceHealthArtsBusinessArtsProgrammingHealthHealthBusinessScienceHealthProgrammingProgrammingHealthHealthProgrammingProgrammingScienceScienceBusinessScienceHealthHealthArtsScienceArtsHealthProgrammingHealthProgrammingProgrammingProgrammingScienceBusinessBusinessHealthBusinessScienceArtsProgrammingProgrammingArtsHealthProgrammingBusinessScienceBusinessHealthScienceBusinessProgrammingProgrammingProgrammingBusinessBusinessProgrammingArtsBusinessArtsArtsArtsBusinessArtsScienceBusinessProgrammingScienceHealthScienceArtsScienceProgrammingBusinessProgrammingProgrammingHealthScienceArtsBusinessProgrammingBusinessArtsHealthScienceArtsHealthScienceScienceBusinessArtsBusinessBusinessProgrammingProgrammingProgrammingScienceProgrammingProgrammingHealthProgrammingBusinessProgrammingBusinessBusinessScienceBusinessHealthHealthArtsArtsBusinessHealthProgrammingBusinessHealthArtsArtsScienceArtsBusinessHealthProgrammingProgrammingBusinessScienceHealthArtsBusinessHealthArtsScienceArtsArtsArtsScienceHealthProgrammingScienceProgrammingProgrammingProgrammingScienceHealthProgrammingProgrammingScienceBusinessBusinessBusinessBusinessHealthScienceHealthHealthBusinessArtsHealthScienceArtsHealthBusinessHealthProgrammingScienceBusinessHealthProgrammingScienceHealthBusinessBusinessScienceHealthArtsScienceArtsScienceArtsScienceProgrammingProgrammingScienceArtsBusinessScienceProgrammingProgrammingBusinessHealthArtsHealthBusinessScienceHealthBusinessScienceHealthProgrammingProgrammingBusinessScienceProgrammingBusinessBusinessProgrammingProgrammingBusinessHealthProgrammingScienceScienceHealthScienceHealthArtsArtsProgrammingBusinessHealthScienceBusinessScienceBusinessProgrammingScienceScienceScienceArtsArtsArtsScienceHealthHealthHealthHealthBusinessArtsArtsHealthArtsProgrammingHealthProgrammingBusinessProgrammingScienceProgrammingHealthScienceProgrammingBusinessBusinessBusinessProgrammingBusinessHealthHealthProgrammingHealthBusinessHealthProgrammingBusinessBusinessHealthBusinessScienceHealthBusinessArtsHealthHealthProgrammingArtsBusinessArtsBusinessHealthHealthHealthScienceBusinessHealthProgrammingArtsHealthBusinessBusinessScienceArtsArtsArtsBusinessBusinessScienceProgrammingScienceHealthProgrammingProgrammingScienceHealthScienceProgrammingProgrammingScienceScienceScienceProgrammingScienceHealthBusinessHealthHealthScienceHealthArtsHealthScienceHealthScienceArtsBusinessProgrammingHealthHealthBusinessBusinessBusinessArtsBusinessBusinessHealthProgrammingHealthProgrammingBusinessBusinessHealthBusinessBusinessArtsScienceProgrammingBusinessBusinessProgrammingScienceProgrammingBusinessHealthProgrammingBusinessBusinessProgrammingBusinessScienceBusinessProgrammingScienceArtsScienceArtsScienceArtsArtsScienceProgrammingBusinessScienceHealthScienceBusinessScienceHealthArtsScienceArtsHealthProgrammingHealthHealthBusinessProgrammingArtsBusinessProgrammingScienceScienceScienceHealthArtsBusinessArtsScienceProgrammingHealthProgrammingScienceBusinessBusinessScienceHealthScienceProgrammingBusinessArtsScienceHealthScienceProgrammingBusinessProgrammingBusinessArtsProgrammingScienceProgrammingBusinessProgrammingArtsBusinessBusinessBusinessProgrammingBusinessScienceScienceScienceProgrammingScienceProgrammingScienceBusinessScienceBusinessScienceProgrammingProgrammingHealthHealthHealthBusinessBusinessScienceProgrammingHealthScienceHealthScienceHealthProgrammingArtsArtsArtsScienceProgrammingBusinessProgrammingArtsArtsBusinessProgrammingBusinessArtsProgrammingScienceProgrammingScienceBusinessScienceHealthScienceScienceHealthArtsBusinessProgrammingProgrammingProgrammingProgrammingProgrammingArtsHealthHealthHealthHealthArtsHealthProgrammingHealthScienceArtsScienceProgrammingScienceProgrammingScienceScienceHealthHealthArtsScienceArtsArtsHealthScienceProgrammingArtsArtsProgrammingArtsScienceArtsBusinessArtsBusinessScienceProgrammingBusinessArtsProgrammingHealthHealthHealthArtsProgrammingBusinessHealthBusinessProgrammingProgrammingProgrammingScienceScienceProgrammingProgrammingScienceProgrammingArtsScienceArtsHealthBusinessScienceBusinessScienceScienceScienceProgrammingScienceScienceBusinessProgrammingBusinessScienceProgrammingBusinessHealthArtsBusinessProgrammingProgrammingScienceBusinessProgrammingHealthArtsBusinessArtsBusinessProgrammingScienceScienceHealthProgrammingBusinessProgrammingArtsArtsProgrammingBusinessProgrammingHealthProgrammingArtsHealthBusinessProgrammingScienceBusinessScienceHealthBusinessProgrammingProgrammingBusinessArtsHealthBusinessArtsArtsHealthArtsBusinessScienceBusinessArtsProgrammingBusinessScienceHealthProgrammingScienceScienceScienceArtsScienceBusinessHealthBusinessHealthArtsProgrammingBusinessArtsScienceProgrammingBusinessScienceScienceProgrammingBusinessBusinessScienceArtsBusinessBusinessProgrammingHealthHealthScienceProgrammingScienceHealthBusinessHealthScienceHealthArtsHealthBusinessHealthScienceBusinessHealthBusinessBusinessHealthScienceArtsProgrammingArtsBusinessHealthArtsArtsScienceScienceArtsArtsScienceBusinessHealthArtsBusinessHealthHealthBusinessProgrammingScienceBusinessScienceScienceArtsProgrammingProgrammingHealthArtsHealthArtsScienceBusinessProgrammingArtsHealthScienceBusinessProgrammingBusinessScienceScienceBusinessArtsHealthArtsHealthProgrammingProgrammingArtsProgrammingArtsScienceArtsProgrammingBusinessScienceHealthHealthHealthHealthProgrammingHealthBusinessHealthScienceArtsHealthHealthHealthScienceScienceHealthBusinessHealthBusinessScienceProgrammingHealthBusinessProgrammingScienceArtsScienceArtsProgrammingScienceProgrammingHealthArtsProgrammingBusinessScienceArtsBusinessBusinessBusinessBusinessBusinessArtsBusinessScienceProgrammingArtsScienceBusinessProgrammingBusinessHealthProgrammingBusinessHealthHealthProgrammingScienceProgrammingProgrammingProgrammingScienceScienceScienceHealthHealthArtsScienceBusinessArtsScienceScienceBusinessHealthProgrammingArtsScienceArtsBusinessHealthBusinessHealthScienceBusinessProgrammingBusinessHealthScienceHealthHealthHealth'] to numeric",
     "output_type": "error",
     "traceback": [
      "\u001b[1;31m---------------------------------------------------------------------------\u001b[0m",
      "\u001b[1;31mTypeError\u001b[0m                                 Traceback (most recent call last)",
      "Cell \u001b[1;32mIn[9], line 1\u001b[0m\n\u001b[1;32m----> 1\u001b[0m engagement_data\u001b[38;5;241m.\u001b[39mfillna(engagement_data\u001b[38;5;241m.\u001b[39mmean(), inplace\u001b[38;5;241m=\u001b[39m\u001b[38;5;28;01mTrue\u001b[39;00m)\n",
      "File \u001b[1;32m~\\anaconda3\\Lib\\site-packages\\pandas\\core\\frame.py:11335\u001b[0m, in \u001b[0;36mDataFrame.mean\u001b[1;34m(self, axis, skipna, numeric_only, **kwargs)\u001b[0m\n\u001b[0;32m  11327\u001b[0m \u001b[38;5;129m@doc\u001b[39m(make_doc(\u001b[38;5;124m\"\u001b[39m\u001b[38;5;124mmean\u001b[39m\u001b[38;5;124m\"\u001b[39m, ndim\u001b[38;5;241m=\u001b[39m\u001b[38;5;241m2\u001b[39m))\n\u001b[0;32m  11328\u001b[0m \u001b[38;5;28;01mdef\u001b[39;00m \u001b[38;5;21mmean\u001b[39m(\n\u001b[0;32m  11329\u001b[0m     \u001b[38;5;28mself\u001b[39m,\n\u001b[1;32m   (...)\u001b[0m\n\u001b[0;32m  11333\u001b[0m     \u001b[38;5;241m*\u001b[39m\u001b[38;5;241m*\u001b[39mkwargs,\n\u001b[0;32m  11334\u001b[0m ):\n\u001b[1;32m> 11335\u001b[0m     result \u001b[38;5;241m=\u001b[39m \u001b[38;5;28msuper\u001b[39m()\u001b[38;5;241m.\u001b[39mmean(axis, skipna, numeric_only, \u001b[38;5;241m*\u001b[39m\u001b[38;5;241m*\u001b[39mkwargs)\n\u001b[0;32m  11336\u001b[0m     \u001b[38;5;28;01mif\u001b[39;00m \u001b[38;5;28misinstance\u001b[39m(result, Series):\n\u001b[0;32m  11337\u001b[0m         result \u001b[38;5;241m=\u001b[39m result\u001b[38;5;241m.\u001b[39m__finalize__(\u001b[38;5;28mself\u001b[39m, method\u001b[38;5;241m=\u001b[39m\u001b[38;5;124m\"\u001b[39m\u001b[38;5;124mmean\u001b[39m\u001b[38;5;124m\"\u001b[39m)\n",
      "File \u001b[1;32m~\\anaconda3\\Lib\\site-packages\\pandas\\core\\generic.py:11992\u001b[0m, in \u001b[0;36mNDFrame.mean\u001b[1;34m(self, axis, skipna, numeric_only, **kwargs)\u001b[0m\n\u001b[0;32m  11985\u001b[0m \u001b[38;5;28;01mdef\u001b[39;00m \u001b[38;5;21mmean\u001b[39m(\n\u001b[0;32m  11986\u001b[0m     \u001b[38;5;28mself\u001b[39m,\n\u001b[0;32m  11987\u001b[0m     axis: Axis \u001b[38;5;241m|\u001b[39m \u001b[38;5;28;01mNone\u001b[39;00m \u001b[38;5;241m=\u001b[39m \u001b[38;5;241m0\u001b[39m,\n\u001b[1;32m   (...)\u001b[0m\n\u001b[0;32m  11990\u001b[0m     \u001b[38;5;241m*\u001b[39m\u001b[38;5;241m*\u001b[39mkwargs,\n\u001b[0;32m  11991\u001b[0m ) \u001b[38;5;241m-\u001b[39m\u001b[38;5;241m>\u001b[39m Series \u001b[38;5;241m|\u001b[39m \u001b[38;5;28mfloat\u001b[39m:\n\u001b[1;32m> 11992\u001b[0m     \u001b[38;5;28;01mreturn\u001b[39;00m \u001b[38;5;28mself\u001b[39m\u001b[38;5;241m.\u001b[39m_stat_function(\n\u001b[0;32m  11993\u001b[0m         \u001b[38;5;124m\"\u001b[39m\u001b[38;5;124mmean\u001b[39m\u001b[38;5;124m\"\u001b[39m, nanops\u001b[38;5;241m.\u001b[39mnanmean, axis, skipna, numeric_only, \u001b[38;5;241m*\u001b[39m\u001b[38;5;241m*\u001b[39mkwargs\n\u001b[0;32m  11994\u001b[0m     )\n",
      "File \u001b[1;32m~\\anaconda3\\Lib\\site-packages\\pandas\\core\\generic.py:11949\u001b[0m, in \u001b[0;36mNDFrame._stat_function\u001b[1;34m(self, name, func, axis, skipna, numeric_only, **kwargs)\u001b[0m\n\u001b[0;32m  11945\u001b[0m nv\u001b[38;5;241m.\u001b[39mvalidate_func(name, (), kwargs)\n\u001b[0;32m  11947\u001b[0m validate_bool_kwarg(skipna, \u001b[38;5;124m\"\u001b[39m\u001b[38;5;124mskipna\u001b[39m\u001b[38;5;124m\"\u001b[39m, none_allowed\u001b[38;5;241m=\u001b[39m\u001b[38;5;28;01mFalse\u001b[39;00m)\n\u001b[1;32m> 11949\u001b[0m \u001b[38;5;28;01mreturn\u001b[39;00m \u001b[38;5;28mself\u001b[39m\u001b[38;5;241m.\u001b[39m_reduce(\n\u001b[0;32m  11950\u001b[0m     func, name\u001b[38;5;241m=\u001b[39mname, axis\u001b[38;5;241m=\u001b[39maxis, skipna\u001b[38;5;241m=\u001b[39mskipna, numeric_only\u001b[38;5;241m=\u001b[39mnumeric_only\n\u001b[0;32m  11951\u001b[0m )\n",
      "File \u001b[1;32m~\\anaconda3\\Lib\\site-packages\\pandas\\core\\frame.py:11204\u001b[0m, in \u001b[0;36mDataFrame._reduce\u001b[1;34m(self, op, name, axis, skipna, numeric_only, filter_type, **kwds)\u001b[0m\n\u001b[0;32m  11200\u001b[0m     df \u001b[38;5;241m=\u001b[39m df\u001b[38;5;241m.\u001b[39mT\n\u001b[0;32m  11202\u001b[0m \u001b[38;5;66;03m# After possibly _get_data and transposing, we are now in the\u001b[39;00m\n\u001b[0;32m  11203\u001b[0m \u001b[38;5;66;03m#  simple case where we can use BlockManager.reduce\u001b[39;00m\n\u001b[1;32m> 11204\u001b[0m res \u001b[38;5;241m=\u001b[39m df\u001b[38;5;241m.\u001b[39m_mgr\u001b[38;5;241m.\u001b[39mreduce(blk_func)\n\u001b[0;32m  11205\u001b[0m out \u001b[38;5;241m=\u001b[39m df\u001b[38;5;241m.\u001b[39m_constructor_from_mgr(res, axes\u001b[38;5;241m=\u001b[39mres\u001b[38;5;241m.\u001b[39maxes)\u001b[38;5;241m.\u001b[39miloc[\u001b[38;5;241m0\u001b[39m]\n\u001b[0;32m  11206\u001b[0m \u001b[38;5;28;01mif\u001b[39;00m out_dtype \u001b[38;5;129;01mis\u001b[39;00m \u001b[38;5;129;01mnot\u001b[39;00m \u001b[38;5;28;01mNone\u001b[39;00m \u001b[38;5;129;01mand\u001b[39;00m out\u001b[38;5;241m.\u001b[39mdtype \u001b[38;5;241m!=\u001b[39m \u001b[38;5;124m\"\u001b[39m\u001b[38;5;124mboolean\u001b[39m\u001b[38;5;124m\"\u001b[39m:\n",
      "File \u001b[1;32m~\\anaconda3\\Lib\\site-packages\\pandas\\core\\internals\\managers.py:1459\u001b[0m, in \u001b[0;36mBlockManager.reduce\u001b[1;34m(self, func)\u001b[0m\n\u001b[0;32m   1457\u001b[0m res_blocks: \u001b[38;5;28mlist\u001b[39m[Block] \u001b[38;5;241m=\u001b[39m []\n\u001b[0;32m   1458\u001b[0m \u001b[38;5;28;01mfor\u001b[39;00m blk \u001b[38;5;129;01min\u001b[39;00m \u001b[38;5;28mself\u001b[39m\u001b[38;5;241m.\u001b[39mblocks:\n\u001b[1;32m-> 1459\u001b[0m     nbs \u001b[38;5;241m=\u001b[39m blk\u001b[38;5;241m.\u001b[39mreduce(func)\n\u001b[0;32m   1460\u001b[0m     res_blocks\u001b[38;5;241m.\u001b[39mextend(nbs)\n\u001b[0;32m   1462\u001b[0m index \u001b[38;5;241m=\u001b[39m Index([\u001b[38;5;28;01mNone\u001b[39;00m])  \u001b[38;5;66;03m# placeholder\u001b[39;00m\n",
      "File \u001b[1;32m~\\anaconda3\\Lib\\site-packages\\pandas\\core\\internals\\blocks.py:377\u001b[0m, in \u001b[0;36mBlock.reduce\u001b[1;34m(self, func)\u001b[0m\n\u001b[0;32m    371\u001b[0m \u001b[38;5;129m@final\u001b[39m\n\u001b[0;32m    372\u001b[0m \u001b[38;5;28;01mdef\u001b[39;00m \u001b[38;5;21mreduce\u001b[39m(\u001b[38;5;28mself\u001b[39m, func) \u001b[38;5;241m-\u001b[39m\u001b[38;5;241m>\u001b[39m \u001b[38;5;28mlist\u001b[39m[Block]:\n\u001b[0;32m    373\u001b[0m     \u001b[38;5;66;03m# We will apply the function and reshape the result into a single-row\u001b[39;00m\n\u001b[0;32m    374\u001b[0m     \u001b[38;5;66;03m#  Block with the same mgr_locs; squeezing will be done at a higher level\u001b[39;00m\n\u001b[0;32m    375\u001b[0m     \u001b[38;5;28;01massert\u001b[39;00m \u001b[38;5;28mself\u001b[39m\u001b[38;5;241m.\u001b[39mndim \u001b[38;5;241m==\u001b[39m \u001b[38;5;241m2\u001b[39m\n\u001b[1;32m--> 377\u001b[0m     result \u001b[38;5;241m=\u001b[39m func(\u001b[38;5;28mself\u001b[39m\u001b[38;5;241m.\u001b[39mvalues)\n\u001b[0;32m    379\u001b[0m     \u001b[38;5;28;01mif\u001b[39;00m \u001b[38;5;28mself\u001b[39m\u001b[38;5;241m.\u001b[39mvalues\u001b[38;5;241m.\u001b[39mndim \u001b[38;5;241m==\u001b[39m \u001b[38;5;241m1\u001b[39m:\n\u001b[0;32m    380\u001b[0m         res_values \u001b[38;5;241m=\u001b[39m result\n",
      "File \u001b[1;32m~\\anaconda3\\Lib\\site-packages\\pandas\\core\\frame.py:11136\u001b[0m, in \u001b[0;36mDataFrame._reduce.<locals>.blk_func\u001b[1;34m(values, axis)\u001b[0m\n\u001b[0;32m  11134\u001b[0m         \u001b[38;5;28;01mreturn\u001b[39;00m np\u001b[38;5;241m.\u001b[39marray([result])\n\u001b[0;32m  11135\u001b[0m \u001b[38;5;28;01melse\u001b[39;00m:\n\u001b[1;32m> 11136\u001b[0m     \u001b[38;5;28;01mreturn\u001b[39;00m op(values, axis\u001b[38;5;241m=\u001b[39maxis, skipna\u001b[38;5;241m=\u001b[39mskipna, \u001b[38;5;241m*\u001b[39m\u001b[38;5;241m*\u001b[39mkwds)\n",
      "File \u001b[1;32m~\\anaconda3\\Lib\\site-packages\\pandas\\core\\nanops.py:147\u001b[0m, in \u001b[0;36mbottleneck_switch.__call__.<locals>.f\u001b[1;34m(values, axis, skipna, **kwds)\u001b[0m\n\u001b[0;32m    145\u001b[0m         result \u001b[38;5;241m=\u001b[39m alt(values, axis\u001b[38;5;241m=\u001b[39maxis, skipna\u001b[38;5;241m=\u001b[39mskipna, \u001b[38;5;241m*\u001b[39m\u001b[38;5;241m*\u001b[39mkwds)\n\u001b[0;32m    146\u001b[0m \u001b[38;5;28;01melse\u001b[39;00m:\n\u001b[1;32m--> 147\u001b[0m     result \u001b[38;5;241m=\u001b[39m alt(values, axis\u001b[38;5;241m=\u001b[39maxis, skipna\u001b[38;5;241m=\u001b[39mskipna, \u001b[38;5;241m*\u001b[39m\u001b[38;5;241m*\u001b[39mkwds)\n\u001b[0;32m    149\u001b[0m \u001b[38;5;28;01mreturn\u001b[39;00m result\n",
      "File \u001b[1;32m~\\anaconda3\\Lib\\site-packages\\pandas\\core\\nanops.py:404\u001b[0m, in \u001b[0;36m_datetimelike_compat.<locals>.new_func\u001b[1;34m(values, axis, skipna, mask, **kwargs)\u001b[0m\n\u001b[0;32m    401\u001b[0m \u001b[38;5;28;01mif\u001b[39;00m datetimelike \u001b[38;5;129;01mand\u001b[39;00m mask \u001b[38;5;129;01mis\u001b[39;00m \u001b[38;5;28;01mNone\u001b[39;00m:\n\u001b[0;32m    402\u001b[0m     mask \u001b[38;5;241m=\u001b[39m isna(values)\n\u001b[1;32m--> 404\u001b[0m result \u001b[38;5;241m=\u001b[39m func(values, axis\u001b[38;5;241m=\u001b[39maxis, skipna\u001b[38;5;241m=\u001b[39mskipna, mask\u001b[38;5;241m=\u001b[39mmask, \u001b[38;5;241m*\u001b[39m\u001b[38;5;241m*\u001b[39mkwargs)\n\u001b[0;32m    406\u001b[0m \u001b[38;5;28;01mif\u001b[39;00m datetimelike:\n\u001b[0;32m    407\u001b[0m     result \u001b[38;5;241m=\u001b[39m _wrap_results(result, orig_values\u001b[38;5;241m.\u001b[39mdtype, fill_value\u001b[38;5;241m=\u001b[39miNaT)\n",
      "File \u001b[1;32m~\\anaconda3\\Lib\\site-packages\\pandas\\core\\nanops.py:720\u001b[0m, in \u001b[0;36mnanmean\u001b[1;34m(values, axis, skipna, mask)\u001b[0m\n\u001b[0;32m    718\u001b[0m count \u001b[38;5;241m=\u001b[39m _get_counts(values\u001b[38;5;241m.\u001b[39mshape, mask, axis, dtype\u001b[38;5;241m=\u001b[39mdtype_count)\n\u001b[0;32m    719\u001b[0m the_sum \u001b[38;5;241m=\u001b[39m values\u001b[38;5;241m.\u001b[39msum(axis, dtype\u001b[38;5;241m=\u001b[39mdtype_sum)\n\u001b[1;32m--> 720\u001b[0m the_sum \u001b[38;5;241m=\u001b[39m _ensure_numeric(the_sum)\n\u001b[0;32m    722\u001b[0m \u001b[38;5;28;01mif\u001b[39;00m axis \u001b[38;5;129;01mis\u001b[39;00m \u001b[38;5;129;01mnot\u001b[39;00m \u001b[38;5;28;01mNone\u001b[39;00m \u001b[38;5;129;01mand\u001b[39;00m \u001b[38;5;28mgetattr\u001b[39m(the_sum, \u001b[38;5;124m\"\u001b[39m\u001b[38;5;124mndim\u001b[39m\u001b[38;5;124m\"\u001b[39m, \u001b[38;5;28;01mFalse\u001b[39;00m):\n\u001b[0;32m    723\u001b[0m     count \u001b[38;5;241m=\u001b[39m cast(np\u001b[38;5;241m.\u001b[39mndarray, count)\n",
      "File \u001b[1;32m~\\anaconda3\\Lib\\site-packages\\pandas\\core\\nanops.py:1678\u001b[0m, in \u001b[0;36m_ensure_numeric\u001b[1;34m(x)\u001b[0m\n\u001b[0;32m   1675\u001b[0m inferred \u001b[38;5;241m=\u001b[39m lib\u001b[38;5;241m.\u001b[39minfer_dtype(x)\n\u001b[0;32m   1676\u001b[0m \u001b[38;5;28;01mif\u001b[39;00m inferred \u001b[38;5;129;01min\u001b[39;00m [\u001b[38;5;124m\"\u001b[39m\u001b[38;5;124mstring\u001b[39m\u001b[38;5;124m\"\u001b[39m, \u001b[38;5;124m\"\u001b[39m\u001b[38;5;124mmixed\u001b[39m\u001b[38;5;124m\"\u001b[39m]:\n\u001b[0;32m   1677\u001b[0m     \u001b[38;5;66;03m# GH#44008, GH#36703 avoid casting e.g. strings to numeric\u001b[39;00m\n\u001b[1;32m-> 1678\u001b[0m     \u001b[38;5;28;01mraise\u001b[39;00m \u001b[38;5;167;01mTypeError\u001b[39;00m(\u001b[38;5;124mf\u001b[39m\u001b[38;5;124m\"\u001b[39m\u001b[38;5;124mCould not convert \u001b[39m\u001b[38;5;132;01m{\u001b[39;00mx\u001b[38;5;132;01m}\u001b[39;00m\u001b[38;5;124m to numeric\u001b[39m\u001b[38;5;124m\"\u001b[39m)\n\u001b[0;32m   1679\u001b[0m \u001b[38;5;28;01mtry\u001b[39;00m:\n\u001b[0;32m   1680\u001b[0m     x \u001b[38;5;241m=\u001b[39m x\u001b[38;5;241m.\u001b[39mastype(np\u001b[38;5;241m.\u001b[39mcomplex128)\n",
      "\u001b[1;31mTypeError\u001b[0m: Could not convert ['HealthArtsArtsScienceProgrammingHealthHealthBusinessBusinessProgrammingScienceArtsArtsProgrammingScienceScienceProgrammingHealthBusinessHealthScienceScienceArtsBusinessScienceProgrammingProgrammingScienceProgrammingProgrammingArtsProgrammingArtsBusinessProgrammingHealthHealthArtsArtsArtsArtsScienceScienceBusinessProgrammingBusinessScienceHealthBusinessScienceProgrammingHealthProgrammingScienceHealthArtsArtsProgrammingProgrammingArtsArtsArtsArtsBusinessArtsProgrammingArtsHealthScienceHealthProgrammingProgrammingHealthHealthScienceScienceProgrammingHealthBusinessHealthHealthBusinessHealthHealthHealthBusinessScienceHealthHealthHealthHealthArtsArtsScienceBusinessProgrammingProgrammingHealthHealthHealthHealthBusinessHealthHealthArtsProgrammingBusinessArtsArtsBusinessHealthProgrammingProgrammingArtsBusinessArtsScienceHealthBusinessProgrammingArtsScienceBusinessScienceScienceBusinessHealthBusinessScienceArtsBusinessHealthHealthProgrammingBusinessScienceBusinessProgrammingArtsArtsProgrammingBusinessBusinessHealthProgrammingHealthProgrammingProgrammingArtsHealthProgrammingProgrammingBusinessProgrammingBusinessHealthArtsHealthHealthBusinessScienceProgrammingArtsArtsScienceScienceBusinessArtsArtsBusinessHealthArtsArtsProgrammingBusinessProgrammingArtsBusinessArtsArtsArtsBusinessProgrammingScienceArtsScienceArtsArtsProgrammingBusinessArtsBusinessHealthBusinessBusinessBusinessScienceArtsProgrammingBusinessBusinessScienceBusinessScienceProgrammingScienceHealthHealthProgrammingScienceHealthBusinessProgrammingBusinessBusinessScienceBusinessBusinessBusinessHealthArtsBusinessBusinessScienceProgrammingBusinessArtsBusinessArtsBusinessScienceScienceScienceHealthHealthProgrammingHealthProgrammingBusinessArtsProgrammingProgrammingScienceArtsProgrammingScienceArtsBusinessBusinessBusinessBusinessHealthArtsScienceHealthScienceBusinessHealthHealthScienceScienceArtsArtsBusinessBusinessScienceProgrammingHealthBusinessProgrammingBusinessProgrammingProgrammingHealthProgrammingHealthProgrammingHealthHealthProgrammingBusinessScienceBusinessBusinessHealthHealthHealthArtsArtsHealthBusinessProgrammingProgrammingHealthProgrammingBusinessHealthScienceProgrammingHealthProgrammingProgrammingBusinessBusinessBusinessBusinessHealthArtsBusinessArtsArtsScienceScienceProgrammingProgrammingScienceBusinessProgrammingScienceScienceArtsBusinessScienceProgrammingBusinessBusinessProgrammingArtsProgrammingArtsProgrammingProgrammingProgrammingBusinessHealthProgrammingArtsProgrammingBusinessScienceScienceScienceScienceProgrammingProgrammingArtsHealthProgrammingProgrammingArtsArtsProgrammingScienceProgrammingProgrammingScienceArtsArtsHealthProgrammingProgrammingHealthBusinessProgrammingProgrammingScienceScienceProgrammingBusinessHealthHealthProgrammingProgrammingBusinessScienceProgrammingScienceArtsProgrammingScienceScienceScienceScienceScienceArtsHealthBusinessArtsProgrammingProgrammingArtsBusinessHealthScienceHealthArtsHealthBusinessProgrammingHealthProgrammingArtsArtsBusinessBusinessProgrammingScienceBusinessArtsBusinessArtsArtsArtsScienceBusinessProgrammingProgrammingScienceBusinessBusinessBusinessArtsScienceArtsProgrammingHealthScienceScienceArtsProgrammingScienceScienceScienceArtsScienceScienceHealthArtsScienceArtsScienceHealthBusinessHealthHealthScienceProgrammingScienceProgrammingArtsHealthScienceProgrammingProgrammingProgrammingProgrammingScienceArtsScienceHealthArtsScienceArtsBusinessProgrammingBusinessScienceHealthScienceBusinessHealthArtsScienceArtsScienceHealthProgrammingProgrammingProgrammingProgrammingScienceArtsArtsHealthHealthBusinessBusinessHealthBusinessScienceScienceScienceProgrammingProgrammingScienceBusinessHealthArtsHealthProgrammingScienceProgrammingHealthBusinessHealthArtsHealthArtsArtsHealthHealthArtsScienceScienceProgrammingBusinessScienceBusinessProgrammingScienceArtsBusinessHealthBusinessScienceScienceArtsScienceArtsArtsProgrammingArtsBusinessArtsScienceBusinessArtsHealthScienceScienceProgrammingHealthHealthScienceScienceScienceArtsBusinessProgrammingProgrammingArtsHealthArtsHealthBusinessArtsBusinessProgrammingScienceHealthHealthArtsProgrammingScienceHealthScienceHealthProgrammingScienceBusinessHealthHealthProgrammingProgrammingArtsProgrammingBusinessProgrammingScienceBusinessScienceScienceScienceScienceHealthScienceScienceArtsArtsScienceScienceBusinessBusinessArtsArtsProgrammingProgrammingProgrammingBusinessHealthScienceScienceArtsProgrammingScienceProgrammingArtsBusinessScienceBusinessArtsArtsScienceProgrammingProgrammingHealthArtsHealthScienceScienceScienceScienceScienceArtsArtsArtsHealthProgrammingBusinessArtsArtsArtsArtsHealthProgrammingScienceScienceBusinessHealthArtsScienceScienceProgrammingScienceBusinessHealthScienceProgrammingProgrammingBusinessBusinessScienceHealthHealthScienceHealthArtsArtsBusinessBusinessBusinessHealthHealthHealthArtsProgrammingBusinessBusinessArtsBusinessBusinessProgrammingArtsProgrammingProgrammingScienceArtsArtsHealthHealthArtsArtsBusinessArtsBusinessScienceBusinessScienceHealthArtsScienceHealthBusinessArtsArtsBusinessScienceScienceScienceScienceProgrammingProgrammingScienceArtsBusinessBusinessArtsScienceProgrammingScienceHealthScienceHealthHealthScienceScienceArtsArtsHealthProgrammingProgrammingProgrammingHealthArtsBusinessArtsBusinessArtsHealthBusinessBusinessBusinessProgrammingHealthArtsScienceScienceBusinessHealthHealthProgrammingBusinessScienceBusinessScienceScienceProgrammingArtsScienceHealthArtsArtsHealthArtsBusinessArtsProgrammingProgrammingHealthArtsProgrammingProgrammingProgrammingScienceScienceArtsProgrammingHealthProgrammingBusinessScienceHealthScienceArtsArtsBusinessScienceHealthArtsBusinessHealthArtsProgrammingArtsProgrammingHealthProgrammingHealthBusinessArtsBusinessHealthScienceProgrammingHealthBusinessBusinessBusinessBusinessBusinessBusinessScienceProgrammingProgrammingProgrammingArtsProgrammingProgrammingProgrammingScienceScienceProgrammingScienceHealthScienceBusinessBusinessArtsArtsHealthBusinessProgrammingScienceProgrammingArtsScienceProgrammingHealthScienceArtsHealthProgrammingBusinessArtsArtsArtsProgrammingScienceProgrammingScienceScienceProgrammingArtsHealthArtsArtsScienceBusinessBusinessBusinessArtsBusinessProgrammingBusinessBusinessHealthScienceHealthScienceHealthBusinessScienceHealthBusinessBusinessHealthHealthHealthProgrammingProgrammingProgrammingBusinessProgrammingArtsProgrammingBusinessArtsScienceBusinessBusinessProgrammingScienceScienceScienceArtsBusinessBusinessArtsBusinessHealthScienceArtsScienceBusinessScienceHealthArtsBusinessBusinessProgrammingProgrammingArtsHealthScienceProgrammingBusinessBusinessBusinessHealthScienceBusinessArtsArtsProgrammingBusinessBusinessArtsHealthProgrammingBusinessProgrammingProgrammingProgrammingHealthArtsHealthProgrammingHealthProgrammingHealthBusinessScienceBusinessScienceArtsHealthProgrammingArtsProgrammingArtsScienceScienceHealthBusinessArtsScienceScienceArtsScienceScienceHealthScienceBusinessProgrammingArtsScienceBusinessArtsScienceProgrammingArtsBusinessBusinessProgrammingHealthHealthProgrammingHealthHealthBusinessHealthScienceBusinessHealthScienceProgrammingArtsArtsBusinessArtsBusinessProgrammingScienceScienceProgrammingBusinessBusinessArtsScienceBusinessBusinessProgrammingArtsArtsBusinessHealthHealthArtsBusinessScienceArtsScienceBusinessProgrammingHealthHealthScienceBusinessProgrammingBusinessProgrammingProgrammingHealthBusinessHealthArtsProgrammingScienceHealthArtsProgrammingHealthHealthScienceHealthArtsBusinessBusinessProgrammingProgrammingArtsHealthArtsHealthBusinessArtsHealthScienceBusinessArtsBusinessArtsScienceHealthHealthScienceHealthHealthProgrammingScienceBusinessBusinessProgrammingHealthHealthBusinessBusinessProgrammingBusinessProgrammingProgrammingHealthHealthHealthProgrammingBusinessScienceScienceProgrammingBusinessBusinessBusinessScienceHealthBusinessHealthArtsScienceProgrammingBusinessArtsBusinessBusinessArtsArtsScienceHealthHealthProgrammingArtsBusinessArtsScienceHealthScienceBusinessBusinessScienceProgrammingProgrammingHealthHealthHealthProgrammingBusinessScienceScienceScienceScienceHealthBusinessArtsScienceProgrammingHealthArtsArtsBusinessHealthArtsArtsHealthArtsProgrammingHealthBusinessArtsArtsBusinessScienceBusinessScienceProgrammingArtsBusinessProgrammingHealthScienceHealthProgrammingBusinessProgrammingBusinessBusinessScienceScienceArtsProgrammingBusinessHealthBusinessArtsHealthHealthProgrammingScienceArtsHealthScienceScienceHealthProgrammingArtsHealthProgrammingProgrammingProgrammingScienceBusinessArtsScienceHealthArtsBusinessProgrammingProgrammingProgrammingHealthHealthBusinessArtsArtsBusinessProgrammingBusinessScienceScienceBusinessScienceBusinessScienceBusinessProgrammingArtsScienceProgrammingScienceProgrammingHealthArtsBusinessHealthBusinessArtsScienceScienceBusinessBusinessArtsProgrammingHealthHealthHealthArtsArtsArtsScienceBusinessHealthHealthBusinessBusinessHealthScienceScienceArtsProgrammingHealthArtsScienceBusinessArtsProgrammingScienceBusinessHealthBusinessArtsArtsScienceProgrammingScienceScienceScienceHealthScienceBusinessHealthHealthHealthBusinessHealthHealthHealthHealthBusinessBusinessBusinessProgrammingBusinessBusinessBusinessHealthArtsArtsHealthProgrammingBusinessBusinessBusinessScienceArtsScienceArtsBusinessBusinessArtsHealthBusinessArtsScienceHealthBusinessBusinessArtsBusinessBusinessArtsScienceProgrammingBusinessScienceBusinessProgrammingBusinessProgrammingProgrammingProgrammingScienceArtsBusinessHealthArtsProgrammingBusinessBusinessBusinessArtsHealthScienceArtsHealthArtsBusinessHealthBusinessScienceArtsBusinessScienceArtsProgrammingProgrammingProgrammingBusinessProgrammingHealthScienceScienceArtsBusinessProgrammingProgrammingBusinessBusinessBusinessScienceScienceBusinessArtsScienceArtsBusinessArtsArtsProgrammingHealthHealthProgrammingProgrammingScienceProgrammingArtsHealthHealthHealthArtsArtsProgrammingScienceProgrammingArtsArtsArtsBusinessBusinessHealthBusinessArtsProgrammingArtsHealthBusinessProgrammingProgrammingHealthBusinessHealthHealthBusinessBusinessArtsProgrammingScienceScienceHealthBusinessBusinessBusinessBusinessProgrammingScienceHealthArtsScienceScienceScienceScienceBusinessHealthProgrammingProgrammingBusinessBusinessBusinessProgrammingHealthProgrammingProgrammingScienceProgrammingBusinessProgrammingProgrammingBusinessHealthHealthArtsArtsBusinessHealthArtsProgrammingScienceArtsHealthProgrammingScienceScienceBusinessHealthArtsProgrammingHealthArtsScienceScienceArtsHealthHealthScienceArtsBusinessProgrammingHealthArtsScienceScienceScienceArtsArtsArtsScienceBusinessBusinessHealthProgrammingProgrammingHealthBusinessProgrammingBusinessProgrammingProgrammingArtsBusinessBusinessHealthScienceProgrammingScienceHealthBusinessScienceProgrammingScienceProgrammingBusinessArtsProgrammingBusinessProgrammingScienceScienceScienceBusinessProgrammingProgrammingArtsBusinessProgrammingArtsBusinessScienceScienceScienceProgrammingBusinessArtsHealthBusinessScienceBusinessBusinessScienceHealthProgrammingBusinessHealthProgrammingBusinessArtsProgrammingBusinessBusinessScienceHealthArtsProgrammingProgrammingArtsProgrammingBusinessBusinessHealthArtsBusinessArtsScienceBusinessBusinessScienceProgrammingBusinessArtsBusinessProgrammingProgrammingScienceBusinessArtsHealthScienceArtsScienceHealthScienceProgrammingHealthScienceBusinessScienceScienceBusinessHealthHealthArtsBusinessHealthScienceProgrammingProgrammingHealthHealthHealthHealthBusinessProgrammingProgrammingBusinessBusinessScienceHealthScienceArtsScienceBusinessHealthProgrammingArtsScienceProgrammingArtsBusinessArtsArtsScienceProgrammingBusinessArtsArtsBusinessBusinessHealthHealthProgrammingArtsScienceBusinessScienceArtsProgrammingScienceBusinessScienceScienceProgrammingArtsScienceBusinessProgrammingBusinessScienceHealthScienceArtsScienceProgrammingProgrammingHealthScienceBusinessHealthScienceArtsHealthArtsProgrammingScienceBusinessProgrammingHealthArtsScienceScienceBusinessProgrammingHealthBusinessBusinessArtsScienceHealthScienceArtsScienceScienceHealthProgrammingProgrammingBusinessScienceScienceScienceHealthProgrammingArtsArtsProgrammingHealthHealthArtsScienceProgrammingBusinessBusinessScienceHealthProgrammingHealthProgrammingScienceProgrammingProgrammingHealthScienceHealthScienceScienceProgrammingHealthScienceProgrammingScienceArtsScienceScienceHealthScienceHealthBusinessArtsBusinessProgrammingScienceProgrammingArtsProgrammingScienceHealthBusinessScienceHealthProgrammingHealthHealthArtsBusinessHealthBusinessProgrammingProgrammingScienceBusinessScienceArtsArtsHealthProgrammingScienceBusinessArtsHealthHealthHealthScienceHealthHealthArtsArtsScienceProgrammingArtsHealthBusinessScienceArtsBusinessArtsProgrammingArtsScienceArtsBusinessScienceProgrammingProgrammingHealthArtsArtsHealthScienceArtsArtsProgrammingArtsBusinessProgrammingBusinessHealthScienceScienceProgrammingHealthHealthProgrammingScienceBusinessArtsHealthArtsArtsArtsHealthBusinessScienceScienceArtsArtsProgrammingBusinessBusinessBusinessScienceHealthArtsArtsBusinessScienceArtsBusinessArtsHealthProgrammingBusinessHealthProgrammingArtsProgrammingBusinessHealthHealthHealthProgrammingBusinessArtsHealthProgrammingBusinessScienceArtsBusinessBusinessBusinessArtsProgrammingArtsScienceProgrammingProgrammingBusinessArtsProgrammingScienceScienceProgrammingHealthBusinessBusinessScienceHealthBusinessBusinessBusinessScienceProgrammingArtsBusinessHealthProgrammingArtsArtsScienceScienceArtsBusinessBusinessHealthArtsArtsScienceScienceBusinessProgrammingProgrammingArtsProgrammingBusinessProgrammingScienceArtsProgrammingArtsBusinessHealthScienceArtsHealthProgrammingArtsArtsHealthScienceBusinessScienceBusinessProgrammingArtsBusinessHealthHealthProgrammingArtsBusinessProgrammingScienceHealthProgrammingScienceHealthBusinessScienceBusinessArtsHealthProgrammingBusinessArtsHealthHealthHealthBusinessArtsHealthScienceBusinessProgrammingArtsBusinessArtsArtsHealthScienceProgrammingScienceProgrammingBusinessArtsArtsProgrammingBusinessProgrammingScienceHealthScienceScienceScienceArtsProgrammingBusinessBusinessArtsScienceArtsScienceHealthProgrammingBusinessHealthProgrammingProgrammingProgrammingProgrammingArtsArtsBusinessScienceHealthProgrammingArtsHealthProgrammingProgrammingScienceHealthHealthScienceHealthHealthScienceBusinessHealthBusinessBusinessProgrammingHealthScienceArtsBusinessHealthProgrammingScienceHealthHealthProgrammingProgrammingHealthBusinessArtsProgrammingScienceBusinessScienceProgrammingProgrammingProgrammingScienceArtsArtsHealthScienceHealthArtsProgrammingArtsArtsProgrammingHealthProgrammingScienceBusinessBusinessHealthHealthHealthHealthProgrammingHealthProgrammingBusinessArtsArtsHealthProgrammingScienceScienceBusinessScienceProgrammingBusinessScienceArtsBusinessBusinessProgrammingArtsArtsHealthHealthScienceBusinessHealthBusinessArtsArtsBusinessArtsArtsProgrammingArtsBusinessScienceBusinessBusinessProgrammingScienceHealthArtsBusinessHealthBusinessBusinessHealthArtsHealthProgrammingArtsBusinessBusinessBusinessHealthBusinessScienceProgrammingHealthArtsScienceProgrammingScienceArtsHealthBusinessArtsScienceArtsBusinessScienceHealthBusinessArtsScienceBusinessArtsBusinessHealthArtsArtsBusinessArtsHealthBusinessScienceProgrammingBusinessProgrammingHealthScienceBusinessHealthScienceBusinessScienceHealthHealthScienceArtsHealthScienceScienceScienceProgrammingHealthArtsScienceScienceArtsBusinessHealthArtsHealthProgrammingHealthArtsScienceProgrammingBusinessProgrammingHealthBusinessArtsBusinessArtsScienceBusinessHealthArtsScienceHealthBusinessHealthArtsScienceArtsBusinessBusinessBusinessProgrammingHealthBusinessHealthProgrammingScienceProgrammingProgrammingBusinessBusinessBusinessScienceProgrammingBusinessScienceProgrammingProgrammingHealthArtsArtsBusinessProgrammingHealthScienceHealthScienceScienceHealthProgrammingHealthProgrammingBusinessHealthArtsHealthHealthBusinessScienceScienceBusinessBusinessProgrammingProgrammingScienceScienceArtsHealthBusinessScienceHealthScienceProgrammingProgrammingBusinessArtsBusinessBusinessHealthBusinessProgrammingArtsHealthBusinessHealthProgrammingScienceProgrammingProgrammingProgrammingArtsBusinessArtsBusinessProgrammingArtsArtsBusinessProgrammingHealthProgrammingProgrammingBusinessScienceScienceArtsScienceProgrammingHealthArtsScienceHealthScienceScienceHealthHealthHealthScienceArtsBusinessScienceProgrammingHealthProgrammingHealthProgrammingBusinessScienceHealthArtsScienceBusinessHealthScienceProgrammingProgrammingBusinessScienceHealthArtsHealthArtsScienceBusinessArtsArtsScienceHealthScienceBusinessArtsProgrammingArtsBusinessArtsProgrammingHealthArtsProgrammingBusinessProgrammingBusinessBusinessProgrammingArtsScienceScienceArtsScienceArtsHealthArtsHealthProgrammingProgrammingArtsProgrammingProgrammingProgrammingScienceHealthBusinessArtsScienceBusinessProgrammingArtsHealthScienceBusinessBusinessHealthScienceScienceBusinessArtsArtsArtsProgrammingScienceProgrammingScienceScienceScienceScienceBusinessArtsHealthArtsScienceHealthBusinessProgrammingArtsBusinessProgrammingBusinessBusinessBusinessScienceProgrammingBusinessArtsScienceHealthArtsHealthBusinessScienceBusinessBusinessHealthProgrammingProgrammingScienceScienceArtsScienceScienceBusinessProgrammingScienceHealthHealthHealthProgrammingHealthBusinessHealthProgrammingArtsArtsArtsBusinessArtsArtsArtsArtsProgrammingArtsBusinessProgrammingArtsProgrammingScienceScienceBusinessHealthArtsProgrammingScienceProgrammingProgrammingArtsHealthProgrammingScienceBusinessHealthScienceScienceScienceProgrammingScienceBusinessHealthArtsArtsHealthArtsArtsScienceHealthBusinessBusinessBusinessArtsArtsArtsProgrammingProgrammingArtsHealthProgrammingBusinessProgrammingScienceBusinessBusinessProgrammingScienceScienceScienceBusinessBusinessHealthProgrammingHealthArtsProgrammingBusinessBusinessHealthBusinessBusinessScienceBusinessBusinessProgrammingArtsScienceProgrammingBusinessProgrammingArtsHealthProgrammingBusinessBusinessScienceProgrammingHealthArtsProgrammingArtsBusinessProgrammingHealthBusinessProgrammingScienceBusinessArtsScienceBusinessArtsScienceScienceArtsProgrammingProgrammingScienceBusinessProgrammingScienceProgrammingScienceProgrammingHealthHealthArtsBusinessScienceArtsProgrammingBusinessHealthArtsArtsScienceScienceBusinessProgrammingProgrammingBusinessHealthScienceArtsHealthHealthArtsScienceBusinessBusinessArtsScienceArtsArtsArtsHealthScienceScienceHealthArtsProgrammingProgrammingProgrammingProgrammingScienceBusinessScienceScienceBusinessArtsScienceArtsScienceBusinessHealthArtsBusinessArtsProgrammingBusinessProgrammingHealthBusinessHealthBusinessBusinessBusinessProgrammingBusinessScienceHealthHealthScienceArtsBusinessArtsBusinessProgrammingBusinessScienceArtsBusinessHealthHealthBusinessScienceScienceHealthBusinessProgrammingHealthScienceScienceBusinessBusinessArtsArtsScienceProgrammingBusinessBusinessHealthScienceHealthScienceBusinessProgrammingHealthHealthArtsProgrammingBusinessBusinessBusinessProgrammingArtsArtsBusinessArtsScienceProgrammingHealthBusinessHealthBusinessArtsBusinessBusinessBusinessBusinessProgrammingHealthArtsArtsScienceProgrammingArtsHealthBusinessHealthProgrammingHealthProgrammingProgrammingScienceHealthArtsArtsHealthScienceProgrammingProgrammingBusinessBusinessArtsBusinessArtsArtsProgrammingScienceHealthScienceProgrammingArtsHealthBusinessHealthArtsProgrammingArtsArtsArtsArtsArtsHealthProgrammingBusinessBusinessScienceHealthProgrammingBusinessScienceHealthArtsArtsBusinessScienceProgrammingProgrammingArtsArtsScienceHealthHealthBusinessScienceArtsScienceHealthBusinessProgrammingProgrammingHealthScienceScienceHealthScienceProgrammingHealthArtsProgrammingArtsHealthProgrammingBusinessProgrammingHealthScienceHealthHealthArtsProgrammingProgrammingScienceProgrammingArtsArtsArtsScienceScienceArtsArtsScienceArtsArtsScienceHealthHealthBusinessScienceArtsProgrammingHealthArtsScienceHealthBusinessHealthHealthArtsArtsScienceProgrammingArtsScienceBusinessBusinessHealthScienceHealthArtsProgrammingBusinessArtsHealthProgrammingBusinessHealthScienceScienceProgrammingHealthProgrammingProgrammingBusinessBusinessScienceProgrammingHealthBusinessBusinessArtsProgrammingHealthScienceScienceHealthArtsArtsScienceProgrammingHealthHealthProgrammingArtsHealthScienceScienceBusinessArtsArtsHealthProgrammingHealthArtsHealthArtsBusinessHealthProgrammingScienceArtsArtsBusinessBusinessHealthProgrammingScienceProgrammingArtsArtsScienceHealthHealthBusinessHealthProgrammingArtsHealthHealthBusinessArtsScienceHealthScienceBusinessScienceProgrammingScienceScienceScienceBusinessArtsScienceProgrammingArtsProgrammingHealthBusinessBusinessHealthScienceArtsBusinessScienceProgrammingScienceArtsHealthScienceBusinessScienceBusinessHealthBusinessHealthHealthProgrammingScienceHealthHealthHealthBusinessArtsHealthProgrammingBusinessScienceProgrammingScienceBusinessBusinessHealthArtsHealthProgrammingProgrammingProgrammingArtsArtsBusinessArtsHealthHealthBusinessHealthHealthScienceProgrammingBusinessArtsScienceArtsArtsScienceHealthArtsProgrammingHealthProgrammingBusinessProgrammingScienceBusinessHealthProgrammingScienceArtsArtsBusinessScienceBusinessHealthArtsArtsArtsScienceArtsProgrammingBusinessArtsArtsScienceHealthHealthHealthScienceHealthScienceProgrammingBusinessScienceProgrammingBusinessArtsProgrammingProgrammingArtsBusinessHealthHealthHealthProgrammingHealthHealthScienceScienceHealthHealthArtsBusinessArtsScienceBusinessHealthProgrammingBusinessProgrammingHealthScienceArtsBusinessHealthBusinessProgrammingBusinessHealthHealthScienceProgrammingArtsHealthHealthBusinessArtsHealthBusinessHealthArtsProgrammingArtsBusinessHealthScienceScienceHealthHealthArtsScienceScienceScienceBusinessArtsBusinessArtsProgrammingArtsArtsScienceHealthBusinessProgrammingProgrammingScienceScienceHealthScienceProgrammingArtsArtsArtsHealthHealthHealthArtsArtsProgrammingArtsScienceArtsProgrammingBusinessHealthHealthProgrammingProgrammingArtsHealthProgrammingBusinessScienceProgrammingProgrammingHealthProgrammingArtsBusinessBusinessArtsScienceProgrammingProgrammingBusinessHealthBusinessBusinessScienceProgrammingScienceScienceScienceArtsArtsScienceBusinessHealthScienceScienceScienceProgrammingScienceArtsArtsScienceScienceHealthProgrammingScienceProgrammingHealthArtsBusinessHealthArtsArtsBusinessArtsProgrammingProgrammingArtsScienceHealthProgrammingHealthArtsArtsArtsBusinessProgrammingArtsProgrammingArtsHealthProgrammingBusinessBusinessBusinessProgrammingProgrammingArtsBusinessBusinessProgrammingProgrammingScienceScienceScienceHealthHealthProgrammingHealthScienceHealthBusinessBusinessScienceProgrammingArtsScienceHealthProgrammingScienceBusinessProgrammingArtsArtsHealthProgrammingBusinessProgrammingHealthHealthArtsArtsHealthScienceScienceScienceProgrammingHealthProgrammingBusinessArtsBusinessHealthHealthArtsProgrammingProgrammingArtsProgrammingProgrammingArtsArtsScienceHealthBusinessScienceArtsProgrammingBusinessProgrammingProgrammingHealthHealthHealthProgrammingBusinessArtsArtsScienceHealthArtsScienceArtsScienceScienceArtsHealthArtsBusinessHealthScienceScienceArtsArtsScienceBusinessProgrammingHealthBusinessScienceArtsBusinessArtsProgrammingProgrammingHealthBusinessProgrammingProgrammingBusinessBusinessHealthProgrammingProgrammingBusinessProgrammingHealthBusinessHealthBusinessHealthBusinessHealthHealthHealthScienceBusinessBusinessProgrammingScienceArtsArtsArtsHealthProgrammingBusinessProgrammingHealthHealthScienceArtsBusinessBusinessBusinessScienceHealthBusinessBusinessHealthScienceProgrammingBusinessHealthProgrammingProgrammingProgrammingArtsBusinessScienceProgrammingScienceProgrammingScienceArtsHealthBusinessBusinessBusinessHealthArtsScienceScienceArtsScienceScienceBusinessBusinessArtsScienceScienceProgrammingProgrammingScienceScienceArtsProgrammingScienceHealthHealthArtsProgrammingArtsScienceArtsScienceProgrammingProgrammingBusinessArtsHealthHealthHealthScienceHealthScienceBusinessScienceBusinessProgrammingBusinessArtsArtsHealthArtsScienceArtsHealthArtsArtsProgrammingScienceHealthHealthProgrammingBusinessArtsScienceHealthArtsScienceScienceScienceProgrammingArtsArtsHealthScienceScienceScienceScienceScienceProgrammingArtsScienceArtsArtsArtsHealthProgrammingScienceProgrammingHealthProgrammingArtsArtsHealthBusinessArtsHealthHealthArtsBusinessHealthBusinessArtsScienceBusinessArtsArtsScienceBusinessBusinessProgrammingHealthProgrammingBusinessProgrammingScienceHealthBusinessHealthProgrammingArtsScienceBusinessBusinessScienceScienceScienceScienceHealthScienceHealthBusinessScienceBusinessScienceArtsBusinessArtsScienceScienceBusinessProgrammingBusinessHealthArtsBusinessBusinessBusinessScienceBusinessHealthProgrammingProgrammingProgrammingProgrammingBusinessScienceArtsProgrammingScienceArtsBusinessHealthBusinessBusinessScienceHealthProgrammingBusinessBusinessProgrammingHealthScienceScienceArtsArtsHealthBusinessBusinessScienceHealthArtsScienceBusinessHealthProgrammingScienceBusinessProgrammingScienceScienceBusinessHealthArtsProgrammingArtsBusinessProgrammingBusinessBusinessProgrammingHealthProgrammingProgrammingScienceBusinessProgrammingArtsProgrammingScienceProgrammingHealthArtsHealthArtsScienceProgrammingBusinessHealthArtsHealthBusinessScienceProgrammingArtsBusinessProgrammingBusinessScienceProgrammingScienceHealthBusinessBusinessBusinessHealthBusinessScienceProgrammingHealthHealthHealthScienceScienceScienceScienceHealthHealthProgrammingHealthBusinessScienceArtsArtsHealthProgrammingBusinessHealthArtsProgrammingScienceArtsHealthBusinessArtsScienceProgrammingHealthBusinessHealthProgrammingScienceProgrammingScienceScienceArtsArtsScienceBusinessArtsHealthProgrammingHealthBusinessBusinessProgrammingBusinessHealthArtsProgrammingProgrammingBusinessScienceHealthBusinessArtsHealthBusinessBusinessBusinessArtsHealthHealthBusinessHealthBusinessScienceProgrammingHealthHealthBusinessArtsScienceHealthProgrammingScienceScienceHealthBusinessArtsBusinessProgrammingScienceHealthHealthBusinessProgrammingHealthProgrammingArtsProgrammingProgrammingScienceArtsScienceProgrammingBusinessHealthScienceBusinessHealthProgrammingHealthProgrammingArtsScienceBusinessArtsScienceScienceProgrammingScienceBusinessArtsScienceProgrammingProgrammingArtsProgrammingHealthArtsArtsArtsScienceProgrammingProgrammingHealthProgrammingArtsBusinessHealthHealthBusinessHealthArtsBusinessScienceProgrammingBusinessProgrammingScienceHealthScienceArtsProgrammingScienceArtsArtsProgrammingBusinessHealthArtsHealthArtsProgrammingProgrammingBusinessScienceHealthScienceBusinessBusinessHealthProgrammingScienceProgrammingArtsArtsProgrammingScienceProgrammingArtsBusinessArtsBusinessScienceBusinessScienceArtsHealthArtsHealthScienceHealthHealthBusinessScienceArtsScienceHealthBusinessBusinessArtsProgrammingArtsProgrammingBusinessHealthScienceProgrammingScienceBusinessHealthArtsProgrammingHealthArtsProgrammingProgrammingScienceProgrammingProgrammingProgrammingScienceArtsProgrammingScienceScienceScienceScienceHealthBusinessBusinessScienceScienceBusinessScienceHealthScienceArtsScienceProgrammingHealthHealthBusinessScienceProgrammingArtsScienceProgrammingBusinessBusinessProgrammingScienceScienceArtsBusinessProgrammingHealthHealthScienceProgrammingBusinessScienceHealthScienceArtsBusinessScienceProgrammingScienceBusinessArtsScienceProgrammingScienceHealthHealthArtsBusinessScienceBusinessArtsArtsProgrammingHealthScienceHealthHealthArtsArtsProgrammingHealthScienceProgrammingArtsScienceProgrammingHealthBusinessScienceScienceHealthHealthBusinessProgrammingBusinessScienceArtsBusinessHealthArtsHealthScienceArtsScienceHealthArtsHealthBusinessHealthHealthProgrammingArtsScienceHealthHealthArtsBusinessProgrammingBusinessArtsArtsHealthBusinessProgrammingBusinessHealthProgrammingScienceArtsProgrammingScienceScienceProgrammingScienceProgrammingScienceProgrammingHealthBusinessScienceScienceScienceBusinessProgrammingBusinessArtsArtsScienceBusinessScienceHealthArtsScienceHealthBusinessProgrammingBusinessHealthScienceArtsScienceBusinessHealthArtsArtsArtsHealthHealthHealthArtsScienceBusinessHealthProgrammingProgrammingBusinessProgrammingProgrammingScienceBusinessScienceHealthArtsProgrammingBusinessScienceScienceProgrammingHealthArtsArtsArtsHealthProgrammingProgrammingHealthHealthHealthHealthArtsBusinessScienceProgrammingHealthHealthBusinessHealthHealthProgrammingHealthArtsScienceBusinessBusinessHealthProgrammingHealthBusinessHealthBusinessArtsProgrammingHealthBusinessProgrammingArtsHealthBusinessHealthBusinessHealthBusinessBusinessHealthScienceBusinessHealthProgrammingArtsArtsArtsScienceBusinessScienceHealthBusinessBusinessHealthArtsScienceProgrammingHealthBusinessArtsProgrammingBusinessScienceScienceHealthArtsHealthArtsHealthScienceBusinessBusinessProgrammingHealthHealthScienceHealthScienceProgrammingProgrammingScienceScienceArtsScienceBusinessHealthArtsProgrammingBusinessScienceHealthArtsBusinessScienceHealthBusinessBusinessArtsBusinessBusinessScienceBusinessHealthProgrammingHealthScienceScienceHealthArtsScienceBusinessArtsHealthScienceHealthArtsProgrammingProgrammingHealthArtsArtsHealthScienceProgrammingProgrammingArtsHealthProgrammingBusinessHealthScienceProgrammingProgrammingProgrammingArtsArtsProgrammingHealthArtsBusinessProgrammingBusinessBusinessScienceBusinessProgrammingProgrammingScienceScienceProgrammingScienceHealthHealthBusinessArtsArtsHealthBusinessArtsScienceHealthBusinessArtsBusinessProgrammingScienceHealthProgrammingHealthProgrammingArtsBusinessProgrammingScienceScienceScienceArtsArtsBusinessScienceScienceProgrammingScienceBusinessArtsHealthProgrammingArtsHealthArtsArtsScienceBusinessProgrammingBusinessProgrammingBusinessArtsHealthScienceArtsArtsArtsBusinessBusinessArtsScienceArtsScienceArtsBusinessArtsArtsScienceBusinessScienceProgrammingBusinessArtsHealthBusinessArtsArtsArtsScienceScienceBusinessScienceProgrammingArtsProgrammingScienceHealthHealthHealthScienceHealthArtsHealthBusinessBusinessScienceArtsHealthHealthProgrammingHealthProgrammingArtsProgrammingArtsHealthHealthProgrammingProgrammingArtsProgrammingHealthProgrammingProgrammingArtsArtsHealthBusinessHealthBusinessBusinessProgrammingArtsArtsArtsArtsProgrammingScienceScienceBusinessHealthArtsBusinessBusinessHealthProgrammingArtsArtsHealthBusinessProgrammingScienceScienceBusinessBusinessScienceArtsBusinessArtsBusinessArtsScienceHealthBusinessBusinessBusinessScienceProgrammingBusinessScienceArtsArtsProgrammingScienceBusinessBusinessBusinessHealthScienceBusinessHealthHealthScienceScienceBusinessBusinessHealthBusinessScienceBusinessHealthScienceScienceArtsArtsBusinessScienceHealthHealthScienceScienceProgrammingProgrammingHealthProgrammingArtsArtsHealthProgrammingProgrammingArtsProgrammingHealthHealthProgrammingProgrammingProgrammingProgrammingArtsBusinessBusinessHealthScienceArtsScienceBusinessHealthScienceHealthBusinessArtsProgrammingProgrammingArtsProgrammingProgrammingProgrammingHealthBusinessScienceProgrammingProgrammingBusinessHealthProgrammingScienceProgrammingArtsHealthScienceBusinessHealthBusinessArtsBusinessHealthArtsProgrammingArtsArtsArtsArtsHealthArtsProgrammingHealthHealthArtsProgrammingBusinessProgrammingBusinessBusinessProgrammingBusinessProgrammingBusinessHealthArtsScienceScienceScienceArtsBusinessScienceScienceScienceScienceHealthProgrammingBusinessHealthHealthArtsScienceBusinessScienceBusinessProgrammingHealthHealthArtsProgrammingProgrammingBusinessHealthScienceArtsProgrammingBusinessHealthProgrammingHealthHealthProgrammingArtsBusinessBusinessScienceScienceArtsProgrammingHealthHealthProgrammingBusinessProgrammingScienceArtsScienceHealthProgrammingBusinessBusinessBusinessBusinessArtsHealthArtsBusinessHealthBusinessHealthArtsProgrammingArtsHealthHealthArtsHealthScienceProgrammingProgrammingBusinessBusinessProgrammingProgrammingProgrammingArtsBusinessArtsArtsHealthBusinessBusinessScienceHealthHealthHealthScienceProgrammingArtsScienceBusinessArtsArtsHealthHealthProgrammingBusinessHealthBusinessProgrammingHealthProgrammingScienceArtsBusinessArtsProgrammingProgrammingArtsBusinessHealthScienceProgrammingScienceArtsProgrammingScienceProgrammingHealthArtsBusinessProgrammingArtsBusinessScienceProgrammingHealthBusinessHealthBusinessHealthScienceHealthProgrammingScienceScienceArtsBusinessProgrammingScienceArtsProgrammingBusinessHealthProgrammingProgrammingArtsBusinessProgrammingBusinessScienceArtsScienceBusinessProgrammingScienceProgrammingProgrammingArtsHealthProgrammingProgrammingProgrammingHealthHealthProgrammingArtsScienceArtsScienceArtsBusinessScienceBusinessProgrammingHealthBusinessHealthArtsArtsBusinessProgrammingBusinessProgrammingBusinessScienceArtsHealthBusinessHealthArtsHealthHealthBusinessScienceBusinessArtsScienceScienceScienceScienceScienceScienceProgrammingScienceArtsHealthProgrammingHealthBusinessProgrammingProgrammingHealthHealthArtsScienceHealthBusinessBusinessProgrammingHealthBusinessHealthBusinessHealthHealthProgrammingProgrammingBusinessProgrammingBusinessArtsProgrammingBusinessProgrammingScienceArtsProgrammingProgrammingProgrammingHealthProgrammingProgrammingScienceScienceHealthArtsBusinessHealthProgrammingProgrammingProgrammingHealthProgrammingProgrammingArtsBusinessArtsHealthBusinessHealthHealthScienceArtsArtsHealthHealthHealthHealthArtsHealthBusinessScienceScienceBusinessHealthHealthProgrammingScienceBusinessProgrammingBusinessArtsProgrammingBusinessHealthScienceArtsBusinessScienceBusinessHealthBusinessHealthScienceHealthProgrammingScienceProgrammingBusinessBusinessBusinessScienceHealthProgrammingBusinessHealthBusinessProgrammingHealthBusinessBusinessArtsArtsScienceBusinessHealthHealthProgrammingProgrammingScienceScienceArtsHealthBusinessBusinessArtsProgrammingScienceProgrammingScienceArtsScienceHealthProgrammingHealthBusinessProgrammingArtsBusinessScienceArtsScienceArtsProgrammingArtsBusinessScienceArtsHealthBusinessProgrammingScienceBusinessArtsHealthProgrammingScienceProgrammingScienceBusinessHealthBusinessBusinessBusinessArtsBusinessBusinessBusinessProgrammingBusinessHealthScienceArtsHealthHealthProgrammingHealthHealthProgrammingBusinessBusinessProgrammingHealthScienceHealthHealthProgrammingHealthHealthBusinessArtsProgrammingArtsArtsArtsHealthBusinessArtsHealthProgrammingHealthHealthHealthBusinessBusinessScienceHealthArtsBusinessProgrammingArtsBusinessHealthBusinessHealthProgrammingHealthScienceHealthProgrammingProgrammingHealthScienceScienceScienceHealthArtsBusinessScienceHealthBusinessHealthHealthArtsProgrammingScienceScienceBusinessProgrammingBusinessProgrammingArtsScienceBusinessProgrammingArtsProgrammingProgrammingProgrammingArtsHealthHealthBusinessHealthScienceArtsProgrammingScienceScienceBusinessProgrammingProgrammingProgrammingScienceScienceProgrammingBusinessHealthScienceBusinessHealthProgrammingBusinessScienceArtsProgrammingScienceScienceBusinessProgrammingProgrammingArtsHealthProgrammingBusinessBusinessHealthHealthArtsHealthScienceBusinessHealthProgrammingBusinessArtsProgrammingArtsHealthScienceHealthProgrammingProgrammingBusinessBusinessScienceScienceScienceProgrammingArtsScienceHealthScienceScienceHealthArtsScienceHealthScienceProgrammingHealthProgrammingBusinessHealthHealthHealthArtsProgrammingScienceProgrammingHealthScienceHealthArtsProgrammingHealthBusinessScienceProgrammingHealthBusinessHealthHealthBusinessScienceProgrammingHealthBusinessBusinessBusinessArtsHealthHealthArtsScienceBusinessProgrammingArtsProgrammingProgrammingProgrammingScienceScienceHealthBusinessProgrammingScienceProgrammingArtsArtsBusinessProgrammingHealthScienceProgrammingHealthProgrammingHealthProgrammingHealthBusinessBusinessScienceBusinessProgrammingProgrammingProgrammingArtsProgrammingProgrammingHealthHealthHealthArtsArtsArtsProgrammingArtsHealthProgrammingBusinessScienceArtsHealthProgrammingBusinessHealthScienceScienceHealthHealthScienceScienceScienceBusinessArtsProgrammingHealthBusinessProgrammingArtsBusinessArtsHealthProgrammingScienceArtsScienceHealthProgrammingArtsBusinessArtsArtsProgrammingArtsHealthArtsProgrammingHealthArtsArtsBusinessHealthArtsScienceBusinessProgrammingProgrammingHealthArtsBusinessBusinessScienceBusinessProgrammingBusinessScienceScienceProgrammingHealthProgrammingProgrammingScienceBusinessBusinessArtsProgrammingArtsProgrammingProgrammingProgrammingHealthScienceBusinessHealthHealthArtsScienceProgrammingArtsArtsArtsScienceScienceArtsArtsProgrammingHealthArtsHealthProgrammingScienceScienceProgrammingHealthScienceArtsHealthHealthHealthProgrammingScienceProgrammingBusinessScienceProgrammingProgrammingArtsArtsBusinessBusinessHealthProgrammingHealthBusinessProgrammingProgrammingArtsProgrammingHealthProgrammingScienceBusinessArtsProgrammingArtsArtsHealthHealthHealthHealthHealthProgrammingProgrammingHealthScienceHealthProgrammingProgrammingProgrammingArtsHealthScienceProgrammingArtsProgrammingArtsBusinessBusinessProgrammingProgrammingHealthProgrammingHealthProgrammingBusinessScienceHealthBusinessArtsBusinessArtsArtsBusinessProgrammingProgrammingHealthScienceScienceArtsBusinessHealthHealthScienceHealthScienceBusinessArtsProgrammingBusinessArtsHealthHealthProgrammingProgrammingArtsHealthProgrammingArtsArtsScienceHealthScienceBusinessArtsBusinessArtsBusinessBusinessScienceBusinessProgrammingHealthArtsBusinessProgrammingHealthProgrammingArtsBusinessScienceArtsScienceBusinessProgrammingBusinessHealthScienceScienceBusinessBusinessScienceBusinessBusinessArtsProgrammingArtsScienceProgrammingArtsHealthScienceArtsScienceHealthScienceScienceBusinessProgrammingBusinessArtsBusinessProgrammingScienceScienceProgrammingHealthScienceArtsScienceProgrammingProgrammingProgrammingScienceProgrammingArtsArtsProgrammingHealthBusinessScienceScienceBusinessScienceProgrammingArtsProgrammingHealthHealthBusinessProgrammingScienceScienceScienceScienceHealthScienceBusinessProgrammingHealthBusinessScienceProgrammingHealthScienceProgrammingScienceHealthArtsProgrammingArtsScienceArtsArtsHealthProgrammingProgrammingProgrammingProgrammingScienceScienceProgrammingScienceScienceProgrammingBusinessProgrammingArtsScienceBusinessProgrammingHealthHealthScienceProgrammingHealthProgrammingHealthBusinessBusinessArtsArtsArtsScienceArtsScienceBusinessScienceHealthArtsBusinessScienceArtsArtsScienceBusinessBusinessBusinessHealthArtsBusinessHealthBusinessProgrammingArtsProgrammingProgrammingProgrammingBusinessScienceScienceProgrammingArtsScienceScienceScienceHealthHealthBusinessProgrammingProgrammingScienceScienceScienceHealthBusinessBusinessProgrammingScienceProgrammingArtsBusinessScienceArtsHealthArtsArtsBusinessBusinessArtsHealthArtsHealthHealthProgrammingHealthHealthArtsHealthProgrammingScienceBusinessProgrammingScienceHealthScienceProgrammingHealthArtsHealthProgrammingHealthArtsBusinessScienceScienceHealthBusinessProgrammingProgrammingBusinessBusinessProgrammingBusinessScienceHealthProgrammingScienceProgrammingHealthBusinessBusinessScienceArtsProgrammingArtsProgrammingArtsProgrammingArtsHealthHealthBusinessBusinessScienceArtsProgrammingArtsArtsArtsArtsProgrammingArtsBusinessProgrammingBusinessProgrammingScienceBusinessProgrammingHealthArtsProgrammingScienceHealthHealthHealthHealthBusinessHealthScienceScienceScienceHealthScienceHealthScienceBusinessProgrammingProgrammingProgrammingArtsScienceScienceProgrammingArtsArtsScienceProgrammingBusinessBusinessProgrammingScienceProgrammingScienceProgrammingHealthArtsBusinessProgrammingScienceHealthArtsScienceHealthHealthArtsBusinessHealthScienceHealthArtsScienceArtsScienceHealthScienceProgrammingProgrammingProgrammingScienceArtsHealthHealthProgrammingScienceProgrammingScienceProgrammingHealthArtsArtsHealthProgrammingArtsScienceProgrammingProgrammingHealthArtsScienceBusinessArtsProgrammingHealthHealthBusinessProgrammingArtsArtsScienceScienceHealthHealthHealthHealthScienceBusinessBusinessHealthArtsScienceBusinessProgrammingScienceBusinessProgrammingArtsBusinessBusinessHealthBusinessBusinessBusinessArtsBusinessScienceBusinessBusinessScienceBusinessProgrammingArtsScienceProgrammingBusinessArtsBusinessHealthScienceArtsArtsHealthHealthArtsHealthScienceArtsHealthScienceArtsScienceBusinessScienceHealthHealthProgrammingHealthBusinessProgrammingHealthHealthBusinessHealthArtsBusinessHealthProgrammingArtsBusinessScienceArtsBusinessHealthProgrammingProgrammingProgrammingProgrammingScienceArtsHealthBusinessArtsScienceBusinessArtsArtsBusinessScienceProgrammingScienceScienceArtsArtsHealthScienceProgrammingProgrammingProgrammingArtsProgrammingProgrammingArtsArtsArtsScienceHealthArtsBusinessHealthProgrammingBusinessArtsHealthArtsHealthProgrammingHealthArtsScienceArtsProgrammingProgrammingBusinessScienceArtsProgrammingProgrammingProgrammingHealthProgrammingProgrammingScienceArtsScienceBusinessBusinessScienceScienceBusinessBusinessScienceBusinessHealthArtsHealthScienceBusinessBusinessScienceProgrammingBusinessBusinessBusinessProgrammingBusinessBusinessScienceBusinessScienceHealthHealthHealthBusinessProgrammingScienceBusinessHealthArtsHealthBusinessScienceProgrammingArtsArtsBusinessProgrammingScienceBusinessProgrammingBusinessProgrammingHealthHealthHealthScienceHealthHealthBusinessProgrammingHealthScienceProgrammingArtsBusinessProgrammingHealthHealthScienceProgrammingBusinessHealthArtsProgrammingBusinessHealthBusinessHealthArtsBusinessScienceProgrammingScienceHealthArtsScienceArtsHealthHealthScienceScienceArtsHealthScienceScienceArtsArtsScienceBusinessProgrammingProgrammingScienceHealthArtsBusinessProgrammingArtsBusinessProgrammingHealthProgrammingProgrammingProgrammingBusinessBusinessProgrammingHealthBusinessArtsProgrammingProgrammingHealthScienceBusinessBusinessHealthArtsProgrammingProgrammingScienceArtsHealthArtsBusinessBusinessBusinessProgrammingArtsProgrammingArtsBusinessBusinessProgrammingBusinessScienceHealthHealthScienceBusinessBusinessProgrammingProgrammingScienceBusinessScienceArtsBusinessProgrammingProgrammingArtsArtsHealthArtsBusinessBusinessScienceArtsArtsBusinessBusinessScienceScienceArtsBusinessProgrammingProgrammingScienceArtsArtsBusinessBusinessBusinessHealthProgrammingProgrammingHealthArtsArtsScienceProgrammingScienceBusinessBusinessProgrammingBusinessBusinessScienceScienceArtsBusinessArtsHealthBusinessArtsArtsHealthScienceProgrammingBusinessBusinessHealthArtsProgrammingHealthScienceHealthBusinessScienceArtsScienceScienceHealthBusinessProgrammingBusinessProgrammingScienceProgrammingProgrammingHealthBusinessScienceScienceProgrammingBusinessHealthScienceHealthBusinessArtsArtsBusinessHealthHealthBusinessHealthHealthProgrammingHealthArtsArtsHealthHealthHealthBusinessScienceBusinessBusinessHealthBusinessHealthArtsProgrammingArtsProgrammingBusinessArtsProgrammingArtsArtsHealthProgrammingBusinessHealthArtsArtsBusinessHealthScienceArtsHealthArtsArtsBusinessBusinessArtsHealthArtsArtsArtsScienceArtsHealthBusinessArtsArtsBusinessBusinessHealthProgrammingScienceArtsProgrammingScienceHealthBusinessHealthBusinessScienceScienceScienceBusinessBusinessArtsArtsScienceScienceHealthBusinessProgrammingProgrammingProgrammingArtsHealthArtsProgrammingHealthProgrammingScienceProgrammingProgrammingHealthBusinessProgrammingProgrammingProgrammingArtsScienceProgrammingScienceBusinessHealthScienceArtsProgrammingScienceBusinessHealthScienceProgrammingArtsArtsBusinessArtsArtsScienceProgrammingProgrammingScienceBusinessArtsScienceScienceProgrammingBusinessProgrammingProgrammingScienceArtsArtsArtsBusinessHealthArtsProgrammingBusinessScienceScienceProgrammingHealthBusinessProgrammingArtsBusinessArtsScienceScienceScienceScienceHealthArtsScienceHealthHealthBusinessArtsProgrammingArtsProgrammingArtsScienceScienceHealthBusinessHealthProgrammingBusinessScienceScienceHealthHealthScienceArtsHealthScienceHealthScienceArtsArtsArtsArtsScienceProgrammingArtsBusinessHealthBusinessHealthArtsBusinessBusinessArtsArtsBusinessHealthScienceArtsProgrammingProgrammingScienceScienceHealthHealthArtsBusinessBusinessProgrammingHealthProgrammingArtsHealthHealthScienceBusinessArtsArtsScienceArtsHealthHealthScienceArtsHealthArtsScienceProgrammingProgrammingScienceProgrammingProgrammingBusinessScienceScienceHealthProgrammingBusinessScienceArtsScienceBusinessBusinessHealthBusinessScienceArtsBusinessProgrammingArtsProgrammingHealthHealthProgrammingScienceHealthArtsArtsArtsScienceScienceScienceArtsArtsProgrammingScienceProgrammingProgrammingBusinessBusinessProgrammingHealthBusinessHealthArtsHealthBusinessBusinessScienceHealthScienceHealthHealthHealthProgrammingProgrammingHealthBusinessBusinessBusinessBusinessScienceArtsProgrammingArtsBusinessScienceBusinessArtsBusinessBusinessArtsScienceHealthHealthHealthHealthArtsArtsBusinessProgrammingProgrammingScienceArtsArtsScienceHealthProgrammingBusinessProgrammingBusinessBusinessArtsHealthScienceScienceProgrammingProgrammingArtsBusinessScienceProgrammingHealthHealthProgrammingHealthArtsArtsArtsBusinessHealthBusinessHealthProgrammingScienceScienceBusinessBusinessArtsHealthHealthBusinessProgrammingArtsBusinessHealthArtsProgrammingProgrammingScienceBusinessProgrammingBusinessBusinessHealthProgrammingProgrammingArtsHealthProgrammingProgrammingBusinessBusinessBusinessProgrammingArtsBusinessHealthHealthProgrammingHealthHealthHealthHealthProgrammingHealthProgrammingBusinessHealthProgrammingHealthBusinessBusinessBusinessScienceArtsBusinessScienceScienceScienceArtsBusinessScienceHealthScienceBusinessHealthHealthArtsBusinessBusinessProgrammingScienceProgrammingScienceArtsArtsProgrammingScienceHealthBusinessArtsProgrammingProgrammingBusinessScienceArtsHealthHealthArtsProgrammingArtsScienceProgrammingArtsProgrammingBusinessBusinessHealthScienceScienceProgrammingHealthHealthBusinessArtsBusinessBusinessBusinessArtsBusinessProgrammingScienceScienceScienceArtsArtsScienceHealthHealthBusinessProgrammingHealthArtsProgrammingProgrammingArtsProgrammingBusinessBusinessProgrammingHealthScienceHealthArtsHealthHealthBusinessProgrammingHealthScienceHealthHealthHealthHealthBusinessScienceScienceProgrammingHealthBusinessScienceArtsArtsProgrammingProgrammingHealthBusinessScienceArtsArtsScienceHealthProgrammingBusinessProgrammingArtsScienceBusinessArtsBusinessHealthProgrammingBusinessArtsBusinessScienceBusinessArtsHealthHealthBusinessArtsProgrammingBusinessHealthHealthArtsScienceBusinessBusinessArtsProgrammingScienceProgrammingHealthBusinessScienceHealthProgrammingScienceScienceHealthArtsArtsArtsHealthScienceHealthHealthScienceBusinessProgrammingProgrammingBusinessHealthBusinessScienceBusinessProgrammingArtsHealthHealthHealthScienceHealthBusinessArtsHealthBusinessBusinessHealthBusinessBusinessArtsBusinessScienceProgrammingBusinessHealthArtsHealthScienceScienceProgrammingArtsArtsProgrammingArtsScienceHealthProgrammingArtsScienceScienceProgrammingBusinessHealthHealthScienceProgrammingScienceBusinessHealthArtsBusinessProgrammingBusinessProgrammingBusinessBusinessBusinessHealthBusinessProgrammingScienceScienceArtsProgrammingArtsProgrammingArtsProgrammingHealthProgrammingArtsHealthBusinessArtsProgrammingHealthProgrammingArtsHealthProgrammingHealthHealthHealthScienceBusinessHealthProgrammingScienceScienceBusinessScienceBusinessBusinessHealthScienceProgrammingProgrammingBusinessHealthBusinessArtsProgrammingBusinessScienceBusinessProgrammingArtsScienceBusinessBusinessBusinessArtsProgrammingArtsProgrammingArtsProgrammingBusinessHealthHealthScienceArtsArtsHealthScienceProgrammingArtsArtsScienceHealthHealthScienceHealthProgrammingScienceBusinessArtsScienceScienceProgrammingProgrammingArtsScienceHealthHealthArtsHealthArtsHealthScienceArtsArtsProgrammingHealthBusinessScienceScienceScienceHealthBusinessArtsProgrammingBusinessProgrammingArtsArtsHealthProgrammingArtsScienceHealthHealthHealthScienceHealthHealthBusinessHealthProgrammingScienceHealthBusinessBusinessHealthHealthProgrammingScienceProgrammingBusinessProgrammingProgrammingArtsScienceProgrammingArtsBusinessHealthScienceArtsArtsBusinessHealthBusinessProgrammingArtsProgrammingBusinessHealthHealthProgrammingArtsBusinessHealthScienceProgrammingScienceArtsScienceScienceScienceHealthScienceArtsHealthBusinessProgrammingBusinessArtsScienceHealthProgrammingScienceBusinessHealthBusinessProgrammingArtsBusinessProgrammingScienceProgrammingHealthProgrammingProgrammingBusinessScienceHealthArtsProgrammingHealthArtsProgrammingHealthScienceHealthScienceScienceProgrammingScienceScienceArtsArtsScienceBusinessScienceScienceScienceScienceBusinessScienceArtsHealthProgrammingArtsHealthScienceArtsBusinessBusinessArtsScienceBusinessHealthArtsHealthProgrammingHealthArtsBusinessHealthArtsBusinessProgrammingArtsScienceScienceArtsScienceScienceProgrammingArtsProgrammingProgrammingScienceScienceScienceScienceScienceProgrammingHealthScienceHealthBusinessArtsHealthScienceArtsProgrammingHealthArtsHealthProgrammingArtsScienceBusinessHealthHealthBusinessScienceScienceScienceHealthProgrammingArtsArtsScienceBusinessScienceScienceArtsScienceArtsProgrammingHealthHealthBusinessProgrammingArtsProgrammingBusinessHealthProgrammingHealthScienceArtsProgrammingProgrammingScienceBusinessScienceArtsArtsProgrammingScienceScienceScienceProgrammingProgrammingBusinessArtsArtsScienceHealthHealthArtsScienceProgrammingProgrammingBusinessHealthScienceHealthProgrammingProgrammingProgrammingProgrammingProgrammingProgrammingHealthProgrammingBusinessArtsProgrammingScienceBusinessHealthBusinessArtsProgrammingArtsScienceBusinessHealthProgrammingBusinessBusinessScienceBusinessScienceScienceProgrammingScienceHealthHealthBusinessBusinessScienceArtsProgrammingScienceProgrammingProgrammingScienceProgrammingArtsHealthHealthProgrammingHealthBusinessHealthProgrammingArtsProgrammingScienceProgrammingProgrammingHealthHealthProgrammingProgrammingBusinessHealthProgrammingHealthBusinessProgrammingHealthArtsBusinessHealthProgrammingBusinessScienceProgrammingBusinessScienceBusinessBusinessProgrammingProgrammingProgrammingScienceBusinessHealthScienceBusinessArtsHealthScienceArtsHealthScienceHealthScienceArtsHealthBusinessHealthScienceScienceScienceArtsBusinessScienceHealthProgrammingHealthProgrammingScienceProgrammingScienceScienceBusinessScienceArtsHealthHealthArtsHealthHealthScienceHealthBusinessScienceScienceArtsBusinessHealthProgrammingHealthScienceArtsHealthBusinessArtsHealthProgrammingArtsArtsProgrammingArtsHealthBusinessBusinessProgrammingHealthProgrammingArtsBusinessArtsBusinessHealthProgrammingProgrammingArtsProgrammingArtsScienceArtsProgrammingScienceBusinessProgrammingArtsArtsScienceArtsProgrammingScienceBusinessProgrammingScienceHealthProgrammingProgrammingArtsProgrammingScienceBusinessBusinessHealthArtsArtsBusinessHealthArtsArtsHealthBusinessBusinessArtsScienceScienceHealthArtsHealthBusinessHealthHealthHealthHealthScienceProgrammingBusinessHealthArtsBusinessArtsScienceBusinessHealthScienceScienceBusinessScienceScienceHealthScienceProgrammingBusinessBusinessScienceScienceScienceScienceBusinessScienceHealthScienceProgrammingProgrammingProgrammingArtsArtsHealthHealthArtsBusinessBusinessArtsScienceHealthProgrammingProgrammingProgrammingHealthProgrammingScienceHealthBusinessScienceScienceProgrammingHealthBusinessProgrammingProgrammingHealthBusinessProgrammingProgrammingProgrammingBusinessProgrammingProgrammingArtsScienceBusinessBusinessBusinessHealthBusinessScienceProgrammingHealthArtsArtsBusinessProgrammingScienceScienceHealthProgrammingHealthProgrammingHealthArtsProgrammingProgrammingScienceScienceHealthHealthHealthScienceArtsBusinessBusinessScienceHealthProgrammingArtsArtsProgrammingArtsHealthProgrammingProgrammingBusinessHealthBusinessHealthArtsBusinessArtsHealthProgrammingBusinessHealthBusinessBusinessBusinessArtsArtsScienceScienceScienceHealthScienceScienceProgrammingArtsProgrammingBusinessProgrammingArtsHealthArtsScienceHealthHealthBusinessScienceArtsBusinessHealthArtsHealthArtsBusinessBusinessArtsArtsArtsScienceScienceScienceScienceScienceBusinessHealthBusinessHealthBusinessHealthScienceScienceHealthArtsHealthProgrammingBusinessBusinessBusinessArtsScienceHealthProgrammingBusinessScienceHealthArtsArtsArtsProgrammingProgrammingProgrammingHealthProgrammingProgrammingBusinessArtsHealthScienceHealthProgrammingScienceProgrammingBusinessBusinessProgrammingArtsArtsArtsHealthProgrammingHealthBusinessBusinessScienceBusinessArtsArtsProgrammingHealthHealthBusinessScienceScienceScienceScienceHealthScienceBusinessHealthScienceProgrammingArtsArtsProgrammingBusinessProgrammingBusinessBusinessProgrammingHealthScienceHealthBusinessArtsScienceArtsBusinessProgrammingProgrammingArtsProgrammingArtsArtsProgrammingBusinessScienceScienceScienceProgrammingBusinessScienceScienceArtsArtsArtsScienceHealthScienceArtsArtsHealthBusinessProgrammingArtsBusinessHealthHealthArtsProgrammingScienceHealthScienceHealthArtsProgrammingBusinessProgrammingScienceProgrammingBusinessProgrammingHealthProgrammingScienceScienceHealthProgrammingArtsScienceBusinessArtsArtsScienceHealthProgrammingBusinessHealthBusinessProgrammingHealthBusinessArtsScienceArtsBusinessHealthHealthArtsBusinessProgrammingProgrammingScienceProgrammingArtsScienceProgrammingScienceArtsArtsScienceBusinessHealthScienceArtsHealthScienceBusinessArtsScienceArtsArtsBusinessScienceScienceBusinessProgrammingScienceHealthHealthHealthBusinessArtsHealthBusinessHealthScienceHealthScienceProgrammingScienceScienceArtsHealthArtsArtsScienceProgrammingBusinessProgrammingHealthHealthHealthProgrammingScienceBusinessScienceProgrammingHealthScienceArtsScienceArtsArtsArtsProgrammingBusinessHealthScienceScienceProgrammingScienceArtsArtsProgrammingHealthScienceBusinessProgrammingArtsBusinessHealthHealthHealthProgrammingProgrammingBusinessBusinessHealthBusinessArtsArtsScienceArtsScienceProgrammingHealthProgrammingArtsHealthProgrammingScienceProgrammingBusinessProgrammingScienceArtsArtsHealthScienceScienceHealthArtsProgrammingBusinessHealthProgrammingHealthProgrammingArtsProgrammingBusinessBusinessArtsProgrammingHealthProgrammingHealthArtsArtsArtsProgrammingArtsProgrammingArtsArtsScienceScienceProgrammingScienceProgrammingBusinessArtsBusinessProgrammingHealthBusinessHealthProgrammingScienceProgrammingBusinessProgrammingProgrammingHealthArtsScienceBusinessHealthBusinessHealthProgrammingProgrammingScienceArtsBusinessScienceProgrammingHealthBusinessBusinessHealthBusinessScienceArtsHealthBusinessHealthScienceArtsProgrammingProgrammingHealthScienceScienceHealthScienceBusinessScienceHealthHealthHealthHealthArtsBusinessBusinessProgrammingBusinessBusinessHealthScienceProgrammingScienceHealthArtsProgrammingHealthArtsProgrammingProgrammingBusinessProgrammingHealthProgrammingProgrammingScienceProgrammingArtsProgrammingArtsProgrammingProgrammingBusinessProgrammingArtsHealthScienceHealthScienceArtsBusinessHealthHealthProgrammingHealthHealthScienceProgrammingScienceBusinessBusinessArtsArtsProgrammingScienceHealthHealthArtsProgrammingBusinessArtsProgrammingBusinessScienceHealthScienceProgrammingScienceArtsBusinessBusinessProgrammingBusinessHealthScienceProgrammingProgrammingHealthScienceProgrammingArtsScienceProgrammingScienceProgrammingProgrammingScienceProgrammingBusinessBusinessBusinessArtsProgrammingProgrammingScienceArtsScienceHealthBusinessArtsScienceBusinessProgrammingProgrammingScienceBusinessHealthProgrammingProgrammingBusinessHealthBusinessArtsArtsArtsScienceProgrammingHealthArtsProgrammingArtsArtsBusinessProgrammingBusinessProgrammingProgrammingArtsArtsHealthArtsArtsBusinessArtsArtsHealthBusinessScienceHealthBusinessBusinessBusinessArtsBusinessScienceScienceArtsProgrammingProgrammingProgrammingHealthHealthScienceScienceBusinessArtsProgrammingArtsHealthProgrammingHealthHealthBusinessScienceProgrammingProgrammingBusinessScienceBusinessScienceArtsScienceScienceHealthProgrammingArtsBusinessScienceScienceHealthHealthScienceProgrammingHealthScienceHealthBusinessBusinessBusinessArtsProgrammingBusinessHealthScienceProgrammingBusinessProgrammingScienceArtsHealthBusinessScienceHealthHealthProgrammingArtsArtsProgrammingHealthHealthScienceArtsScienceHealthScienceHealthScienceScienceHealthBusinessProgrammingArtsProgrammingHealthScienceBusinessArtsProgrammingArtsHealthScienceHealthProgrammingHealthScienceHealthScienceHealthArtsHealthProgrammingArtsProgrammingScienceScienceProgrammingBusinessHealthArtsProgrammingScienceProgrammingProgrammingProgrammingProgrammingScienceProgrammingProgrammingHealthProgrammingScienceScienceProgrammingArtsArtsBusinessArtsArtsBusinessHealthBusinessBusinessHealthScienceBusinessBusinessProgrammingScienceScienceBusinessScienceScienceProgrammingArtsProgrammingScienceProgrammingProgrammingBusinessHealthScienceBusinessHealthScienceProgrammingProgrammingBusinessArtsBusinessBusinessProgrammingHealthArtsProgrammingBusinessArtsArtsBusinessScienceProgrammingScienceHealthArtsProgrammingProgrammingArtsScienceScienceProgrammingBusinessProgrammingHealthProgrammingHealthArtsBusinessArtsScienceProgrammingProgrammingHealthArtsProgrammingBusinessProgrammingBusinessArtsScienceArtsProgrammingBusinessScienceHealthScienceBusinessProgrammingHealthScienceProgrammingProgrammingBusinessArtsArtsProgrammingHealthBusinessScienceBusinessArtsArtsScienceArtsArtsProgrammingScienceArtsScienceArtsHealthScienceBusinessProgrammingBusinessScienceArtsHealthProgrammingHealthScienceBusinessBusinessBusinessScienceHealthScienceHealthScienceBusinessScienceHealthScienceScienceBusinessArtsHealthArtsArtsBusinessScienceScienceArtsHealthScienceHealthHealthScienceArtsBusinessScienceBusinessBusinessProgrammingArtsArtsArtsArtsHealthBusinessHealthHealthBusinessProgrammingHealthProgrammingScienceProgrammingProgrammingScienceBusinessArtsHealthProgrammingArtsHealthBusinessScienceProgrammingHealthProgrammingProgrammingBusinessBusinessProgrammingProgrammingScienceBusinessBusinessArtsHealthBusinessScienceHealthScienceBusinessScienceHealthArtsArtsHealthHealthHealthArtsProgrammingProgrammingHealthProgrammingScienceBusinessArtsBusinessScienceHealthBusinessArtsBusinessHealthScienceHealthScienceArtsScienceArtsProgrammingBusinessScienceArtsHealthScienceBusinessArtsProgrammingScienceBusinessProgrammingScienceHealthScienceProgrammingProgrammingScienceProgrammingArtsHealthScienceArtsHealthHealthScienceBusinessArtsBusinessScienceScienceHealthScienceScienceScienceHealthHealthHealthBusinessBusinessArtsArtsArtsHealthHealthBusinessBusinessProgrammingArtsProgrammingBusinessBusinessArtsProgrammingScienceArtsHealthProgrammingProgrammingScienceBusinessProgrammingProgrammingArtsHealthArtsProgrammingHealthHealthBusinessScienceScienceHealthArtsProgrammingArtsArtsScienceProgrammingBusinessProgrammingProgrammingArtsBusinessArtsProgrammingScienceProgrammingHealthHealthScienceHealthArtsHealthArtsArtsArtsScienceScienceBusinessBusinessArtsBusinessBusinessBusinessBusinessBusinessScienceBusinessScienceProgrammingBusinessArtsHealthArtsHealthArtsBusinessHealthBusinessProgrammingArtsScienceHealthHealthHealthBusinessHealthScienceProgrammingArtsArtsProgrammingBusinessHealthArtsBusinessHealthHealthScienceBusinessProgrammingBusinessHealthHealthHealthBusinessHealthScienceArtsArtsScienceProgrammingHealthHealthProgrammingHealthArtsProgrammingBusinessArtsProgrammingProgrammingArtsProgrammingBusinessHealthArtsHealthArtsArtsScienceProgrammingProgrammingArtsHealthHealthBusinessArtsArtsBusinessProgrammingProgrammingHealthArtsBusinessBusinessHealthBusinessBusinessProgrammingArtsBusinessArtsArtsArtsScienceArtsArtsProgrammingProgrammingBusinessHealthHealthScienceHealthArtsHealthScienceScienceProgrammingScienceHealthArtsScienceScienceBusinessScienceScienceScienceHealthProgrammingBusinessProgrammingProgrammingHealthProgrammingBusinessBusinessBusinessScienceScienceArtsHealthHealthBusinessBusinessArtsHealthBusinessBusinessHealthBusinessProgrammingBusinessScienceArtsBusinessArtsBusinessScienceHealthArtsBusinessArtsProgrammingHealthHealthBusinessScienceHealthProgrammingProgrammingHealthHealthProgrammingProgrammingScienceScienceBusinessScienceHealthHealthArtsScienceArtsHealthProgrammingHealthProgrammingProgrammingProgrammingScienceBusinessBusinessHealthBusinessScienceArtsProgrammingProgrammingArtsHealthProgrammingBusinessScienceBusinessHealthScienceBusinessProgrammingProgrammingProgrammingBusinessBusinessProgrammingArtsBusinessArtsArtsArtsBusinessArtsScienceBusinessProgrammingScienceHealthScienceArtsScienceProgrammingBusinessProgrammingProgrammingHealthScienceArtsBusinessProgrammingBusinessArtsHealthScienceArtsHealthScienceScienceBusinessArtsBusinessBusinessProgrammingProgrammingProgrammingScienceProgrammingProgrammingHealthProgrammingBusinessProgrammingBusinessBusinessScienceBusinessHealthHealthArtsArtsBusinessHealthProgrammingBusinessHealthArtsArtsScienceArtsBusinessHealthProgrammingProgrammingBusinessScienceHealthArtsBusinessHealthArtsScienceArtsArtsArtsScienceHealthProgrammingScienceProgrammingProgrammingProgrammingScienceHealthProgrammingProgrammingScienceBusinessBusinessBusinessBusinessHealthScienceHealthHealthBusinessArtsHealthScienceArtsHealthBusinessHealthProgrammingScienceBusinessHealthProgrammingScienceHealthBusinessBusinessScienceHealthArtsScienceArtsScienceArtsScienceProgrammingProgrammingScienceArtsBusinessScienceProgrammingProgrammingBusinessHealthArtsHealthBusinessScienceHealthBusinessScienceHealthProgrammingProgrammingBusinessScienceProgrammingBusinessBusinessProgrammingProgrammingBusinessHealthProgrammingScienceScienceHealthScienceHealthArtsArtsProgrammingBusinessHealthScienceBusinessScienceBusinessProgrammingScienceScienceScienceArtsArtsArtsScienceHealthHealthHealthHealthBusinessArtsArtsHealthArtsProgrammingHealthProgrammingBusinessProgrammingScienceProgrammingHealthScienceProgrammingBusinessBusinessBusinessProgrammingBusinessHealthHealthProgrammingHealthBusinessHealthProgrammingBusinessBusinessHealthBusinessScienceHealthBusinessArtsHealthHealthProgrammingArtsBusinessArtsBusinessHealthHealthHealthScienceBusinessHealthProgrammingArtsHealthBusinessBusinessScienceArtsArtsArtsBusinessBusinessScienceProgrammingScienceHealthProgrammingProgrammingScienceHealthScienceProgrammingProgrammingScienceScienceScienceProgrammingScienceHealthBusinessHealthHealthScienceHealthArtsHealthScienceHealthScienceArtsBusinessProgrammingHealthHealthBusinessBusinessBusinessArtsBusinessBusinessHealthProgrammingHealthProgrammingBusinessBusinessHealthBusinessBusinessArtsScienceProgrammingBusinessBusinessProgrammingScienceProgrammingBusinessHealthProgrammingBusinessBusinessProgrammingBusinessScienceBusinessProgrammingScienceArtsScienceArtsScienceArtsArtsScienceProgrammingBusinessScienceHealthScienceBusinessScienceHealthArtsScienceArtsHealthProgrammingHealthHealthBusinessProgrammingArtsBusinessProgrammingScienceScienceScienceHealthArtsBusinessArtsScienceProgrammingHealthProgrammingScienceBusinessBusinessScienceHealthScienceProgrammingBusinessArtsScienceHealthScienceProgrammingBusinessProgrammingBusinessArtsProgrammingScienceProgrammingBusinessProgrammingArtsBusinessBusinessBusinessProgrammingBusinessScienceScienceScienceProgrammingScienceProgrammingScienceBusinessScienceBusinessScienceProgrammingProgrammingHealthHealthHealthBusinessBusinessScienceProgrammingHealthScienceHealthScienceHealthProgrammingArtsArtsArtsScienceProgrammingBusinessProgrammingArtsArtsBusinessProgrammingBusinessArtsProgrammingScienceProgrammingScienceBusinessScienceHealthScienceScienceHealthArtsBusinessProgrammingProgrammingProgrammingProgrammingProgrammingArtsHealthHealthHealthHealthArtsHealthProgrammingHealthScienceArtsScienceProgrammingScienceProgrammingScienceScienceHealthHealthArtsScienceArtsArtsHealthScienceProgrammingArtsArtsProgrammingArtsScienceArtsBusinessArtsBusinessScienceProgrammingBusinessArtsProgrammingHealthHealthHealthArtsProgrammingBusinessHealthBusinessProgrammingProgrammingProgrammingScienceScienceProgrammingProgrammingScienceProgrammingArtsScienceArtsHealthBusinessScienceBusinessScienceScienceScienceProgrammingScienceScienceBusinessProgrammingBusinessScienceProgrammingBusinessHealthArtsBusinessProgrammingProgrammingScienceBusinessProgrammingHealthArtsBusinessArtsBusinessProgrammingScienceScienceHealthProgrammingBusinessProgrammingArtsArtsProgrammingBusinessProgrammingHealthProgrammingArtsHealthBusinessProgrammingScienceBusinessScienceHealthBusinessProgrammingProgrammingBusinessArtsHealthBusinessArtsArtsHealthArtsBusinessScienceBusinessArtsProgrammingBusinessScienceHealthProgrammingScienceScienceScienceArtsScienceBusinessHealthBusinessHealthArtsProgrammingBusinessArtsScienceProgrammingBusinessScienceScienceProgrammingBusinessBusinessScienceArtsBusinessBusinessProgrammingHealthHealthScienceProgrammingScienceHealthBusinessHealthScienceHealthArtsHealthBusinessHealthScienceBusinessHealthBusinessBusinessHealthScienceArtsProgrammingArtsBusinessHealthArtsArtsScienceScienceArtsArtsScienceBusinessHealthArtsBusinessHealthHealthBusinessProgrammingScienceBusinessScienceScienceArtsProgrammingProgrammingHealthArtsHealthArtsScienceBusinessProgrammingArtsHealthScienceBusinessProgrammingBusinessScienceScienceBusinessArtsHealthArtsHealthProgrammingProgrammingArtsProgrammingArtsScienceArtsProgrammingBusinessScienceHealthHealthHealthHealthProgrammingHealthBusinessHealthScienceArtsHealthHealthHealthScienceScienceHealthBusinessHealthBusinessScienceProgrammingHealthBusinessProgrammingScienceArtsScienceArtsProgrammingScienceProgrammingHealthArtsProgrammingBusinessScienceArtsBusinessBusinessBusinessBusinessBusinessArtsBusinessScienceProgrammingArtsScienceBusinessProgrammingBusinessHealthProgrammingBusinessHealthHealthProgrammingScienceProgrammingProgrammingProgrammingScienceScienceScienceHealthHealthArtsScienceBusinessArtsScienceScienceBusinessHealthProgrammingArtsScienceArtsBusinessHealthBusinessHealthScienceBusinessProgrammingBusinessHealthScienceHealthHealthHealth'] to numeric"
     ]
    }
   ],
   "source": []
  },
  {
   "cell_type": "code",
   "execution_count": null,
   "id": "b5aea9ce-ddfd-4382-b438-de63279a5489",
   "metadata": {},
   "outputs": [],
   "source": []
  },
  {
   "cell_type": "code",
   "execution_count": 12,
   "id": "eace0ce9-7a2f-496f-9df5-bb6c0f222bb7",
   "metadata": {},
   "outputs": [],
   "source": [
    "features = engagement_data.drop(columns=['UserID', 'CourseCompletion'])\n",
    "target = engagement_data['CourseCompletion']"
   ]
  },
  {
   "cell_type": "code",
   "execution_count": 13,
   "id": "22a12e0a-e0b4-405f-b106-696a8c236cdd",
   "metadata": {},
   "outputs": [
    {
     "data": {
      "text/html": [
       "<div>\n",
       "<style scoped>\n",
       "    .dataframe tbody tr th:only-of-type {\n",
       "        vertical-align: middle;\n",
       "    }\n",
       "\n",
       "    .dataframe tbody tr th {\n",
       "        vertical-align: top;\n",
       "    }\n",
       "\n",
       "    .dataframe thead th {\n",
       "        text-align: right;\n",
       "    }\n",
       "</style>\n",
       "<table border=\"1\" class=\"dataframe\">\n",
       "  <thead>\n",
       "    <tr style=\"text-align: right;\">\n",
       "      <th></th>\n",
       "      <th>CourseCategory</th>\n",
       "      <th>TimeSpentOnCourse</th>\n",
       "      <th>NumberOfVideosWatched</th>\n",
       "      <th>NumberOfQuizzesTaken</th>\n",
       "      <th>QuizScores</th>\n",
       "      <th>CompletionRate</th>\n",
       "      <th>DeviceType</th>\n",
       "    </tr>\n",
       "  </thead>\n",
       "  <tbody>\n",
       "    <tr>\n",
       "      <th>0</th>\n",
       "      <td>Health</td>\n",
       "      <td>29.979719</td>\n",
       "      <td>17</td>\n",
       "      <td>3</td>\n",
       "      <td>50.365656</td>\n",
       "      <td>20.860773</td>\n",
       "      <td>1</td>\n",
       "    </tr>\n",
       "    <tr>\n",
       "      <th>1</th>\n",
       "      <td>Arts</td>\n",
       "      <td>27.802640</td>\n",
       "      <td>1</td>\n",
       "      <td>5</td>\n",
       "      <td>62.615970</td>\n",
       "      <td>65.632415</td>\n",
       "      <td>1</td>\n",
       "    </tr>\n",
       "    <tr>\n",
       "      <th>2</th>\n",
       "      <td>Arts</td>\n",
       "      <td>86.820485</td>\n",
       "      <td>14</td>\n",
       "      <td>2</td>\n",
       "      <td>78.458962</td>\n",
       "      <td>63.812007</td>\n",
       "      <td>1</td>\n",
       "    </tr>\n",
       "    <tr>\n",
       "      <th>3</th>\n",
       "      <td>Science</td>\n",
       "      <td>35.038427</td>\n",
       "      <td>17</td>\n",
       "      <td>10</td>\n",
       "      <td>59.198853</td>\n",
       "      <td>95.433162</td>\n",
       "      <td>0</td>\n",
       "    </tr>\n",
       "    <tr>\n",
       "      <th>4</th>\n",
       "      <td>Programming</td>\n",
       "      <td>92.490647</td>\n",
       "      <td>16</td>\n",
       "      <td>0</td>\n",
       "      <td>98.428285</td>\n",
       "      <td>18.102478</td>\n",
       "      <td>0</td>\n",
       "    </tr>\n",
       "    <tr>\n",
       "      <th>...</th>\n",
       "      <td>...</td>\n",
       "      <td>...</td>\n",
       "      <td>...</td>\n",
       "      <td>...</td>\n",
       "      <td>...</td>\n",
       "      <td>...</td>\n",
       "      <td>...</td>\n",
       "    </tr>\n",
       "    <tr>\n",
       "      <th>8995</th>\n",
       "      <td>Health</td>\n",
       "      <td>37.445225</td>\n",
       "      <td>14</td>\n",
       "      <td>4</td>\n",
       "      <td>54.469359</td>\n",
       "      <td>32.990704</td>\n",
       "      <td>1</td>\n",
       "    </tr>\n",
       "    <tr>\n",
       "      <th>8996</th>\n",
       "      <td>Science</td>\n",
       "      <td>48.631443</td>\n",
       "      <td>7</td>\n",
       "      <td>7</td>\n",
       "      <td>59.413257</td>\n",
       "      <td>0.254625</td>\n",
       "      <td>0</td>\n",
       "    </tr>\n",
       "    <tr>\n",
       "      <th>8997</th>\n",
       "      <td>Health</td>\n",
       "      <td>38.212512</td>\n",
       "      <td>3</td>\n",
       "      <td>3</td>\n",
       "      <td>69.508297</td>\n",
       "      <td>70.188159</td>\n",
       "      <td>1</td>\n",
       "    </tr>\n",
       "    <tr>\n",
       "      <th>8998</th>\n",
       "      <td>Health</td>\n",
       "      <td>70.048665</td>\n",
       "      <td>13</td>\n",
       "      <td>10</td>\n",
       "      <td>79.655182</td>\n",
       "      <td>72.975225</td>\n",
       "      <td>1</td>\n",
       "    </tr>\n",
       "    <tr>\n",
       "      <th>8999</th>\n",
       "      <td>Health</td>\n",
       "      <td>93.589781</td>\n",
       "      <td>7</td>\n",
       "      <td>5</td>\n",
       "      <td>56.274546</td>\n",
       "      <td>11.299071</td>\n",
       "      <td>0</td>\n",
       "    </tr>\n",
       "  </tbody>\n",
       "</table>\n",
       "<p>9000 rows × 7 columns</p>\n",
       "</div>"
      ],
      "text/plain": [
       "     CourseCategory  TimeSpentOnCourse  NumberOfVideosWatched  \\\n",
       "0            Health          29.979719                     17   \n",
       "1              Arts          27.802640                      1   \n",
       "2              Arts          86.820485                     14   \n",
       "3           Science          35.038427                     17   \n",
       "4       Programming          92.490647                     16   \n",
       "...             ...                ...                    ...   \n",
       "8995         Health          37.445225                     14   \n",
       "8996        Science          48.631443                      7   \n",
       "8997         Health          38.212512                      3   \n",
       "8998         Health          70.048665                     13   \n",
       "8999         Health          93.589781                      7   \n",
       "\n",
       "      NumberOfQuizzesTaken  QuizScores  CompletionRate  DeviceType  \n",
       "0                        3   50.365656       20.860773           1  \n",
       "1                        5   62.615970       65.632415           1  \n",
       "2                        2   78.458962       63.812007           1  \n",
       "3                       10   59.198853       95.433162           0  \n",
       "4                        0   98.428285       18.102478           0  \n",
       "...                    ...         ...             ...         ...  \n",
       "8995                     4   54.469359       32.990704           1  \n",
       "8996                     7   59.413257        0.254625           0  \n",
       "8997                     3   69.508297       70.188159           1  \n",
       "8998                    10   79.655182       72.975225           1  \n",
       "8999                     5   56.274546       11.299071           0  \n",
       "\n",
       "[9000 rows x 7 columns]"
      ]
     },
     "execution_count": 13,
     "metadata": {},
     "output_type": "execute_result"
    }
   ],
   "source": [
    "features"
   ]
  },
  {
   "cell_type": "code",
   "execution_count": 20,
   "id": "688ea287-21bf-4213-ac5f-6e30f12f9add",
   "metadata": {},
   "outputs": [
    {
     "data": {
      "text/plain": [
       "Index(['UserID', 'CourseCategory', 'TimeSpentOnCourse',\n",
       "       'NumberOfVideosWatched', 'NumberOfQuizzesTaken', 'QuizScores',\n",
       "       'CompletionRate', 'DeviceType', 'CourseCompletion'],\n",
       "      dtype='object')"
      ]
     },
     "execution_count": 20,
     "metadata": {},
     "output_type": "execute_result"
    }
   ],
   "source": [
    "engagement_data.columns"
   ]
  },
  {
   "cell_type": "code",
   "execution_count": 25,
   "id": "6c857cdd-89af-4cc3-aace-567f3bf5766a",
   "metadata": {},
   "outputs": [],
   "source": [
    "features = pd.get_dummies(features, columns=['QuizScores', 'CompletionRate'])\n",
    "label_encoder = LabelEncoder()\n",
    "target_encoded = label_encoder.fit_transform(target)"
   ]
  },
  {
   "cell_type": "markdown",
   "id": "b6c22a51-5386-4284-96d3-238489b6b3be",
   "metadata": {},
   "source": [
    "### Standardize the numerical features"
   ]
  },
  {
   "cell_type": "code",
   "execution_count": 27,
   "id": "5deb178e-d432-46ff-b612-5b5fb6438d32",
   "metadata": {},
   "outputs": [],
   "source": [
    "scaler = StandardScaler()\n",
    "features_scaled = scaler.fit_transform(features)"
   ]
  },
  {
   "cell_type": "markdown",
   "id": "6e698e1d-f1a2-4fe1-8741-44824899b401",
   "metadata": {},
   "source": [
    "### Split the data into training and testing sets"
   ]
  },
  {
   "cell_type": "code",
   "execution_count": 28,
   "id": "dda8cde7-be33-4864-8a8c-adfc6e297036",
   "metadata": {},
   "outputs": [],
   "source": [
    "X_train, X_test, y_train, y_test = train_test_split(features_scaled, target_encoded, test_size=0.20, random_state=42)"
   ]
  },
  {
   "cell_type": "markdown",
   "id": "a8185a2a-9a82-4a94-83e1-21980ff6bf53",
   "metadata": {},
   "source": [
    "### Cross Valication"
   ]
  },
  {
   "cell_type": "code",
   "execution_count": 29,
   "id": "cde5e289-7c57-4d5a-adf7-bcd8c4c57082",
   "metadata": {},
   "outputs": [],
   "source": [
    "model = LogisticRegression()"
   ]
  },
  {
   "cell_type": "code",
   "execution_count": 34,
   "id": "7cd117cc-5522-46ad-988a-94505510e02b",
   "metadata": {},
   "outputs": [
    {
     "data": {
      "text/plain": [
       "array([0.60555556, 0.60625   , 0.60625   , 0.60625   , 0.60694444])"
      ]
     },
     "execution_count": 34,
     "metadata": {},
     "output_type": "execute_result"
    }
   ],
   "source": [
    "cv_scores = cross_val_score(model, X_train, y_train, cv=5)\n",
    "cv_scores"
   ]
  },
  {
   "cell_type": "code",
   "execution_count": 36,
   "id": "77d78dfd-2d5a-430d-8868-5cfb97f9c338",
   "metadata": {},
   "outputs": [
    {
     "data": {
      "text/plain": [
       "0.60625"
      ]
     },
     "execution_count": 36,
     "metadata": {},
     "output_type": "execute_result"
    }
   ],
   "source": [
    "cv_scores.mean()"
   ]
  },
  {
   "cell_type": "markdown",
   "id": "4c72c174-06d2-483a-881b-dd285b882b56",
   "metadata": {},
   "source": [
    "### Overfitting and Underfitting"
   ]
  },
  {
   "cell_type": "code",
   "execution_count": 37,
   "id": "8e05413d-139f-4cf0-9e7e-fa02a9cea19d",
   "metadata": {},
   "outputs": [],
   "source": [
    "train_accuracies = []\n",
    "test_accuracies = []"
   ]
  },
  {
   "cell_type": "markdown",
   "id": "da220eab-0408-4e85-bda9-09265b7ac81c",
   "metadata": {},
   "source": [
    "### Varying the maximum depth of the tree"
   ]
  },
  {
   "cell_type": "code",
   "execution_count": null,
   "id": "1663f183-dcd4-465d-b5db-43069386c4fd",
   "metadata": {},
   "outputs": [],
   "source": [
    "max_depth_range = range(1, 20)\n",
    "for max_depth in max_depth_range:\n",
    "    tree = DecisionTreeClassifier(max_depth=max_depth, random_state=42)\n",
    "    tree.fit(X_train, y_train)\n",
    "    \n",
    "    train_accuracies.append(tree.score(X_train, y_train))\n",
    "    test_accuracies.append(tree.score(X_test, y_test))"
   ]
  },
  {
   "cell_type": "markdown",
   "id": "fcccf63c-e2ee-49da-9056-0a64bbb45d98",
   "metadata": {},
   "source": [
    "### Plotting the training and validation accuracies"
   ]
  },
  {
   "cell_type": "code",
   "execution_count": null,
   "id": "2dc45654-3fba-48c0-b552-f6d1c9d1f442",
   "metadata": {},
   "outputs": [],
   "source": [
    "plt.figure(figsize=(10, 6))\n",
    "plt.plot(max_depth_range, train_accuracies, label='Training Accuracy')\n",
    "plt.plot(max_depth_range, test_accuracies, label='Validation Accuracy')\n",
    "plt.xlabel('Max Depth')\n",
    "plt.ylabel('Accuracy')\n",
    "plt.legend()\n",
    "plt.title('Training and Validation Accuracy vs. Max Depth')\n",
    "plt.show()"
   ]
  },
  {
   "cell_type": "code",
   "execution_count": null,
   "id": "4290ca5b-4b62-45b1-90bf-6223c84c1e8d",
   "metadata": {},
   "outputs": [],
   "source": []
  }
 ],
 "metadata": {
  "kernelspec": {
   "display_name": "Python 3 (ipykernel)",
   "language": "python",
   "name": "python3"
  },
  "language_info": {
   "codemirror_mode": {
    "name": "ipython",
    "version": 3
   },
   "file_extension": ".py",
   "mimetype": "text/x-python",
   "name": "python",
   "nbconvert_exporter": "python",
   "pygments_lexer": "ipython3",
   "version": "3.11.7"
  }
 },
 "nbformat": 4,
 "nbformat_minor": 5
}
