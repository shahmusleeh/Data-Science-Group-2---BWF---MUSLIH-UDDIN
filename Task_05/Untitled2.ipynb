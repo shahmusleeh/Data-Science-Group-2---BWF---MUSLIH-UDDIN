{
 "cells": [
  {
   "cell_type": "code",
   "execution_count": 1,
   "id": "cc187c45-9ab7-4e1a-bed4-1aeb2caf2436",
   "metadata": {},
   "outputs": [
    {
     "name": "stdin",
     "output_type": "stream",
     "text": [
      "What is the grade percenage 91\n"
     ]
    },
    {
     "name": "stdout",
     "output_type": "stream",
     "text": [
      "You got A+\n"
     ]
    },
    {
     "name": "stdin",
     "output_type": "stream",
     "text": [
      "What is the grade percenage 85\n"
     ]
    },
    {
     "name": "stdout",
     "output_type": "stream",
     "text": [
      "You got A\n"
     ]
    },
    {
     "name": "stdin",
     "output_type": "stream",
     "text": [
      "What is the grade percenage 70\n"
     ]
    },
    {
     "name": "stdout",
     "output_type": "stream",
     "text": [
      "You got A-\n"
     ]
    },
    {
     "name": "stdin",
     "output_type": "stream",
     "text": [
      "What is the grade percenage 59\n"
     ]
    },
    {
     "name": "stdout",
     "output_type": "stream",
     "text": [
      "Sorry you need A- for eligibility\n"
     ]
    }
   ],
   "source": [
    "for i in range (0,100):\n",
    "    grade = float(input(\"What is the grade percenage\"))\n",
    "    if grade >= 90:\n",
    "        print(\"You got A+\")\n",
    "    elif 80 <= grade < 90:\n",
    "        print(\"You got A\")\n",
    "    elif 60 <= grade < 90:\n",
    "        print(\"You got A-\")\n",
    "    else:\n",
    "        print(\"Sorry you need A- for eligibility\")\n",
    "        break"
   ]
  },
  {
   "cell_type": "code",
   "execution_count": 3,
   "id": "8db9cc9c-3829-48c6-9222-7776c564738b",
   "metadata": {},
   "outputs": [
    {
     "name": "stdin",
     "output_type": "stream",
     "text": [
      "Enter the year:  2000\n"
     ]
    },
    {
     "name": "stdout",
     "output_type": "stream",
     "text": [
      "Entered year 2000 is a leap year\n"
     ]
    }
   ],
   "source": [
    "# A leap year is exactly divisible by 4 except for century year (year ending with 00).\n",
    "# The century year is a leap year only if it is perfectly divisible by 400.\n",
    "\n",
    "year = int(input(\"Enter the year: \"))\n",
    "\n",
    "if (year % 400 == 0) or (year % 100 != 0 and year % 4 == 0):\n",
    "    print(\"Entered year {} is a leap year\".format(year))\n",
    "else:\n",
    "    print(\"Entered year {} is NOT a leap year\".format(year))"
   ]
  },
  {
   "cell_type": "markdown",
   "id": "dd69a27f-3e7a-47be-89e3-c42314b8e1d6",
   "metadata": {},
   "source": [
    "Simple Contact Book"
   ]
  },
  {
   "cell_type": "code",
   "execution_count": 4,
   "id": "2709f823-2143-491f-b24d-8704eb9bdb2d",
   "metadata": {},
   "outputs": [
    {
     "name": "stdout",
     "output_type": "stream",
     "text": [
      "\n",
      "Contact Book Menu\n",
      "1. Add Contact\n",
      "2. Delete Contact\n",
      "3. Search Contact\n",
      "4. Display Contacts\n",
      "5. Exit\n"
     ]
    },
    {
     "name": "stdin",
     "output_type": "stream",
     "text": [
      "Enter your choice:  1\n",
      "Enter contact name:  Musleeh Shah\n",
      "Enter contact number:  03012345678\n"
     ]
    },
    {
     "name": "stdout",
     "output_type": "stream",
     "text": [
      "Contact Musleeh Shah added.\n",
      "\n",
      "Contact Book Menu\n",
      "1. Add Contact\n",
      "2. Delete Contact\n",
      "3. Search Contact\n",
      "4. Display Contacts\n",
      "5. Exit\n"
     ]
    },
    {
     "name": "stdin",
     "output_type": "stream",
     "text": [
      "Enter your choice:  1\n",
      "Enter contact name:  Bytewise\n",
      "Enter contact number:  123456\n"
     ]
    },
    {
     "name": "stdout",
     "output_type": "stream",
     "text": [
      "Contact Bytewise added.\n",
      "\n",
      "Contact Book Menu\n",
      "1. Add Contact\n",
      "2. Delete Contact\n",
      "3. Search Contact\n",
      "4. Display Contacts\n",
      "5. Exit\n"
     ]
    },
    {
     "name": "stdin",
     "output_type": "stream",
     "text": [
      "Enter your choice:  2\n",
      "Enter contact name to delete:  Musleeh Shah\n"
     ]
    },
    {
     "name": "stdout",
     "output_type": "stream",
     "text": [
      "Contact Musleeh Shah deleted.\n",
      "\n",
      "Contact Book Menu\n",
      "1. Add Contact\n",
      "2. Delete Contact\n",
      "3. Search Contact\n",
      "4. Display Contacts\n",
      "5. Exit\n"
     ]
    },
    {
     "name": "stdin",
     "output_type": "stream",
     "text": [
      "Enter your choice:  3\n",
      "Enter contact name to search:  Bytewise\n"
     ]
    },
    {
     "name": "stdout",
     "output_type": "stream",
     "text": [
      "Bytewise: 123456\n",
      "\n",
      "Contact Book Menu\n",
      "1. Add Contact\n",
      "2. Delete Contact\n",
      "3. Search Contact\n",
      "4. Display Contacts\n",
      "5. Exit\n"
     ]
    },
    {
     "name": "stdin",
     "output_type": "stream",
     "text": [
      "Enter your choice:  4\n"
     ]
    },
    {
     "name": "stdout",
     "output_type": "stream",
     "text": [
      "Contacts:\n",
      "Bytewise: 123456\n",
      "\n",
      "Contact Book Menu\n",
      "1. Add Contact\n",
      "2. Delete Contact\n",
      "3. Search Contact\n",
      "4. Display Contacts\n",
      "5. Exit\n"
     ]
    },
    {
     "name": "stdin",
     "output_type": "stream",
     "text": [
      "Enter your choice:  Bytewise\n"
     ]
    },
    {
     "name": "stdout",
     "output_type": "stream",
     "text": [
      "Invalid choice. Please try again.\n",
      "\n",
      "Contact Book Menu\n",
      "1. Add Contact\n",
      "2. Delete Contact\n",
      "3. Search Contact\n",
      "4. Display Contacts\n",
      "5. Exit\n"
     ]
    },
    {
     "name": "stdin",
     "output_type": "stream",
     "text": [
      "Enter your choice:  5\n"
     ]
    },
    {
     "name": "stdout",
     "output_type": "stream",
     "text": [
      "Exiting Contact Book. Goodbye!\n"
     ]
    }
   ],
   "source": [
    "# Simple Contact Book\n",
    "\n",
    "contacts = {}\n",
    "\n",
    "def add_contact(name, number):\n",
    "    contacts[name] = number\n",
    "    print(f\"Contact {name} added.\")\n",
    "\n",
    "def delete_contact(name):\n",
    "    if name in contacts:\n",
    "        del contacts[name]\n",
    "        print(f\"Contact {name} deleted.\")\n",
    "    else:\n",
    "        print(f\"Contact {name} not found.\")\n",
    "\n",
    "def search_contact(name):\n",
    "    if name in contacts:\n",
    "        print(f\"{name}: {contacts[name]}\")\n",
    "    else:\n",
    "        print(f\"Contact {name} not found.\")\n",
    "\n",
    "def display_contacts():\n",
    "    if contacts:\n",
    "        print(\"Contacts:\")\n",
    "        for name, number in contacts.items():\n",
    "            print(f\"{name}: {number}\")\n",
    "    else:\n",
    "        print(\"No contacts available.\")\n",
    "\n",
    "while True:\n",
    "    print(\"\\nContact Book Menu\")\n",
    "    print(\"1. Add Contact\")\n",
    "    print(\"2. Delete Contact\")\n",
    "    print(\"3. Search Contact\")\n",
    "    print(\"4. Display Contacts\")\n",
    "    print(\"5. Exit\")\n",
    "\n",
    "    choice = input(\"Enter your choice: \")\n",
    "\n",
    "    if choice == \"1\":\n",
    "        name = input(\"Enter contact name: \")\n",
    "        number = input(\"Enter contact number: \")\n",
    "        add_contact(name, number)\n",
    "    elif choice == \"2\":\n",
    "        name = input(\"Enter contact name to delete: \")\n",
    "        delete_contact(name)\n",
    "    elif choice == \"3\":\n",
    "        name = input(\"Enter contact name to search: \")\n",
    "        search_contact(name)\n",
    "    elif choice == \"4\":\n",
    "        display_contacts()\n",
    "    elif choice == \"5\":\n",
    "        print(\"Exiting Contact Book. Goodbye!\")\n",
    "        break\n",
    "    else:\n",
    "        print(\"Invalid choice. Please try again.\")"
   ]
  },
  {
   "cell_type": "code",
   "execution_count": 5,
   "id": "44148206-e1fe-4dd4-8a71-83959ab1cf6c",
   "metadata": {},
   "outputs": [
    {
     "name": "stdin",
     "output_type": "stream",
     "text": [
      "Enter number of rows:  6\n"
     ]
    },
    {
     "name": "stdout",
     "output_type": "stream",
     "text": [
      "     * \n",
      "     * * \n",
      "     * * * \n",
      "     * * * * \n",
      "     * * * * * \n",
      "     * * * * * * \n"
     ]
    }
   ],
   "source": [
    "# Triangle Star Pattern\n",
    "\n",
    "rows = int(input(\"Enter number of rows: \"))\n",
    "\n",
    "for i in range(0, rows):\n",
    "    for j in range(0, rows - 1):\n",
    "        print(\" \", end=\"\")\n",
    "    for j in range(0, i + 1):\n",
    "        print(\"* \", end=\"\")\n",
    "    print()\n"
   ]
  },
  {
   "cell_type": "code",
   "execution_count": 6,
   "id": "0d393d4d-0e26-4a8d-a3e0-b55452f2993b",
   "metadata": {},
   "outputs": [
    {
     "name": "stdin",
     "output_type": "stream",
     "text": [
      "Enter number of rows:  6\n"
     ]
    },
    {
     "name": "stdout",
     "output_type": "stream",
     "text": [
      "     * \n",
      "    * * \n",
      "   * * * \n",
      "  * * * * \n",
      " * * * * * \n",
      "* * * * * * \n"
     ]
    }
   ],
   "source": [
    "# Pyramid Star Pattern\n",
    "\n",
    "rows = int(input(\"Enter number of rows: \"))\n",
    "\n",
    "for i in range(0, rows):\n",
    "    for j in range(0, rows - i - 1):\n",
    "        print(\" \", end=\"\")\n",
    "    for j in range(0, i + 1):\n",
    "        print(\"* \", end=\"\")\n",
    "    print()"
   ]
  },
  {
   "cell_type": "code",
   "execution_count": 9,
   "id": "76098a29-334e-4287-b57f-440598d66e0c",
   "metadata": {},
   "outputs": [
    {
     "name": "stdin",
     "output_type": "stream",
     "text": [
      "Enter number of rows:  6\n"
     ]
    },
    {
     "name": "stdout",
     "output_type": "stream",
     "text": [
      "     * \n",
      "    * * \n",
      "   * * * \n",
      "  * * * * \n",
      " * * * * * \n",
      "* * * * * * \n",
      " * * * * * \n",
      "  * * * * \n",
      "   * * * \n",
      "    * * \n",
      "     * \n"
     ]
    }
   ],
   "source": [
    "# Diamond Shape Star Pattern\n",
    "\n",
    "rows = int(input(\"Enter number of rows: \"))\n",
    "\n",
    "for i in range(0, rows):\n",
    "    for j in range(0, rows - i - 1):\n",
    "        print(\" \", end=\"\")\n",
    "    for j in range(0, i + 1):\n",
    "        print(\"* \", end=\"\")\n",
    "    print()\n",
    "\n",
    "for i in range(0, rows - 1):\n",
    "    for j in range(0, i + 1):\n",
    "        print(\" \", end=\"\")\n",
    "    for j in range(0, rows - i - 1):\n",
    "        print(\"* \", end=\"\")\n",
    "    print()"
   ]
  },
  {
   "cell_type": "code",
   "execution_count": null,
   "id": "bd0067cc-8d35-45fd-94b3-67b666c89304",
   "metadata": {},
   "outputs": [],
   "source": []
  }
 ],
 "metadata": {
  "kernelspec": {
   "display_name": "Python 3 (ipykernel)",
   "language": "python",
   "name": "python3"
  },
  "language_info": {
   "codemirror_mode": {
    "name": "ipython",
    "version": 3
   },
   "file_extension": ".py",
   "mimetype": "text/x-python",
   "name": "python",
   "nbconvert_exporter": "python",
   "pygments_lexer": "ipython3",
   "version": "3.11.7"
  }
 },
 "nbformat": 4,
 "nbformat_minor": 5
}
