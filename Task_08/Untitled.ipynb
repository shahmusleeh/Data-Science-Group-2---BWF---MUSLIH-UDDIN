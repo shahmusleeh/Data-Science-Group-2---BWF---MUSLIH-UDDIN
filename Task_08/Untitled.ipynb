{
 "cells": [
  {
   "cell_type": "markdown",
   "id": "fa8d1bdc",
   "metadata": {},
   "source": [
    "# Variables and Operators"
   ]
  },
  {
   "cell_type": "code",
   "execution_count": 1,
   "id": "7b83ee1d",
   "metadata": {},
   "outputs": [
    {
     "name": "stdout",
     "output_type": "stream",
     "text": [
      "1\n"
     ]
    }
   ],
   "source": [
    "x = 1\n",
    "print(x)"
   ]
  },
  {
   "cell_type": "code",
   "execution_count": 2,
   "id": "eb5aa5aa",
   "metadata": {},
   "outputs": [
    {
     "name": "stdout",
     "output_type": "stream",
     "text": [
      "apple\n"
     ]
    }
   ],
   "source": [
    "y = \"apple\"\n",
    "print(y)"
   ]
  },
  {
   "cell_type": "code",
   "execution_count": 3,
   "id": "4ada2ce6",
   "metadata": {},
   "outputs": [
    {
     "name": "stdout",
     "output_type": "stream",
     "text": [
      "mango\n"
     ]
    }
   ],
   "source": [
    "fruit = \"mango\"\n",
    "print(fruit)"
   ]
  },
  {
   "cell_type": "code",
   "execution_count": 4,
   "id": "17597ac1",
   "metadata": {},
   "outputs": [
    {
     "name": "stdout",
     "output_type": "stream",
     "text": [
      "Shah\n"
     ]
    }
   ],
   "source": [
    "_student = \"Shah\"\n",
    "print(_student)"
   ]
  },
  {
   "cell_type": "markdown",
   "id": "7d29a910",
   "metadata": {},
   "source": [
    "# Many values to multiple variables"
   ]
  },
  {
   "cell_type": "code",
   "execution_count": 5,
   "id": "22912cf0",
   "metadata": {},
   "outputs": [
    {
     "name": "stdout",
     "output_type": "stream",
     "text": [
      "1 2 3\n"
     ]
    }
   ],
   "source": [
    "x = 1\n",
    "y = 2\n",
    "z = 3\n",
    "print(x,y,z)"
   ]
  },
  {
   "cell_type": "code",
   "execution_count": 6,
   "id": "18ba5d4d",
   "metadata": {},
   "outputs": [
    {
     "name": "stdout",
     "output_type": "stream",
     "text": [
      "Shah 23 Computer scinece\n"
     ]
    }
   ],
   "source": [
    "x,y,z = \"Shah\",\"23\",\"Computer scinece\"\n",
    "print(x,y,z)"
   ]
  },
  {
   "cell_type": "code",
   "execution_count": 7,
   "id": "68c50d6d",
   "metadata": {},
   "outputs": [
    {
     "name": "stdout",
     "output_type": "stream",
     "text": [
      "Shah\n",
      "Shah\n",
      "Shah\n"
     ]
    }
   ],
   "source": [
    "x = y = z = \"Shah\"\n",
    "print(x)\n",
    "print(y)\n",
    "print(z)"
   ]
  },
  {
   "cell_type": "markdown",
   "id": "d1aa5864",
   "metadata": {},
   "source": [
    "# Python output variable"
   ]
  },
  {
   "cell_type": "code",
   "execution_count": 8,
   "id": "d75fb175",
   "metadata": {},
   "outputs": [
    {
     "name": "stdout",
     "output_type": "stream",
     "text": [
      "Shah the Programmer\n",
      "\n",
      "Shah\n",
      "the\n",
      "Programmer\n"
     ]
    }
   ],
   "source": [
    "x = \"Shah\"\n",
    "y = \"the\"\n",
    "z = \"Programmer\"\n",
    "print(x,y,z)\n",
    "\n",
    "print()\n",
    "\n",
    "print(x)\n",
    "print(y)\n",
    "print(z)"
   ]
  },
  {
   "cell_type": "markdown",
   "id": "0f014e47",
   "metadata": {},
   "source": [
    "# Data Types"
   ]
  },
  {
   "cell_type": "code",
   "execution_count": 9,
   "id": "f70bedaf",
   "metadata": {},
   "outputs": [
    {
     "name": "stdout",
     "output_type": "stream",
     "text": [
      "2\n",
      "<class 'int'>\n"
     ]
    }
   ],
   "source": [
    "x = 2\n",
    "print(x)\n",
    "print(type(x))"
   ]
  },
  {
   "cell_type": "code",
   "execution_count": 10,
   "id": "cc2cccd5",
   "metadata": {},
   "outputs": [
    {
     "name": "stdout",
     "output_type": "stream",
     "text": [
      "3.142\n",
      "<class 'float'>\n"
     ]
    }
   ],
   "source": [
    "y = 3.142\n",
    "print(y)\n",
    "print(type(y))"
   ]
  },
  {
   "cell_type": "code",
   "execution_count": 11,
   "id": "2e5b6850",
   "metadata": {},
   "outputs": [
    {
     "name": "stdout",
     "output_type": "stream",
     "text": [
      "(2+5j)\n",
      "<class 'complex'>\n"
     ]
    }
   ],
   "source": [
    "z = 2+5j\n",
    "print(z)\n",
    "print(type(z))"
   ]
  },
  {
   "cell_type": "code",
   "execution_count": 12,
   "id": "9eb8cd7a",
   "metadata": {},
   "outputs": [
    {
     "name": "stdout",
     "output_type": "stream",
     "text": [
      "This is the course for Data Analyst\n",
      "<class 'str'>\n"
     ]
    }
   ],
   "source": [
    "a = \"This is the course for Data Analyst\"\n",
    "print (a)\n",
    "print(type(a))"
   ]
  },
  {
   "cell_type": "code",
   "execution_count": 13,
   "id": "597a4feb",
   "metadata": {},
   "outputs": [
    {
     "name": "stdout",
     "output_type": "stream",
     "text": [
      "[1, 2, 3, 4, 5, 6, 7, 8, 9, 10]\n",
      "<class 'list'>\n"
     ]
    }
   ],
   "source": [
    "c = [1,2,3,4,5,6,7,8,9,10]\n",
    "print(c)\n",
    "print(type(c))"
   ]
  },
  {
   "cell_type": "code",
   "execution_count": 14,
   "id": "923fedc5",
   "metadata": {},
   "outputs": [
    {
     "name": "stdout",
     "output_type": "stream",
     "text": [
      "(1, 2, 3, 4, 5, 6, 7, 8, 9, 10)\n",
      "<class 'tuple'>\n"
     ]
    }
   ],
   "source": [
    "d = (1,2,3,4,5,6,7,8,9,10)\n",
    "print(d)\n",
    "print(type(d))"
   ]
  },
  {
   "cell_type": "code",
   "execution_count": 16,
   "id": "135c6201",
   "metadata": {},
   "outputs": [
    {
     "name": "stdout",
     "output_type": "stream",
     "text": [
      "Variable   Type       Data/Info\n",
      "-------------------------------\n",
      "a          str        This is the course for Data Analyst\n",
      "c          list       n=10\n",
      "d          tuple      n=10\n",
      "fruit      str        mango\n",
      "x          int        2\n",
      "y          float      3.142\n",
      "z          complex    (2+5j)\n"
     ]
    }
   ],
   "source": [
    "%whos"
   ]
  },
  {
   "cell_type": "markdown",
   "id": "db7b37d2",
   "metadata": {},
   "source": [
    "# Operators"
   ]
  },
  {
   "cell_type": "code",
   "execution_count": 17,
   "id": "e7249aef",
   "metadata": {},
   "outputs": [
    {
     "name": "stdout",
     "output_type": "stream",
     "text": [
      "22\n"
     ]
    }
   ],
   "source": [
    "a = 10\n",
    "b = 12\n",
    "print(a+b)"
   ]
  },
  {
   "cell_type": "code",
   "execution_count": 18,
   "id": "bc3b87d9",
   "metadata": {},
   "outputs": [
    {
     "name": "stdout",
     "output_type": "stream",
     "text": [
      "12.162099999999999\n"
     ]
    }
   ],
   "source": [
    "a = 3.142\n",
    "b = 9.0201\n",
    "print(a+b)"
   ]
  },
  {
   "cell_type": "code",
   "execution_count": 19,
   "id": "28ae4907",
   "metadata": {},
   "outputs": [
    {
     "name": "stdout",
     "output_type": "stream",
     "text": [
      "(25+9j)\n"
     ]
    }
   ],
   "source": [
    "a = 12+9j\n",
    "b = 13\n",
    "print(a+b)"
   ]
  },
  {
   "cell_type": "markdown",
   "id": "37fa47b5",
   "metadata": {},
   "source": [
    "# Subtraction"
   ]
  },
  {
   "cell_type": "code",
   "execution_count": 21,
   "id": "5441b800",
   "metadata": {},
   "outputs": [
    {
     "name": "stdout",
     "output_type": "stream",
     "text": [
      "-178\n"
     ]
    }
   ],
   "source": [
    "a = 12\n",
    "b = 190\n",
    "print (a-b)"
   ]
  },
  {
   "cell_type": "code",
   "execution_count": 22,
   "id": "11f0e729",
   "metadata": {},
   "outputs": [
    {
     "name": "stdout",
     "output_type": "stream",
     "text": [
      "2888.607888\n"
     ]
    }
   ],
   "source": [
    "a = 3210\n",
    "b = 321.392112\n",
    "print (a-b)"
   ]
  },
  {
   "cell_type": "markdown",
   "id": "7164ccbf",
   "metadata": {},
   "source": [
    "# Multiplication"
   ]
  },
  {
   "cell_type": "code",
   "execution_count": 23,
   "id": "921da438",
   "metadata": {},
   "outputs": [
    {
     "name": "stdout",
     "output_type": "stream",
     "text": [
      "12188218\n"
     ]
    }
   ],
   "source": [
    "a = 1234\n",
    "b = 9877\n",
    "print(a*b)"
   ]
  },
  {
   "cell_type": "code",
   "execution_count": 24,
   "id": "bfcde934",
   "metadata": {},
   "outputs": [
    {
     "name": "stdout",
     "output_type": "stream",
     "text": [
      "12250.57546466\n"
     ]
    }
   ],
   "source": [
    "a = 12.4342\n",
    "b = 985.2323\n",
    "print(a*b)"
   ]
  },
  {
   "cell_type": "code",
   "execution_count": 29,
   "id": "bd99ea4d",
   "metadata": {},
   "outputs": [
    {
     "name": "stdout",
     "output_type": "stream",
     "text": [
      "(1212+1164j)\n"
     ]
    }
   ],
   "source": [
    "a = 99-2j\n",
    "b = 12+12j\n",
    "print(a*b)"
   ]
  },
  {
   "cell_type": "markdown",
   "id": "6580e091",
   "metadata": {},
   "source": [
    "# Division"
   ]
  },
  {
   "cell_type": "code",
   "execution_count": 30,
   "id": "997bc5e7",
   "metadata": {},
   "outputs": [
    {
     "name": "stdout",
     "output_type": "stream",
     "text": [
      "1.8868501529051989\n"
     ]
    }
   ],
   "source": [
    "a = 1234\n",
    "b = 654\n",
    "print(a/b)"
   ]
  },
  {
   "cell_type": "code",
   "execution_count": 33,
   "id": "c34e3cff",
   "metadata": {},
   "outputs": [
    {
     "name": "stdout",
     "output_type": "stream",
     "text": [
      "58.96631218235022\n"
     ]
    }
   ],
   "source": [
    "a = 765.73653\n",
    "b = 12.986\n",
    "print(a/b)"
   ]
  },
  {
   "cell_type": "markdown",
   "id": "f6a63bd4",
   "metadata": {},
   "source": [
    "# Exponent"
   ]
  },
  {
   "cell_type": "code",
   "execution_count": 34,
   "id": "0075f08b",
   "metadata": {},
   "outputs": [
    {
     "name": "stdout",
     "output_type": "stream",
     "text": [
      "861505240547001947070991346704159974336778972918853065619227783364284416\n"
     ]
    }
   ],
   "source": [
    "a = 987654\n",
    "print(a**12)"
   ]
  },
  {
   "cell_type": "code",
   "execution_count": 35,
   "id": "1b53545b",
   "metadata": {},
   "outputs": [
    {
     "name": "stdout",
     "output_type": "stream",
     "text": [
      "9.941266392977833e+123\n"
     ]
    }
   ],
   "source": [
    "a = ((1234*8765)+(765**43)-(546878**2)/(12))\n",
    "print (a)"
   ]
  },
  {
   "cell_type": "markdown",
   "id": "056b4c9c",
   "metadata": {},
   "source": [
    "# Modulous"
   ]
  },
  {
   "cell_type": "code",
   "execution_count": 36,
   "id": "f2b3cf6b",
   "metadata": {},
   "outputs": [
    {
     "name": "stdout",
     "output_type": "stream",
     "text": [
      "5\n"
     ]
    }
   ],
   "source": [
    "a = 26\n",
    "b = 7\n",
    "print (a%b)"
   ]
  },
  {
   "cell_type": "markdown",
   "id": "310dd5e0",
   "metadata": {},
   "source": [
    "# Built-in Function"
   ]
  },
  {
   "cell_type": "markdown",
   "id": "bc08ea9b",
   "metadata": {},
   "source": [
    "#  Obsolute abs() Function"
   ]
  },
  {
   "cell_type": "code",
   "execution_count": 37,
   "id": "ff9edd87",
   "metadata": {},
   "outputs": [
    {
     "name": "stdout",
     "output_type": "stream",
     "text": [
      "3.142\n"
     ]
    }
   ],
   "source": [
    "a = abs(-3.142)\n",
    "print(a)"
   ]
  },
  {
   "cell_type": "code",
   "execution_count": 41,
   "id": "a34787dc",
   "metadata": {},
   "outputs": [
    {
     "name": "stdout",
     "output_type": "stream",
     "text": [
      "5.830951894845301\n"
     ]
    }
   ],
   "source": [
    "z = abs(3+5j)\n",
    "print(z)"
   ]
  },
  {
   "cell_type": "markdown",
   "id": "bd7fe7f9",
   "metadata": {},
   "source": [
    "# Binary Function"
   ]
  },
  {
   "cell_type": "code",
   "execution_count": 39,
   "id": "4be15dcd",
   "metadata": {},
   "outputs": [
    {
     "name": "stdout",
     "output_type": "stream",
     "text": [
      "0b1100001\n"
     ]
    }
   ],
   "source": [
    "b = bin(97)\n",
    "print (b)"
   ]
  },
  {
   "cell_type": "markdown",
   "id": "54c92289",
   "metadata": {},
   "source": [
    "# Python bytes Function"
   ]
  },
  {
   "cell_type": "code",
   "execution_count": 40,
   "id": "bd78c983",
   "metadata": {},
   "outputs": [
    {
     "name": "stdout",
     "output_type": "stream",
     "text": [
      "b'\\x00\\x00\\x00\\x00\\x00\\x00\\x00\\x00\\x00\\x00\\x00\\x00'\n"
     ]
    }
   ],
   "source": [
    "c = bytes(12)\n",
    "print (c)"
   ]
  },
  {
   "cell_type": "markdown",
   "id": "6c945fa5",
   "metadata": {},
   "source": [
    "# Character Function"
   ]
  },
  {
   "cell_type": "code",
   "execution_count": 42,
   "id": "0e53921f",
   "metadata": {},
   "outputs": [
    {
     "name": "stdout",
     "output_type": "stream",
     "text": [
      "a\n"
     ]
    }
   ],
   "source": [
    "d = chr(97)\n",
    "print(d)"
   ]
  },
  {
   "cell_type": "code",
   "execution_count": 43,
   "id": "6c93c2c3",
   "metadata": {},
   "outputs": [
    {
     "name": "stdout",
     "output_type": "stream",
     "text": [
      "b\n"
     ]
    }
   ],
   "source": [
    "d = chr(98)\n",
    "print(d)"
   ]
  },
  {
   "cell_type": "code",
   "execution_count": 44,
   "id": "411729b7",
   "metadata": {},
   "outputs": [
    {
     "name": "stdout",
     "output_type": "stream",
     "text": [
      "c\n"
     ]
    }
   ],
   "source": [
    "d = chr(99)\n",
    "print(d)"
   ]
  },
  {
   "cell_type": "code",
   "execution_count": 45,
   "id": "99be4a70",
   "metadata": {},
   "outputs": [
    {
     "name": "stdout",
     "output_type": "stream",
     "text": [
      "Z\n"
     ]
    }
   ],
   "source": [
    "d = chr(90)\n",
    "print(d)"
   ]
  },
  {
   "cell_type": "markdown",
   "id": "84a9954a",
   "metadata": {},
   "source": [
    "# Complex Function"
   ]
  },
  {
   "cell_type": "code",
   "execution_count": 46,
   "id": "952ad7db",
   "metadata": {},
   "outputs": [
    {
     "name": "stdout",
     "output_type": "stream",
     "text": [
      "(6+2j)\n"
     ]
    }
   ],
   "source": [
    "e = complex(6,2)\n",
    "print (e)"
   ]
  },
  {
   "cell_type": "code",
   "execution_count": 47,
   "id": "e0f20da2",
   "metadata": {},
   "outputs": [
    {
     "name": "stdout",
     "output_type": "stream",
     "text": [
      "(3.142+9.098j)\n"
     ]
    }
   ],
   "source": [
    "f = complex(3.142,9.098)\n",
    "print (f)"
   ]
  },
  {
   "cell_type": "markdown",
   "id": "240660c4",
   "metadata": {},
   "source": [
    "# Float Function"
   ]
  },
  {
   "cell_type": "code",
   "execution_count": 48,
   "id": "2a31da20",
   "metadata": {},
   "outputs": [
    {
     "name": "stdout",
     "output_type": "stream",
     "text": [
      "6.0\n"
     ]
    }
   ],
   "source": [
    "g = float(6)\n",
    "print (g)"
   ]
  },
  {
   "cell_type": "code",
   "execution_count": 49,
   "id": "5f1f74de",
   "metadata": {},
   "outputs": [
    {
     "name": "stdout",
     "output_type": "stream",
     "text": [
      "9.8\n"
     ]
    }
   ],
   "source": [
    "g = float(9.8)\n",
    "print (g)"
   ]
  },
  {
   "cell_type": "markdown",
   "id": "ba61af56",
   "metadata": {},
   "source": [
    "# Int Function"
   ]
  },
  {
   "cell_type": "code",
   "execution_count": 50,
   "id": "f51b48ff",
   "metadata": {},
   "outputs": [
    {
     "name": "stdout",
     "output_type": "stream",
     "text": [
      "3\n"
     ]
    }
   ],
   "source": [
    "h = int(3.8)\n",
    "print (h)"
   ]
  },
  {
   "cell_type": "code",
   "execution_count": 51,
   "id": "0b6807e1",
   "metadata": {},
   "outputs": [
    {
     "name": "stdout",
     "output_type": "stream",
     "text": [
      "1846\n"
     ]
    }
   ],
   "source": [
    "h = int(1846.0912)\n",
    "print (h)"
   ]
  },
  {
   "cell_type": "markdown",
   "id": "4f11f1eb",
   "metadata": {},
   "source": [
    "# String Function"
   ]
  },
  {
   "cell_type": "code",
   "execution_count": 52,
   "id": "9e13fe73",
   "metadata": {},
   "outputs": [
    {
     "name": "stdout",
     "output_type": "stream",
     "text": [
      "94444\n",
      "<class 'str'>\n"
     ]
    }
   ],
   "source": [
    "i = str(\"94444\")\n",
    "print (i)\n",
    "print (type(i))"
   ]
  },
  {
   "cell_type": "code",
   "execution_count": 53,
   "id": "42ab8ed3",
   "metadata": {},
   "outputs": [
    {
     "name": "stdout",
     "output_type": "stream",
     "text": [
      "94444.765\n",
      "<class 'str'>\n"
     ]
    }
   ],
   "source": [
    "i = str(\"94444.765\")\n",
    "print (i)\n",
    "print (type(i))"
   ]
  },
  {
   "cell_type": "markdown",
   "id": "dea8c951",
   "metadata": {},
   "source": [
    "# Input Function"
   ]
  },
  {
   "cell_type": "code",
   "execution_count": 55,
   "id": "63b0a614",
   "metadata": {},
   "outputs": [
    {
     "name": "stdout",
     "output_type": "stream",
     "text": [
      "Enter your NameMusleeh Shah\n",
      "Musleeh Shah\n",
      "Welcome Musleeh Shah\n"
     ]
    }
   ],
   "source": [
    "name = input(\"Enter your Name\")\n",
    "print (name)\n",
    "print(\"Welcome\", name)"
   ]
  },
  {
   "cell_type": "code",
   "execution_count": 59,
   "id": "57174976",
   "metadata": {},
   "outputs": [
    {
     "name": "stdout",
     "output_type": "stream",
     "text": [
      "Enter your NameMusleeh Shah\n",
      "Enter your age23\n",
      "What is your staturSingle\n",
      "\n",
      "Welcome   Musleeh Shah\n",
      "your age is   23\n",
      "your status is   Single\n"
     ]
    }
   ],
   "source": [
    "name = input(\"Enter your Name\")\n",
    "age = input(\"Enter your age\")\n",
    "status = input(\"What is your statur\")\n",
    "print()\n",
    "\n",
    "print(\"Welcome\",\" \", name)\n",
    "print(\"your age is\",\" \", age)\n",
    "print(\"your status is\", \" \", status)"
   ]
  },
  {
   "cell_type": "markdown",
   "id": "cf9e2e81",
   "metadata": {},
   "source": [
    "# Conditional Statements"
   ]
  },
  {
   "cell_type": "markdown",
   "id": "423ce4dc",
   "metadata": {},
   "source": [
    "Write a program to calculate the percentage of a student in Maths, English, Pak Studies, Urdu and Islamiat"
   ]
  },
  {
   "cell_type": "code",
   "execution_count": 62,
   "id": "bf382051",
   "metadata": {},
   "outputs": [
    {
     "name": "stdout",
     "output_type": "stream",
     "text": [
      "Enter Student's NameBakhtu\n",
      "Enter the obtained marks in Maths77\n",
      "Enter the obtained marks in English84\n",
      "Enter the obtained marks in Pak Studies92\n",
      "Enter the obtained marks in Urdu89\n",
      "Enter the obtained marks in Islamiat81\n",
      "The obtained percentage of the student is   84.6\n"
     ]
    }
   ],
   "source": [
    "a = input(\"Enter Student's Name\")\n",
    "b = int(input(\"Enter the obtained marks in Maths\"))\n",
    "c = int(input(\"Enter the obtained marks in English\"))\n",
    "d = int(input(\"Enter the obtained marks in Pak Studies\"))\n",
    "e = int(input(\"Enter the obtained marks in Urdu\"))\n",
    "f = int(input(\"Enter the obtained marks in Islamiat\"))\n",
    "g = ((b+c+d+e+f)/500)*100\n",
    "print(\"The obtained percentage of the student is\", \" \", g)"
   ]
  },
  {
   "cell_type": "code",
   "execution_count": 71,
   "id": "f39cd7d1",
   "metadata": {},
   "outputs": [
    {
     "name": "stdout",
     "output_type": "stream",
     "text": [
      "Enter Student's percentage79\n",
      "B grade\n"
     ]
    }
   ],
   "source": [
    "a = int(input(\"Enter Student's percentage\"))\n",
    "\n",
    "if a>=90:\n",
    "    print(\"A grade\")\n",
    "if a>=70 and a<80:\n",
    "    print(\"B grade\")\n",
    "if a>=60 and a<70:\n",
    "    print(\"C grade\")\n",
    "    \n",
    "#print(\"The student secured a\", a)"
   ]
  },
  {
   "cell_type": "markdown",
   "id": "0fcbc501",
   "metadata": {},
   "source": [
    "# if else Statement"
   ]
  },
  {
   "cell_type": "code",
   "execution_count": 73,
   "id": "b5f0894b",
   "metadata": {},
   "outputs": [
    {
     "name": "stdout",
     "output_type": "stream",
     "text": [
      "Enter a number19\n",
      "Bye\n"
     ]
    }
   ],
   "source": [
    "j = int(input(\"Enter a number\"))\n",
    "if j%7==0:\n",
    "    print(\"Hello\")\n",
    "else:\n",
    "    print(\"Bye\")"
   ]
  },
  {
   "cell_type": "markdown",
   "id": "e99bf04c",
   "metadata": {},
   "source": [
    "# if - elif - else statement"
   ]
  },
  {
   "cell_type": "markdown",
   "id": "54e9a7fe",
   "metadata": {},
   "source": [
    "Accept city and print it's monument\n",
    "Islamabad - Faisal masjid\n",
    "Peshawar - Bab e Peshawar\n",
    "Lahore - Minar e Pakistan\n",
    "Karachi - Mazar e Quaid\n",
    "Chitral - Wadi e Kalash\n",
    "Gilgit - Baltit Fort\n",
    "Other city - Record not found"
   ]
  },
  {
   "cell_type": "code",
   "execution_count": 77,
   "id": "30f24500",
   "metadata": {},
   "outputs": [
    {
     "name": "stdout",
     "output_type": "stream",
     "text": [
      "Enter city nameChitral\n",
      "The monument is Wadi e Kalash\n"
     ]
    }
   ],
   "source": [
    "city = input(\"Enter city name\")\n",
    "if city==\"Islamabad\":\n",
    "    print(\"The monument is Faisal Masjid\")\n",
    "elif city==\"Peshawar\":\n",
    "    print(\"The monument is Bab e Peshawar\")\n",
    "elif city==\"Lahore\":\n",
    "    print(\"The monument is Minar e Pakistan\")\n",
    "elif city==\"Karachi\":\n",
    "    print(\"The monument is Mazar e Quaid\")\n",
    "elif city==\"Chitral\":\n",
    "    print(\"The monument is Wadi e Kalash\")\n",
    "elif city==\"Gilgit\":\n",
    "    print(\"The monument is Baltit Fort\")\n",
    "else:\n",
    "    print(\"Record not found\")"
   ]
  },
  {
   "cell_type": "markdown",
   "id": "5bccc8d0",
   "metadata": {},
   "source": [
    "# Concept of loop"
   ]
  },
  {
   "cell_type": "markdown",
   "id": "ecf9427b",
   "metadata": {},
   "source": [
    "# While loop"
   ]
  },
  {
   "cell_type": "markdown",
   "id": "baf4f033",
   "metadata": {},
   "source": [
    "Write a program to display numbers from 1 to 5"
   ]
  },
  {
   "cell_type": "code",
   "execution_count": 78,
   "id": "4dfc70fa",
   "metadata": {},
   "outputs": [
    {
     "name": "stdout",
     "output_type": "stream",
     "text": [
      "1\n",
      "2\n",
      "3\n",
      "4\n",
      "5\n"
     ]
    }
   ],
   "source": [
    "k = 1\n",
    "l = 5\n",
    "while k<=l:\n",
    "    print(k)\n",
    "    k = k + 1"
   ]
  },
  {
   "cell_type": "markdown",
   "id": "964b8dde",
   "metadata": {},
   "source": [
    "Enter a value from user and make a multiplication table"
   ]
  },
  {
   "cell_type": "code",
   "execution_count": 83,
   "id": "1cd600e8",
   "metadata": {},
   "outputs": [
    {
     "name": "stdout",
     "output_type": "stream",
     "text": [
      "Enter a value123\n",
      "123\n",
      "246\n",
      "369\n",
      "492\n",
      "615\n",
      "738\n",
      "861\n",
      "984\n",
      "1107\n",
      "1230\n",
      "This is the multiplication\n"
     ]
    }
   ],
   "source": [
    "no = int(input(\"Enter a value\"))\n",
    "m = 1\n",
    "while m<=10:\n",
    "    print(no*m)\n",
    "    m = m+1\n",
    "print(\"This is the multiplication\")"
   ]
  },
  {
   "cell_type": "markdown",
   "id": "b91c3f1b",
   "metadata": {},
   "source": [
    "# infinite loop"
   ]
  },
  {
   "cell_type": "code",
   "execution_count": null,
   "id": "6edd62c2",
   "metadata": {},
   "outputs": [],
   "source": [
    "age = 32\n",
    "while age>18:\n",
    "    print"
   ]
  },
  {
   "cell_type": "code",
   "execution_count": 1,
   "id": "63e075aa",
   "metadata": {},
   "outputs": [
    {
     "name": "stdout",
     "output_type": "stream",
     "text": [
      "Hello\n",
      "Hello\n",
      "Hello\n",
      "Hello\n",
      "Hello\n",
      "Hello\n",
      "Hello\n",
      "Hello\n",
      "Hello\n",
      "Hello\n",
      "Hello\n",
      "Hello\n",
      "Hello\n",
      "Hello\n",
      "Hello\n",
      "Hello\n",
      "Hello\n",
      "Hello\n",
      "Hello\n",
      "Hello\n",
      "Hello\n",
      "Hello\n",
      "Hello\n",
      "Hello\n",
      "Hello\n"
     ]
    }
   ],
   "source": [
    "count = 0\n",
    "while(count<25):\n",
    "    count = count+1\n",
    "    print(\"Hello\")"
   ]
  },
  {
   "cell_type": "code",
   "execution_count": 2,
   "id": "f478a876",
   "metadata": {},
   "outputs": [
    {
     "name": "stdout",
     "output_type": "stream",
     "text": [
      "Hello\n",
      "Hello\n",
      "Hello\n",
      "Hello\n",
      "Hello\n",
      "Hello\n",
      "Hello\n",
      "Hello\n",
      "Hello\n",
      "Hello\n",
      "Hello\n",
      "Hello\n",
      "Hello\n",
      "Hello\n",
      "Hello\n",
      "Hello\n",
      "Hello\n",
      "Hello\n",
      "Hello\n",
      "Hello\n",
      "Hello\n",
      "Hello\n",
      "Hello\n",
      "Hello\n",
      "Hello\n",
      "Byee\n"
     ]
    }
   ],
   "source": [
    "count = 0\n",
    "while(count<25):\n",
    "    count = count+1\n",
    "    print(\"Hello\")\n",
    "else:\n",
    "    print(\"Byee\")"
   ]
  },
  {
   "cell_type": "markdown",
   "id": "f0e3570f",
   "metadata": {},
   "source": [
    "# for loop"
   ]
  },
  {
   "cell_type": "code",
   "execution_count": 6,
   "id": "e1ab9647",
   "metadata": {},
   "outputs": [
    {
     "name": "stdout",
     "output_type": "stream",
     "text": [
      "cat\n",
      "dog\n",
      "lion\n",
      "tiger\n"
     ]
    }
   ],
   "source": [
    "animals = [\"cat\", \"dog\", \"lion\", \"tiger\"]\n",
    "for x in animals:\n",
    "    print(x)"
   ]
  },
  {
   "cell_type": "markdown",
   "id": "22307e6e",
   "metadata": {},
   "source": [
    "# looping in string"
   ]
  },
  {
   "cell_type": "code",
   "execution_count": 7,
   "id": "d5dc6b76",
   "metadata": {},
   "outputs": [
    {
     "name": "stdout",
     "output_type": "stream",
     "text": [
      "a\n",
      "n\n",
      "i\n",
      "m\n",
      "a\n",
      "l\n"
     ]
    }
   ],
   "source": [
    "for x in (\"animal\"):\n",
    "    print(x)"
   ]
  },
  {
   "cell_type": "code",
   "execution_count": 8,
   "id": "9555a289",
   "metadata": {},
   "outputs": [
    {
     "name": "stdout",
     "output_type": "stream",
     "text": [
      "0\n",
      "1\n",
      "2\n",
      "3\n",
      "4\n",
      "5\n",
      "6\n",
      "7\n",
      "8\n",
      "9\n",
      "10\n",
      "11\n",
      "12\n",
      "13\n",
      "14\n",
      "15\n",
      "16\n",
      "17\n",
      "18\n",
      "19\n",
      "20\n",
      "21\n",
      "22\n",
      "23\n",
      "24\n"
     ]
    }
   ],
   "source": [
    "for x in range(25):\n",
    "    print(x)"
   ]
  },
  {
   "cell_type": "code",
   "execution_count": 9,
   "id": "01550606",
   "metadata": {},
   "outputs": [
    {
     "name": "stdout",
     "output_type": "stream",
     "text": [
      "10\n",
      "11\n",
      "12\n",
      "13\n",
      "14\n",
      "15\n",
      "16\n",
      "17\n",
      "18\n",
      "19\n",
      "20\n",
      "21\n",
      "22\n",
      "23\n",
      "24\n"
     ]
    }
   ],
   "source": [
    "for x in range(10,25):\n",
    "    print(x)"
   ]
  },
  {
   "cell_type": "markdown",
   "id": "92ae1b0b",
   "metadata": {},
   "source": [
    "# user define function"
   ]
  },
  {
   "cell_type": "code",
   "execution_count": 1,
   "id": "1c5ef853",
   "metadata": {},
   "outputs": [
    {
     "name": "stdout",
     "output_type": "stream",
     "text": [
      "Day 6 of python master class\n"
     ]
    }
   ],
   "source": [
    "def my_fun():\n",
    "    print(\"Day 6 of python master class\")\n",
    "\n",
    "my_fun()"
   ]
  },
  {
   "cell_type": "markdown",
   "id": "fce7d6be",
   "metadata": {},
   "source": [
    "# Making a result of a student"
   ]
  },
  {
   "cell_type": "code",
   "execution_count": 3,
   "id": "da6d82b1",
   "metadata": {},
   "outputs": [],
   "source": [
    "def contact():\n",
    "    print(\"Contact of the School\")\n",
    "    print(\"Akhss Chitral\")\n",
    "    print(\"Chitral Kpk\")\n",
    "    print(\"0943983212\")\n",
    "    print(\"akeub.contact@gmail.com\")"
   ]
  },
  {
   "cell_type": "code",
   "execution_count": 4,
   "id": "bf556971",
   "metadata": {},
   "outputs": [
    {
     "name": "stdout",
     "output_type": "stream",
     "text": [
      "Name of thr StudentAlee\n",
      "Enter the obtained marks in Maths77\n",
      "Enter the obtained marks in Urdu86\n",
      "Enter the obtained marks in English56\n",
      "\n",
      "Contact of the School\n",
      "Akhss Chitral\n",
      "Chitral Kpk\n",
      "0943983212\n",
      "akeub.contact@gmail.com\n",
      "Name of thr StudentFayaz\n",
      "Enter the obtained marks in Maths90\n",
      "Enter the obtained marks in Urdu78\n",
      "Enter the obtained marks in English92\n",
      "\n",
      "Contact of the School\n",
      "Akhss Chitral\n",
      "Chitral Kpk\n",
      "0943983212\n",
      "akeub.contact@gmail.com\n",
      "Name of thr StudentEmad\n",
      "Enter the obtained marks in Maths78\n",
      "Enter the obtained marks in Urdu71\n",
      "Enter the obtained marks in English74\n",
      "\n",
      "Contact of the School\n",
      "Akhss Chitral\n",
      "Chitral Kpk\n",
      "0943983212\n",
      "akeub.contact@gmail.com\n",
      "Name of thr StudentAiman\n",
      "Enter the obtained marks in Maths59\n",
      "Enter the obtained marks in Urdu82\n",
      "Enter the obtained marks in English70\n",
      "\n",
      "Contact of the School\n",
      "Akhss Chitral\n",
      "Chitral Kpk\n",
      "0943983212\n",
      "akeub.contact@gmail.com\n",
      "Name of thr StudentSaad\n",
      "Enter the obtained marks in Maths56\n",
      "Enter the obtained marks in Urdu66\n",
      "Enter the obtained marks in English71\n",
      "\n",
      "Contact of the School\n",
      "Akhss Chitral\n",
      "Chitral Kpk\n",
      "0943983212\n",
      "akeub.contact@gmail.com\n"
     ]
    }
   ],
   "source": [
    "for i in range(5):\n",
    "    a = input(\"Name of thr Student\")\n",
    "    b = int(input(\"Enter the obtained marks in Maths\"))\n",
    "    c = int(input(\"Enter the obtained marks in Urdu\"))\n",
    "    d = int(input(\"Enter the obtained marks in English\"))\n",
    "    \n",
    "    print()\n",
    "    contact()"
   ]
  },
  {
   "cell_type": "markdown",
   "id": "84728198",
   "metadata": {},
   "source": [
    "# Arguments"
   ]
  },
  {
   "cell_type": "code",
   "execution_count": null,
   "id": "89151c9a",
   "metadata": {},
   "outputs": [],
   "source": [
    "# write a program to calculate electricity bill\n",
    "\n",
    "if 500 unit used -> pay 5 for each unit\n",
    "if 700 unit used -> pay 10 for each unit\n",
    "if 1000 unit used -> pay 15 for each unit\n",
    "if more than 1000 unit used -> pay 20 for each unit"
   ]
  },
  {
   "cell_type": "code",
   "execution_count": 1,
   "id": "6e1dc40a",
   "metadata": {},
   "outputs": [],
   "source": [
    "def my_bill(n):\n",
    "    if n<=500:\n",
    "        print(\"Your Bill is\", n*5)\n",
    "    elif n>500 and n<=700:\n",
    "        print(\"Yor Bill is\", n*10)\n",
    "    elif n>700 and n<=1000:\n",
    "        print(\"Yor Bill is\", n*15)\n",
    "    elif n>1000:\n",
    "        print(\"Yor Bill is\", n*20)"
   ]
  },
  {
   "cell_type": "code",
   "execution_count": 2,
   "id": "e5d87cd7",
   "metadata": {},
   "outputs": [
    {
     "name": "stdout",
     "output_type": "stream",
     "text": [
      "Name of the customerShah\n",
      "Unit used by the customer299\n",
      "\n",
      "Your Bill is 1495\n",
      "Name of the customerIslam\n",
      "Unit used by the customer723\n",
      "\n",
      "Yor Bill is 10845\n",
      "Name of the customerNaveed\n",
      "Unit used by the customer1298\n",
      "\n",
      "Yor Bill is 25960\n"
     ]
    }
   ],
   "source": [
    "for i in range(3):\n",
    "    a = input(\"Name of the customer\")\n",
    "    n = int(input(\"Unit used by the customer\"))\n",
    "    \n",
    "    print()\n",
    "    my_bill(n)"
   ]
  },
  {
   "cell_type": "markdown",
   "id": "1b45f25d",
   "metadata": {},
   "source": [
    "# String in python"
   ]
  },
  {
   "cell_type": "code",
   "execution_count": 3,
   "id": "e367b5d6",
   "metadata": {},
   "outputs": [
    {
     "name": "stdout",
     "output_type": "stream",
     "text": [
      "Hello\n"
     ]
    }
   ],
   "source": [
    "a = \"Hello\"\n",
    "print(a)"
   ]
  },
  {
   "cell_type": "code",
   "execution_count": 4,
   "id": "2a6ce741",
   "metadata": {},
   "outputs": [
    {
     "name": "stdout",
     "output_type": "stream",
     "text": [
      "This is python master class and its day 7\n",
      "<class 'str'>\n"
     ]
    }
   ],
   "source": [
    "m = 'This is python master class and its day 7'\n",
    "print(m)\n",
    "print(type(m))"
   ]
  },
  {
   "cell_type": "markdown",
   "id": "e6029d18",
   "metadata": {},
   "source": [
    "# Multiline String"
   ]
  },
  {
   "cell_type": "code",
   "execution_count": 5,
   "id": "33789bba",
   "metadata": {},
   "outputs": [
    {
     "name": "stdout",
     "output_type": "stream",
     "text": [
      "The Data Science program at the Sapienza University of Rome offers an interdisciplinary approach gathering contributions from Engineering, Computer Science, Statistics, Economic and Organizational Sciences, as well as specific knowledge of the main Data Science application domains.\n"
     ]
    }
   ],
   "source": [
    "n = \"The Data Science program at the Sapienza University of Rome offers an interdisciplinary approach gathering contributions from Engineering, Computer Science, Statistics, Economic and Organizational Sciences, as well as specific knowledge of the main Data Science application domains.\"\n",
    "print(n)"
   ]
  },
  {
   "cell_type": "code",
   "execution_count": 7,
   "id": "0a10c557",
   "metadata": {},
   "outputs": [
    {
     "name": "stdout",
     "output_type": "stream",
     "text": [
      "The Data Science program at the Sapienza University of Rome offers an \n",
      "interdisciplinary approach gathering contributions from Engineering, Computer Science,\n",
      "Statistics, Economic and Organizational Sciences, \n",
      "as well as specific knowledge of the main Data Science application domains.\n"
     ]
    }
   ],
   "source": [
    "n = \"\"\"The Data Science program at the Sapienza University of Rome offers an \n",
    "interdisciplinary approach gathering contributions from Engineering, Computer Science,\n",
    "Statistics, Economic and Organizational Sciences, \n",
    "as well as specific knowledge of the main Data Science application domains.\"\"\"\n",
    "print(n)"
   ]
  },
  {
   "cell_type": "code",
   "execution_count": 17,
   "id": "f799e759",
   "metadata": {},
   "outputs": [
    {
     "name": "stdout",
     "output_type": "stream",
     "text": [
      "284\n"
     ]
    }
   ],
   "source": [
    "print(len(n))"
   ]
  },
  {
   "cell_type": "markdown",
   "id": "a6ee418b",
   "metadata": {},
   "source": [
    "# Indexing of String"
   ]
  },
  {
   "cell_type": "code",
   "execution_count": 11,
   "id": "443221fa",
   "metadata": {},
   "outputs": [
    {
     "name": "stdout",
     "output_type": "stream",
     "text": [
      "e\n"
     ]
    }
   ],
   "source": [
    "o = \"Musleeh Shah\"\n",
    "print(o[-7])"
   ]
  },
  {
   "cell_type": "markdown",
   "id": "c6639b41",
   "metadata": {},
   "source": [
    "# Slicing"
   ]
  },
  {
   "cell_type": "code",
   "execution_count": 12,
   "id": "46fe2660",
   "metadata": {},
   "outputs": [
    {
     "name": "stdout",
     "output_type": "stream",
     "text": [
      "Hello\n"
     ]
    }
   ],
   "source": [
    "p = \"Hello students how are you?\"\n",
    "print(p[0:5])"
   ]
  },
  {
   "cell_type": "code",
   "execution_count": 13,
   "id": "4c4e04d3",
   "metadata": {},
   "outputs": [
    {
     "name": "stdout",
     "output_type": "stream",
     "text": [
      "students how\n"
     ]
    }
   ],
   "source": [
    "p = \"Hello students how are you?\"\n",
    "print(p[6:18])"
   ]
  },
  {
   "cell_type": "code",
   "execution_count": 19,
   "id": "1ea87e2c",
   "metadata": {},
   "outputs": [
    {
     "name": "stdout",
     "output_type": "stream",
     "text": [
      "Hlosuet o \n"
     ]
    }
   ],
   "source": [
    "p = \"Hello students how are you?\"\n",
    "print(p[0:20:2])"
   ]
  },
  {
   "cell_type": "code",
   "execution_count": 16,
   "id": "6f9969a0",
   "metadata": {},
   "outputs": [
    {
     "name": "stdout",
     "output_type": "stream",
     "text": [
      "?uoy era woh stneduts olleH\n"
     ]
    }
   ],
   "source": [
    "p = \"Hello students how are you?\"\n",
    "print(p[::-1])"
   ]
  },
  {
   "cell_type": "markdown",
   "id": "0fb80e95",
   "metadata": {},
   "source": [
    "# upper method"
   ]
  },
  {
   "cell_type": "code",
   "execution_count": 18,
   "id": "ec6679f5",
   "metadata": {},
   "outputs": [
    {
     "name": "stdout",
     "output_type": "stream",
     "text": [
      "HELLO HOW ARE YOU?\n"
     ]
    }
   ],
   "source": [
    "q = \"hello how are you?\"\n",
    "print(q.upper())"
   ]
  },
  {
   "cell_type": "markdown",
   "id": "68a2dd05",
   "metadata": {},
   "source": [
    "# lower method"
   ]
  },
  {
   "cell_type": "code",
   "execution_count": 21,
   "id": "2ddc0981",
   "metadata": {},
   "outputs": [
    {
     "name": "stdout",
     "output_type": "stream",
     "text": [
      "i live in islamabad\n"
     ]
    }
   ],
   "source": [
    "q = \"I LIVE IN ISLAMABAD\"\n",
    "print(q.lower())"
   ]
  },
  {
   "cell_type": "markdown",
   "id": "4fab046b",
   "metadata": {},
   "source": [
    "# Replace Function"
   ]
  },
  {
   "cell_type": "code",
   "execution_count": 22,
   "id": "a23f76a4",
   "metadata": {},
   "outputs": [
    {
     "name": "stdout",
     "output_type": "stream",
     "text": [
      "Byee how are you\n"
     ]
    }
   ],
   "source": [
    "r = \"Hello how are you\"\n",
    "print(r.replace(\"Hello\", \"Byee\"))"
   ]
  },
  {
   "cell_type": "markdown",
   "id": "0c0cb6df",
   "metadata": {},
   "source": [
    "# find method()"
   ]
  },
  {
   "cell_type": "code",
   "execution_count": 23,
   "id": "e754e97c",
   "metadata": {},
   "outputs": [
    {
     "name": "stdout",
     "output_type": "stream",
     "text": [
      "7\n"
     ]
    }
   ],
   "source": [
    "r = \"python master class\"\n",
    "s = r.find(\"m\")\n",
    "print(s)"
   ]
  },
  {
   "cell_type": "code",
   "execution_count": 24,
   "id": "042c7506",
   "metadata": {},
   "outputs": [
    {
     "name": "stdout",
     "output_type": "stream",
     "text": [
      "8\n"
     ]
    }
   ],
   "source": [
    "r = \"python master class\"\n",
    "s = r.find(\"a\")\n",
    "print(s)"
   ]
  },
  {
   "cell_type": "markdown",
   "id": "697f8370",
   "metadata": {},
   "source": [
    "# List in python"
   ]
  },
  {
   "cell_type": "code",
   "execution_count": 2,
   "id": "539701c2",
   "metadata": {},
   "outputs": [
    {
     "name": "stdout",
     "output_type": "stream",
     "text": [
      "['apple', 'banana', 'orange', 'mango']\n",
      "<class 'list'>\n"
     ]
    }
   ],
   "source": [
    "mylist = [\"apple\",\"banana\",\"orange\",\"mango\"]\n",
    "print(mylist)\n",
    "print(type(mylist))"
   ]
  },
  {
   "cell_type": "markdown",
   "id": "00c35621",
   "metadata": {},
   "source": [
    "# Allow Duplicate"
   ]
  },
  {
   "cell_type": "code",
   "execution_count": 3,
   "id": "b5cd6e46",
   "metadata": {},
   "outputs": [
    {
     "name": "stdout",
     "output_type": "stream",
     "text": [
      "['apple', 'banana', 'apple', 'mango', 'banana']\n"
     ]
    }
   ],
   "source": [
    "mylist = [\"apple\",\"banana\",\"apple\",\"mango\",\"banana\"]\n",
    "print(mylist)"
   ]
  },
  {
   "cell_type": "code",
   "execution_count": 6,
   "id": "8e8f9dcd",
   "metadata": {},
   "outputs": [
    {
     "name": "stdout",
     "output_type": "stream",
     "text": [
      "['apple', 10, 'banana', 2.98, 'orange', True, 'mango']\n",
      "7\n"
     ]
    }
   ],
   "source": [
    "mylist = [\"apple\",10,\"banana\", 2.98,\"orange\", True,\"mango\"]\n",
    "print(mylist)\n",
    "print(len(mylist))"
   ]
  },
  {
   "cell_type": "markdown",
   "id": "40d49ccc",
   "metadata": {},
   "source": [
    "# Access Item"
   ]
  },
  {
   "cell_type": "code",
   "execution_count": 7,
   "id": "b4aa8631",
   "metadata": {},
   "outputs": [
    {
     "name": "stdout",
     "output_type": "stream",
     "text": [
      "123\n"
     ]
    }
   ],
   "source": [
    "mylist = [\"apple\",10,\"banana\", 2.98,\"orange\", True,\"mango\", 8.43, 123, False]\n",
    "print(mylist[8])"
   ]
  },
  {
   "cell_type": "code",
   "execution_count": 8,
   "id": "b02e2bd9",
   "metadata": {},
   "outputs": [
    {
     "name": "stdout",
     "output_type": "stream",
     "text": [
      "mango\n"
     ]
    }
   ],
   "source": [
    "mylist = [\"apple\",10,\"banana\", 2.98,\"orange\", True,\"mango\", 8.43, 123, False]\n",
    "print(mylist[-4])"
   ]
  },
  {
   "cell_type": "code",
   "execution_count": 9,
   "id": "793e1535",
   "metadata": {},
   "outputs": [
    {
     "name": "stdout",
     "output_type": "stream",
     "text": [
      "[10, 'banana', 2.98, 'orange', True, 'mango', 8.43]\n"
     ]
    }
   ],
   "source": [
    "mylist = [\"apple\",10,\"banana\", 2.98,\"orange\", True,\"mango\", 8.43, 123, False]\n",
    "print(mylist[1:8])"
   ]
  },
  {
   "cell_type": "code",
   "execution_count": 10,
   "id": "e035b2f1",
   "metadata": {},
   "outputs": [
    {
     "name": "stdout",
     "output_type": "stream",
     "text": [
      "['apple', 'banana', 'orange', 'mango', 123]\n"
     ]
    }
   ],
   "source": [
    "mylist = [\"apple\",10,\"banana\", 2.98,\"orange\", True,\"mango\", 8.43, 123, False]\n",
    "print(mylist[0:9:2])"
   ]
  },
  {
   "cell_type": "code",
   "execution_count": 12,
   "id": "be595f30",
   "metadata": {},
   "outputs": [
    {
     "name": "stdout",
     "output_type": "stream",
     "text": [
      "['apple', 10, 'banana', 2.98, 'orange', 'orange', 'mango', 8.43, 123, False]\n"
     ]
    }
   ],
   "source": [
    "mylist = [\"apple\",10,\"banana\", 2.98,\"orange\", True,\"mango\", 8.43, 123, False]\n",
    "mylist[5] = \"orange\"\n",
    "print (mylist)"
   ]
  },
  {
   "cell_type": "code",
   "execution_count": 15,
   "id": "4ded8575",
   "metadata": {},
   "outputs": [
    {
     "name": "stdout",
     "output_type": "stream",
     "text": [
      "[1, 2, 'cat', 'dog', 'lion', 5, 6, 7, 9.4, 6, 2]\n"
     ]
    }
   ],
   "source": [
    "a = [1, 2, 3, 4, 5, 6, 7, 9.4, 6, 2]\n",
    "a[2:4] = [\"cat\", \"dog\", \"lion\"]\n",
    "print(a)"
   ]
  },
  {
   "cell_type": "code",
   "execution_count": 16,
   "id": "35781a2e",
   "metadata": {},
   "outputs": [
    {
     "name": "stdout",
     "output_type": "stream",
     "text": [
      "[1, 2, 3, 4, 5, 6, 7, 9.4, 6, 2, -92]\n"
     ]
    }
   ],
   "source": [
    "a = [1, 2, 3, 4, 5, 6, 7, 9.4, 6, 2]\n",
    "a.append(-92)\n",
    "print(a)"
   ]
  },
  {
   "cell_type": "code",
   "execution_count": 17,
   "id": "63ba31b6",
   "metadata": {},
   "outputs": [
    {
     "name": "stdout",
     "output_type": "stream",
     "text": [
      "['apple', 10, 'banana', 2.98, True, 'mango', 8.43, 123, False]\n"
     ]
    }
   ],
   "source": [
    "mylist = [\"apple\",10,\"banana\", 2.98,\"orange\", True,\"mango\", 8.43, 123, False]\n",
    "mylist.remove(\"orange\")\n",
    "print(mylist)"
   ]
  },
  {
   "cell_type": "code",
   "execution_count": 18,
   "id": "90267514",
   "metadata": {},
   "outputs": [
    {
     "name": "stdout",
     "output_type": "stream",
     "text": [
      "[2, 6, 'python', 9.4, 7, 6, 'data', 5, 4, 3, 2, 1]\n"
     ]
    }
   ],
   "source": [
    "a = [1, 2, 3, 4, 5,\"data\", 6, 7, 9.4,\"python\", 6, 2]\n",
    "a.reverse()\n",
    "print(a)"
   ]
  },
  {
   "cell_type": "code",
   "execution_count": 27,
   "id": "67c728bf",
   "metadata": {},
   "outputs": [
    {
     "name": "stdout",
     "output_type": "stream",
     "text": [
      "11\n",
      "The sum is 723\n"
     ]
    }
   ],
   "source": [
    "q = [10, 20,30,45,61,83, 98,234,11,64, 67]\n",
    "print(len(q))\n",
    "a = 0\n",
    "for i in range(11):\n",
    "    a = a + q[i]\n",
    "    i = a + 1\n",
    "print(\"The sum is\", a)"
   ]
  },
  {
   "cell_type": "markdown",
   "id": "3e486e94",
   "metadata": {},
   "source": [
    "q = [10, 20,30,45,61,83, 98,234,11,64, 67]\n",
    "b = []\n",
    "print(len(q))\n",
    "a = 0\n",
    "for i in q:\n",
    "     b.append(i * 2)\n",
    "print(\"The multiplication is\", a)"
   ]
  },
  {
   "cell_type": "markdown",
   "id": "a034f1bb",
   "metadata": {},
   "source": [
    "# Tuples in python"
   ]
  },
  {
   "cell_type": "code",
   "execution_count": 34,
   "id": "92d5a9e2",
   "metadata": {},
   "outputs": [
    {
     "name": "stdout",
     "output_type": "stream",
     "text": [
      "(1, 2, 3)\n"
     ]
    }
   ],
   "source": [
    "my_tuple = (1,2,3)\n",
    "print(my_tuple)"
   ]
  },
  {
   "cell_type": "code",
   "execution_count": 35,
   "id": "42b26110",
   "metadata": {},
   "outputs": [
    {
     "name": "stdout",
     "output_type": "stream",
     "text": [
      "(1, 2.3, 'Hello', (3+6j))\n"
     ]
    }
   ],
   "source": [
    "a = (1, 2.3, \"Hello\", 3+6j)\n",
    "print(a)"
   ]
  },
  {
   "cell_type": "markdown",
   "id": "ca1cbb06",
   "metadata": {},
   "source": [
    "# Nested tuple"
   ]
  },
  {
   "cell_type": "code",
   "execution_count": 36,
   "id": "6a5a59d7",
   "metadata": {},
   "outputs": [
    {
     "name": "stdout",
     "output_type": "stream",
     "text": [
      "(1, 2, 3, ['orange', 'mango'], (6, 7, 8))\n"
     ]
    }
   ],
   "source": [
    "b = (1,2,3,[\"orange\",\"mango\"], (6,7,8))\n",
    "print(b)"
   ]
  },
  {
   "cell_type": "markdown",
   "id": "4d1a33ad",
   "metadata": {},
   "source": [
    "# Tuple constractor"
   ]
  },
  {
   "cell_type": "code",
   "execution_count": 1,
   "id": "7ba89edd",
   "metadata": {},
   "outputs": [
    {
     "name": "stdout",
     "output_type": "stream",
     "text": [
      "('a', 'b', 'c')\n",
      "<class 'tuple'>\n"
     ]
    }
   ],
   "source": [
    "z = tuple((\"a\",\"b\",\"c\"))\n",
    "print (z)\n",
    "print(type(z))"
   ]
  },
  {
   "cell_type": "markdown",
   "id": "0000c3fb",
   "metadata": {},
   "source": [
    "# indexing"
   ]
  },
  {
   "cell_type": "code",
   "execution_count": 2,
   "id": "be899cb8",
   "metadata": {},
   "outputs": [
    {
     "name": "stdout",
     "output_type": "stream",
     "text": [
      "37\n"
     ]
    }
   ],
   "source": [
    "y = (23,51,84,80,37)\n",
    "print(y[4])"
   ]
  },
  {
   "cell_type": "code",
   "execution_count": 4,
   "id": "0a80726f",
   "metadata": {},
   "outputs": [
    {
     "name": "stdout",
     "output_type": "stream",
     "text": [
      "(37, 80, 84, 51, 23)\n"
     ]
    }
   ],
   "source": [
    "y = (23,51,84,80,37)\n",
    "print(y[::-1])"
   ]
  },
  {
   "cell_type": "code",
   "execution_count": 5,
   "id": "a1c0e3d2",
   "metadata": {},
   "outputs": [
    {
     "name": "stdout",
     "output_type": "stream",
     "text": [
      "(37,)\n"
     ]
    }
   ],
   "source": [
    "y = (23,51,84,80,37)\n",
    "print(y[4:])"
   ]
  },
  {
   "cell_type": "code",
   "execution_count": 6,
   "id": "3c7a8799",
   "metadata": {},
   "outputs": [
    {
     "name": "stdout",
     "output_type": "stream",
     "text": [
      "(23, 51, 84, 80, 37)\n"
     ]
    }
   ],
   "source": [
    "y = (23,51,84,80,37)\n",
    "print(y[::])"
   ]
  },
  {
   "cell_type": "code",
   "execution_count": 7,
   "id": "cfe025e7",
   "metadata": {},
   "outputs": [
    {
     "name": "stdout",
     "output_type": "stream",
     "text": [
      "(23, 51, 84, 80)\n"
     ]
    }
   ],
   "source": [
    "y = (23,51,84,80,37)\n",
    "print(y[:4])"
   ]
  },
  {
   "cell_type": "markdown",
   "id": "ff448f00",
   "metadata": {},
   "source": [
    "# tuple into list"
   ]
  },
  {
   "cell_type": "code",
   "execution_count": 9,
   "id": "66177efd",
   "metadata": {},
   "outputs": [
    {
     "name": "stdout",
     "output_type": "stream",
     "text": [
      "(10, 9, 8, 7, 6, 5, 4, 3, 2, 1, 30)\n"
     ]
    }
   ],
   "source": [
    "a = (10,9,8,7,6,5,4,3,2,1)\n",
    "y = list(a)\n",
    "y.append(30)\n",
    "a = tuple(y)\n",
    "print(a)"
   ]
  },
  {
   "cell_type": "markdown",
   "id": "ca0c1743",
   "metadata": {},
   "source": [
    "# loop in tuple"
   ]
  },
  {
   "cell_type": "code",
   "execution_count": 10,
   "id": "41c30f6a",
   "metadata": {},
   "outputs": [
    {
     "name": "stdout",
     "output_type": "stream",
     "text": [
      "(10, 9, 8, 7, 6, 5, 4, 3, 2, 1)\n",
      "(10, 9, 8, 7, 6, 5, 4, 3, 2, 1)\n",
      "(10, 9, 8, 7, 6, 5, 4, 3, 2, 1)\n",
      "(10, 9, 8, 7, 6, 5, 4, 3, 2, 1)\n",
      "(10, 9, 8, 7, 6, 5, 4, 3, 2, 1)\n",
      "(10, 9, 8, 7, 6, 5, 4, 3, 2, 1)\n",
      "(10, 9, 8, 7, 6, 5, 4, 3, 2, 1)\n",
      "(10, 9, 8, 7, 6, 5, 4, 3, 2, 1)\n",
      "(10, 9, 8, 7, 6, 5, 4, 3, 2, 1)\n",
      "(10, 9, 8, 7, 6, 5, 4, 3, 2, 1)\n"
     ]
    }
   ],
   "source": [
    "a = (10,9,8,7,6,5,4,3,2,1)\n",
    "for x in a:\n",
    "    print(a)"
   ]
  },
  {
   "cell_type": "code",
   "execution_count": 2,
   "id": "4de64d8b",
   "metadata": {},
   "outputs": [
    {
     "name": "stdout",
     "output_type": "stream",
     "text": [
      "(1, 2, 3, 4, 5, 6, 7, 8, 1, 2, 3, 4, 5, 6, 7, 8)\n",
      "(1, 2, 3, 4, 5, 6, 7, 8, 1, 2, 3, 4, 5, 6, 7, 8, 1, 2, 3, 4, 5, 6, 7, 8)\n",
      "(1, 2, 3, 4, 5, 6, 7, 8, 1, 2, 3, 4, 5, 6, 7, 8, 1, 2, 3, 4, 5, 6, 7, 8, 1, 2, 3, 4, 5, 6, 7, 8, 1, 2, 3, 4, 5, 6, 7, 8)\n",
      "8\n"
     ]
    }
   ],
   "source": [
    "a = (1,2,3,4,5,6,7,8)\n",
    "print(a*2)\n",
    "print(a+a+a)\n",
    "print(a+a*4)\n",
    "print(len(a))"
   ]
  },
  {
   "cell_type": "code",
   "execution_count": null,
   "id": "6afa9706",
   "metadata": {},
   "outputs": [],
   "source": [
    "write a program, to take 5 inputs from user and store in a tuple."
   ]
  },
  {
   "cell_type": "code",
   "execution_count": null,
   "id": "9319206e",
   "metadata": {},
   "outputs": [
    {
     "name": "stdout",
     "output_type": "stream",
     "text": [
      "Enter the value please12\n",
      "(12,)\n",
      "Enter the value please24\n",
      "(12, 24)\n",
      "Enter the value please36\n",
      "(12, 24, 36)\n",
      "Enter the value please48\n",
      "(12, 24, 36, 48)\n",
      "Enter the value please60\n",
      "(12, 24, 36, 48, 60)\n"
     ]
    }
   ],
   "source": [
    "t = ()\n",
    "i = 0\n",
    "while i<=5:\n",
    "    num = int(input(\"Enter the value please\"))\n",
    "    t = t + (num,)\n",
    "    i = i + 1\n",
    "    print(t)"
   ]
  },
  {
   "cell_type": "markdown",
   "id": "9d8be285",
   "metadata": {},
   "source": [
    "Creating Dictionary"
   ]
  },
  {
   "cell_type": "code",
   "execution_count": null,
   "id": "08931b5a",
   "metadata": {},
   "outputs": [],
   "source": [
    "a = {\n",
    "    \"ID\":41404,\n",
    "    \"Year\":2015,\n",
    "    \"Color\":\"Green\"\n",
    "}"
   ]
  },
  {
   "cell_type": "code",
   "execution_count": null,
   "id": "c96b1cc9",
   "metadata": {},
   "outputs": [],
   "source": [
    "print(a)\n",
    "print(type(a))"
   ]
  },
  {
   "cell_type": "code",
   "execution_count": 2,
   "id": "f038b908",
   "metadata": {},
   "outputs": [
    {
     "name": "stdout",
     "output_type": "stream",
     "text": [
      "3\n"
     ]
    }
   ],
   "source": [
    "a = {\n",
    "    \"ID\":41404,\n",
    "    \"Year\":2015,\n",
    "    \"Color\":\"Green\"\n",
    "}\n",
    "print(len(a))"
   ]
  },
  {
   "cell_type": "code",
   "execution_count": 1,
   "id": "27c0382e-2df1-4648-a214-f5573bbb651a",
   "metadata": {},
   "outputs": [
    {
     "name": "stdout",
     "output_type": "stream",
     "text": [
      "\n",
      "************************************************************\n",
      "*                                                          *\n",
      "*          <== INVENTORY MANAGEMENT SYSTEM ==>             *\n",
      "*                                                          *\n",
      "************************************************************\n",
      "\n",
      "Product Product1 added successfully.\n",
      "Product Product2 added successfully.\n",
      "Product Product3 added successfully.\n",
      "Stock for product ID ID001 updated successfully.\n",
      "Stock for product ID ID003 updated successfully.\n",
      "All products in inventory:\n",
      "ID: ID001, Name: Product1, Category: Category1, Stock: 70\n",
      "ID: ID002, Name: Product2, Category: Category1, Stock: 30\n",
      "ID: ID003, Name: Product3, Category: Category2, Stock: 15\n",
      "Products in category 'Category1':\n",
      "ID: ID001, Name: Product1, Stock: 70\n",
      "ID: ID002, Name: Product2, Stock: 30\n",
      "Products in category 'Category2':\n",
      "ID: ID003, Name: Product3, Stock: 15\n"
     ]
    }
   ],
   "source": [
    "header = \"\"\"\n",
    "************************************************************\n",
    "*                                                          *\n",
    "*          <== INVENTORY MANAGEMENT SYSTEM ==>             *\n",
    "*                                                          *\n",
    "************************************************************\n",
    "\"\"\"\n",
    "\n",
    "print(header)\n",
    "\n",
    "products = {}\n",
    "product_order = []\n",
    "categories = set()\n",
    "\n",
    "# Function to add a product\n",
    "def add_product(product_id, name, category, stock):\n",
    "    if product_id in products:\n",
    "        print(\"Product ID already exists. No duplicates allowed.\")\n",
    "        return\n",
    "    product_info = (name, category)\n",
    "    products[product_id] = {'info': product_info, 'stock': stock}\n",
    "    product_order.append(product_id)\n",
    "    categories.add(category)\n",
    "    print(f\"Product {name} added successfully.\")\n",
    "\n",
    "# Function to update stock\n",
    "def update_stock(product_id, quantity):\n",
    "    if product_id in products:\n",
    "        products[product_id]['stock'] += quantity\n",
    "        print(f\"Stock for product ID {product_id} updated successfully.\")\n",
    "    else:\n",
    "        print(\"Product ID not found.\")\n",
    "\n",
    "# Function to display all products\n",
    "def display_products():\n",
    "    if products:\n",
    "        print(\"All products in inventory:\")\n",
    "        for product_id in product_order:\n",
    "            product = products[product_id]\n",
    "            name, category = product['info']\n",
    "            stock = product['stock']\n",
    "            print(f\"ID: {product_id}, Name: {name}, Category: {category}, Stock: {stock}\")\n",
    "    else:\n",
    "        print(\"No products available.\")\n",
    "\n",
    "# Function to display products by category\n",
    "def display_by_category(category):\n",
    "    print(f\"Products in category '{category}':\")\n",
    "    found = False\n",
    "    for product_id, product in products.items():\n",
    "        name, cat = product['info']\n",
    "        if cat == category:\n",
    "            stock = product['stock']\n",
    "            print(f\"ID: {product_id}, Name: {name}, Stock: {stock}\")\n",
    "            found = True\n",
    "    if not found:\n",
    "        print(\"No products found in this category.\")\n",
    "\n",
    "# Testing the system\n",
    "# Add multiple products\n",
    "add_product(\"ID001\", \"Product1\", \"Category1\", 50)\n",
    "add_product(\"ID002\", \"Product2\", \"Category1\", 30)\n",
    "add_product(\"ID003\", \"Product3\", \"Category2\", 20)\n",
    "\n",
    "# Update stock levels\n",
    "update_stock(\"ID001\", 20)\n",
    "update_stock(\"ID003\", -5)\n",
    "\n",
    "# Display all products\n",
    "display_products()\n",
    "\n",
    "# Display products by category\n",
    "display_by_category(\"Category1\")\n",
    "display_by_category(\"Category2\")"
   ]
  },
  {
   "cell_type": "code",
   "execution_count": null,
   "id": "ed45d759-1301-4980-888b-4c9997b072a4",
   "metadata": {},
   "outputs": [],
   "source": []
  }
 ],
 "metadata": {
  "kernelspec": {
   "display_name": "Python 3 (ipykernel)",
   "language": "python",
   "name": "python3"
  },
  "language_info": {
   "codemirror_mode": {
    "name": "ipython",
    "version": 3
   },
   "file_extension": ".py",
   "mimetype": "text/x-python",
   "name": "python",
   "nbconvert_exporter": "python",
   "pygments_lexer": "ipython3",
   "version": "3.11.7"
  }
 },
 "nbformat": 4,
 "nbformat_minor": 5
}
