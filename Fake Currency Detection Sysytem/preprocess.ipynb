{
 "cells": [
  {
   "cell_type": "markdown",
   "id": "f12204fe-197c-4222-9e34-dc213ff09679",
   "metadata": {},
   "source": [
    "### Import Libraries"
   ]
  },
  {
   "cell_type": "code",
   "execution_count": 1,
   "id": "8502ce18-53b5-40e9-97b0-93d847f66e19",
   "metadata": {},
   "outputs": [],
   "source": [
    "import os\n",
    "import cv2"
   ]
  },
  {
   "cell_type": "markdown",
   "id": "fff91e27-5594-4e4c-85a0-40536db57944",
   "metadata": {},
   "source": [
    "### Get image dimensions and Crop top right portion"
   ]
  },
  {
   "cell_type": "code",
   "execution_count": 2,
   "id": "7d17ba1b-0e38-44a3-8b4f-0aa0a4c830bb",
   "metadata": {},
   "outputs": [],
   "source": [
    "def crop_top_right(image):\n",
    "    height, width = image.shape[:2]\n",
    "\n",
    "    crop_height = height // 2\n",
    "    crop_width = width // 2\n",
    "    top_right = image[:crop_height, -crop_width:]\n",
    "\n",
    "    return top_right"
   ]
  },
  {
   "cell_type": "markdown",
   "id": "77371fbf-03f6-4598-bf16-0409ad2f406f",
   "metadata": {},
   "source": [
    "### Read the image, Apply median filter to reduce noise, and Save preprocessed image"
   ]
  },
  {
   "cell_type": "code",
   "execution_count": 3,
   "id": "59f088d5-ad3d-4d1e-9452-b21c8e2c6721",
   "metadata": {},
   "outputs": [],
   "source": [
    "def preprocess_image(image_path, output_dir):\n",
    "    image = cv2.imread(image_path, cv2.IMREAD_GRAYSCALE)\n",
    "\n",
    "    cropped_image = crop_top_right(image)\n",
    "\n",
    "    filtered_image = cv2.medianBlur(cropped_image, 5)\n",
    "    \n",
    "    output_path = os.path.join(output_dir, os.path.basename(image_path))\n",
    "    cv2.imwrite(output_path, filtered_image)\n",
    "\n",
    "    return output_path"
   ]
  },
  {
   "cell_type": "code",
   "execution_count": null,
   "id": "664da96d-68ec-4a26-9a6f-9e0baba00a9c",
   "metadata": {},
   "outputs": [],
   "source": []
  }
 ],
 "metadata": {
  "kernelspec": {
   "display_name": "Python 3 (ipykernel)",
   "language": "python",
   "name": "python3"
  },
  "language_info": {
   "codemirror_mode": {
    "name": "ipython",
    "version": 3
   },
   "file_extension": ".py",
   "mimetype": "text/x-python",
   "name": "python",
   "nbconvert_exporter": "python",
   "pygments_lexer": "ipython3",
   "version": "3.11.7"
  }
 },
 "nbformat": 4,
 "nbformat_minor": 5
}
