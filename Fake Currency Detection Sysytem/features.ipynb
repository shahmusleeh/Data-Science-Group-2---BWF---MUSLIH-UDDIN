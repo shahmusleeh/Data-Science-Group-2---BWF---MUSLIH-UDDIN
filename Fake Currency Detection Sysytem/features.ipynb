{
 "cells": [
  {
   "cell_type": "markdown",
   "id": "bf4f810f-430f-4f23-98da-4ac6b1b9f0cf",
   "metadata": {},
   "source": [
    "### Import Libraries"
   ]
  },
  {
   "cell_type": "code",
   "execution_count": 1,
   "id": "0bfe70c7-21a8-4b43-8ee6-f1f5db4a2b04",
   "metadata": {},
   "outputs": [],
   "source": [
    "import numpy as np\n",
    "import cv2"
   ]
  },
  {
   "cell_type": "markdown",
   "id": "9a756059-133f-46a9-8226-d09eadca1c40",
   "metadata": {},
   "source": [
    "### Calculate derivatives in x and y directions and combine the derivatives to get the magnitude"
   ]
  },
  {
   "cell_type": "code",
   "execution_count": 2,
   "id": "2d6ab431-ee37-4d4b-9e1a-6284aa8d9ce6",
   "metadata": {},
   "outputs": [],
   "source": [
    "def calculate_derivative(image):\n",
    "    fx = cv2.Sobel(image, cv2.CV_64F, 1, 0, ksize=3) \n",
    "    fy = cv2.Sobel(image, cv2.CV_64F, 0, 1, ksize=3) \n",
    "    \n",
    "    gradient_magnitude = np.sqrt(fx**2 + fy**2)\n",
    "    \n",
    "    return gradient_magnitude"
   ]
  },
  {
   "cell_type": "markdown",
   "id": "423c4d84-f778-4800-8312-ecc2f658e1c0",
   "metadata": {},
   "source": [
    "### Get image dimensions, Calculate block size, and Divide the image into four equal blocks"
   ]
  },
  {
   "cell_type": "code",
   "execution_count": 3,
   "id": "0214019a-2e4f-4fd1-8550-224af7959674",
   "metadata": {},
   "outputs": [],
   "source": [
    "def divide_into_blocks(image):\n",
    "    height, width = image.shape[:2]\n",
    "\n",
    "    block_width = width // 2\n",
    "    block_height = height // 2\n",
    "    \n",
    "    blocks = []\n",
    "    for i in range(2):\n",
    "        for j in range(2):\n",
    "            block = image[i*block_height:(i+1)*block_height, j*block_width:(j+1)*block_width]\n",
    "            blocks.append(block)\n",
    "    \n",
    "    return blocks"
   ]
  },
  {
   "cell_type": "markdown",
   "id": "44af7f01-9c6f-4627-b437-52daa1c5f63b",
   "metadata": {},
   "source": [
    "### Mean vector and pixel counter"
   ]
  },
  {
   "cell_type": "code",
   "execution_count": 4,
   "id": "59974914-cb74-45bb-b09e-4e5231227ee6",
   "metadata": {},
   "outputs": [],
   "source": [
    "def calculate_features(block, fd, sd):\n",
    "    features = []\n",
    "    m = np.zeros(8) \n",
    "    c = np.zeros(8) \n",
    "    \n",
    "    block_cols = block.shape[1]\n",
    "    f_block = block.flatten()\n",
    "    f_fd = fd.flatten()\n",
    "    f_sd = sd.flatten()\n",
    "    \n",
    "    for i in range(block_cols + 2, len(f_block) - 2):\n",
    "        p_pixel = i - block_cols\n",
    "        \n",
    "        if f_fd[i] >= 0 and f_fd[p_pixel] < 0:\n",
    "            c[0] += 1\n",
    "            m[0] += f_block[i]\n",
    "        \n",
    "        if f_fd[i] < 0 and f_fd[p_pixel] < 0:\n",
    "            c[1] += 1\n",
    "            m[1] += f_block[i]\n",
    "        \n",
    "        if f_fd[i] < 0 and f_fd[p_pixel] >= 0:\n",
    "            c[2] += 1\n",
    "            m[2] += f_block[i]\n",
    "        \n",
    "        if f_fd[i] > 0 and f_fd[p_pixel] > 0:\n",
    "            c[3] += 1\n",
    "            m[3] += f_block[i]\n",
    "        \n",
    "        if f_sd[i] >= 0 and f_sd[p_pixel] < 0:\n",
    "            c[4] += 1\n",
    "            m[4] += f_block[i]\n",
    "        \n",
    "        if f_sd[i] < 0 and f_sd[p_pixel] < 0:\n",
    "            c[5] += 1\n",
    "            m[5] += f_block[i]\n",
    "        \n",
    "        if f_sd[i] < 0 and f_sd[p_pixel] >= 0:\n",
    "            c[6] += 1\n",
    "            m[6] += f_block[i]\n",
    "        \n",
    "        if f_sd[i] > 0 and f_sd[p_pixel] > 0:\n",
    "            c[7] += 1\n",
    "            m[7] += f_block[i]\n",
    "    \n",
    "    for i in range(8):\n",
    "        if c[i] != 0:\n",
    "            m[i] /= c[i]\n",
    "    \n",
    "    return m\n"
   ]
  },
  {
   "cell_type": "code",
   "execution_count": null,
   "id": "535a091d-9cf2-4df9-a65a-cc3677dd7f88",
   "metadata": {},
   "outputs": [],
   "source": []
  }
 ],
 "metadata": {
  "kernelspec": {
   "display_name": "Python 3 (ipykernel)",
   "language": "python",
   "name": "python3"
  },
  "language_info": {
   "codemirror_mode": {
    "name": "ipython",
    "version": 3
   },
   "file_extension": ".py",
   "mimetype": "text/x-python",
   "name": "python",
   "nbconvert_exporter": "python",
   "pygments_lexer": "ipython3",
   "version": "3.11.7"
  }
 },
 "nbformat": 4,
 "nbformat_minor": 5
}
