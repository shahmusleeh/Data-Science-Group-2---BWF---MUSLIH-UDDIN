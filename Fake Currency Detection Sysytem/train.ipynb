{
 "cells": [
  {
   "cell_type": "markdown",
   "id": "a05cbfae-a9cd-47b0-aafc-8b19fcc30510",
   "metadata": {},
   "source": [
    "### Import Libraries"
   ]
  },
  {
   "cell_type": "code",
   "execution_count": 1,
   "id": "ff405e6f-e146-4dd9-b165-222c26ddac7c",
   "metadata": {},
   "outputs": [],
   "source": [
    "import os\n",
    "import cv2\n",
    "import numpy as np\n",
    "from features import divide_into_blocks, calculate_derivative, calculate_features"
   ]
  },
  {
   "cell_type": "code",
   "execution_count": 2,
   "id": "a14f3bac-50c6-4d0a-befe-d9c0e5d36028",
   "metadata": {},
   "outputs": [],
   "source": [
    "def calculate_roughness(block, fd, sd):\n",
    "    roughness_features = calculate_features(block, fd, sd)\n",
    "    return roughness_features"
   ]
  },
  {
   "cell_type": "markdown",
   "id": "aa0a275d-0a4b-4446-a74e-b65606ee51d8",
   "metadata": {},
   "source": [
    "### Train SVM classifier"
   ]
  },
  {
   "cell_type": "code",
   "execution_count": 3,
   "id": "2bd10b44-3532-4640-9ea6-e4fddee5dfe7",
   "metadata": {},
   "outputs": [],
   "source": [
    "def train_svm(train_features, train_labels):\n",
    "    from sklearn.svm import SVC\n",
    "    \n",
    "    svm = SVC(kernel='linear')\n",
    "    svm.fit(train_features, train_labels)\n",
    "    return svm"
   ]
  },
  {
   "cell_type": "code",
   "execution_count": null,
   "id": "87773c50-32c7-4061-93c3-f56fe196e832",
   "metadata": {},
   "outputs": [],
   "source": []
  }
 ],
 "metadata": {
  "kernelspec": {
   "display_name": "Python 3 (ipykernel)",
   "language": "python",
   "name": "python3"
  },
  "language_info": {
   "codemirror_mode": {
    "name": "ipython",
    "version": 3
   },
   "file_extension": ".py",
   "mimetype": "text/x-python",
   "name": "python",
   "nbconvert_exporter": "python",
   "pygments_lexer": "ipython3",
   "version": "3.11.7"
  }
 },
 "nbformat": 4,
 "nbformat_minor": 5
}
