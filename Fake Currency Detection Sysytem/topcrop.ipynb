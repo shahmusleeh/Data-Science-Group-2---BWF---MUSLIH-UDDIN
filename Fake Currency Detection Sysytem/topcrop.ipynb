{
 "cells": [
  {
   "cell_type": "markdown",
   "id": "8cb72016-ba79-4b0f-9f4b-a19ee585074d",
   "metadata": {},
   "source": [
    "### Import Libraries"
   ]
  },
  {
   "cell_type": "code",
   "execution_count": 1,
   "id": "4221fb8e-ed72-4dab-9985-d5c5ef6f213f",
   "metadata": {},
   "outputs": [],
   "source": [
    "import cv2\n",
    "import matplotlib.pyplot as plt\n",
    "import numpy as np"
   ]
  },
  {
   "cell_type": "markdown",
   "id": "56416830-7358-472c-9aba-026fd341182f",
   "metadata": {},
   "source": [
    "### Get image dimensions"
   ]
  },
  {
   "cell_type": "code",
   "execution_count": 2,
   "id": "4571cd99-599c-46b9-8f73-82b07705c9f1",
   "metadata": {},
   "outputs": [],
   "source": [
    "def crop_top_right(image):\n",
    "    height, width = image.shape[:2]\n",
    "\n",
    "    crop_height = int(height * 0.5)  \n",
    "    crop_width = int(width * 0.5)    \n",
    "    top_right = image[:crop_height, -crop_width:]\n",
    "\n",
    "    return top_right"
   ]
  },
  {
   "cell_type": "code",
   "execution_count": null,
   "id": "ba382da0-67ef-4ccf-8bf6-d0902e248b42",
   "metadata": {},
   "outputs": [],
   "source": []
  }
 ],
 "metadata": {
  "kernelspec": {
   "display_name": "Python 3 (ipykernel)",
   "language": "python",
   "name": "python3"
  },
  "language_info": {
   "codemirror_mode": {
    "name": "ipython",
    "version": 3
   },
   "file_extension": ".py",
   "mimetype": "text/x-python",
   "name": "python",
   "nbconvert_exporter": "python",
   "pygments_lexer": "ipython3",
   "version": "3.11.7"
  }
 },
 "nbformat": 4,
 "nbformat_minor": 5
}
