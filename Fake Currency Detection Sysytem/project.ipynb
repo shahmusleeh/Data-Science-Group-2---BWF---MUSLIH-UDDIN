{
 "cells": [
  {
   "cell_type": "markdown",
   "id": "9007760f-1d91-4acb-9d6e-bcf97ead5874",
   "metadata": {},
   "source": [
    "### Import Libraries"
   ]
  },
  {
   "cell_type": "code",
   "execution_count": 33,
   "id": "f0da894d-64fc-4925-a150-3edbdbbadf29",
   "metadata": {},
   "outputs": [],
   "source": [
    "import os\n",
    "import cv2\n",
    "import numpy as np\n",
    "from sklearn.svm import SVC\n",
    "from sklearn.metrics import accuracy_score\n",
    "import matplotlib.pyplot as plt\n",
    "from sklearn.metrics import roc_curve, auc\n",
    "from sklearn.metrics import confusion_matrix, ConfusionMatrixDisplay"
   ]
  },
  {
   "cell_type": "markdown",
   "id": "6a95a86c-7866-440d-b10e-4a5ed3f1c347",
   "metadata": {},
   "source": [
    "### Get image dimensions"
   ]
  },
  {
   "cell_type": "code",
   "execution_count": 34,
   "id": "2594a417-c8c6-48a7-9a74-3cd323751806",
   "metadata": {},
   "outputs": [],
   "source": [
    "def crop_top_right(image):\n",
    "    height, width = image.shape[:2]\n",
    "\n",
    "    crop_height = height // 2\n",
    "    crop_width = width // 2\n",
    "    top_right = image[:crop_height, -crop_width:]\n",
    "\n",
    "    return top_right"
   ]
  },
  {
   "cell_type": "markdown",
   "id": "4fcdbfd1-8821-43f7-ae36-ed90729e2edb",
   "metadata": {},
   "source": [
    "### Calculate derivatives in x and y directions"
   ]
  },
  {
   "cell_type": "code",
   "execution_count": 35,
   "id": "373458c7-9708-43ec-bd61-c6bb6ba7aa0e",
   "metadata": {},
   "outputs": [],
   "source": [
    "def calculate_derivative(image):\n",
    "    fx = cv2.Sobel(image, cv2.CV_64F, 1, 0, ksize=3) \n",
    "    fy = cv2.Sobel(image, cv2.CV_64F, 0, 1, ksize=3) \n",
    "    \n",
    "    gradient_magnitude = np.sqrt(fx**2 + fy**2)\n",
    "    \n",
    "    return gradient_magnitude"
   ]
  },
  {
   "cell_type": "markdown",
   "id": "0992be2f-e6a9-4982-b268-be9545a66a85",
   "metadata": {},
   "source": [
    "### Get image dimensions"
   ]
  },
  {
   "cell_type": "code",
   "execution_count": 36,
   "id": "580512f8-50d8-427e-bbc1-c8130eb1f1a1",
   "metadata": {},
   "outputs": [],
   "source": [
    "def divide_into_blocks(image):\n",
    "    height, width = image.shape[:2]\n",
    "\n",
    "    block_width = width // 2\n",
    "    block_height = height // 2\n",
    "    \n",
    "    blocks = []\n",
    "    for i in range(2):\n",
    "        for j in range(2):\n",
    "            block = image[i*block_height:(i+1)*block_height, j*block_width:(j+1)*block_width]\n",
    "            blocks.append(block)\n",
    "    \n",
    "    return blocks"
   ]
  },
  {
   "cell_type": "markdown",
   "id": "0e1746bf-5534-48b8-808e-20a75533b12c",
   "metadata": {},
   "source": [
    "### mean vector"
   ]
  },
  {
   "cell_type": "code",
   "execution_count": 37,
   "id": "b9e76eb9-6184-4109-9abb-892156e9eef0",
   "metadata": {},
   "outputs": [],
   "source": [
    "def calculate_features(block, fd, sd):\n",
    "    features = []\n",
    "    m = np.zeros(8)\n",
    "    c = np.zeros(8)\n",
    "    \n",
    "    block_cols = block.shape[1]\n",
    "    f_block = block.flatten()\n",
    "    f_fd = fd.flatten()\n",
    "    f_sd = sd.flatten()\n",
    "    \n",
    "    for i in range(block_cols + 2, len(f_block) - 2):\n",
    "        p_pixel = i - block_cols\n",
    "        \n",
    "        if f_fd[i] >= 0 and f_fd[p_pixel] < 0:\n",
    "            c[0] += 1\n",
    "            m[0] += f_block[i]\n",
    "        \n",
    "        if f_fd[i] < 0 and f_fd[p_pixel] < 0:\n",
    "            c[1] += 1\n",
    "            m[1] += f_block[i]\n",
    "        \n",
    "        if f_fd[i] < 0 and f_fd[p_pixel] >= 0:\n",
    "            c[2] += 1\n",
    "            m[2] += f_block[i]\n",
    "        \n",
    "        if f_fd[i] > 0 and f_fd[p_pixel] > 0:\n",
    "            c[3] += 1\n",
    "            m[3] += f_block[i]\n",
    "        \n",
    "        if f_sd[i] >= 0 and f_sd[p_pixel] < 0:\n",
    "            c[4] += 1\n",
    "            m[4] += f_block[i]\n",
    "        \n",
    "        if f_sd[i] < 0 and f_sd[p_pixel] < 0:\n",
    "            c[5] += 1\n",
    "            m[5] += f_block[i]\n",
    "        \n",
    "        if f_sd[i] < 0 and f_sd[p_pixel] >= 0:\n",
    "            c[6] += 1\n",
    "            m[6] += f_block[i]\n",
    "        \n",
    "        if f_sd[i] > 0 and f_sd[p_pixel] > 0:\n",
    "            c[7] += 1\n",
    "            m[7] += f_block[i]\n",
    "    \n",
    "    for i in range(8):\n",
    "        if c[i] != 0:\n",
    "            m[i] /= c[i]\n",
    "    \n",
    "    return m"
   ]
  },
  {
   "cell_type": "markdown",
   "id": "4073ec07-6baf-4998-9441-20b999530e34",
   "metadata": {},
   "source": [
    "### Read the image"
   ]
  },
  {
   "cell_type": "code",
   "execution_count": 38,
   "id": "99138359-b516-49df-b662-778945dc0015",
   "metadata": {},
   "outputs": [],
   "source": [
    "def preprocess_image(image_path, output_dir):\n",
    "    image = cv2.imread(image_path, cv2.IMREAD_GRAYSCALE)\n",
    "\n",
    "    cropped_image = crop_top_right(image)\n",
    "\n",
    "    filtered_image = cv2.medianBlur(cropped_image, 5)  # Adjust the kernel size as needed\n",
    "    \n",
    "    output_path = os.path.join(output_dir, os.path.basename(image_path))\n",
    "    cv2.imwrite(output_path, filtered_image)\n",
    "\n",
    "    return output_path"
   ]
  },
  {
   "cell_type": "code",
   "execution_count": 39,
   "id": "0cf07cc6-3b7a-441a-99d9-1ef025f3f103",
   "metadata": {},
   "outputs": [],
   "source": [
    "def calculate_roughness(block, fd, sd):\n",
    "    roughness_features = calculate_features(block, fd, sd)\n",
    "    return roughness_features"
   ]
  },
  {
   "cell_type": "markdown",
   "id": "3f6a4bd9-1aab-4084-8f7f-111052f32339",
   "metadata": {},
   "source": [
    "### Directory paths"
   ]
  },
  {
   "cell_type": "code",
   "execution_count": 40,
   "id": "c52c3533-3cf7-4218-8162-b6ebc5c3bdb3",
   "metadata": {},
   "outputs": [],
   "source": [
    "train_dir = 'train/'\n",
    "test_dir = 'test/'\n",
    "output_dir = 'preprocessed_images/'"
   ]
  },
  {
   "cell_type": "markdown",
   "id": "6bfbe362-d598-413e-9a7a-c06beb8d0e04",
   "metadata": {},
   "source": [
    "### Create output directory if it doesn't exist"
   ]
  },
  {
   "cell_type": "code",
   "execution_count": 41,
   "id": "0a57e612-7775-4377-951d-73b1d7b94ecc",
   "metadata": {},
   "outputs": [],
   "source": [
    "os.makedirs(output_dir, exist_ok=True)"
   ]
  },
  {
   "cell_type": "markdown",
   "id": "a09f69de-2310-4f6e-8b6d-6b5aa3ad5495",
   "metadata": {},
   "source": [
    "### Preprocess training images"
   ]
  },
  {
   "cell_type": "code",
   "execution_count": 42,
   "id": "7102ba1f-ff6a-4ec6-b83c-7c29d1d01b2e",
   "metadata": {},
   "outputs": [],
   "source": [
    "train_image_paths = [os.path.join(train_dir, img) for img in os.listdir(train_dir)]\n",
    "for image_path in train_image_paths:\n",
    "    preprocess_image(image_path, output_dir)"
   ]
  },
  {
   "cell_type": "markdown",
   "id": "65372e48-bafa-4d8b-b0ef-68661138f28e",
   "metadata": {},
   "source": [
    "### Load and preprocess test images"
   ]
  },
  {
   "cell_type": "code",
   "execution_count": 43,
   "id": "6177d4da-14b2-42a1-927d-974fe1a33552",
   "metadata": {},
   "outputs": [],
   "source": [
    "test_image_paths = [os.path.join(test_dir, img) for img in os.listdir(test_dir)]\n",
    "test_images = []\n",
    "for image_path in test_image_paths:\n",
    "    image = cv2.imread(image_path, cv2.IMREAD_GRAYSCALE)\n",
    "    preprocessed_image = crop_top_right(cv2.medianBlur(image, 5))\n",
    "    test_images.append(preprocessed_image)"
   ]
  },
  {
   "cell_type": "markdown",
   "id": "765bb5b3-518d-4a16-bdb3-8026de6db355",
   "metadata": {},
   "source": [
    "### Process preprocessed training images"
   ]
  },
  {
   "cell_type": "code",
   "execution_count": 44,
   "id": "f8992a87-ef1e-4f98-879e-097ab042432f",
   "metadata": {},
   "outputs": [],
   "source": [
    "preprocessed_train_image_paths = [os.path.join(output_dir, img) for img in os.listdir(output_dir)]\n",
    "train_features = []\n",
    "train_labels = []"
   ]
  },
  {
   "cell_type": "markdown",
   "id": "83c542af-227f-4302-a6a5-9c74098f7a46",
   "metadata": {},
   "source": [
    "### Read the preprocessed image, Divide the preprocessed image into four blocks, Calculate roughness for each block and aggregate features and Append features and labels"
   ]
  },
  {
   "cell_type": "code",
   "execution_count": 45,
   "id": "8c9ec758-b310-467f-8728-169181795ba8",
   "metadata": {},
   "outputs": [],
   "source": [
    "for image_path in preprocessed_train_image_paths:\n",
    "    preprocessed_image = cv2.imread(image_path, cv2.IMREAD_GRAYSCALE)\n",
    "\n",
    "    blocks = divide_into_blocks(preprocessed_image)\n",
    "    fd = calculate_derivative(preprocessed_image) \n",
    "    sd = calculate_derivative(fd) \n",
    "\n",
    "    roughness_features = []\n",
    "    for block in blocks:\n",
    "        roughness_features.extend(calculate_roughness(block, fd, sd))\n",
    "    \n",
    "    train_features.append(roughness_features)\n",
    "    if \"FAKE\" in image_path:\n",
    "        train_labels.append(1)  \n",
    "    else:\n",
    "        train_labels.append(0) "
   ]
  },
  {
   "cell_type": "markdown",
   "id": "5b0a768b-b653-4a42-89e0-e95662b6be70",
   "metadata": {},
   "source": [
    "### Train SVM classifier"
   ]
  },
  {
   "cell_type": "code",
   "execution_count": 46,
   "id": "f061c00e-0b3a-46b0-86f3-ab84bcf53b35",
   "metadata": {},
   "outputs": [
    {
     "data": {
      "text/html": [
       "<style>#sk-container-id-2 {color: black;background-color: white;}#sk-container-id-2 pre{padding: 0;}#sk-container-id-2 div.sk-toggleable {background-color: white;}#sk-container-id-2 label.sk-toggleable__label {cursor: pointer;display: block;width: 100%;margin-bottom: 0;padding: 0.3em;box-sizing: border-box;text-align: center;}#sk-container-id-2 label.sk-toggleable__label-arrow:before {content: \"▸\";float: left;margin-right: 0.25em;color: #696969;}#sk-container-id-2 label.sk-toggleable__label-arrow:hover:before {color: black;}#sk-container-id-2 div.sk-estimator:hover label.sk-toggleable__label-arrow:before {color: black;}#sk-container-id-2 div.sk-toggleable__content {max-height: 0;max-width: 0;overflow: hidden;text-align: left;background-color: #f0f8ff;}#sk-container-id-2 div.sk-toggleable__content pre {margin: 0.2em;color: black;border-radius: 0.25em;background-color: #f0f8ff;}#sk-container-id-2 input.sk-toggleable__control:checked~div.sk-toggleable__content {max-height: 200px;max-width: 100%;overflow: auto;}#sk-container-id-2 input.sk-toggleable__control:checked~label.sk-toggleable__label-arrow:before {content: \"▾\";}#sk-container-id-2 div.sk-estimator input.sk-toggleable__control:checked~label.sk-toggleable__label {background-color: #d4ebff;}#sk-container-id-2 div.sk-label input.sk-toggleable__control:checked~label.sk-toggleable__label {background-color: #d4ebff;}#sk-container-id-2 input.sk-hidden--visually {border: 0;clip: rect(1px 1px 1px 1px);clip: rect(1px, 1px, 1px, 1px);height: 1px;margin: -1px;overflow: hidden;padding: 0;position: absolute;width: 1px;}#sk-container-id-2 div.sk-estimator {font-family: monospace;background-color: #f0f8ff;border: 1px dotted black;border-radius: 0.25em;box-sizing: border-box;margin-bottom: 0.5em;}#sk-container-id-2 div.sk-estimator:hover {background-color: #d4ebff;}#sk-container-id-2 div.sk-parallel-item::after {content: \"\";width: 100%;border-bottom: 1px solid gray;flex-grow: 1;}#sk-container-id-2 div.sk-label:hover label.sk-toggleable__label {background-color: #d4ebff;}#sk-container-id-2 div.sk-serial::before {content: \"\";position: absolute;border-left: 1px solid gray;box-sizing: border-box;top: 0;bottom: 0;left: 50%;z-index: 0;}#sk-container-id-2 div.sk-serial {display: flex;flex-direction: column;align-items: center;background-color: white;padding-right: 0.2em;padding-left: 0.2em;position: relative;}#sk-container-id-2 div.sk-item {position: relative;z-index: 1;}#sk-container-id-2 div.sk-parallel {display: flex;align-items: stretch;justify-content: center;background-color: white;position: relative;}#sk-container-id-2 div.sk-item::before, #sk-container-id-2 div.sk-parallel-item::before {content: \"\";position: absolute;border-left: 1px solid gray;box-sizing: border-box;top: 0;bottom: 0;left: 50%;z-index: -1;}#sk-container-id-2 div.sk-parallel-item {display: flex;flex-direction: column;z-index: 1;position: relative;background-color: white;}#sk-container-id-2 div.sk-parallel-item:first-child::after {align-self: flex-end;width: 50%;}#sk-container-id-2 div.sk-parallel-item:last-child::after {align-self: flex-start;width: 50%;}#sk-container-id-2 div.sk-parallel-item:only-child::after {width: 0;}#sk-container-id-2 div.sk-dashed-wrapped {border: 1px dashed gray;margin: 0 0.4em 0.5em 0.4em;box-sizing: border-box;padding-bottom: 0.4em;background-color: white;}#sk-container-id-2 div.sk-label label {font-family: monospace;font-weight: bold;display: inline-block;line-height: 1.2em;}#sk-container-id-2 div.sk-label-container {text-align: center;}#sk-container-id-2 div.sk-container {/* jupyter's `normalize.less` sets `[hidden] { display: none; }` but bootstrap.min.css set `[hidden] { display: none !important; }` so we also need the `!important` here to be able to override the default hidden behavior on the sphinx rendered scikit-learn.org. See: https://github.com/scikit-learn/scikit-learn/issues/21755 */display: inline-block !important;position: relative;}#sk-container-id-2 div.sk-text-repr-fallback {display: none;}</style><div id=\"sk-container-id-2\" class=\"sk-top-container\"><div class=\"sk-text-repr-fallback\"><pre>SVC(kernel=&#x27;linear&#x27;)</pre><b>In a Jupyter environment, please rerun this cell to show the HTML representation or trust the notebook. <br />On GitHub, the HTML representation is unable to render, please try loading this page with nbviewer.org.</b></div><div class=\"sk-container\" hidden><div class=\"sk-item\"><div class=\"sk-estimator sk-toggleable\"><input class=\"sk-toggleable__control sk-hidden--visually\" id=\"sk-estimator-id-2\" type=\"checkbox\" checked><label for=\"sk-estimator-id-2\" class=\"sk-toggleable__label sk-toggleable__label-arrow\">SVC</label><div class=\"sk-toggleable__content\"><pre>SVC(kernel=&#x27;linear&#x27;)</pre></div></div></div></div></div>"
      ],
      "text/plain": [
       "SVC(kernel='linear')"
      ]
     },
     "execution_count": 46,
     "metadata": {},
     "output_type": "execute_result"
    }
   ],
   "source": [
    "svm = SVC(kernel='linear')\n",
    "svm.fit(train_features, train_labels)"
   ]
  },
  {
   "cell_type": "markdown",
   "id": "5ab54523-be24-43b0-9836-08623e8dccc4",
   "metadata": {},
   "source": [
    "### Test the classifier"
   ]
  },
  {
   "cell_type": "code",
   "execution_count": 47,
   "id": "36a07509-05e3-491a-8b0a-299e86852993",
   "metadata": {},
   "outputs": [],
   "source": [
    "test_features = []\n",
    "for test_image in test_images:\n",
    "    blocks = divide_into_blocks(test_image)\n",
    "    fd = calculate_derivative(test_image)  \n",
    "    sd = calculate_derivative(fd) \n",
    "\n",
    "    roughness_features = []\n",
    "    for block in blocks:\n",
    "        roughness_features.extend(calculate_roughness(block, fd, sd))\n",
    "    test_features.append(roughness_features)"
   ]
  },
  {
   "cell_type": "markdown",
   "id": "e3ae933e-db3d-4872-ad18-3d102f1d68a6",
   "metadata": {},
   "source": [
    "### Predict labels for test images"
   ]
  },
  {
   "cell_type": "code",
   "execution_count": 48,
   "id": "6eaf4ed2-69eb-42b2-8a0b-c2d8784ea3ce",
   "metadata": {},
   "outputs": [],
   "source": [
    "predicted_labels = svm.predict(test_features)"
   ]
  },
  {
   "cell_type": "markdown",
   "id": "50c64e79-99a9-4b76-abab-d6b95db80862",
   "metadata": {},
   "source": [
    "### Print unique values in train_labels"
   ]
  },
  {
   "cell_type": "code",
   "execution_count": 49,
   "id": "3be16638-a5b3-4199-9e3f-cc5fd9a01c78",
   "metadata": {},
   "outputs": [
    {
     "name": "stdout",
     "output_type": "stream",
     "text": [
      "Unique values in train_labels: [0 1]\n"
     ]
    }
   ],
   "source": [
    "print(\"Unique values in train_labels:\", np.unique(train_labels))"
   ]
  },
  {
   "cell_type": "markdown",
   "id": "fbb573d6-aefc-47a6-ad83-15998b3d4ae5",
   "metadata": {},
   "source": [
    "### Print train_features"
   ]
  },
  {
   "cell_type": "code",
   "execution_count": 50,
   "id": "b815782c-f381-4440-8d70-e0cc8e2354f4",
   "metadata": {},
   "outputs": [
    {
     "name": "stdout",
     "output_type": "stream",
     "text": [
      "Number of train features: 19\n",
      "Example train feature vector: [0.0, 0.0, 0.0, 92.09402653238512, 0.0, 0.0, 0.0, 92.53160944267562, 0.0, 0.0, 0.0, 106.6030448930312, 0.0, 0.0, 0.0, 106.76321601698075, 0.0, 0.0, 0.0, 87.94826037663618, 0.0, 0.0, 0.0, 87.95284398932966, 0.0, 0.0, 0.0, 86.78921330447459, 0.0, 0.0, 0.0, 86.96718584172332]\n"
     ]
    }
   ],
   "source": [
    "print(\"Number of train features:\", len(train_features))\n",
    "print(\"Example train feature vector:\", train_features[0])"
   ]
  },
  {
   "cell_type": "markdown",
   "id": "9b29e218-792f-4023-9bea-8e77658d2471",
   "metadata": {},
   "source": [
    "### Calculate accuracy"
   ]
  },
  {
   "cell_type": "markdown",
   "id": "dad332c8-4f4b-49de-aeac-84a96523a727",
   "metadata": {},
   "source": [
    "#### Assuming first two are genuine and last two are counterfeit"
   ]
  },
  {
   "cell_type": "code",
   "execution_count": 51,
   "id": "8d0be8dd-b5c4-4801-8ff9-6b87875cca27",
   "metadata": {},
   "outputs": [],
   "source": [
    "test_labels = [1, 1, 0, 0]"
   ]
  },
  {
   "cell_type": "markdown",
   "id": "1f0b7409-aa5e-4e98-b6fd-286cd24e13aa",
   "metadata": {},
   "source": [
    "### Print which test image is genuine or fake"
   ]
  },
  {
   "cell_type": "code",
   "execution_count": 52,
   "id": "0149beaf-362a-4b4b-bfcd-ad2d4058f5b2",
   "metadata": {},
   "outputs": [
    {
     "name": "stdout",
     "output_type": "stream",
     "text": [
      "test/fake.jpg is predicted as Fake\n",
      "test/fake2.jpg is predicted as Fake\n",
      "test/org.jpg is predicted as Fake\n",
      "test/org2.jpg is predicted as Genuine\n"
     ]
    }
   ],
   "source": [
    "for i, image_path in enumerate(test_image_paths):\n",
    "    if predicted_labels[i] == 1:\n",
    "        prediction = \"Fake\"\n",
    "    else:\n",
    "        prediction = \"Genuine\"\n",
    "    print(f\"{image_path} is predicted as {prediction}\")"
   ]
  },
  {
   "cell_type": "code",
   "execution_count": 56,
   "id": "41888d29-8592-4825-a476-7dcbea972850",
   "metadata": {},
   "outputs": [
    {
     "name": "stdout",
     "output_type": "stream",
     "text": [
      "Accuracy: 75.0 %\n"
     ]
    }
   ],
   "source": [
    "accuracy_percentage = accuracy_score(test_labels, predicted_labels) * 100\n",
    "print(\"Accuracy:\", accuracy, \"%\")"
   ]
  },
  {
   "cell_type": "markdown",
   "id": "807f04f1-e12b-419f-b6d7-78994553be1f",
   "metadata": {},
   "source": [
    "### Calculate confusion matrix"
   ]
  },
  {
   "cell_type": "code",
   "execution_count": 57,
   "id": "61893179-9e5b-4fdb-a847-96face5ed77e",
   "metadata": {},
   "outputs": [],
   "source": [
    "cm = confusion_matrix(test_labels, predicted_labels)"
   ]
  },
  {
   "cell_type": "markdown",
   "id": "7b8968c2-d28b-47d8-9807-ac126779bd9a",
   "metadata": {},
   "source": [
    "### Plot the confusion matrix"
   ]
  },
  {
   "cell_type": "code",
   "execution_count": 58,
   "id": "667ae0fe-5eef-47bc-b681-f1e2be939207",
   "metadata": {},
   "outputs": [
    {
     "data": {
      "image/png": "[encoded data removed]",
      "text/plain": [
       "<Figure size 640x480 with 2 Axes>"
      ]
     },
     "metadata": {},
     "output_type": "display_data"
    }
   ],
   "source": [
    "disp = ConfusionMatrixDisplay(confusion_matrix=cm, display_labels=['Genuine', 'Fake'])\n",
    "disp.plot(cmap=plt.cm.Blues)\n",
    "plt.title('Confusion Matrix for Fake Currency Detection')\n",
    "plt.show()"
   ]
  },
  {
   "cell_type": "markdown",
   "id": "dbeae4bf-41db-42de-afea-634f6367d776",
   "metadata": {},
   "source": [
    "### Plotting accuracy"
   ]
  },
  {
   "cell_type": "code",
   "execution_count": 59,
   "id": "aa9a714c-8313-494d-afb3-742bb53e7164",
   "metadata": {},
   "outputs": [
    {
     "data": {
      "image/png": "[encoded data removed]",
      "text/plain": [
       "<Figure size 600x400 with 1 Axes>"
      ]
     },
     "metadata": {},
     "output_type": "display_data"
    }
   ],
   "source": [
    "plt.figure(figsize=(6, 4))\n",
    "plt.bar(['Accuracy'], [accuracy_percentage], color='green')\n",
    "plt.ylim([0, 100])\n",
    "plt.ylabel('Percentage')\n",
    "plt.title(f'Model Accuracy: {accuracy_percentage:.2f}%')\n",
    "plt.show()"
   ]
  },
  {
   "cell_type": "markdown",
   "id": "9434df28-db8b-441c-bb38-06d7ce115caa",
   "metadata": {},
   "source": [
    "### Predict probabilities for ROC curve"
   ]
  },
  {
   "cell_type": "code",
   "execution_count": 61,
   "id": "697da93f-32fc-4cd9-823e-52cf3ef0ad44",
   "metadata": {},
   "outputs": [],
   "source": [
    "y_prob = svm.decision_function(test_features)"
   ]
  },
  {
   "cell_type": "code",
   "execution_count": 62,
   "id": "b3d1d8aa-c8a5-4043-8b19-3a33eee548e4",
   "metadata": {},
   "outputs": [
    {
     "data": {
      "text/plain": [
       "array([ 1.82731315,  1.78084723,  4.65312203, -2.53963684])"
      ]
     },
     "execution_count": 62,
     "metadata": {},
     "output_type": "execute_result"
    }
   ],
   "source": [
    "y_prob"
   ]
  },
  {
   "cell_type": "markdown",
   "id": "ec0ec30d-6132-401a-8ad3-005af3b92f3f",
   "metadata": {},
   "source": [
    "### Compute ROC curve and AUC"
   ]
  },
  {
   "cell_type": "code",
   "execution_count": 63,
   "id": "ebeed389-ef55-4e2e-9f10-09c07836fe61",
   "metadata": {},
   "outputs": [],
   "source": [
    "fpr, tpr, _ = roc_curve(test_labels, y_prob)\n",
    "roc_auc = auc(fpr, tpr)"
   ]
  },
  {
   "cell_type": "code",
   "execution_count": 64,
   "id": "bc6e985a-9f28-4a04-81e0-eda9b9413da7",
   "metadata": {},
   "outputs": [
    {
     "data": {
      "text/plain": [
       "0.5"
      ]
     },
     "execution_count": 64,
     "metadata": {},
     "output_type": "execute_result"
    }
   ],
   "source": [
    "roc_auc"
   ]
  },
  {
   "cell_type": "markdown",
   "id": "5369f7e5-12c2-4b53-af5e-ad67207aa3fc",
   "metadata": {},
   "source": [
    "### Plot ROC curve"
   ]
  },
  {
   "cell_type": "code",
   "execution_count": 65,
   "id": "eab59217-dbcb-4d8b-9b4b-90330be7ffa2",
   "metadata": {},
   "outputs": [
    {
     "data": {
      "image/png": "[encoded data removed]",
      "text/plain": [
       "<Figure size 640x480 with 1 Axes>"
      ]
     },
     "metadata": {},
     "output_type": "display_data"
    }
   ],
   "source": [
    "plt.figure()\n",
    "plt.plot(fpr, tpr, color='darkorange', lw=2, label=f'ROC curve (area = {roc_auc:.2f})')\n",
    "plt.plot([0, 1], [0, 1], color='navy', lw=2, linestyle='--')\n",
    "plt.xlim([0.0, 1.0])\n",
    "plt.ylim([0.0, 1.05])\n",
    "plt.xlabel('False Positive Rate')\n",
    "plt.ylabel('True Positive Rate')\n",
    "plt.title('Receiver Operating Characteristic (ROC)')\n",
    "plt.legend(loc=\"lower right\")\n",
    "plt.show()"
   ]
  },
  {
   "cell_type": "markdown",
   "id": "b750ec7f-f504-43a6-998c-f6813afe8b20",
   "metadata": {},
   "source": [
    "### Error Rate"
   ]
  },
  {
   "cell_type": "code",
   "execution_count": 66,
   "id": "47f82f6d-9ead-4a49-9d4d-08e26f9151c7",
   "metadata": {},
   "outputs": [
    {
     "name": "stdout",
     "output_type": "stream",
     "text": [
      "Error Rate: -7400.00%\n"
     ]
    }
   ],
   "source": [
    "error_rate = 1 - accuracy\n",
    "print(f\"Error Rate: {error_rate * 100:.2f}%\")"
   ]
  },
  {
   "cell_type": "markdown",
   "id": "af14236a-7e90-4e19-b857-a499ce9e78b3",
   "metadata": {},
   "source": [
    "### Loss in SVM"
   ]
  },
  {
   "cell_type": "code",
   "execution_count": 68,
   "id": "a670f0f3-6a95-4bcb-89d0-1be900d040ed",
   "metadata": {},
   "outputs": [],
   "source": [
    "misclassified = (test_labels != predicted_labels).sum()"
   ]
  },
  {
   "cell_type": "code",
   "execution_count": 69,
   "id": "40d8ee5b-85a7-4b10-8939-b57350976b34",
   "metadata": {},
   "outputs": [
    {
     "data": {
      "text/plain": [
       "1"
      ]
     },
     "execution_count": 69,
     "metadata": {},
     "output_type": "execute_result"
    }
   ],
   "source": [
    "misclassified"
   ]
  },
  {
   "cell_type": "markdown",
   "id": "9e715527-d8c7-483e-8a75-0c40ee23b075",
   "metadata": {},
   "source": [
    "### Plotting the number of misclassified samples"
   ]
  },
  {
   "cell_type": "code",
   "execution_count": 70,
   "id": "0359a8c5-6902-4471-b204-979fd91195d4",
   "metadata": {},
   "outputs": [
    {
     "data": {
      "image/png": "[encoded data removed]",
      "text/plain": [
       "<Figure size 600x400 with 1 Axes>"
      ]
     },
     "metadata": {},
     "output_type": "display_data"
    }
   ],
   "source": [
    "plt.figure(figsize=(6, 4))\n",
    "plt.bar(['Misclassified'], [misclassified], color='red')\n",
    "plt.ylabel('Number of Samples')\n",
    "plt.title(f'Number of Misclassified Samples: {misclassified}')\n",
    "plt.show()"
   ]
  },
  {
   "cell_type": "code",
   "execution_count": null,
   "id": "da76007b-14f6-453d-b4fa-46013f10558c",
   "metadata": {},
   "outputs": [],
   "source": []
  }
 ],
 "metadata": {
  "kernelspec": {
   "display_name": "Python 3 (ipykernel)",
   "language": "python",
   "name": "python3"
  },
  "language_info": {
   "codemirror_mode": {
    "name": "ipython",
    "version": 3
   },
   "file_extension": ".py",
   "mimetype": "text/x-python",
   "name": "python",
   "nbconvert_exporter": "python",
   "pygments_lexer": "ipython3",
   "version": "3.11.7"
  }
 },
 "nbformat": 4,
 "nbformat_minor": 5
}
