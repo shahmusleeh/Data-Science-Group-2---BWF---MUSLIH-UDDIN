{
 "cells": [
  {
   "cell_type": "markdown",
   "id": "b6c5612f-6c7b-4b94-ba9a-7a61c49dbf5a",
   "metadata": {},
   "source": [
    "# Common NLP Preprocessing Techniques"
   ]
  },
  {
   "cell_type": "markdown",
   "id": "5a53271a-5cc7-47c7-a62d-e469fd6ead97",
   "metadata": {},
   "source": [
    "### Import Libraries"
   ]
  },
  {
   "cell_type": "code",
   "execution_count": 5,
   "id": "2f15c168-24ff-493a-a42a-0abdfe2d6a69",
   "metadata": {},
   "outputs": [],
   "source": [
    "import pandas as pd\n",
    "import numpy as np\n",
    "import string\n",
    "import re\n",
    "import nltk\n",
    "from nltk.corpus import stopwords\n",
    "from nltk.tokenize import word_tokenize\n",
    "from nltk.stem import PorterStemmer, WordNetLemmatizer"
   ]
  },
  {
   "cell_type": "markdown",
   "id": "85bebdab-037b-4a76-bc29-84fd852fc092",
   "metadata": {},
   "source": [
    "### Download NLTK data,  if not already available"
   ]
  },
  {
   "cell_type": "code",
   "execution_count": 8,
   "id": "0f4af498-15b0-42b4-8f44-51ae49700260",
   "metadata": {},
   "outputs": [
    {
     "name": "stderr",
     "output_type": "stream",
     "text": [
      "[nltk_data] Downloading package punkt to\n",
      "[nltk_data]     C:\\Users\\Fahan\\AppData\\Roaming\\nltk_data...\n",
      "[nltk_data]   Unzipping tokenizers\\punkt.zip.\n"
     ]
    },
    {
     "data": {
      "text/plain": [
       "True"
      ]
     },
     "execution_count": 8,
     "metadata": {},
     "output_type": "execute_result"
    }
   ],
   "source": [
    "nltk.download('punkt')"
   ]
  },
  {
   "cell_type": "code",
   "execution_count": 9,
   "id": "c96d3fdb-e717-4c41-9030-8dc1e0520170",
   "metadata": {},
   "outputs": [
    {
     "name": "stderr",
     "output_type": "stream",
     "text": [
      "[nltk_data] Downloading package stopwords to\n",
      "[nltk_data]     C:\\Users\\Fahan\\AppData\\Roaming\\nltk_data...\n",
      "[nltk_data]   Package stopwords is already up-to-date!\n"
     ]
    },
    {
     "data": {
      "text/plain": [
       "True"
      ]
     },
     "execution_count": 9,
     "metadata": {},
     "output_type": "execute_result"
    }
   ],
   "source": [
    "nltk.download('stopwords')"
   ]
  },
  {
   "cell_type": "code",
   "execution_count": 10,
   "id": "141c5e2c-f644-426e-aa82-fa8a2bb0ded1",
   "metadata": {},
   "outputs": [
    {
     "name": "stderr",
     "output_type": "stream",
     "text": [
      "[nltk_data] Downloading package wordnet to\n",
      "[nltk_data]     C:\\Users\\Fahan\\AppData\\Roaming\\nltk_data...\n"
     ]
    },
    {
     "data": {
      "text/plain": [
       "True"
      ]
     },
     "execution_count": 10,
     "metadata": {},
     "output_type": "execute_result"
    }
   ],
   "source": [
    "nltk.download('wordnet')"
   ]
  },
  {
   "cell_type": "markdown",
   "id": "7b7589ad-9d69-4734-b37c-840359babc75",
   "metadata": {},
   "source": [
    "### Load the dataset"
   ]
  },
  {
   "cell_type": "code",
   "execution_count": 11,
   "id": "d965d284-d83c-477a-97e9-a8c9d0a05400",
   "metadata": {},
   "outputs": [],
   "source": [
    "df = pd.read_csv('Constitution.csv')"
   ]
  },
  {
   "cell_type": "code",
   "execution_count": 12,
   "id": "0c0e85b3-4ba5-4e23-ba10-5784c0796d26",
   "metadata": {},
   "outputs": [
    {
     "data": {
      "text/html": [
       "<div>\n",
       "<style scoped>\n",
       "    .dataframe tbody tr th:only-of-type {\n",
       "        vertical-align: middle;\n",
       "    }\n",
       "\n",
       "    .dataframe tbody tr th {\n",
       "        vertical-align: top;\n",
       "    }\n",
       "\n",
       "    .dataframe thead th {\n",
       "        text-align: right;\n",
       "    }\n",
       "</style>\n",
       "<table border=\"1\" class=\"dataframe\">\n",
       "  <thead>\n",
       "    <tr style=\"text-align: right;\">\n",
       "      <th></th>\n",
       "      <th>Country</th>\n",
       "      <th>Year Enacted</th>\n",
       "      <th>Scope</th>\n",
       "      <th>Length (in Words)</th>\n",
       "      <th>Executive Power</th>\n",
       "      <th>Legislative Power</th>\n",
       "      <th>Judicial Independence</th>\n",
       "      <th>Number of Rights</th>\n",
       "      <th>Preamble</th>\n",
       "    </tr>\n",
       "  </thead>\n",
       "  <tbody>\n",
       "    <tr>\n",
       "      <th>0</th>\n",
       "      <td>Afghanistan</td>\n",
       "      <td>2004</td>\n",
       "      <td>0.67</td>\n",
       "      <td>10,227</td>\n",
       "      <td>6</td>\n",
       "      <td>0.38</td>\n",
       "      <td>2</td>\n",
       "      <td>37</td>\n",
       "      <td>In the name of Allah, the Most Beneficent, the...</td>\n",
       "    </tr>\n",
       "    <tr>\n",
       "      <th>1</th>\n",
       "      <td>Albania</td>\n",
       "      <td>1998</td>\n",
       "      <td>0.61</td>\n",
       "      <td>13,826</td>\n",
       "      <td>5</td>\n",
       "      <td>0.43</td>\n",
       "      <td>5</td>\n",
       "      <td>77</td>\n",
       "      <td>We, the people of Albania, proud and aware of ...</td>\n",
       "    </tr>\n",
       "    <tr>\n",
       "      <th>2</th>\n",
       "      <td>Algeria</td>\n",
       "      <td>1996</td>\n",
       "      <td>0.61</td>\n",
       "      <td>10,038</td>\n",
       "      <td>7</td>\n",
       "      <td>0.29</td>\n",
       "      <td>1</td>\n",
       "      <td>36</td>\n",
       "      <td>The Algerian people are a free people; and the...</td>\n",
       "    </tr>\n",
       "    <tr>\n",
       "      <th>3</th>\n",
       "      <td>Andorra</td>\n",
       "      <td>1993</td>\n",
       "      <td>0.51</td>\n",
       "      <td>8,740</td>\n",
       "      <td>6</td>\n",
       "      <td>0.19</td>\n",
       "      <td>3</td>\n",
       "      <td>51</td>\n",
       "      <td>The Andorran People, with full liberty and ind...</td>\n",
       "    </tr>\n",
       "    <tr>\n",
       "      <th>4</th>\n",
       "      <td>Angola</td>\n",
       "      <td>2010</td>\n",
       "      <td>0.80</td>\n",
       "      <td>27,181</td>\n",
       "      <td>7</td>\n",
       "      <td>0.19</td>\n",
       "      <td>2</td>\n",
       "      <td>80</td>\n",
       "      <td>We, the people of Angola, through its lawful r...</td>\n",
       "    </tr>\n",
       "    <tr>\n",
       "      <th>...</th>\n",
       "      <td>...</td>\n",
       "      <td>...</td>\n",
       "      <td>...</td>\n",
       "      <td>...</td>\n",
       "      <td>...</td>\n",
       "      <td>...</td>\n",
       "      <td>...</td>\n",
       "      <td>...</td>\n",
       "      <td>...</td>\n",
       "    </tr>\n",
       "    <tr>\n",
       "      <th>185</th>\n",
       "      <td>Vanuatu</td>\n",
       "      <td>1980</td>\n",
       "      <td>0.51</td>\n",
       "      <td>8,425</td>\n",
       "      <td>6</td>\n",
       "      <td>0.29</td>\n",
       "      <td>4</td>\n",
       "      <td>28</td>\n",
       "      <td>WE the people of Vanuatu, PROUD of our struggl...</td>\n",
       "    </tr>\n",
       "    <tr>\n",
       "      <th>186</th>\n",
       "      <td>Venezuela</td>\n",
       "      <td>1999</td>\n",
       "      <td>0.66</td>\n",
       "      <td>37,344</td>\n",
       "      <td>6</td>\n",
       "      <td>0.38</td>\n",
       "      <td>1</td>\n",
       "      <td>82</td>\n",
       "      <td>The people of Venezuela, exercising their powe...</td>\n",
       "    </tr>\n",
       "    <tr>\n",
       "      <th>187</th>\n",
       "      <td>Vietnam</td>\n",
       "      <td>1992</td>\n",
       "      <td>0.51</td>\n",
       "      <td>11,344</td>\n",
       "      <td>2</td>\n",
       "      <td>0.43</td>\n",
       "      <td>0</td>\n",
       "      <td>45</td>\n",
       "      <td>In the course of their millennia-old history, ...</td>\n",
       "    </tr>\n",
       "    <tr>\n",
       "      <th>188</th>\n",
       "      <td>Zambia</td>\n",
       "      <td>1991</td>\n",
       "      <td>0.63</td>\n",
       "      <td>30,696</td>\n",
       "      <td>4</td>\n",
       "      <td>0.10</td>\n",
       "      <td>4</td>\n",
       "      <td>50</td>\n",
       "      <td>WE, THE PEOPLE OF ZAMBIA: ACKNOWLEDGE the supr...</td>\n",
       "    </tr>\n",
       "    <tr>\n",
       "      <th>189</th>\n",
       "      <td>Zimbabwe</td>\n",
       "      <td>2013</td>\n",
       "      <td>0.81</td>\n",
       "      <td>55,883</td>\n",
       "      <td>6</td>\n",
       "      <td>0.33</td>\n",
       "      <td>4</td>\n",
       "      <td>74</td>\n",
       "      <td>We the people of Zimbabwe, United in our diver...</td>\n",
       "    </tr>\n",
       "  </tbody>\n",
       "</table>\n",
       "<p>190 rows × 9 columns</p>\n",
       "</div>"
      ],
      "text/plain": [
       "         Country  Year Enacted  Scope Length (in Words)  Executive Power  \\\n",
       "0    Afghanistan          2004   0.67            10,227                6   \n",
       "1        Albania          1998   0.61            13,826                5   \n",
       "2        Algeria          1996   0.61            10,038                7   \n",
       "3        Andorra          1993   0.51             8,740                6   \n",
       "4         Angola          2010   0.80            27,181                7   \n",
       "..           ...           ...    ...               ...              ...   \n",
       "185      Vanuatu          1980   0.51             8,425                6   \n",
       "186    Venezuela          1999   0.66            37,344                6   \n",
       "187      Vietnam          1992   0.51            11,344                2   \n",
       "188       Zambia          1991   0.63            30,696                4   \n",
       "189     Zimbabwe          2013   0.81            55,883                6   \n",
       "\n",
       "     Legislative Power  Judicial Independence  Number of Rights  \\\n",
       "0                 0.38                      2                37   \n",
       "1                 0.43                      5                77   \n",
       "2                 0.29                      1                36   \n",
       "3                 0.19                      3                51   \n",
       "4                 0.19                      2                80   \n",
       "..                 ...                    ...               ...   \n",
       "185               0.29                      4                28   \n",
       "186               0.38                      1                82   \n",
       "187               0.43                      0                45   \n",
       "188               0.10                      4                50   \n",
       "189               0.33                      4                74   \n",
       "\n",
       "                                              Preamble  \n",
       "0    In the name of Allah, the Most Beneficent, the...  \n",
       "1    We, the people of Albania, proud and aware of ...  \n",
       "2    The Algerian people are a free people; and the...  \n",
       "3    The Andorran People, with full liberty and ind...  \n",
       "4    We, the people of Angola, through its lawful r...  \n",
       "..                                                 ...  \n",
       "185  WE the people of Vanuatu, PROUD of our struggl...  \n",
       "186  The people of Venezuela, exercising their powe...  \n",
       "187  In the course of their millennia-old history, ...  \n",
       "188  WE, THE PEOPLE OF ZAMBIA: ACKNOWLEDGE the supr...  \n",
       "189  We the people of Zimbabwe, United in our diver...  \n",
       "\n",
       "[190 rows x 9 columns]"
      ]
     },
     "execution_count": 12,
     "metadata": {},
     "output_type": "execute_result"
    }
   ],
   "source": [
    "df"
   ]
  },
  {
   "cell_type": "code",
   "execution_count": 13,
   "id": "5cd8b44d-187a-4314-8e0f-b01c1888e155",
   "metadata": {},
   "outputs": [
    {
     "data": {
      "text/html": [
       "<div>\n",
       "<style scoped>\n",
       "    .dataframe tbody tr th:only-of-type {\n",
       "        vertical-align: middle;\n",
       "    }\n",
       "\n",
       "    .dataframe tbody tr th {\n",
       "        vertical-align: top;\n",
       "    }\n",
       "\n",
       "    .dataframe thead th {\n",
       "        text-align: right;\n",
       "    }\n",
       "</style>\n",
       "<table border=\"1\" class=\"dataframe\">\n",
       "  <thead>\n",
       "    <tr style=\"text-align: right;\">\n",
       "      <th></th>\n",
       "      <th>Country</th>\n",
       "      <th>Year Enacted</th>\n",
       "      <th>Scope</th>\n",
       "      <th>Length (in Words)</th>\n",
       "      <th>Executive Power</th>\n",
       "      <th>Legislative Power</th>\n",
       "      <th>Judicial Independence</th>\n",
       "      <th>Number of Rights</th>\n",
       "      <th>Preamble</th>\n",
       "    </tr>\n",
       "  </thead>\n",
       "  <tbody>\n",
       "    <tr>\n",
       "      <th>0</th>\n",
       "      <td>Afghanistan</td>\n",
       "      <td>2004</td>\n",
       "      <td>0.67</td>\n",
       "      <td>10,227</td>\n",
       "      <td>6</td>\n",
       "      <td>0.38</td>\n",
       "      <td>2</td>\n",
       "      <td>37</td>\n",
       "      <td>In the name of Allah, the Most Beneficent, the...</td>\n",
       "    </tr>\n",
       "    <tr>\n",
       "      <th>1</th>\n",
       "      <td>Albania</td>\n",
       "      <td>1998</td>\n",
       "      <td>0.61</td>\n",
       "      <td>13,826</td>\n",
       "      <td>5</td>\n",
       "      <td>0.43</td>\n",
       "      <td>5</td>\n",
       "      <td>77</td>\n",
       "      <td>We, the people of Albania, proud and aware of ...</td>\n",
       "    </tr>\n",
       "    <tr>\n",
       "      <th>2</th>\n",
       "      <td>Algeria</td>\n",
       "      <td>1996</td>\n",
       "      <td>0.61</td>\n",
       "      <td>10,038</td>\n",
       "      <td>7</td>\n",
       "      <td>0.29</td>\n",
       "      <td>1</td>\n",
       "      <td>36</td>\n",
       "      <td>The Algerian people are a free people; and the...</td>\n",
       "    </tr>\n",
       "    <tr>\n",
       "      <th>3</th>\n",
       "      <td>Andorra</td>\n",
       "      <td>1993</td>\n",
       "      <td>0.51</td>\n",
       "      <td>8,740</td>\n",
       "      <td>6</td>\n",
       "      <td>0.19</td>\n",
       "      <td>3</td>\n",
       "      <td>51</td>\n",
       "      <td>The Andorran People, with full liberty and ind...</td>\n",
       "    </tr>\n",
       "    <tr>\n",
       "      <th>4</th>\n",
       "      <td>Angola</td>\n",
       "      <td>2010</td>\n",
       "      <td>0.80</td>\n",
       "      <td>27,181</td>\n",
       "      <td>7</td>\n",
       "      <td>0.19</td>\n",
       "      <td>2</td>\n",
       "      <td>80</td>\n",
       "      <td>We, the people of Angola, through its lawful r...</td>\n",
       "    </tr>\n",
       "  </tbody>\n",
       "</table>\n",
       "</div>"
      ],
      "text/plain": [
       "       Country  Year Enacted  Scope Length (in Words)  Executive Power  \\\n",
       "0  Afghanistan          2004   0.67            10,227                6   \n",
       "1      Albania          1998   0.61            13,826                5   \n",
       "2      Algeria          1996   0.61            10,038                7   \n",
       "3      Andorra          1993   0.51             8,740                6   \n",
       "4       Angola          2010   0.80            27,181                7   \n",
       "\n",
       "   Legislative Power  Judicial Independence  Number of Rights  \\\n",
       "0               0.38                      2                37   \n",
       "1               0.43                      5                77   \n",
       "2               0.29                      1                36   \n",
       "3               0.19                      3                51   \n",
       "4               0.19                      2                80   \n",
       "\n",
       "                                            Preamble  \n",
       "0  In the name of Allah, the Most Beneficent, the...  \n",
       "1  We, the people of Albania, proud and aware of ...  \n",
       "2  The Algerian people are a free people; and the...  \n",
       "3  The Andorran People, with full liberty and ind...  \n",
       "4  We, the people of Angola, through its lawful r...  "
      ]
     },
     "execution_count": 13,
     "metadata": {},
     "output_type": "execute_result"
    }
   ],
   "source": [
    "df.head()"
   ]
  },
  {
   "cell_type": "code",
   "execution_count": 14,
   "id": "e97a4abd-f099-45a1-89d6-2c0bc89fb5c9",
   "metadata": {},
   "outputs": [],
   "source": [
    "df['Country'] = df['Country'].astype(str)"
   ]
  },
  {
   "cell_type": "markdown",
   "id": "e93e6227-1cfa-4abe-8769-0d767d718c2d",
   "metadata": {},
   "source": [
    "### Lowercasing"
   ]
  },
  {
   "cell_type": "code",
   "execution_count": 16,
   "id": "eabfac24-fe8e-420b-96fd-180306e2242e",
   "metadata": {},
   "outputs": [],
   "source": [
    "df['Country'] = df['Country'].str.lower()"
   ]
  },
  {
   "cell_type": "code",
   "execution_count": 17,
   "id": "578826f8-b56d-4016-a9b4-7d1718c246be",
   "metadata": {},
   "outputs": [
    {
     "data": {
      "text/html": [
       "<div>\n",
       "<style scoped>\n",
       "    .dataframe tbody tr th:only-of-type {\n",
       "        vertical-align: middle;\n",
       "    }\n",
       "\n",
       "    .dataframe tbody tr th {\n",
       "        vertical-align: top;\n",
       "    }\n",
       "\n",
       "    .dataframe thead th {\n",
       "        text-align: right;\n",
       "    }\n",
       "</style>\n",
       "<table border=\"1\" class=\"dataframe\">\n",
       "  <thead>\n",
       "    <tr style=\"text-align: right;\">\n",
       "      <th></th>\n",
       "      <th>Country</th>\n",
       "      <th>Year Enacted</th>\n",
       "      <th>Scope</th>\n",
       "      <th>Length (in Words)</th>\n",
       "      <th>Executive Power</th>\n",
       "      <th>Legislative Power</th>\n",
       "      <th>Judicial Independence</th>\n",
       "      <th>Number of Rights</th>\n",
       "      <th>Preamble</th>\n",
       "    </tr>\n",
       "  </thead>\n",
       "  <tbody>\n",
       "    <tr>\n",
       "      <th>0</th>\n",
       "      <td>afghanistan</td>\n",
       "      <td>2004</td>\n",
       "      <td>0.67</td>\n",
       "      <td>10,227</td>\n",
       "      <td>6</td>\n",
       "      <td>0.38</td>\n",
       "      <td>2</td>\n",
       "      <td>37</td>\n",
       "      <td>In the name of Allah, the Most Beneficent, the...</td>\n",
       "    </tr>\n",
       "    <tr>\n",
       "      <th>1</th>\n",
       "      <td>albania</td>\n",
       "      <td>1998</td>\n",
       "      <td>0.61</td>\n",
       "      <td>13,826</td>\n",
       "      <td>5</td>\n",
       "      <td>0.43</td>\n",
       "      <td>5</td>\n",
       "      <td>77</td>\n",
       "      <td>We, the people of Albania, proud and aware of ...</td>\n",
       "    </tr>\n",
       "    <tr>\n",
       "      <th>2</th>\n",
       "      <td>algeria</td>\n",
       "      <td>1996</td>\n",
       "      <td>0.61</td>\n",
       "      <td>10,038</td>\n",
       "      <td>7</td>\n",
       "      <td>0.29</td>\n",
       "      <td>1</td>\n",
       "      <td>36</td>\n",
       "      <td>The Algerian people are a free people; and the...</td>\n",
       "    </tr>\n",
       "    <tr>\n",
       "      <th>3</th>\n",
       "      <td>andorra</td>\n",
       "      <td>1993</td>\n",
       "      <td>0.51</td>\n",
       "      <td>8,740</td>\n",
       "      <td>6</td>\n",
       "      <td>0.19</td>\n",
       "      <td>3</td>\n",
       "      <td>51</td>\n",
       "      <td>The Andorran People, with full liberty and ind...</td>\n",
       "    </tr>\n",
       "    <tr>\n",
       "      <th>4</th>\n",
       "      <td>angola</td>\n",
       "      <td>2010</td>\n",
       "      <td>0.80</td>\n",
       "      <td>27,181</td>\n",
       "      <td>7</td>\n",
       "      <td>0.19</td>\n",
       "      <td>2</td>\n",
       "      <td>80</td>\n",
       "      <td>We, the people of Angola, through its lawful r...</td>\n",
       "    </tr>\n",
       "    <tr>\n",
       "      <th>...</th>\n",
       "      <td>...</td>\n",
       "      <td>...</td>\n",
       "      <td>...</td>\n",
       "      <td>...</td>\n",
       "      <td>...</td>\n",
       "      <td>...</td>\n",
       "      <td>...</td>\n",
       "      <td>...</td>\n",
       "      <td>...</td>\n",
       "    </tr>\n",
       "    <tr>\n",
       "      <th>185</th>\n",
       "      <td>vanuatu</td>\n",
       "      <td>1980</td>\n",
       "      <td>0.51</td>\n",
       "      <td>8,425</td>\n",
       "      <td>6</td>\n",
       "      <td>0.29</td>\n",
       "      <td>4</td>\n",
       "      <td>28</td>\n",
       "      <td>WE the people of Vanuatu, PROUD of our struggl...</td>\n",
       "    </tr>\n",
       "    <tr>\n",
       "      <th>186</th>\n",
       "      <td>venezuela</td>\n",
       "      <td>1999</td>\n",
       "      <td>0.66</td>\n",
       "      <td>37,344</td>\n",
       "      <td>6</td>\n",
       "      <td>0.38</td>\n",
       "      <td>1</td>\n",
       "      <td>82</td>\n",
       "      <td>The people of Venezuela, exercising their powe...</td>\n",
       "    </tr>\n",
       "    <tr>\n",
       "      <th>187</th>\n",
       "      <td>vietnam</td>\n",
       "      <td>1992</td>\n",
       "      <td>0.51</td>\n",
       "      <td>11,344</td>\n",
       "      <td>2</td>\n",
       "      <td>0.43</td>\n",
       "      <td>0</td>\n",
       "      <td>45</td>\n",
       "      <td>In the course of their millennia-old history, ...</td>\n",
       "    </tr>\n",
       "    <tr>\n",
       "      <th>188</th>\n",
       "      <td>zambia</td>\n",
       "      <td>1991</td>\n",
       "      <td>0.63</td>\n",
       "      <td>30,696</td>\n",
       "      <td>4</td>\n",
       "      <td>0.10</td>\n",
       "      <td>4</td>\n",
       "      <td>50</td>\n",
       "      <td>WE, THE PEOPLE OF ZAMBIA: ACKNOWLEDGE the supr...</td>\n",
       "    </tr>\n",
       "    <tr>\n",
       "      <th>189</th>\n",
       "      <td>zimbabwe</td>\n",
       "      <td>2013</td>\n",
       "      <td>0.81</td>\n",
       "      <td>55,883</td>\n",
       "      <td>6</td>\n",
       "      <td>0.33</td>\n",
       "      <td>4</td>\n",
       "      <td>74</td>\n",
       "      <td>We the people of Zimbabwe, United in our diver...</td>\n",
       "    </tr>\n",
       "  </tbody>\n",
       "</table>\n",
       "<p>190 rows × 9 columns</p>\n",
       "</div>"
      ],
      "text/plain": [
       "         Country  Year Enacted  Scope Length (in Words)  Executive Power  \\\n",
       "0    afghanistan          2004   0.67            10,227                6   \n",
       "1        albania          1998   0.61            13,826                5   \n",
       "2        algeria          1996   0.61            10,038                7   \n",
       "3        andorra          1993   0.51             8,740                6   \n",
       "4         angola          2010   0.80            27,181                7   \n",
       "..           ...           ...    ...               ...              ...   \n",
       "185      vanuatu          1980   0.51             8,425                6   \n",
       "186    venezuela          1999   0.66            37,344                6   \n",
       "187      vietnam          1992   0.51            11,344                2   \n",
       "188       zambia          1991   0.63            30,696                4   \n",
       "189     zimbabwe          2013   0.81            55,883                6   \n",
       "\n",
       "     Legislative Power  Judicial Independence  Number of Rights  \\\n",
       "0                 0.38                      2                37   \n",
       "1                 0.43                      5                77   \n",
       "2                 0.29                      1                36   \n",
       "3                 0.19                      3                51   \n",
       "4                 0.19                      2                80   \n",
       "..                 ...                    ...               ...   \n",
       "185               0.29                      4                28   \n",
       "186               0.38                      1                82   \n",
       "187               0.43                      0                45   \n",
       "188               0.10                      4                50   \n",
       "189               0.33                      4                74   \n",
       "\n",
       "                                              Preamble  \n",
       "0    In the name of Allah, the Most Beneficent, the...  \n",
       "1    We, the people of Albania, proud and aware of ...  \n",
       "2    The Algerian people are a free people; and the...  \n",
       "3    The Andorran People, with full liberty and ind...  \n",
       "4    We, the people of Angola, through its lawful r...  \n",
       "..                                                 ...  \n",
       "185  WE the people of Vanuatu, PROUD of our struggl...  \n",
       "186  The people of Venezuela, exercising their powe...  \n",
       "187  In the course of their millennia-old history, ...  \n",
       "188  WE, THE PEOPLE OF ZAMBIA: ACKNOWLEDGE the supr...  \n",
       "189  We the people of Zimbabwe, United in our diver...  \n",
       "\n",
       "[190 rows x 9 columns]"
      ]
     },
     "execution_count": 17,
     "metadata": {},
     "output_type": "execute_result"
    }
   ],
   "source": [
    "df"
   ]
  },
  {
   "cell_type": "markdown",
   "id": "e8154534-0c32-4dd0-af00-695ec5765446",
   "metadata": {},
   "source": [
    "### Removing Punctuation"
   ]
  },
  {
   "cell_type": "code",
   "execution_count": 20,
   "id": "182a53a1-7832-403a-a157-90edd49204a7",
   "metadata": {},
   "outputs": [],
   "source": [
    "df['Preamble'] = df['Preamble'].str.replace(f\"[{string.punctuation}]\", \"\", regex=True)"
   ]
  },
  {
   "cell_type": "code",
   "execution_count": 21,
   "id": "30a9a788-8877-45cf-8a53-89c96dae135f",
   "metadata": {},
   "outputs": [
    {
     "data": {
      "text/html": [
       "<div>\n",
       "<style scoped>\n",
       "    .dataframe tbody tr th:only-of-type {\n",
       "        vertical-align: middle;\n",
       "    }\n",
       "\n",
       "    .dataframe tbody tr th {\n",
       "        vertical-align: top;\n",
       "    }\n",
       "\n",
       "    .dataframe thead th {\n",
       "        text-align: right;\n",
       "    }\n",
       "</style>\n",
       "<table border=\"1\" class=\"dataframe\">\n",
       "  <thead>\n",
       "    <tr style=\"text-align: right;\">\n",
       "      <th></th>\n",
       "      <th>Country</th>\n",
       "      <th>Year Enacted</th>\n",
       "      <th>Scope</th>\n",
       "      <th>Length (in Words)</th>\n",
       "      <th>Executive Power</th>\n",
       "      <th>Legislative Power</th>\n",
       "      <th>Judicial Independence</th>\n",
       "      <th>Number of Rights</th>\n",
       "      <th>Preamble</th>\n",
       "    </tr>\n",
       "  </thead>\n",
       "  <tbody>\n",
       "    <tr>\n",
       "      <th>0</th>\n",
       "      <td>afghanistan</td>\n",
       "      <td>2004</td>\n",
       "      <td>0.67</td>\n",
       "      <td>10,227</td>\n",
       "      <td>6</td>\n",
       "      <td>0.38</td>\n",
       "      <td>2</td>\n",
       "      <td>37</td>\n",
       "      <td>In the name of Allah the Most Beneficent the M...</td>\n",
       "    </tr>\n",
       "    <tr>\n",
       "      <th>1</th>\n",
       "      <td>albania</td>\n",
       "      <td>1998</td>\n",
       "      <td>0.61</td>\n",
       "      <td>13,826</td>\n",
       "      <td>5</td>\n",
       "      <td>0.43</td>\n",
       "      <td>5</td>\n",
       "      <td>77</td>\n",
       "      <td>We the people of Albania proud and aware of ou...</td>\n",
       "    </tr>\n",
       "    <tr>\n",
       "      <th>2</th>\n",
       "      <td>algeria</td>\n",
       "      <td>1996</td>\n",
       "      <td>0.61</td>\n",
       "      <td>10,038</td>\n",
       "      <td>7</td>\n",
       "      <td>0.29</td>\n",
       "      <td>1</td>\n",
       "      <td>36</td>\n",
       "      <td>The Algerian people are a free people and they...</td>\n",
       "    </tr>\n",
       "    <tr>\n",
       "      <th>3</th>\n",
       "      <td>andorra</td>\n",
       "      <td>1993</td>\n",
       "      <td>0.51</td>\n",
       "      <td>8,740</td>\n",
       "      <td>6</td>\n",
       "      <td>0.19</td>\n",
       "      <td>3</td>\n",
       "      <td>51</td>\n",
       "      <td>The Andorran People with full liberty and inde...</td>\n",
       "    </tr>\n",
       "    <tr>\n",
       "      <th>4</th>\n",
       "      <td>angola</td>\n",
       "      <td>2010</td>\n",
       "      <td>0.80</td>\n",
       "      <td>27,181</td>\n",
       "      <td>7</td>\n",
       "      <td>0.19</td>\n",
       "      <td>2</td>\n",
       "      <td>80</td>\n",
       "      <td>We the people of Angola through its lawful rep...</td>\n",
       "    </tr>\n",
       "    <tr>\n",
       "      <th>...</th>\n",
       "      <td>...</td>\n",
       "      <td>...</td>\n",
       "      <td>...</td>\n",
       "      <td>...</td>\n",
       "      <td>...</td>\n",
       "      <td>...</td>\n",
       "      <td>...</td>\n",
       "      <td>...</td>\n",
       "      <td>...</td>\n",
       "    </tr>\n",
       "    <tr>\n",
       "      <th>185</th>\n",
       "      <td>vanuatu</td>\n",
       "      <td>1980</td>\n",
       "      <td>0.51</td>\n",
       "      <td>8,425</td>\n",
       "      <td>6</td>\n",
       "      <td>0.29</td>\n",
       "      <td>4</td>\n",
       "      <td>28</td>\n",
       "      <td>WE the people of Vanuatu PROUD of our struggle...</td>\n",
       "    </tr>\n",
       "    <tr>\n",
       "      <th>186</th>\n",
       "      <td>venezuela</td>\n",
       "      <td>1999</td>\n",
       "      <td>0.66</td>\n",
       "      <td>37,344</td>\n",
       "      <td>6</td>\n",
       "      <td>0.38</td>\n",
       "      <td>1</td>\n",
       "      <td>82</td>\n",
       "      <td>The people of Venezuela exercising their power...</td>\n",
       "    </tr>\n",
       "    <tr>\n",
       "      <th>187</th>\n",
       "      <td>vietnam</td>\n",
       "      <td>1992</td>\n",
       "      <td>0.51</td>\n",
       "      <td>11,344</td>\n",
       "      <td>2</td>\n",
       "      <td>0.43</td>\n",
       "      <td>0</td>\n",
       "      <td>45</td>\n",
       "      <td>In the course of their millenniaold history th...</td>\n",
       "    </tr>\n",
       "    <tr>\n",
       "      <th>188</th>\n",
       "      <td>zambia</td>\n",
       "      <td>1991</td>\n",
       "      <td>0.63</td>\n",
       "      <td>30,696</td>\n",
       "      <td>4</td>\n",
       "      <td>0.10</td>\n",
       "      <td>4</td>\n",
       "      <td>50</td>\n",
       "      <td>WE THE PEOPLE OF ZAMBIA ACKNOWLEDGE the suprem...</td>\n",
       "    </tr>\n",
       "    <tr>\n",
       "      <th>189</th>\n",
       "      <td>zimbabwe</td>\n",
       "      <td>2013</td>\n",
       "      <td>0.81</td>\n",
       "      <td>55,883</td>\n",
       "      <td>6</td>\n",
       "      <td>0.33</td>\n",
       "      <td>4</td>\n",
       "      <td>74</td>\n",
       "      <td>We the people of Zimbabwe United in our divers...</td>\n",
       "    </tr>\n",
       "  </tbody>\n",
       "</table>\n",
       "<p>190 rows × 9 columns</p>\n",
       "</div>"
      ],
      "text/plain": [
       "         Country  Year Enacted  Scope Length (in Words)  Executive Power  \\\n",
       "0    afghanistan          2004   0.67            10,227                6   \n",
       "1        albania          1998   0.61            13,826                5   \n",
       "2        algeria          1996   0.61            10,038                7   \n",
       "3        andorra          1993   0.51             8,740                6   \n",
       "4         angola          2010   0.80            27,181                7   \n",
       "..           ...           ...    ...               ...              ...   \n",
       "185      vanuatu          1980   0.51             8,425                6   \n",
       "186    venezuela          1999   0.66            37,344                6   \n",
       "187      vietnam          1992   0.51            11,344                2   \n",
       "188       zambia          1991   0.63            30,696                4   \n",
       "189     zimbabwe          2013   0.81            55,883                6   \n",
       "\n",
       "     Legislative Power  Judicial Independence  Number of Rights  \\\n",
       "0                 0.38                      2                37   \n",
       "1                 0.43                      5                77   \n",
       "2                 0.29                      1                36   \n",
       "3                 0.19                      3                51   \n",
       "4                 0.19                      2                80   \n",
       "..                 ...                    ...               ...   \n",
       "185               0.29                      4                28   \n",
       "186               0.38                      1                82   \n",
       "187               0.43                      0                45   \n",
       "188               0.10                      4                50   \n",
       "189               0.33                      4                74   \n",
       "\n",
       "                                              Preamble  \n",
       "0    In the name of Allah the Most Beneficent the M...  \n",
       "1    We the people of Albania proud and aware of ou...  \n",
       "2    The Algerian people are a free people and they...  \n",
       "3    The Andorran People with full liberty and inde...  \n",
       "4    We the people of Angola through its lawful rep...  \n",
       "..                                                 ...  \n",
       "185  WE the people of Vanuatu PROUD of our struggle...  \n",
       "186  The people of Venezuela exercising their power...  \n",
       "187  In the course of their millenniaold history th...  \n",
       "188  WE THE PEOPLE OF ZAMBIA ACKNOWLEDGE the suprem...  \n",
       "189  We the people of Zimbabwe United in our divers...  \n",
       "\n",
       "[190 rows x 9 columns]"
      ]
     },
     "execution_count": 21,
     "metadata": {},
     "output_type": "execute_result"
    }
   ],
   "source": [
    "df"
   ]
  },
  {
   "cell_type": "markdown",
   "id": "ec0b3bce-c459-4011-b2aa-16773903a060",
   "metadata": {},
   "source": [
    "### Tokenization"
   ]
  },
  {
   "cell_type": "markdown",
   "id": "f38f6502-8619-49d2-919c-3e498d0faf7b",
   "metadata": {},
   "source": [
    "##### Convert the 'Preamble' column to strings"
   ]
  },
  {
   "cell_type": "code",
   "execution_count": 25,
   "id": "29856834-14f7-4a4f-8405-b51a4c367a45",
   "metadata": {},
   "outputs": [],
   "source": [
    "df['Preamble'] = df['Preamble'].astype(str)"
   ]
  },
  {
   "cell_type": "markdown",
   "id": "73f22cbc-455b-4296-8b81-600b3104b934",
   "metadata": {},
   "source": [
    "##### Handle missing values if they exist"
   ]
  },
  {
   "cell_type": "code",
   "execution_count": 26,
   "id": "6b601fda-41a5-4a6e-b480-2b336963a31e",
   "metadata": {},
   "outputs": [],
   "source": [
    "df['Preamble'] = df['Preamble'].fillna('')"
   ]
  },
  {
   "cell_type": "code",
   "execution_count": 27,
   "id": "72a0ce02-8c7b-406f-b9a6-45061be1e339",
   "metadata": {},
   "outputs": [],
   "source": [
    "df['Tokenized_Preamble'] = df['Preamble'].apply(word_tokenize)"
   ]
  },
  {
   "cell_type": "code",
   "execution_count": 28,
   "id": "3ea40b6f-7fed-41b9-af89-ca130cab6e98",
   "metadata": {},
   "outputs": [
    {
     "data": {
      "text/html": [
       "<div>\n",
       "<style scoped>\n",
       "    .dataframe tbody tr th:only-of-type {\n",
       "        vertical-align: middle;\n",
       "    }\n",
       "\n",
       "    .dataframe tbody tr th {\n",
       "        vertical-align: top;\n",
       "    }\n",
       "\n",
       "    .dataframe thead th {\n",
       "        text-align: right;\n",
       "    }\n",
       "</style>\n",
       "<table border=\"1\" class=\"dataframe\">\n",
       "  <thead>\n",
       "    <tr style=\"text-align: right;\">\n",
       "      <th></th>\n",
       "      <th>Country</th>\n",
       "      <th>Year Enacted</th>\n",
       "      <th>Scope</th>\n",
       "      <th>Length (in Words)</th>\n",
       "      <th>Executive Power</th>\n",
       "      <th>Legislative Power</th>\n",
       "      <th>Judicial Independence</th>\n",
       "      <th>Number of Rights</th>\n",
       "      <th>Preamble</th>\n",
       "      <th>Tokenized_Preamble</th>\n",
       "    </tr>\n",
       "  </thead>\n",
       "  <tbody>\n",
       "    <tr>\n",
       "      <th>0</th>\n",
       "      <td>afghanistan</td>\n",
       "      <td>2004</td>\n",
       "      <td>0.67</td>\n",
       "      <td>10,227</td>\n",
       "      <td>6</td>\n",
       "      <td>0.38</td>\n",
       "      <td>2</td>\n",
       "      <td>37</td>\n",
       "      <td>In the name of Allah the Most Beneficent the M...</td>\n",
       "      <td>[In, the, name, of, Allah, the, Most, Benefice...</td>\n",
       "    </tr>\n",
       "    <tr>\n",
       "      <th>1</th>\n",
       "      <td>albania</td>\n",
       "      <td>1998</td>\n",
       "      <td>0.61</td>\n",
       "      <td>13,826</td>\n",
       "      <td>5</td>\n",
       "      <td>0.43</td>\n",
       "      <td>5</td>\n",
       "      <td>77</td>\n",
       "      <td>We the people of Albania proud and aware of ou...</td>\n",
       "      <td>[We, the, people, of, Albania, proud, and, awa...</td>\n",
       "    </tr>\n",
       "    <tr>\n",
       "      <th>2</th>\n",
       "      <td>algeria</td>\n",
       "      <td>1996</td>\n",
       "      <td>0.61</td>\n",
       "      <td>10,038</td>\n",
       "      <td>7</td>\n",
       "      <td>0.29</td>\n",
       "      <td>1</td>\n",
       "      <td>36</td>\n",
       "      <td>The Algerian people are a free people and they...</td>\n",
       "      <td>[The, Algerian, people, are, a, free, people, ...</td>\n",
       "    </tr>\n",
       "    <tr>\n",
       "      <th>3</th>\n",
       "      <td>andorra</td>\n",
       "      <td>1993</td>\n",
       "      <td>0.51</td>\n",
       "      <td>8,740</td>\n",
       "      <td>6</td>\n",
       "      <td>0.19</td>\n",
       "      <td>3</td>\n",
       "      <td>51</td>\n",
       "      <td>The Andorran People with full liberty and inde...</td>\n",
       "      <td>[The, Andorran, People, with, full, liberty, a...</td>\n",
       "    </tr>\n",
       "    <tr>\n",
       "      <th>4</th>\n",
       "      <td>angola</td>\n",
       "      <td>2010</td>\n",
       "      <td>0.80</td>\n",
       "      <td>27,181</td>\n",
       "      <td>7</td>\n",
       "      <td>0.19</td>\n",
       "      <td>2</td>\n",
       "      <td>80</td>\n",
       "      <td>We the people of Angola through its lawful rep...</td>\n",
       "      <td>[We, the, people, of, Angola, through, its, la...</td>\n",
       "    </tr>\n",
       "    <tr>\n",
       "      <th>...</th>\n",
       "      <td>...</td>\n",
       "      <td>...</td>\n",
       "      <td>...</td>\n",
       "      <td>...</td>\n",
       "      <td>...</td>\n",
       "      <td>...</td>\n",
       "      <td>...</td>\n",
       "      <td>...</td>\n",
       "      <td>...</td>\n",
       "      <td>...</td>\n",
       "    </tr>\n",
       "    <tr>\n",
       "      <th>185</th>\n",
       "      <td>vanuatu</td>\n",
       "      <td>1980</td>\n",
       "      <td>0.51</td>\n",
       "      <td>8,425</td>\n",
       "      <td>6</td>\n",
       "      <td>0.29</td>\n",
       "      <td>4</td>\n",
       "      <td>28</td>\n",
       "      <td>WE the people of Vanuatu PROUD of our struggle...</td>\n",
       "      <td>[WE, the, people, of, Vanuatu, PROUD, of, our,...</td>\n",
       "    </tr>\n",
       "    <tr>\n",
       "      <th>186</th>\n",
       "      <td>venezuela</td>\n",
       "      <td>1999</td>\n",
       "      <td>0.66</td>\n",
       "      <td>37,344</td>\n",
       "      <td>6</td>\n",
       "      <td>0.38</td>\n",
       "      <td>1</td>\n",
       "      <td>82</td>\n",
       "      <td>The people of Venezuela exercising their power...</td>\n",
       "      <td>[The, people, of, Venezuela, exercising, their...</td>\n",
       "    </tr>\n",
       "    <tr>\n",
       "      <th>187</th>\n",
       "      <td>vietnam</td>\n",
       "      <td>1992</td>\n",
       "      <td>0.51</td>\n",
       "      <td>11,344</td>\n",
       "      <td>2</td>\n",
       "      <td>0.43</td>\n",
       "      <td>0</td>\n",
       "      <td>45</td>\n",
       "      <td>In the course of their millenniaold history th...</td>\n",
       "      <td>[In, the, course, of, their, millenniaold, his...</td>\n",
       "    </tr>\n",
       "    <tr>\n",
       "      <th>188</th>\n",
       "      <td>zambia</td>\n",
       "      <td>1991</td>\n",
       "      <td>0.63</td>\n",
       "      <td>30,696</td>\n",
       "      <td>4</td>\n",
       "      <td>0.10</td>\n",
       "      <td>4</td>\n",
       "      <td>50</td>\n",
       "      <td>WE THE PEOPLE OF ZAMBIA ACKNOWLEDGE the suprem...</td>\n",
       "      <td>[WE, THE, PEOPLE, OF, ZAMBIA, ACKNOWLEDGE, the...</td>\n",
       "    </tr>\n",
       "    <tr>\n",
       "      <th>189</th>\n",
       "      <td>zimbabwe</td>\n",
       "      <td>2013</td>\n",
       "      <td>0.81</td>\n",
       "      <td>55,883</td>\n",
       "      <td>6</td>\n",
       "      <td>0.33</td>\n",
       "      <td>4</td>\n",
       "      <td>74</td>\n",
       "      <td>We the people of Zimbabwe United in our divers...</td>\n",
       "      <td>[We, the, people, of, Zimbabwe, United, in, ou...</td>\n",
       "    </tr>\n",
       "  </tbody>\n",
       "</table>\n",
       "<p>190 rows × 10 columns</p>\n",
       "</div>"
      ],
      "text/plain": [
       "         Country  Year Enacted  Scope Length (in Words)  Executive Power  \\\n",
       "0    afghanistan          2004   0.67            10,227                6   \n",
       "1        albania          1998   0.61            13,826                5   \n",
       "2        algeria          1996   0.61            10,038                7   \n",
       "3        andorra          1993   0.51             8,740                6   \n",
       "4         angola          2010   0.80            27,181                7   \n",
       "..           ...           ...    ...               ...              ...   \n",
       "185      vanuatu          1980   0.51             8,425                6   \n",
       "186    venezuela          1999   0.66            37,344                6   \n",
       "187      vietnam          1992   0.51            11,344                2   \n",
       "188       zambia          1991   0.63            30,696                4   \n",
       "189     zimbabwe          2013   0.81            55,883                6   \n",
       "\n",
       "     Legislative Power  Judicial Independence  Number of Rights  \\\n",
       "0                 0.38                      2                37   \n",
       "1                 0.43                      5                77   \n",
       "2                 0.29                      1                36   \n",
       "3                 0.19                      3                51   \n",
       "4                 0.19                      2                80   \n",
       "..                 ...                    ...               ...   \n",
       "185               0.29                      4                28   \n",
       "186               0.38                      1                82   \n",
       "187               0.43                      0                45   \n",
       "188               0.10                      4                50   \n",
       "189               0.33                      4                74   \n",
       "\n",
       "                                              Preamble  \\\n",
       "0    In the name of Allah the Most Beneficent the M...   \n",
       "1    We the people of Albania proud and aware of ou...   \n",
       "2    The Algerian people are a free people and they...   \n",
       "3    The Andorran People with full liberty and inde...   \n",
       "4    We the people of Angola through its lawful rep...   \n",
       "..                                                 ...   \n",
       "185  WE the people of Vanuatu PROUD of our struggle...   \n",
       "186  The people of Venezuela exercising their power...   \n",
       "187  In the course of their millenniaold history th...   \n",
       "188  WE THE PEOPLE OF ZAMBIA ACKNOWLEDGE the suprem...   \n",
       "189  We the people of Zimbabwe United in our divers...   \n",
       "\n",
       "                                    Tokenized_Preamble  \n",
       "0    [In, the, name, of, Allah, the, Most, Benefice...  \n",
       "1    [We, the, people, of, Albania, proud, and, awa...  \n",
       "2    [The, Algerian, people, are, a, free, people, ...  \n",
       "3    [The, Andorran, People, with, full, liberty, a...  \n",
       "4    [We, the, people, of, Angola, through, its, la...  \n",
       "..                                                 ...  \n",
       "185  [WE, the, people, of, Vanuatu, PROUD, of, our,...  \n",
       "186  [The, people, of, Venezuela, exercising, their...  \n",
       "187  [In, the, course, of, their, millenniaold, his...  \n",
       "188  [WE, THE, PEOPLE, OF, ZAMBIA, ACKNOWLEDGE, the...  \n",
       "189  [We, the, people, of, Zimbabwe, United, in, ou...  \n",
       "\n",
       "[190 rows x 10 columns]"
      ]
     },
     "execution_count": 28,
     "metadata": {},
     "output_type": "execute_result"
    }
   ],
   "source": [
    "df"
   ]
  },
  {
   "cell_type": "markdown",
   "id": "abb97555-210f-476b-8e97-c5f531c24fce",
   "metadata": {},
   "source": [
    "##### The length of each tokenized list"
   ]
  },
  {
   "cell_type": "code",
   "execution_count": 29,
   "id": "cf10039b-c993-4f1c-8ba1-1bb00c65c9ec",
   "metadata": {},
   "outputs": [],
   "source": [
    "df['Length (in Words)'] = df['Tokenized_Preamble'].apply(len)"
   ]
  },
  {
   "cell_type": "code",
   "execution_count": 32,
   "id": "2f259f20-d1d7-4ee5-ad83-da3098555d05",
   "metadata": {},
   "outputs": [
    {
     "data": {
      "text/html": [
       "<div>\n",
       "<style scoped>\n",
       "    .dataframe tbody tr th:only-of-type {\n",
       "        vertical-align: middle;\n",
       "    }\n",
       "\n",
       "    .dataframe tbody tr th {\n",
       "        vertical-align: top;\n",
       "    }\n",
       "\n",
       "    .dataframe thead th {\n",
       "        text-align: right;\n",
       "    }\n",
       "</style>\n",
       "<table border=\"1\" class=\"dataframe\">\n",
       "  <thead>\n",
       "    <tr style=\"text-align: right;\">\n",
       "      <th></th>\n",
       "      <th>Preamble</th>\n",
       "      <th>Tokenized_Preamble</th>\n",
       "      <th>Length (in Words)</th>\n",
       "    </tr>\n",
       "  </thead>\n",
       "  <tbody>\n",
       "    <tr>\n",
       "      <th>0</th>\n",
       "      <td>In the name of Allah the Most Beneficent the M...</td>\n",
       "      <td>[In, the, name, of, Allah, the, Most, Benefice...</td>\n",
       "      <td>255</td>\n",
       "    </tr>\n",
       "    <tr>\n",
       "      <th>1</th>\n",
       "      <td>We the people of Albania proud and aware of ou...</td>\n",
       "      <td>[We, the, people, of, Albania, proud, and, awa...</td>\n",
       "      <td>114</td>\n",
       "    </tr>\n",
       "    <tr>\n",
       "      <th>2</th>\n",
       "      <td>The Algerian people are a free people and they...</td>\n",
       "      <td>[The, Algerian, people, are, a, free, people, ...</td>\n",
       "      <td>1338</td>\n",
       "    </tr>\n",
       "    <tr>\n",
       "      <th>3</th>\n",
       "      <td>The Andorran People with full liberty and inde...</td>\n",
       "      <td>[The, Andorran, People, with, full, liberty, a...</td>\n",
       "      <td>255</td>\n",
       "    </tr>\n",
       "    <tr>\n",
       "      <th>4</th>\n",
       "      <td>We the people of Angola through its lawful rep...</td>\n",
       "      <td>[We, the, people, of, Angola, through, its, la...</td>\n",
       "      <td>582</td>\n",
       "    </tr>\n",
       "  </tbody>\n",
       "</table>\n",
       "</div>"
      ],
      "text/plain": [
       "                                            Preamble  \\\n",
       "0  In the name of Allah the Most Beneficent the M...   \n",
       "1  We the people of Albania proud and aware of ou...   \n",
       "2  The Algerian people are a free people and they...   \n",
       "3  The Andorran People with full liberty and inde...   \n",
       "4  We the people of Angola through its lawful rep...   \n",
       "\n",
       "                                  Tokenized_Preamble  Length (in Words)  \n",
       "0  [In, the, name, of, Allah, the, Most, Benefice...                255  \n",
       "1  [We, the, people, of, Albania, proud, and, awa...                114  \n",
       "2  [The, Algerian, people, are, a, free, people, ...               1338  \n",
       "3  [The, Andorran, People, with, full, liberty, a...                255  \n",
       "4  [We, the, people, of, Angola, through, its, la...                582  "
      ]
     },
     "execution_count": 32,
     "metadata": {},
     "output_type": "execute_result"
    }
   ],
   "source": [
    "df[['Preamble', 'Tokenized_Preamble', 'Length (in Words)']].head()"
   ]
  },
  {
   "cell_type": "markdown",
   "id": "ec552752-084d-4162-96c9-7b97b7af44a2",
   "metadata": {},
   "source": [
    "### Removing Stop Words"
   ]
  },
  {
   "cell_type": "code",
   "execution_count": 33,
   "id": "322d0227-4258-42a2-8b07-0477c5b75f32",
   "metadata": {},
   "outputs": [],
   "source": [
    "stop_words = set(stopwords.words('english'))"
   ]
  },
  {
   "cell_type": "code",
   "execution_count": 37,
   "id": "d7f0a1ec-780c-4e77-aabc-993f432569a3",
   "metadata": {},
   "outputs": [],
   "source": [
    "df['text_no_stopwords'] = df['Tokenized_Preamble'].apply(lambda x: [word for word in x if word not in stop_words])"
   ]
  },
  {
   "cell_type": "code",
   "execution_count": 38,
   "id": "31bd14e1-40ce-4255-bbf6-86c90f196c3c",
   "metadata": {},
   "outputs": [
    {
     "data": {
      "text/plain": [
       "0    [In, name, Allah, Most, Beneficent, Most, Merc...\n",
       "1    [We, people, Albania, proud, aware, history, r...\n",
       "2    [The, Algerian, people, free, people, resolved...\n",
       "3    [The, Andorran, People, full, liberty, indepen...\n",
       "4    [We, people, Angola, lawful, representatives, ...\n",
       "Name: text_no_stopwords, dtype: object"
      ]
     },
     "execution_count": 38,
     "metadata": {},
     "output_type": "execute_result"
    }
   ],
   "source": [
    "df['text_no_stopwords'].head()"
   ]
  },
  {
   "cell_type": "markdown",
   "id": "07c8a151-5fb1-44e4-8914-7cbfa46ecc39",
   "metadata": {},
   "source": [
    "### Stemming"
   ]
  },
  {
   "cell_type": "code",
   "execution_count": 39,
   "id": "d689e35c-6aa2-4711-a212-aca1643469c3",
   "metadata": {},
   "outputs": [],
   "source": [
    "stemmer = PorterStemmer()"
   ]
  },
  {
   "cell_type": "code",
   "execution_count": 40,
   "id": "3165a705-5deb-47f1-9b96-4018e382f793",
   "metadata": {},
   "outputs": [],
   "source": [
    "df['text_stemmed'] = df['text_no_stopwords'].apply(lambda x: [stemmer.stem(word) for word in x])"
   ]
  },
  {
   "cell_type": "code",
   "execution_count": 41,
   "id": "47904f74-4226-437e-834c-d1e6217c274e",
   "metadata": {},
   "outputs": [
    {
     "data": {
      "text/plain": [
       "0    [in, name, allah, most, benefic, most, merci, ...\n",
       "1    [we, peopl, albania, proud, awar, histori, res...\n",
       "2    [the, algerian, peopl, free, peopl, resolv, re...\n",
       "3    [the, andorran, peopl, full, liberti, independ...\n",
       "4    [we, peopl, angola, law, repres, legisl, natio...\n",
       "Name: text_stemmed, dtype: object"
      ]
     },
     "execution_count": 41,
     "metadata": {},
     "output_type": "execute_result"
    }
   ],
   "source": [
    "df['text_stemmed'].head()"
   ]
  },
  {
   "cell_type": "markdown",
   "id": "f274aca4-a077-489d-8e96-d7a984e852a9",
   "metadata": {},
   "source": [
    "### Lemmatization"
   ]
  },
  {
   "cell_type": "code",
   "execution_count": 42,
   "id": "df6a9b06-68d3-437e-81bc-71062dc27d7b",
   "metadata": {},
   "outputs": [],
   "source": [
    "lemmatizer = WordNetLemmatizer()"
   ]
  },
  {
   "cell_type": "code",
   "execution_count": 43,
   "id": "f2064ec0-f191-422a-b6fc-7c0e412bbc2e",
   "metadata": {},
   "outputs": [],
   "source": [
    "df['text_lemmatized'] = df['text_no_stopwords'].apply(lambda x: [lemmatizer.lemmatize(word) for word in x])"
   ]
  },
  {
   "cell_type": "code",
   "execution_count": 44,
   "id": "3c4cfb74-b86e-466d-b7ca-a5a3cce515d8",
   "metadata": {},
   "outputs": [
    {
     "data": {
      "text/plain": [
       "0    [In, name, Allah, Most, Beneficent, Most, Merc...\n",
       "1    [We, people, Albania, proud, aware, history, r...\n",
       "2    [The, Algerian, people, free, people, resolved...\n",
       "3    [The, Andorran, People, full, liberty, indepen...\n",
       "4    [We, people, Angola, lawful, representative, l...\n",
       "Name: text_lemmatized, dtype: object"
      ]
     },
     "execution_count": 44,
     "metadata": {},
     "output_type": "execute_result"
    }
   ],
   "source": [
    "df['text_lemmatized'].head()"
   ]
  },
  {
   "cell_type": "markdown",
   "id": "90727d4a-71cf-4e17-8b24-6df799554b56",
   "metadata": {},
   "source": [
    "### Removing Numbers"
   ]
  },
  {
   "cell_type": "code",
   "execution_count": 47,
   "id": "c53c52fd-cdd9-4f00-8b90-58303b3bff41",
   "metadata": {},
   "outputs": [],
   "source": [
    "df['text_no_numbers'] = df['text_lemmatized'].apply(lambda x: [re.sub(r'\\d+', '', word) for word in x])"
   ]
  },
  {
   "cell_type": "code",
   "execution_count": 48,
   "id": "88da57ea-a635-4b99-bc05-901f0449d8a9",
   "metadata": {},
   "outputs": [
    {
     "data": {
      "text/plain": [
       "0    [In, name, Allah, Most, Beneficent, Most, Merc...\n",
       "1    [We, people, Albania, proud, aware, history, r...\n",
       "2    [The, Algerian, people, free, people, resolved...\n",
       "3    [The, Andorran, People, full, liberty, indepen...\n",
       "4    [We, people, Angola, lawful, representative, l...\n",
       "Name: text_no_numbers, dtype: object"
      ]
     },
     "execution_count": 48,
     "metadata": {},
     "output_type": "execute_result"
    }
   ],
   "source": [
    "df['text_no_numbers'].head()"
   ]
  },
  {
   "cell_type": "markdown",
   "id": "6763064a-bf40-4a21-968e-4c9903501cd1",
   "metadata": {},
   "source": [
    "### Removing URLs and Special Characters"
   ]
  },
  {
   "cell_type": "code",
   "execution_count": 58,
   "id": "a0b4ac81-5ff1-424d-a62b-30637c996d53",
   "metadata": {},
   "outputs": [],
   "source": [
    "df['text_clean'] = df['text_no_numbers'].apply(lambda x: [re.sub(r'http\\S+|www\\S+|https\\S+', '', word, flags=re.MULTILINE) for word in x])\n",
    "df['text_clean'] = df['Preamble'].apply(lambda x: [re.sub(r'\\@\\w+|\\#', '', word) for word in x])"
   ]
  },
  {
   "cell_type": "code",
   "execution_count": 59,
   "id": "3d2d6249-b3d9-4fc5-87ec-ce225be62ee2",
   "metadata": {},
   "outputs": [
    {
     "data": {
      "text/plain": [
       "0    [I, n,  , t, h, e,  , n, a, m, e,  , o, f,  , ...\n",
       "1    [W, e,  , t, h, e,  , p, e, o, p, l, e,  , o, ...\n",
       "2    [T, h, e,  , A, l, g, e, r, i, a, n,  , p, e, ...\n",
       "3    [T, h, e,  , A, n, d, o, r, r, a, n,  , P, e, ...\n",
       "4    [W, e,  , t, h, e,  , p, e, o, p, l, e,  , o, ...\n",
       "Name: text_clean, dtype: object"
      ]
     },
     "execution_count": 59,
     "metadata": {},
     "output_type": "execute_result"
    }
   ],
   "source": [
    "df['text_clean'].head()"
   ]
  },
  {
   "cell_type": "markdown",
   "id": "8e9acb26-b5b8-498d-94a4-7481977b33c0",
   "metadata": {},
   "source": [
    "### Handling Emojis"
   ]
  },
  {
   "cell_type": "code",
   "execution_count": 68,
   "id": "d4b8a766-afb9-46e9-8f6d-19c96a396ee2",
   "metadata": {},
   "outputs": [],
   "source": [
    "def remove_emojis(text):\n",
    "    emoji_pattern = re.compile(\n",
    "        \"[\"\n",
    "        u\"\\U0001F600-\\U0001F64F\"  \n",
    "        u\"\\U0001F300-\\U0001F5FF\"  \n",
    "        u\"\\U0001F680-\\U0001F6FF\"  \n",
    "        u\"\\U0001F1E0-\\U0001F1FF\"  \n",
    "        u\"\\U00002702-\\U000027B0\"\n",
    "        u\"\\U000024C2-\\U0001F251\"\n",
    "        \"]+\", flags=re.UNICODE)\n",
    "    return emoji_pattern.sub(r'', text)"
   ]
  },
  {
   "cell_type": "code",
   "execution_count": 69,
   "id": "3810064a-c88c-4674-b94a-91b775ffec14",
   "metadata": {},
   "outputs": [],
   "source": [
    "df['text_clean'] = df['Preamble'].apply(lambda x: [remove_emojis(word) for word in x])"
   ]
  },
  {
   "cell_type": "code",
   "execution_count": 71,
   "id": "08e4fbd8-accc-4737-94c4-c8e7ed5fa8bc",
   "metadata": {},
   "outputs": [
    {
     "data": {
      "text/plain": [
       "0    [I, n,  , t, h, e,  , n, a, m, e,  , o, f,  , ...\n",
       "1    [W, e,  , t, h, e,  , p, e, o, p, l, e,  , o, ...\n",
       "2    [T, h, e,  , A, l, g, e, r, i, a, n,  , p, e, ...\n",
       "3    [T, h, e,  , A, n, d, o, r, r, a, n,  , P, e, ...\n",
       "4    [W, e,  , t, h, e,  , p, e, o, p, l, e,  , o, ...\n",
       "Name: text_clean, dtype: object"
      ]
     },
     "execution_count": 71,
     "metadata": {},
     "output_type": "execute_result"
    }
   ],
   "source": [
    "df['text_clean'].head()"
   ]
  },
  {
   "cell_type": "markdown",
   "id": "247f1bd9-3c49-4bf9-bd6a-928b88f05475",
   "metadata": {},
   "source": [
    "### Handling Rare Words"
   ]
  },
  {
   "cell_type": "code",
   "execution_count": 72,
   "id": "8a962dee-a66e-4748-9c9d-cd93101a3170",
   "metadata": {},
   "outputs": [],
   "source": [
    "word_freq = pd.Series(np.concatenate(df['text_clean'])).value_counts()"
   ]
  },
  {
   "cell_type": "code",
   "execution_count": 73,
   "id": "a76ede1a-9fe3-436a-bab4-6cf9904a7c13",
   "metadata": {},
   "outputs": [],
   "source": [
    "rare_words = word_freq[word_freq < 5].index.tolist()"
   ]
  },
  {
   "cell_type": "code",
   "execution_count": 74,
   "id": "4ff49449-d945-49c7-8b12-42be1ae63b46",
   "metadata": {},
   "outputs": [
    {
     "data": {
      "text/plain": [
       "['í', 'ü', '«', '»', 'ó', 'à', 'ç', 'ä', 'ô', 'ë', 'á', 'ã', '…']"
      ]
     },
     "execution_count": 74,
     "metadata": {},
     "output_type": "execute_result"
    }
   ],
   "source": [
    "rare_words"
   ]
  },
  {
   "cell_type": "code",
   "execution_count": 75,
   "id": "2badb334-b0ed-41b9-899d-7e685a121986",
   "metadata": {},
   "outputs": [],
   "source": [
    "df['text_final'] = df['text_clean'].apply(lambda x: [word for word in x if word not in rare_words])"
   ]
  },
  {
   "cell_type": "code",
   "execution_count": 76,
   "id": "b3adae74-e26f-4bd0-827c-7259cff1f374",
   "metadata": {},
   "outputs": [
    {
     "data": {
      "text/plain": [
       "0      [I, n,  , t, h, e,  , n, a, m, e,  , o, f,  , ...\n",
       "1      [W, e,  , t, h, e,  , p, e, o, p, l, e,  , o, ...\n",
       "2      [T, h, e,  , A, l, g, e, r, i, a, n,  , p, e, ...\n",
       "3      [T, h, e,  , A, n, d, o, r, r, a, n,  , P, e, ...\n",
       "4      [W, e,  , t, h, e,  , p, e, o, p, l, e,  , o, ...\n",
       "                             ...                        \n",
       "185    [W, E,  , t, h, e,  , p, e, o, p, l, e,  , o, ...\n",
       "186    [T, h, e,  , p, e, o, p, l, e,  , o, f,  , V, ...\n",
       "187    [I, n,  , t, h, e,  , c, o, u, r, s, e,  , o, ...\n",
       "188    [W, E,  , T, H, E,  , P, E, O, P, L, E,  , O, ...\n",
       "189    [W, e,  , t, h, e,  , p, e, o, p, l, e,  , o, ...\n",
       "Name: text_final, Length: 190, dtype: object"
      ]
     },
     "execution_count": 76,
     "metadata": {},
     "output_type": "execute_result"
    }
   ],
   "source": [
    "df['text_final']"
   ]
  },
  {
   "cell_type": "markdown",
   "id": "c65612b8-0d1b-45f0-9e9b-051b0656c022",
   "metadata": {},
   "source": [
    "### Combine tokens back to text"
   ]
  },
  {
   "cell_type": "code",
   "execution_count": 79,
   "id": "2bdcd6c3-b97e-4ff0-9418-f9fc6e111334",
   "metadata": {},
   "outputs": [],
   "source": [
    "df['text_final'] = df['text_final'].apply(lambda x: ' '.join(x))"
   ]
  },
  {
   "cell_type": "code",
   "execution_count": 80,
   "id": "49706bc5-5a01-4cfb-b8b3-a9699ada0d0f",
   "metadata": {},
   "outputs": [
    {
     "data": {
      "text/plain": [
       "0      I       n               t       h       e     ...\n",
       "1      W       e               t       h       e     ...\n",
       "2      T       h       e               A       l     ...\n",
       "3      T       h       e               A       n     ...\n",
       "4      W       e               t       h       e     ...\n",
       "                             ...                        \n",
       "185    W       E               t       h       e     ...\n",
       "186    T       h       e               p       e     ...\n",
       "187    I       n               t       h       e     ...\n",
       "188    W       E               T       H       E     ...\n",
       "189    W       e               t       h       e     ...\n",
       "Name: text_final, Length: 190, dtype: object"
      ]
     },
     "execution_count": 80,
     "metadata": {},
     "output_type": "execute_result"
    }
   ],
   "source": [
    "df['text_final']"
   ]
  },
  {
   "cell_type": "markdown",
   "id": "613ac271-897f-49a0-b7ef-3313070918ac",
   "metadata": {},
   "source": [
    "### Display the original and preprocessed text"
   ]
  },
  {
   "cell_type": "code",
   "execution_count": 82,
   "id": "c21ac306-60c2-4f50-92fd-ff653e3c3692",
   "metadata": {},
   "outputs": [
    {
     "data": {
      "text/html": [
       "<div>\n",
       "<style scoped>\n",
       "    .dataframe tbody tr th:only-of-type {\n",
       "        vertical-align: middle;\n",
       "    }\n",
       "\n",
       "    .dataframe tbody tr th {\n",
       "        vertical-align: top;\n",
       "    }\n",
       "\n",
       "    .dataframe thead th {\n",
       "        text-align: right;\n",
       "    }\n",
       "</style>\n",
       "<table border=\"1\" class=\"dataframe\">\n",
       "  <thead>\n",
       "    <tr style=\"text-align: right;\">\n",
       "      <th></th>\n",
       "      <th>Preamble</th>\n",
       "      <th>text_final</th>\n",
       "    </tr>\n",
       "  </thead>\n",
       "  <tbody>\n",
       "    <tr>\n",
       "      <th>0</th>\n",
       "      <td>In the name of Allah the Most Beneficent the M...</td>\n",
       "      <td>I       n               t       h       e     ...</td>\n",
       "    </tr>\n",
       "    <tr>\n",
       "      <th>1</th>\n",
       "      <td>We the people of Albania proud and aware of ou...</td>\n",
       "      <td>W       e               t       h       e     ...</td>\n",
       "    </tr>\n",
       "    <tr>\n",
       "      <th>2</th>\n",
       "      <td>The Algerian people are a free people and they...</td>\n",
       "      <td>T       h       e               A       l     ...</td>\n",
       "    </tr>\n",
       "    <tr>\n",
       "      <th>3</th>\n",
       "      <td>The Andorran People with full liberty and inde...</td>\n",
       "      <td>T       h       e               A       n     ...</td>\n",
       "    </tr>\n",
       "    <tr>\n",
       "      <th>4</th>\n",
       "      <td>We the people of Angola through its lawful rep...</td>\n",
       "      <td>W       e               t       h       e     ...</td>\n",
       "    </tr>\n",
       "  </tbody>\n",
       "</table>\n",
       "</div>"
      ],
      "text/plain": [
       "                                            Preamble  \\\n",
       "0  In the name of Allah the Most Beneficent the M...   \n",
       "1  We the people of Albania proud and aware of ou...   \n",
       "2  The Algerian people are a free people and they...   \n",
       "3  The Andorran People with full liberty and inde...   \n",
       "4  We the people of Angola through its lawful rep...   \n",
       "\n",
       "                                          text_final  \n",
       "0  I       n               t       h       e     ...  \n",
       "1  W       e               t       h       e     ...  \n",
       "2  T       h       e               A       l     ...  \n",
       "3  T       h       e               A       n     ...  \n",
       "4  W       e               t       h       e     ...  "
      ]
     },
     "execution_count": 82,
     "metadata": {},
     "output_type": "execute_result"
    }
   ],
   "source": [
    "df[['Preamble', 'text_final']].head()"
   ]
  },
  {
   "cell_type": "code",
   "execution_count": null,
   "id": "019b1621-d0c2-45d8-bae4-4211bb909f18",
   "metadata": {},
   "outputs": [],
   "source": []
  }
 ],
 "metadata": {
  "kernelspec": {
   "display_name": "Python 3 (ipykernel)",
   "language": "python",
   "name": "python3"
  },
  "language_info": {
   "codemirror_mode": {
    "name": "ipython",
    "version": 3
   },
   "file_extension": ".py",
   "mimetype": "text/x-python",
   "name": "python",
   "nbconvert_exporter": "python",
   "pygments_lexer": "ipython3",
   "version": "3.11.7"
  }
 },
 "nbformat": 4,
 "nbformat_minor": 5
}
