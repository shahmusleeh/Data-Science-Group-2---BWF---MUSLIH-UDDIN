{
 "cells": [
  {
   "cell_type": "markdown",
   "id": "b754594b-428a-406f-827a-8dbdcafdb6c4",
   "metadata": {},
   "source": [
    "# Indexing of String"
   ]
  },
  {
   "cell_type": "code",
   "execution_count": 29,
   "id": "c091f64f-704d-4462-b58c-80dffae3da10",
   "metadata": {},
   "outputs": [
    {
     "name": "stdout",
     "output_type": "stream",
     "text": [
      "h\n"
     ]
    }
   ],
   "source": [
    "a = \"Muslih Uddin\"\n",
    "print(a[-7])"
   ]
  },
  {
   "cell_type": "markdown",
   "id": "81349c82-bbd4-4e8e-af6e-aa2ced1dcd2a",
   "metadata": {},
   "source": [
    "# Slicing"
   ]
  },
  {
   "cell_type": "code",
   "execution_count": 2,
   "id": "fa13750a-8778-4037-bdb9-89a2094c0c8f",
   "metadata": {},
   "outputs": [
    {
     "name": "stdout",
     "output_type": "stream",
     "text": [
      "Hello\n"
     ]
    }
   ],
   "source": [
    "p = \"Hello students how are you?\"\n",
    "print(p[0:5])"
   ]
  },
  {
   "cell_type": "code",
   "execution_count": 3,
   "id": "cb4f61ef-930c-48ef-9a3c-aace1a9f63cc",
   "metadata": {},
   "outputs": [
    {
     "name": "stdout",
     "output_type": "stream",
     "text": [
      "students how\n"
     ]
    }
   ],
   "source": [
    "p = \"Hello students how are you?\"\n",
    "print(p[6:18])"
   ]
  },
  {
   "cell_type": "code",
   "execution_count": 4,
   "id": "cbf2dc6d-4417-4368-9335-442641db1d95",
   "metadata": {},
   "outputs": [
    {
     "name": "stdout",
     "output_type": "stream",
     "text": [
      "?uoy era woh stneduts olleH\n"
     ]
    }
   ],
   "source": [
    "p = \"Hello students how are you?\"\n",
    "print(p[::-1])"
   ]
  },
  {
   "cell_type": "markdown",
   "id": "c38621b4-61ae-4fd6-adbe-2b344278cd1c",
   "metadata": {},
   "source": [
    "# Indexing in NumPy Array"
   ]
  },
  {
   "cell_type": "code",
   "execution_count": 5,
   "id": "88495a2e-d715-4e80-b3ec-0ac526be387e",
   "metadata": {},
   "outputs": [
    {
     "name": "stdout",
     "output_type": "stream",
     "text": [
      "10\n"
     ]
    }
   ],
   "source": [
    "import numpy as np\n",
    "\n",
    "array1 = np.array([10,20,30,40])\n",
    "print (array1[0])"
   ]
  },
  {
   "cell_type": "code",
   "execution_count": 8,
   "id": "9d8ceb25-2025-4d2e-8034-66ee8da94a79",
   "metadata": {},
   "outputs": [
    {
     "name": "stdout",
     "output_type": "stream",
     "text": [
      "80\n"
     ]
    }
   ],
   "source": [
    "import numpy as np\n",
    "\n",
    "array1 = np.array([10,20,30,40,50,60,70,80])\n",
    "print (array1[-1])"
   ]
  },
  {
   "cell_type": "code",
   "execution_count": 12,
   "id": "87629ddb-44b1-4f97-ab9a-c9858228333e",
   "metadata": {},
   "outputs": [
    {
     "name": "stdout",
     "output_type": "stream",
     "text": [
      "[40]\n"
     ]
    }
   ],
   "source": [
    "import numpy as np\n",
    "\n",
    "array1 = np.array([10,20,30,40])\n",
    "print (array1[3:6])"
   ]
  },
  {
   "cell_type": "code",
   "execution_count": 10,
   "id": "a98d4ee9-212b-4d5e-b504-e0a9e7e0fcef",
   "metadata": {},
   "outputs": [
    {
     "name": "stdout",
     "output_type": "stream",
     "text": [
      "[10 20 30 40]\n"
     ]
    }
   ],
   "source": [
    "import numpy as np\n",
    "\n",
    "array1 = np.array([10,20,30,40])\n",
    "print (array1[:5])"
   ]
  },
  {
   "cell_type": "markdown",
   "id": "8ba30ad7-87eb-4cd7-918f-9f393d7781ee",
   "metadata": {},
   "source": [
    "# Slicing in Numpy Arrays"
   ]
  },
  {
   "cell_type": "code",
   "execution_count": 15,
   "id": "7ae8cead-4eb3-4079-8975-6018c0e4f74d",
   "metadata": {},
   "outputs": [
    {
     "name": "stdout",
     "output_type": "stream",
     "text": [
      "[2 3]\n",
      "[2 4 6]\n",
      "[9 8]\n",
      "[1 5 9]\n",
      "[9 8 7 6 5 4 3 2 1]\n"
     ]
    }
   ],
   "source": [
    "import numpy as np\n",
    "\n",
    "array1 = np.array([1,2,3,4,5,6,7,8,9])\n",
    "print (array1[1:3])\n",
    "print (array1[1:6:2])\n",
    "print (array1[-1:-3:-1])\n",
    "print(array1[::4])\n",
    "print (array1[::-1])"
   ]
  },
  {
   "cell_type": "markdown",
   "id": "cde3075c-b9cd-49a4-8eb9-92105d805759",
   "metadata": {},
   "source": [
    "### 2D Array"
   ]
  },
  {
   "cell_type": "code",
   "execution_count": 17,
   "id": "5916efb6-7f1c-473a-aebc-5b5e50362b5e",
   "metadata": {},
   "outputs": [
    {
     "name": "stdout",
     "output_type": "stream",
     "text": [
      "[25 26 27]\n"
     ]
    }
   ],
   "source": [
    "import numpy as np\n",
    "\n",
    "array1 = np.array([[15,16,27], [25,26,27], [35,36,37], [45,46,47]])\n",
    "print (array1[1, ])"
   ]
  },
  {
   "cell_type": "code",
   "execution_count": 18,
   "id": "25e7711a-aeba-454c-9213-fb37c551f339",
   "metadata": {},
   "outputs": [
    {
     "name": "stdout",
     "output_type": "stream",
     "text": [
      "[25 26 27]\n",
      "[16 26 36 46]\n"
     ]
    }
   ],
   "source": [
    "import numpy as np\n",
    "\n",
    "array1 = np.array([[15,16,27], [25,26,27], [35,36,37], [45,46,47]])\n",
    "print (array1[1, ])\n",
    "print (array1[: ,1])"
   ]
  },
  {
   "cell_type": "code",
   "execution_count": 19,
   "id": "a602b6ac-30b7-4741-bcf4-91fec65eeb58",
   "metadata": {},
   "outputs": [
    {
     "name": "stdout",
     "output_type": "stream",
     "text": [
      "[25 26 27]\n",
      "[16 26 36 46]\n",
      "[[26 27]\n",
      " [36 37]]\n"
     ]
    }
   ],
   "source": [
    "import numpy as np\n",
    "\n",
    "array1 = np.array([[15,16,27], [25,26,27], [35,36,37], [45,46,47]])\n",
    "print (array1[1, ])\n",
    "print (array1[: ,1])\n",
    "print (array1[1:3 ,1:3])"
   ]
  },
  {
   "cell_type": "code",
   "execution_count": 20,
   "id": "ddb45d8b-b9af-46da-b3ac-f64244a29ad0",
   "metadata": {},
   "outputs": [
    {
     "name": "stdout",
     "output_type": "stream",
     "text": [
      "[25 26 27]\n",
      "[16 26 36 46]\n",
      "[[26 27]\n",
      " [36 37]]\n",
      "[[25 26 27]\n",
      " [35 36 37]]\n"
     ]
    }
   ],
   "source": [
    "import numpy as np\n",
    "\n",
    "array1 = np.array([[15,16,27], [25,26,27], [35,36,37], [45,46,47]])\n",
    "print (array1[1, ])\n",
    "print (array1[: ,1])\n",
    "print (array1[1:3 ,1:3])\n",
    "print (array1[1:3, ])"
   ]
  },
  {
   "cell_type": "code",
   "execution_count": 21,
   "id": "599fe30d-8ebe-42b6-b12e-262581b0619a",
   "metadata": {},
   "outputs": [
    {
     "name": "stdout",
     "output_type": "stream",
     "text": [
      "[25 26 27]\n",
      "[16 26 36 46]\n",
      "[[26 27]\n",
      " [36 37]]\n",
      "[[25 26 27]\n",
      " [35 36 37]]\n",
      "[[16 27]\n",
      " [26 27]\n",
      " [36 37]\n",
      " [46 47]]\n"
     ]
    }
   ],
   "source": [
    "import numpy as np\n",
    "\n",
    "array1 = np.array([[15,16,27], [25,26,27], [35,36,37], [45,46,47]])\n",
    "print (array1[1, ])\n",
    "print (array1[: ,1])\n",
    "print (array1[1:3 ,1:3])\n",
    "print (array1[1:3, ])\n",
    "print (array1[: , 1:3])"
   ]
  },
  {
   "cell_type": "markdown",
   "id": "591b0f36-c15c-4111-8c3a-822ac1eb54cd",
   "metadata": {},
   "source": [
    "### Sub Array "
   ]
  },
  {
   "cell_type": "code",
   "execution_count": 23,
   "id": "199c1c87-5b18-43c8-8ffb-aafc87097f9b",
   "metadata": {},
   "outputs": [
    {
     "name": "stdout",
     "output_type": "stream",
     "text": [
      "Sub-Array= [4 5 6 7 8 9]\n"
     ]
    }
   ],
   "source": [
    "import numpy as np \n",
    "  \n",
    "numpyArr = np.array([1, 2, 3, 4, 5, 6, 7, 8, 9]) \n",
    "  \n",
    "# same as 3:9 or 3:n, where n is \n",
    "# the length of array \n",
    "print(\"Sub-Array=\", numpyArr[3:]) "
   ]
  },
  {
   "cell_type": "markdown",
   "id": "57d4dbcb-450a-44e0-872a-267d94a9d46a",
   "metadata": {},
   "source": [
    "# Given a 2D array of shape (5, 5), extract a 3x3 sub-array starting from the element at position (1, 1)."
   ]
  },
  {
   "cell_type": "code",
   "execution_count": 22,
   "id": "f6b0b30e-b9d3-48dd-8df5-bd31ce4e50d6",
   "metadata": {},
   "outputs": [
    {
     "name": "stdout",
     "output_type": "stream",
     "text": [
      "Original 2D Array:\n",
      "[[ 1  2  3  4  5]\n",
      " [ 6  7  8  9 10]\n",
      " [11 12 13 14 15]\n",
      " [16 17 18 19 20]\n",
      " [21 22 23 24 25]]\n",
      "\n",
      "Extracted 3x3 Sub-array:\n",
      "[[ 7  8  9]\n",
      " [12 13 14]\n",
      " [17 18 19]]\n"
     ]
    }
   ],
   "source": [
    "import numpy as np\n",
    "\n",
    "array_2d = np.array([[ 1,  2,  3,  4,  5],\n",
    "                     [ 6,  7,  8,  9, 10],\n",
    "                     [11, 12, 13, 14, 15],\n",
    "                     [16, 17, 18, 19, 20],\n",
    "                     [21, 22, 23, 24, 25]])\n",
    "\n",
    "sub_array = array_2d[1:4, 1:4]\n",
    "\n",
    "print(\"Original 2D Array:\")\n",
    "print(array_2d)\n",
    "print(\"\\nExtracted 3x3 Sub-array:\")\n",
    "print(sub_array)"
   ]
  },
  {
   "cell_type": "markdown",
   "id": "8a88c57e-4a53-4e93-a491-131849333e2a",
   "metadata": {},
   "source": [
    "# From a 3D array of shape (4, 3, 2), extract all elements in the first two rows and all columns of the second slice along the third axis"
   ]
  },
  {
   "cell_type": "code",
   "execution_count": 24,
   "id": "7280fa31-2a50-45ed-8346-54a4f2c5808d",
   "metadata": {},
   "outputs": [
    {
     "name": "stdout",
     "output_type": "stream",
     "text": [
      "Original 3D Array:\n",
      "[[[ 1  2]\n",
      "  [ 3  4]\n",
      "  [ 5  6]]\n",
      "\n",
      " [[ 7  8]\n",
      "  [ 9 10]\n",
      "  [11 12]]\n",
      "\n",
      " [[13 14]\n",
      "  [15 16]\n",
      "  [17 18]]\n",
      "\n",
      " [[19 20]\n",
      "  [21 22]\n",
      "  [23 24]]]\n",
      "\n",
      "Extracted Sub-array:\n",
      "[[ 2  4  6]\n",
      " [ 8 10 12]]\n"
     ]
    }
   ],
   "source": [
    "import numpy as np\n",
    "\n",
    "array_3d = np.array([[[ 1,  2], [ 3,  4], [ 5,  6]],\n",
    "                     [[ 7,  8], [ 9, 10], [11, 12]],\n",
    "                     [[13, 14], [15, 16], [17, 18]],\n",
    "                     [[19, 20], [21, 22], [23, 24]]])\n",
    "\n",
    "# Extract all elements in the first two rows and all columns of the second slice along the third axis\n",
    "sub_array = array_3d[:2, :, 1]\n",
    "\n",
    "print(\"Original 3D Array:\")\n",
    "print(array_3d)\n",
    "print(\"\\nExtracted Sub-array:\")\n",
    "print(sub_array)"
   ]
  },
  {
   "cell_type": "markdown",
   "id": "0ef5c490-be32-4fcb-bfab-40c50e53d3c1",
   "metadata": {},
   "source": [
    "# Given an array of integers, use fancy indexing to extract elements at positions [1, 3, 4, 7]"
   ]
  },
  {
   "cell_type": "code",
   "execution_count": 25,
   "id": "5fbf3f7f-7981-405a-a684-4396e93a3bfe",
   "metadata": {},
   "outputs": [
    {
     "name": "stdout",
     "output_type": "stream",
     "text": [
      "Original Array:\n",
      "[ 10  20  30  40  50  60  70  80  90 100]\n",
      "\n",
      "Extracted Elements:\n",
      "[20 40 50 80]\n"
     ]
    }
   ],
   "source": [
    "import numpy as np\n",
    "\n",
    "array = np.array([10, 20, 30, 40, 50, 60, 70, 80, 90, 100])\n",
    "\n",
    "# Use fancy indexing to extract elements at positions [1, 3, 4, 7]\n",
    "indices = [1, 3, 4, 7]\n",
    "extracted_elements = array[indices]\n",
    "\n",
    "print(\"Original Array:\")\n",
    "print(array)\n",
    "print(\"\\nExtracted Elements:\")\n",
    "print(extracted_elements)"
   ]
  },
  {
   "cell_type": "markdown",
   "id": "158f8132-e571-4748-8f20-0db130392c47",
   "metadata": {},
   "source": [
    "# Mini Project Using Array Operations, Indexing, and Slicing "
   ]
  },
  {
   "cell_type": "code",
   "execution_count": 28,
   "id": "737e95e2-9ed3-4582-a66a-2ddaaf09c803",
   "metadata": {},
   "outputs": [
    {
     "name": "stdout",
     "output_type": "stream",
     "text": [
      "\n",
      "************************************************************\n",
      "*                                                          *\n",
      "*          <== Temperature Data Analysis ==>               *\n",
      "*                                                          *\n",
      "************************************************************\n",
      "\n",
      "Average Temperature of the Month: 26.833333333333332\n",
      "Hottest Day: 16 with temperature: 35\n",
      "Coldest Day: 4 with temperature: 20\n",
      "Temperatures of the First Week: [23 25 22 20 21 24 26]\n",
      "Number of Days with Temperatures Above 30 Degrees: 5\n",
      "Temperatures of the Second Week: [27 30 28 29 31 32 33]\n",
      "Temperature Range of the Month: 15\n"
     ]
    }
   ],
   "source": [
    "header = \"\"\"\n",
    "************************************************************\n",
    "*                                                          *\n",
    "*          <== Temperature Data Analysis ==>               *\n",
    "*                                                          *\n",
    "************************************************************\n",
    "\"\"\"\n",
    "\n",
    "print(header)\n",
    "\n",
    "import numpy as np\n",
    "\n",
    "# Create a 1D array of temperatures for 30 days\n",
    "temperatures = np.array([23, 25, 22, 20, 21, 24, 26, 27, 30, 28, 29, 31, 32, 33, 34, 35, 30, 28, 27, 25, 26, 22, 23, 24, 25, 28, 29, 27, 26, 25])\n",
    "\n",
    "# Calculate the average temperature of the month\n",
    "average_temp = np.mean(temperatures)\n",
    "print(\"Average Temperature of the Month:\", average_temp)\n",
    "\n",
    "# Find the hottest and coldest days\n",
    "hottest_day = np.argmax(temperatures) + 1  # +1 to convert to 1-based index\n",
    "coldest_day = np.argmin(temperatures) + 1  # +1 to convert to 1-based index\n",
    "print(\"Hottest Day:\", hottest_day, \"with temperature:\", temperatures[hottest_day - 1])\n",
    "print(\"Coldest Day:\", coldest_day, \"with temperature:\", temperatures[coldest_day - 1])\n",
    "\n",
    "# Extract the temperatures of the first week\n",
    "first_week_temps = temperatures[:7]\n",
    "print(\"Temperatures of the First Week:\", first_week_temps)\n",
    "\n",
    "# Find the number of days with temperatures above 30 degrees\n",
    "days_above_30 = np.sum(temperatures > 30)\n",
    "print(\"Number of Days with Temperatures Above 30 Degrees:\", days_above_30)\n",
    "\n",
    "# Additional Analysis: Find temperatures in the second week\n",
    "second_week_temps = temperatures[7:14]\n",
    "print(\"Temperatures of the Second Week:\", second_week_temps)\n",
    "\n",
    "# Additional Analysis: Find the temperature range (difference between the max and min)\n",
    "temperature_range = np.ptp(temperatures)\n",
    "print(\"Temperature Range of the Month:\", temperature_range)"
   ]
  },
  {
   "cell_type": "code",
   "execution_count": null,
   "id": "826d598e-ba4b-4881-bd40-4a99b20f3f3d",
   "metadata": {},
   "outputs": [],
   "source": []
  }
 ],
 "metadata": {
  "kernelspec": {
   "display_name": "Python 3 (ipykernel)",
   "language": "python",
   "name": "python3"
  },
  "language_info": {
   "codemirror_mode": {
    "name": "ipython",
    "version": 3
   },
   "file_extension": ".py",
   "mimetype": "text/x-python",
   "name": "python",
   "nbconvert_exporter": "python",
   "pygments_lexer": "ipython3",
   "version": "3.11.7"
  }
 },
 "nbformat": 4,
 "nbformat_minor": 5
}
