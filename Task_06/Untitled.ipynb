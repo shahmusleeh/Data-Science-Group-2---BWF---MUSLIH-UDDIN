{
 "cells": [
  {
   "cell_type": "code",
   "execution_count": null,
   "id": "59e8baa6-ae32-49bb-920c-5c9841ec22ac",
   "metadata": {},
   "outputs": [
    {
     "name": "stdout",
     "output_type": "stream",
     "text": [
      "\n",
      "************************************************************\n",
      "*                                                          *\n",
      "*       <== STUDENT RECORD MANAGEMENT SYSTEM ==>           *\n",
      "*                                                          *\n",
      "************************************************************\n",
      "\n",
      "\n",
      "Student Record Management System\n",
      "1. Add Student\n",
      "2. Delete Student\n",
      "3. Search Student\n",
      "4. Display Students\n",
      "5. Exit\n"
     ]
    },
    {
     "name": "stdin",
     "output_type": "stream",
     "text": [
      "Enter your choice:  41404\n"
     ]
    },
    {
     "name": "stdout",
     "output_type": "stream",
     "text": [
      "Invalid choice. Please try again.\n",
      "\n",
      "Student Record Management System\n",
      "1. Add Student\n",
      "2. Delete Student\n",
      "3. Search Student\n",
      "4. Display Students\n",
      "5. Exit\n"
     ]
    },
    {
     "name": "stdin",
     "output_type": "stream",
     "text": [
      "Enter your choice:  1\n",
      "Enter student ID:  41404\n",
      "Enter student name:  Muslih Uddin\n",
      "Enter student age:  24\n",
      "Enter student grade:  A\n"
     ]
    },
    {
     "name": "stdout",
     "output_type": "stream",
     "text": [
      "Student Muslih Uddin added successfully.\n",
      "\n",
      "Student Record Management System\n",
      "1. Add Student\n",
      "2. Delete Student\n",
      "3. Search Student\n",
      "4. Display Students\n",
      "5. Exit\n"
     ]
    },
    {
     "name": "stdin",
     "output_type": "stream",
     "text": [
      "Enter your choice:  2\n",
      "Enter student ID to delete:  41404\n"
     ]
    },
    {
     "name": "stdout",
     "output_type": "stream",
     "text": [
      "Student ID 41404 deleted successfully.\n",
      "\n",
      "Student Record Management System\n",
      "1. Add Student\n",
      "2. Delete Student\n",
      "3. Search Student\n",
      "4. Display Students\n",
      "5. Exit\n"
     ]
    },
    {
     "name": "stdin",
     "output_type": "stream",
     "text": [
      "Enter your choice:  1\n",
      "Enter student ID:  41425\n",
      "Enter student name:  Fayaz Islam\n",
      "Enter student age:  23\n",
      "Enter student grade:  A\n"
     ]
    },
    {
     "name": "stdout",
     "output_type": "stream",
     "text": [
      "Student Fayaz Islam added successfully.\n",
      "\n",
      "Student Record Management System\n",
      "1. Add Student\n",
      "2. Delete Student\n",
      "3. Search Student\n",
      "4. Display Students\n",
      "5. Exit\n"
     ]
    }
   ],
   "source": [
    "import json\n",
    "import os\n",
    "\n",
    "header = \"\"\"\n",
    "************************************************************\n",
    "*                                                          *\n",
    "*       <== STUDENT RECORD MANAGEMENT SYSTEM ==>           *\n",
    "*                                                          *\n",
    "************************************************************\n",
    "\"\"\"\n",
    "\n",
    "print(header)\n",
    "\n",
    "# File to store student records\n",
    "FILE_NAME = 'students.json'\n",
    "\n",
    "# Load existing data from file\n",
    "if os.path.exists(FILE_NAME):\n",
    "    with open(FILE_NAME, 'r') as file:\n",
    "        students = json.load(file)\n",
    "else:\n",
    "    students = {}\n",
    "\n",
    "# Functions to manage student records\n",
    "\n",
    "def save_data():\n",
    "    with open(FILE_NAME, 'w') as file:\n",
    "        json.dump(students, file)\n",
    "\n",
    "def add_student(student_id, student_name, student_age, student_grade):\n",
    "    if student_id in students:\n",
    "        print(\"Student ID already exists. No duplicates allowed.\")\n",
    "        return\n",
    "    students[student_id] = {\n",
    "        \"name\": student_name,\n",
    "        \"age\": student_age,\n",
    "        \"grade\": student_grade\n",
    "    }\n",
    "    save_data()\n",
    "    print(f\"Student {student_name} added successfully.\")\n",
    "\n",
    "def delete_student(student_id):\n",
    "    if student_id in students:\n",
    "        del students[student_id]\n",
    "        save_data()\n",
    "        print(f\"Student ID {student_id} deleted successfully.\")\n",
    "    else:\n",
    "        print(f\"Student ID {student_id} not found.\")\n",
    "\n",
    "def search_student(student_id):\n",
    "    if student_id in students:\n",
    "        student = students[student_id]\n",
    "        print(f\"ID: {student_id}, Name: {student['name']}, Age: {student['age']}, Grade: {student['grade']}\")\n",
    "    else:\n",
    "        print(f\"Student ID {student_id} not found.\")\n",
    "\n",
    "def display_students():\n",
    "    if students:\n",
    "        print(\"List of students:\")\n",
    "        for student_id, details in students.items():\n",
    "            print(f\"ID: {student_id}, Name: {details['name']}, Age: {details['age']}, Grade: {details['grade']}\")\n",
    "    else:\n",
    "        print(\"No students available.\")\n",
    "\n",
    "# Menu-driven interface\n",
    "while True:\n",
    "    print(\"\\nStudent Record Management System\")\n",
    "    print(\"1. Add Student\")\n",
    "    print(\"2. Delete Student\")\n",
    "    print(\"3. Search Student\")\n",
    "    print(\"4. Display Students\")\n",
    "    print(\"5. Exit\")\n",
    "\n",
    "    choice = input(\"Enter your choice: \")\n",
    "\n",
    "    if choice == \"1\":\n",
    "        student_id = input(\"Enter student ID: \")\n",
    "        student_name = input(\"Enter student name: \")\n",
    "        student_age = input(\"Enter student age: \")\n",
    "        student_grade = input(\"Enter student grade: \")\n",
    "        add_student(student_id, student_name, student_age, student_grade)\n",
    "    elif choice == \"2\":\n",
    "        student_id = input(\"Enter student ID to delete: \")\n",
    "        delete_student(student_id)\n",
    "    elif choice == \"3\":\n",
    "        student_id = input(\"Enter student ID to search: \")\n",
    "        search_student(student_id)\n",
    "    elif choice == \"4\":\n",
    "        display_students()\n",
    "    elif choice == \"5\":\n",
    "        print(\"Exiting Student Record Management System. Goodbye!\")\n",
    "        break\n",
    "    else:\n",
    "        print(\"Invalid choice. Please try again.\")"
   ]
  },
  {
   "cell_type": "code",
   "execution_count": null,
   "id": "994f6a87-c728-4407-9a36-4b868e74b9e6",
   "metadata": {},
   "outputs": [],
   "source": []
  }
 ],
 "metadata": {
  "kernelspec": {
   "display_name": "Python 3 (ipykernel)",
   "language": "python",
   "name": "python3"
  },
  "language_info": {
   "codemirror_mode": {
    "name": "ipython",
    "version": 3
   },
   "file_extension": ".py",
   "mimetype": "text/x-python",
   "name": "python",
   "nbconvert_exporter": "python",
   "pygments_lexer": "ipython3",
   "version": "3.11.7"
  }
 },
 "nbformat": 4,
 "nbformat_minor": 5
}
