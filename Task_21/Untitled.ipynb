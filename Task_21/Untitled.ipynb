{
 "cells": [
  {
   "cell_type": "code",
   "execution_count": 1,
   "id": "894a0cd6-ccf9-459a-9101-9449b634ee14",
   "metadata": {},
   "outputs": [],
   "source": [
    "import numpy as np"
   ]
  },
  {
   "cell_type": "code",
   "execution_count": 5,
   "id": "21113b10-f2fb-4ea0-b3b1-b845cebdb633",
   "metadata": {},
   "outputs": [],
   "source": [
    "mat = np.array([[1,2], [3,4]])"
   ]
  },
  {
   "cell_type": "code",
   "execution_count": 6,
   "id": "6117fd45-796e-414e-9357-0748f739ac8c",
   "metadata": {},
   "outputs": [
    {
     "data": {
      "text/plain": [
       "array([[1, 2],\n",
       "       [3, 4]])"
      ]
     },
     "execution_count": 6,
     "metadata": {},
     "output_type": "execute_result"
    }
   ],
   "source": [
    "mat"
   ]
  },
  {
   "cell_type": "markdown",
   "id": "57d407eb-9a48-442e-9b78-2f958cfdfe40",
   "metadata": {},
   "source": [
    "### Determinant"
   ]
  },
  {
   "cell_type": "code",
   "execution_count": 7,
   "id": "e9eaa144-6c7b-4c84-9647-fdd53dc1a04d",
   "metadata": {},
   "outputs": [
    {
     "data": {
      "text/plain": [
       "-2.0000000000000004"
      ]
     },
     "execution_count": 7,
     "metadata": {},
     "output_type": "execute_result"
    }
   ],
   "source": [
    "np.linalg.det(mat)"
   ]
  },
  {
   "cell_type": "markdown",
   "id": "3f7bb930-ad22-4d21-87b1-ff1c916353bd",
   "metadata": {},
   "source": [
    "### Inverse"
   ]
  },
  {
   "cell_type": "code",
   "execution_count": 8,
   "id": "2fbc670a-72a3-4201-acee-be585d61bddd",
   "metadata": {},
   "outputs": [
    {
     "data": {
      "text/plain": [
       "array([[-2. ,  1. ],\n",
       "       [ 1.5, -0.5]])"
      ]
     },
     "execution_count": 8,
     "metadata": {},
     "output_type": "execute_result"
    }
   ],
   "source": [
    "np.linalg.inv(mat)"
   ]
  },
  {
   "cell_type": "markdown",
   "id": "eb034dd1-f634-4ed8-8ffe-38ebff9028e3",
   "metadata": {},
   "source": [
    "### Transpose"
   ]
  },
  {
   "cell_type": "code",
   "execution_count": 9,
   "id": "74879a3a-0d58-4af5-91e6-c0984ab0ddd4",
   "metadata": {},
   "outputs": [
    {
     "data": {
      "text/plain": [
       "array([[1, 3],\n",
       "       [2, 4]])"
      ]
     },
     "execution_count": 9,
     "metadata": {},
     "output_type": "execute_result"
    }
   ],
   "source": [
    "mat.transpose()"
   ]
  },
  {
   "cell_type": "markdown",
   "id": "82883393-5ca6-4475-bdbf-bce13d751d60",
   "metadata": {},
   "source": [
    "### Trace"
   ]
  },
  {
   "cell_type": "code",
   "execution_count": 10,
   "id": "b4c95df1-ba94-409e-9f62-efb9be7eee27",
   "metadata": {},
   "outputs": [
    {
     "data": {
      "text/plain": [
       "5"
      ]
     },
     "execution_count": 10,
     "metadata": {},
     "output_type": "execute_result"
    }
   ],
   "source": [
    "np.trace(mat)"
   ]
  },
  {
   "cell_type": "markdown",
   "id": "c2989930-fa02-4535-95ca-f0368f902982",
   "metadata": {},
   "source": [
    "### Multiplication"
   ]
  },
  {
   "cell_type": "code",
   "execution_count": 12,
   "id": "72314dc5-d2c6-423d-bc16-79a6b7071644",
   "metadata": {},
   "outputs": [],
   "source": [
    "arr1 = np.array([[1,2], [3,4]])\n",
    "arr2 = np.array([[5,6], [7,8]])"
   ]
  },
  {
   "cell_type": "markdown",
   "id": "edff3c96-4856-4bfa-8391-bc392ea3a9d2",
   "metadata": {},
   "source": [
    "### Element by element multiplication"
   ]
  },
  {
   "cell_type": "code",
   "execution_count": 13,
   "id": "2ef050ed-07f4-4005-af25-43df8418e983",
   "metadata": {},
   "outputs": [
    {
     "data": {
      "text/plain": [
       "array([[ 5, 12],\n",
       "       [21, 32]])"
      ]
     },
     "execution_count": 13,
     "metadata": {},
     "output_type": "execute_result"
    }
   ],
   "source": [
    "arr1 * arr2"
   ]
  },
  {
   "cell_type": "markdown",
   "id": "399e52de-cae2-4143-a867-feca5652b66f",
   "metadata": {},
   "source": [
    "### True real matrix multiplication"
   ]
  },
  {
   "cell_type": "code",
   "execution_count": 14,
   "id": "6e2f27a5-34c3-4f56-8fe1-5fdf97d1965f",
   "metadata": {},
   "outputs": [
    {
     "data": {
      "text/plain": [
       "array([[19, 22],\n",
       "       [43, 50]])"
      ]
     },
     "execution_count": 14,
     "metadata": {},
     "output_type": "execute_result"
    }
   ],
   "source": [
    "arr1.dot(arr2)"
   ]
  },
  {
   "cell_type": "markdown",
   "id": "e9d7e6bd-97f8-4eeb-a7b2-2560b7730f12",
   "metadata": {},
   "source": [
    "### Linear Equation"
   ]
  },
  {
   "cell_type": "code",
   "execution_count": null,
   "id": "d804c206-b7b2-4fee-95e2-7c850a99df65",
   "metadata": {},
   "outputs": [],
   "source": [
    "2x + y = 1\n",
    "x + y = 2"
   ]
  },
  {
   "cell_type": "code",
   "execution_count": 15,
   "id": "31b8cd4c-41d0-4fc7-833e-538acdc51508",
   "metadata": {},
   "outputs": [],
   "source": [
    "M0 = np.array([[2,1], [1,1]])\n",
    "M1 = np.array([1,2])"
   ]
  },
  {
   "cell_type": "code",
   "execution_count": 16,
   "id": "e46c5f6c-6183-4cd8-84c9-b15e9d6a377a",
   "metadata": {},
   "outputs": [
    {
     "data": {
      "text/plain": [
       "array([-1.,  3.])"
      ]
     },
     "execution_count": 16,
     "metadata": {},
     "output_type": "execute_result"
    }
   ],
   "source": [
    "np.linalg.solve(M0,M1)"
   ]
  },
  {
   "cell_type": "markdown",
   "id": "45ccd4aa-3b7d-4ee2-85df-b6d36b361051",
   "metadata": {},
   "source": [
    "### Eigan Value"
   ]
  },
  {
   "cell_type": "code",
   "execution_count": 17,
   "id": "21412ff2-9dc0-4ed2-ab65-832ad1a20848",
   "metadata": {},
   "outputs": [
    {
     "data": {
      "text/plain": [
       "array([[1, 2],\n",
       "       [3, 4]])"
      ]
     },
     "execution_count": 17,
     "metadata": {},
     "output_type": "execute_result"
    }
   ],
   "source": [
    "mat"
   ]
  },
  {
   "cell_type": "code",
   "execution_count": 20,
   "id": "8169ab74-7fb3-4ffb-95ef-9a797f1d951c",
   "metadata": {},
   "outputs": [],
   "source": [
    "eigvalues, eigvectors = np.linalg.eig(mat)"
   ]
  },
  {
   "cell_type": "code",
   "execution_count": 21,
   "id": "e46d4562-95e6-459a-a24e-c144ec16da21",
   "metadata": {},
   "outputs": [
    {
     "data": {
      "text/plain": [
       "array([-0.37228132,  5.37228132])"
      ]
     },
     "execution_count": 21,
     "metadata": {},
     "output_type": "execute_result"
    }
   ],
   "source": [
    "eigvalues"
   ]
  },
  {
   "cell_type": "code",
   "execution_count": 22,
   "id": "7a47245a-7843-4097-8150-b4b70937af39",
   "metadata": {},
   "outputs": [
    {
     "data": {
      "text/plain": [
       "array([[-0.82456484, -0.41597356],\n",
       "       [ 0.56576746, -0.90937671]])"
      ]
     },
     "execution_count": 22,
     "metadata": {},
     "output_type": "execute_result"
    }
   ],
   "source": [
    "eigvectors"
   ]
  },
  {
   "cell_type": "markdown",
   "id": "2a66239b-9661-46c4-9f5b-bd867e266205",
   "metadata": {},
   "source": [
    "# Assigned Tasks"
   ]
  },
  {
   "cell_type": "markdown",
   "id": "26e21846-f2ec-4cc5-8e96-f7890b42beac",
   "metadata": {},
   "source": [
    "### Matrix Creation and Manipulation"
   ]
  },
  {
   "cell_type": "markdown",
   "id": "35ed2d45-a45a-4549-9006-13735bda2b86",
   "metadata": {},
   "source": [
    "##### Create various types of matrices (zero matrix, identity matrix, random matrix)"
   ]
  },
  {
   "cell_type": "code",
   "execution_count": 23,
   "id": "751d8d6c-08e8-4d3b-bcec-36f5e146bb69",
   "metadata": {},
   "outputs": [],
   "source": [
    "import numpy as np"
   ]
  },
  {
   "cell_type": "code",
   "execution_count": 25,
   "id": "3ee6a34f-1c93-48f1-9e6a-821a8986cdc3",
   "metadata": {},
   "outputs": [
    {
     "data": {
      "text/plain": [
       "array([[0., 0., 0.],\n",
       "       [0., 0., 0.],\n",
       "       [0., 0., 0.]])"
      ]
     },
     "execution_count": 25,
     "metadata": {},
     "output_type": "execute_result"
    }
   ],
   "source": [
    "zero_matrix = np.zeros((3, 3))\n",
    "zero_matrix"
   ]
  },
  {
   "cell_type": "code",
   "execution_count": 26,
   "id": "5a1a1597-0436-404c-a395-fb539cf52772",
   "metadata": {},
   "outputs": [
    {
     "data": {
      "text/plain": [
       "array([[1., 0., 0.],\n",
       "       [0., 1., 0.],\n",
       "       [0., 0., 1.]])"
      ]
     },
     "execution_count": 26,
     "metadata": {},
     "output_type": "execute_result"
    }
   ],
   "source": [
    "identity_matrix = np.eye(3)\n",
    "identity_matrix"
   ]
  },
  {
   "cell_type": "code",
   "execution_count": 27,
   "id": "efdc361d-5399-4569-bd02-a774ab2cc931",
   "metadata": {},
   "outputs": [
    {
     "data": {
      "text/plain": [
       "array([[0.94308569, 0.67632911, 0.93555995],\n",
       "       [0.66752188, 0.38632527, 0.613952  ],\n",
       "       [0.92975984, 0.07853735, 0.61740175]])"
      ]
     },
     "execution_count": 27,
     "metadata": {},
     "output_type": "execute_result"
    }
   ],
   "source": [
    "random_matrix = np.random.random((3, 3))\n",
    "random_matrix"
   ]
  },
  {
   "cell_type": "markdown",
   "id": "f493f700-378e-4833-bc12-971183c16a6b",
   "metadata": {},
   "source": [
    "##### Perform basic matrix operations (addition, subtraction, multiplication)"
   ]
  },
  {
   "cell_type": "code",
   "execution_count": 28,
   "id": "563964c4-4910-46e5-b22c-5fda40c80646",
   "metadata": {},
   "outputs": [],
   "source": [
    "A = np.array([[1, 2, 3], [4, 5, 6], [7, 8, 9]])\n",
    "B = np.array([[9, 8, 7], [6, 5, 4], [3, 2, 1]])"
   ]
  },
  {
   "cell_type": "code",
   "execution_count": 30,
   "id": "e7cb7a24-956a-4c1b-a82b-028f949530d7",
   "metadata": {},
   "outputs": [
    {
     "data": {
      "text/plain": [
       "array([[10, 10, 10],\n",
       "       [10, 10, 10],\n",
       "       [10, 10, 10]])"
      ]
     },
     "execution_count": 30,
     "metadata": {},
     "output_type": "execute_result"
    }
   ],
   "source": [
    "C = A + B\n",
    "C"
   ]
  },
  {
   "cell_type": "code",
   "execution_count": 31,
   "id": "48e369cf-319b-48cb-9cf2-574edfb132f9",
   "metadata": {},
   "outputs": [
    {
     "data": {
      "text/plain": [
       "array([[-8, -6, -4],\n",
       "       [-2,  0,  2],\n",
       "       [ 4,  6,  8]])"
      ]
     },
     "execution_count": 31,
     "metadata": {},
     "output_type": "execute_result"
    }
   ],
   "source": [
    "D = A - B\n",
    "D"
   ]
  },
  {
   "cell_type": "code",
   "execution_count": 32,
   "id": "f8889bbc-9727-4a21-aa0c-0fa60145a13f",
   "metadata": {},
   "outputs": [
    {
     "data": {
      "text/plain": [
       "array([[ 30,  24,  18],\n",
       "       [ 84,  69,  54],\n",
       "       [138, 114,  90]])"
      ]
     },
     "execution_count": 32,
     "metadata": {},
     "output_type": "execute_result"
    }
   ],
   "source": [
    "E = np.dot(A, B)\n",
    "E"
   ]
  },
  {
   "cell_type": "markdown",
   "id": "97635856-430b-4200-827c-55abfb803c95",
   "metadata": {},
   "source": [
    "##### Transpose a matrix and find the determinant and inverse of a matrix:"
   ]
  },
  {
   "cell_type": "code",
   "execution_count": 33,
   "id": "31896881-2aca-4926-a44a-a74093da4692",
   "metadata": {},
   "outputs": [
    {
     "data": {
      "text/plain": [
       "array([[1, 4, 7],\n",
       "       [2, 5, 8],\n",
       "       [3, 6, 9]])"
      ]
     },
     "execution_count": 33,
     "metadata": {},
     "output_type": "execute_result"
    }
   ],
   "source": [
    "A_T = A.T\n",
    "A_T"
   ]
  },
  {
   "cell_type": "code",
   "execution_count": 34,
   "id": "4ce0763a-265e-47bb-8fb2-ec40b9bb846f",
   "metadata": {},
   "outputs": [
    {
     "data": {
      "text/plain": [
       "-9.51619735392994e-16"
      ]
     },
     "execution_count": 34,
     "metadata": {},
     "output_type": "execute_result"
    }
   ],
   "source": [
    "det_A = np.linalg.det(A)\n",
    "det_A"
   ]
  },
  {
   "cell_type": "code",
   "execution_count": 35,
   "id": "991c8d62-44db-4c86-b07a-7ed93ff9728a",
   "metadata": {},
   "outputs": [
    {
     "data": {
      "text/plain": [
       "array([[ 3.15251974e+15, -6.30503948e+15,  3.15251974e+15],\n",
       "       [-6.30503948e+15,  1.26100790e+16, -6.30503948e+15],\n",
       "       [ 3.15251974e+15, -6.30503948e+15,  3.15251974e+15]])"
      ]
     },
     "execution_count": 35,
     "metadata": {},
     "output_type": "execute_result"
    }
   ],
   "source": [
    "inv_A = np.linalg.inv(A)\n",
    "inv_A"
   ]
  },
  {
   "cell_type": "markdown",
   "id": "c40d8adb-8490-4cbb-91dc-5591402a35ad",
   "metadata": {},
   "source": [
    "### Solving Linear Equations"
   ]
  },
  {
   "cell_type": "markdown",
   "id": "e3db8d50-5008-4313-9e0f-e8d7ebc23ee9",
   "metadata": {},
   "source": [
    "##### Solve a system of linear equations"
   ]
  },
  {
   "cell_type": "code",
   "execution_count": null,
   "id": "608a3e25-bb50-4d3a-8bcc-38daeb780fdf",
   "metadata": {},
   "outputs": [],
   "source": [
    "Solve Ax = b"
   ]
  },
  {
   "cell_type": "code",
   "execution_count": 36,
   "id": "0c593be3-5645-41ac-9622-22ca8364a527",
   "metadata": {},
   "outputs": [],
   "source": [
    "A = np.array([[3, 1], [1, 2]])\n",
    "b = np.array([9, 8])"
   ]
  },
  {
   "cell_type": "code",
   "execution_count": 38,
   "id": "b2ea3723-9a1f-46bb-8f75-a89159fe7237",
   "metadata": {},
   "outputs": [
    {
     "data": {
      "text/plain": [
       "array([2., 3.])"
      ]
     },
     "execution_count": 38,
     "metadata": {},
     "output_type": "execute_result"
    }
   ],
   "source": [
    "x = np.linalg.solve(A, b)\n",
    "x"
   ]
  },
  {
   "cell_type": "markdown",
   "id": "8100cc63-68f5-45be-9504-6e0ffb31aae9",
   "metadata": {},
   "source": [
    "##### Implement matrix factorization methods (LU decomposition, QR decomposition)"
   ]
  },
  {
   "cell_type": "code",
   "execution_count": 39,
   "id": "9721cf4a-ffe5-4226-a881-c17fe59b097d",
   "metadata": {},
   "outputs": [],
   "source": [
    "from scipy.linalg import lu, qr"
   ]
  },
  {
   "cell_type": "code",
   "execution_count": 42,
   "id": "3bdecb8b-a8c8-45d9-a67f-ad40b3d7feb1",
   "metadata": {},
   "outputs": [
    {
     "data": {
      "text/plain": [
       "(array([[1., 0.],\n",
       "        [0., 1.]]),\n",
       " array([[1.        , 0.        ],\n",
       "        [0.33333333, 1.        ]]),\n",
       " array([[3.        , 1.        ],\n",
       "        [0.        , 1.66666667]]))"
      ]
     },
     "execution_count": 42,
     "metadata": {},
     "output_type": "execute_result"
    }
   ],
   "source": [
    "P, L, U = lu(A)\n",
    "P, L, U"
   ]
  },
  {
   "cell_type": "code",
   "execution_count": 43,
   "id": "2e963daa-95f0-46b4-93f6-ccf4125d6d14",
   "metadata": {},
   "outputs": [
    {
     "data": {
      "text/plain": [
       "(array([[-0.9486833 , -0.31622777],\n",
       "        [-0.31622777,  0.9486833 ]]),\n",
       " array([[-3.16227766, -1.58113883],\n",
       "        [ 0.        ,  1.58113883]]))"
      ]
     },
     "execution_count": 43,
     "metadata": {},
     "output_type": "execute_result"
    }
   ],
   "source": [
    "Q, R = qr(A)\n",
    "Q, R"
   ]
  },
  {
   "cell_type": "markdown",
   "id": "6f0ae2d8-2e03-4810-92c2-5f4e6c5e128a",
   "metadata": {},
   "source": [
    "### Eigenvalues and Eigenvectors"
   ]
  },
  {
   "cell_type": "markdown",
   "id": "223ec30d-7a3a-4ec6-bfa8-2750846f9755",
   "metadata": {},
   "source": [
    "##### Calculate the eigenvalues and eigenvectors of a given matrix"
   ]
  },
  {
   "cell_type": "code",
   "execution_count": 44,
   "id": "c238f482-cb37-4d75-899c-37f8ec59411e",
   "metadata": {},
   "outputs": [
    {
     "data": {
      "text/plain": [
       "array([3.61803399, 1.38196601])"
      ]
     },
     "execution_count": 44,
     "metadata": {},
     "output_type": "execute_result"
    }
   ],
   "source": [
    "eigvals, eigvecs = np.linalg.eig(A)\n",
    "eigvals"
   ]
  },
  {
   "cell_type": "code",
   "execution_count": 45,
   "id": "57e0175a-7437-4163-a1d5-075e0cfdf58f",
   "metadata": {},
   "outputs": [
    {
     "data": {
      "text/plain": [
       "array([[ 0.85065081, -0.52573111],\n",
       "       [ 0.52573111,  0.85065081]])"
      ]
     },
     "execution_count": 45,
     "metadata": {},
     "output_type": "execute_result"
    }
   ],
   "source": [
    "eigvecs"
   ]
  },
  {
   "cell_type": "markdown",
   "id": "7b3827a7-38b6-422d-b787-2decb64b2daf",
   "metadata": {},
   "source": [
    "##### Verify the results by reconstructing the original matrix"
   ]
  },
  {
   "cell_type": "code",
   "execution_count": 46,
   "id": "12c73a17-0d20-458b-a13e-52a30679e70e",
   "metadata": {},
   "outputs": [
    {
     "data": {
      "text/plain": [
       "array([[3., 1.],\n",
       "       [1., 2.]])"
      ]
     },
     "execution_count": 46,
     "metadata": {},
     "output_type": "execute_result"
    }
   ],
   "source": [
    "A_reconstructed = eigvecs @ np.diag(eigvals) @ np.linalg.inv(eigvecs)\n",
    "A_reconstructed"
   ]
  },
  {
   "cell_type": "markdown",
   "id": "975f689c-069f-4bf1-8022-5f45fa26a0f4",
   "metadata": {},
   "source": [
    "### Vector Operations"
   ]
  },
  {
   "cell_type": "markdown",
   "id": "f314c255-3931-4758-bf23-5465d29fe43d",
   "metadata": {},
   "source": [
    "##### Perform basic vector operations (addition, dot product, cross product)"
   ]
  },
  {
   "cell_type": "code",
   "execution_count": 47,
   "id": "547491fb-7f8d-4851-934d-849e39ce1980",
   "metadata": {},
   "outputs": [],
   "source": [
    "u = np.array([1, 2, 3])\n",
    "v = np.array([4, 5, 6])"
   ]
  },
  {
   "cell_type": "code",
   "execution_count": 48,
   "id": "d3023728-0f0a-40c1-832a-5a2ccf7e7ef2",
   "metadata": {},
   "outputs": [
    {
     "data": {
      "text/plain": [
       "array([5, 7, 9])"
      ]
     },
     "execution_count": 48,
     "metadata": {},
     "output_type": "execute_result"
    }
   ],
   "source": [
    "w = u + v\n",
    "w"
   ]
  },
  {
   "cell_type": "code",
   "execution_count": 49,
   "id": "b02b0d8a-3a4b-48ca-a760-612f1f55795e",
   "metadata": {},
   "outputs": [
    {
     "data": {
      "text/plain": [
       "32"
      ]
     },
     "execution_count": 49,
     "metadata": {},
     "output_type": "execute_result"
    }
   ],
   "source": [
    "dot_product = np.dot(u, v)\n",
    "dot_product"
   ]
  },
  {
   "cell_type": "code",
   "execution_count": 50,
   "id": "c8f69662-e541-4577-a349-d70d081cdde4",
   "metadata": {},
   "outputs": [
    {
     "data": {
      "text/plain": [
       "array([-3,  6, -3])"
      ]
     },
     "execution_count": 50,
     "metadata": {},
     "output_type": "execute_result"
    }
   ],
   "source": [
    "cross_product = np.cross(u, v)\n",
    "cross_product"
   ]
  },
  {
   "cell_type": "markdown",
   "id": "44f72fcf-e3d3-4380-ba9b-cd12a992005c",
   "metadata": {},
   "source": [
    "##### Normalize a vector and compute vector norms"
   ]
  },
  {
   "cell_type": "code",
   "execution_count": 58,
   "id": "dbe734c1-fb69-4e1b-99b1-90d1431b6b89",
   "metadata": {},
   "outputs": [
    {
     "data": {
      "text/plain": [
       "array([0.26726124, 0.53452248, 0.80178373])"
      ]
     },
     "execution_count": 58,
     "metadata": {},
     "output_type": "execute_result"
    }
   ],
   "source": [
    "norm_u = np.linalg.norm(u)\n",
    "normalized_u = u / norm_u\n",
    "\n",
    "norm_u\n",
    "normalized_u"
   ]
  },
  {
   "cell_type": "code",
   "execution_count": 59,
   "id": "035c7422-177d-4964-abf6-ad7f378cdedd",
   "metadata": {},
   "outputs": [],
   "source": [
    "l2_norm = np.linalg.norm(u)\n",
    "l1_norm = np.linalg.norm(u, 1)"
   ]
  },
  {
   "cell_type": "code",
   "execution_count": 60,
   "id": "9238c669-d7cb-4f5c-ade8-cc3d75d0521f",
   "metadata": {},
   "outputs": [
    {
     "data": {
      "text/plain": [
       "3.7416573867739413"
      ]
     },
     "execution_count": 60,
     "metadata": {},
     "output_type": "execute_result"
    }
   ],
   "source": [
    "l2_norm"
   ]
  },
  {
   "cell_type": "code",
   "execution_count": 61,
   "id": "fef70577-c0a0-46f6-9ace-88c4ec320d80",
   "metadata": {},
   "outputs": [
    {
     "data": {
      "text/plain": [
       "6.0"
      ]
     },
     "execution_count": 61,
     "metadata": {},
     "output_type": "execute_result"
    }
   ],
   "source": [
    "l1_norm"
   ]
  },
  {
   "cell_type": "markdown",
   "id": "16c9f519-c603-4b8b-8615-7c05edf8df75",
   "metadata": {},
   "source": [
    "### Matrix Decomposition"
   ]
  },
  {
   "cell_type": "markdown",
   "id": "6af32690-cde7-4672-a8f3-3a680bd34ac8",
   "metadata": {},
   "source": [
    "##### Understand and implement Principal Component Analysis (PCA) using SVD"
   ]
  },
  {
   "cell_type": "markdown",
   "id": "9f977abd-e6a9-4d4e-b0f0-233e749ada2e",
   "metadata": {},
   "source": [
    "##### Data matrix"
   ]
  },
  {
   "cell_type": "code",
   "execution_count": 63,
   "id": "dbb56efb-b9fd-4ff1-832b-9b12671d8862",
   "metadata": {},
   "outputs": [
    {
     "data": {
      "text/plain": [
       "array([[0.12958996, 0.71791237, 0.42672072],\n",
       "       [0.31148549, 0.62743595, 0.78944172],\n",
       "       [0.87567952, 0.64100693, 0.41820305],\n",
       "       [0.84337274, 0.60497796, 0.71491851],\n",
       "       [0.79788244, 0.83963086, 0.20561949]])"
      ]
     },
     "execution_count": 63,
     "metadata": {},
     "output_type": "execute_result"
    }
   ],
   "source": [
    "X = np.random.random((5, 3))\n",
    "X"
   ]
  },
  {
   "cell_type": "markdown",
   "id": "f4744b87-02e3-494e-9a5d-d05241fe791e",
   "metadata": {},
   "source": [
    "##### Mean centering"
   ]
  },
  {
   "cell_type": "code",
   "execution_count": 65,
   "id": "6b6b22dd-7758-4304-abd3-f9816cfae1dc",
   "metadata": {},
   "outputs": [
    {
     "data": {
      "text/plain": [
       "array([[-0.46201207,  0.03171955, -0.08425998],\n",
       "       [-0.28011654, -0.05875687,  0.27846102],\n",
       "       [ 0.28407749, -0.04518588, -0.09277764],\n",
       "       [ 0.25177071, -0.08121485,  0.20393781],\n",
       "       [ 0.20628041,  0.15343805, -0.30536121]])"
      ]
     },
     "execution_count": 65,
     "metadata": {},
     "output_type": "execute_result"
    }
   ],
   "source": [
    "X_meaned = X - np.mean(X, axis=0)\n",
    "X_meaned"
   ]
  },
  {
   "cell_type": "markdown",
   "id": "d0531181-29af-425f-ae0a-92761b2f4f27",
   "metadata": {},
   "source": [
    "##### SVD"
   ]
  },
  {
   "cell_type": "code",
   "execution_count": 66,
   "id": "f0012055-164f-4f9f-b446-139baef7b45c",
   "metadata": {},
   "outputs": [
    {
     "data": {
      "text/plain": [
       "(array([[-0.58891169, -0.44743267, -0.3090331 ,  0.55909139,  0.21190185],\n",
       "        [-0.49444946,  0.39253089,  0.31560391, -0.27902557,  0.65113603],\n",
       "        [ 0.41831236,  0.02745712, -0.68818348, -0.13621081,  0.57629072],\n",
       "        [ 0.25323827,  0.58143397,  0.11832229,  0.75632282,  0.10853825],\n",
       "        [ 0.41181052, -0.55398931,  0.56329038,  0.13778228,  0.43269843]]),\n",
       " array([0.70810422, 0.48437967, 0.08513948]),\n",
       " array([[ 0.95766599,  0.04814428, -0.28382736],\n",
       "        [ 0.28216657, -0.35245293,  0.8922774 ],\n",
       "        [ 0.05707774,  0.93459032,  0.3511169 ]]))"
      ]
     },
     "execution_count": 66,
     "metadata": {},
     "output_type": "execute_result"
    }
   ],
   "source": [
    "U, S, Vt = np.linalg.svd(X_meaned)\n",
    "U, S, Vt"
   ]
  },
  {
   "cell_type": "markdown",
   "id": "0d54f860-8ed2-415c-8ef1-88cb6a27299c",
   "metadata": {},
   "source": [
    "### Calculus Tasks"
   ]
  },
  {
   "cell_type": "markdown",
   "id": "f8c58578-a045-41fd-9908-11c6256f034f",
   "metadata": {},
   "source": [
    "### Numerical Differentiation"
   ]
  },
  {
   "cell_type": "markdown",
   "id": "a8a32e34-7e5d-497a-99a5-e319559f2f50",
   "metadata": {},
   "source": [
    "##### Compute the numerical derivative of a given function"
   ]
  },
  {
   "cell_type": "code",
   "execution_count": 68,
   "id": "67409297-4fe4-47b7-98c0-8a09dca23d91",
   "metadata": {},
   "outputs": [],
   "source": [
    "def f(x):\n",
    "    return x**2\n",
    "\n",
    "x = np.linspace(0, 10, 100)\n",
    "h = 1e-5"
   ]
  },
  {
   "cell_type": "markdown",
   "id": "b59e64a6-02de-4140-b776-ac39cb9463cd",
   "metadata": {},
   "source": [
    "##### Forward difference"
   ]
  },
  {
   "cell_type": "code",
   "execution_count": 70,
   "id": "e9970a2a-06df-4c64-98b4-42033769e36d",
   "metadata": {},
   "outputs": [
    {
     "data": {
      "text/plain": [
       "array([1.00000000e-05, 2.02030202e-01, 4.04050404e-01, 6.06070606e-01,\n",
       "       8.08090808e-01, 1.01011101e+00, 1.21213121e+00, 1.41415141e+00,\n",
       "       1.61617162e+00, 1.81819182e+00, 2.02021202e+00, 2.22223222e+00,\n",
       "       2.42425242e+00, 2.62627263e+00, 2.82829283e+00, 3.03031303e+00,\n",
       "       3.23233323e+00, 3.43435343e+00, 3.63637364e+00, 3.83839384e+00,\n",
       "       4.04041404e+00, 4.24243424e+00, 4.44445444e+00, 4.64647465e+00,\n",
       "       4.84849485e+00, 5.05051505e+00, 5.25253525e+00, 5.45455545e+00,\n",
       "       5.65657566e+00, 5.85859586e+00, 6.06061606e+00, 6.26263626e+00,\n",
       "       6.46465646e+00, 6.66667667e+00, 6.86869687e+00, 7.07071707e+00,\n",
       "       7.27273727e+00, 7.47475747e+00, 7.67677768e+00, 7.87879788e+00,\n",
       "       8.08081808e+00, 8.28283828e+00, 8.48485848e+00, 8.68687869e+00,\n",
       "       8.88889889e+00, 9.09091909e+00, 9.29293929e+00, 9.49495949e+00,\n",
       "       9.69697970e+00, 9.89899990e+00, 1.01010201e+01, 1.03030403e+01,\n",
       "       1.05050605e+01, 1.07070807e+01, 1.09091009e+01, 1.11111211e+01,\n",
       "       1.13131413e+01, 1.15151615e+01, 1.17171817e+01, 1.19192019e+01,\n",
       "       1.21212221e+01, 1.23232423e+01, 1.25252625e+01, 1.27272827e+01,\n",
       "       1.29293029e+01, 1.31313231e+01, 1.33333433e+01, 1.35353635e+01,\n",
       "       1.37373837e+01, 1.39394039e+01, 1.41414241e+01, 1.43434443e+01,\n",
       "       1.45454645e+01, 1.47474847e+01, 1.49495049e+01, 1.51515252e+01,\n",
       "       1.53535454e+01, 1.55555656e+01, 1.57575858e+01, 1.59596060e+01,\n",
       "       1.61616262e+01, 1.63636464e+01, 1.65656666e+01, 1.67676868e+01,\n",
       "       1.69697070e+01, 1.71717272e+01, 1.73737474e+01, 1.75757676e+01,\n",
       "       1.77777878e+01, 1.79798080e+01, 1.81818282e+01, 1.83838484e+01,\n",
       "       1.85858686e+01, 1.87878888e+01, 1.89899090e+01, 1.91919292e+01,\n",
       "       1.93939494e+01, 1.95959696e+01, 1.97979898e+01, 2.00000100e+01])"
      ]
     },
     "execution_count": 70,
     "metadata": {},
     "output_type": "execute_result"
    }
   ],
   "source": [
    "forward_diff = (f(x + h) - f(x)) / h\n",
    "forward_diff"
   ]
  },
  {
   "cell_type": "markdown",
   "id": "6e497ec1-6520-40cf-ae40-23e94d626253",
   "metadata": {},
   "source": [
    "##### Backward difference"
   ]
  },
  {
   "cell_type": "code",
   "execution_count": 71,
   "id": "92000dbd-5cac-4c66-b744-c60f070157ee",
   "metadata": {},
   "outputs": [
    {
     "data": {
      "text/plain": [
       "array([-1.00000000e-05,  2.02010202e-01,  4.04030404e-01,  6.06050606e-01,\n",
       "        8.08070808e-01,  1.01009101e+00,  1.21211121e+00,  1.41413141e+00,\n",
       "        1.61615162e+00,  1.81817182e+00,  2.02019202e+00,  2.22221222e+00,\n",
       "        2.42423242e+00,  2.62625263e+00,  2.82827283e+00,  3.03029303e+00,\n",
       "        3.23231323e+00,  3.43433343e+00,  3.63635364e+00,  3.83837384e+00,\n",
       "        4.04039404e+00,  4.24241424e+00,  4.44443444e+00,  4.64645465e+00,\n",
       "        4.84847485e+00,  5.05049505e+00,  5.25251525e+00,  5.45453545e+00,\n",
       "        5.65655566e+00,  5.85857586e+00,  6.06059606e+00,  6.26261626e+00,\n",
       "        6.46463646e+00,  6.66665667e+00,  6.86867687e+00,  7.07069707e+00,\n",
       "        7.27271727e+00,  7.47473747e+00,  7.67675768e+00,  7.87877788e+00,\n",
       "        8.08079808e+00,  8.28281828e+00,  8.48483848e+00,  8.68685869e+00,\n",
       "        8.88887889e+00,  9.09089909e+00,  9.29291929e+00,  9.49493949e+00,\n",
       "        9.69695970e+00,  9.89897990e+00,  1.01010001e+01,  1.03030203e+01,\n",
       "        1.05050405e+01,  1.07070607e+01,  1.09090809e+01,  1.11111011e+01,\n",
       "        1.13131213e+01,  1.15151415e+01,  1.17171617e+01,  1.19191819e+01,\n",
       "        1.21212021e+01,  1.23232223e+01,  1.25252425e+01,  1.27272627e+01,\n",
       "        1.29292829e+01,  1.31313031e+01,  1.33333233e+01,  1.35353435e+01,\n",
       "        1.37373637e+01,  1.39393839e+01,  1.41414041e+01,  1.43434243e+01,\n",
       "        1.45454445e+01,  1.47474647e+01,  1.49494849e+01,  1.51515052e+01,\n",
       "        1.53535254e+01,  1.55555456e+01,  1.57575658e+01,  1.59595860e+01,\n",
       "        1.61616062e+01,  1.63636264e+01,  1.65656466e+01,  1.67676668e+01,\n",
       "        1.69696870e+01,  1.71717072e+01,  1.73737274e+01,  1.75757476e+01,\n",
       "        1.77777678e+01,  1.79797880e+01,  1.81818082e+01,  1.83838284e+01,\n",
       "        1.85858486e+01,  1.87878688e+01,  1.89898890e+01,  1.91919092e+01,\n",
       "        1.93939294e+01,  1.95959496e+01,  1.97979698e+01,  1.99999900e+01])"
      ]
     },
     "execution_count": 71,
     "metadata": {},
     "output_type": "execute_result"
    }
   ],
   "source": [
    "backward_diff = (f(x) - f(x - h)) / h\n",
    "backward_diff"
   ]
  },
  {
   "cell_type": "markdown",
   "id": "78e80266-e756-45a1-828a-b1ac5adaf158",
   "metadata": {},
   "source": [
    "##### Central difference"
   ]
  },
  {
   "cell_type": "code",
   "execution_count": 72,
   "id": "129dc81e-eaf2-4d6d-9c6c-25d01b5138af",
   "metadata": {},
   "outputs": [
    {
     "data": {
      "text/plain": [
       "array([ 0.        ,  0.2020202 ,  0.4040404 ,  0.60606061,  0.80808081,\n",
       "        1.01010101,  1.21212121,  1.41414141,  1.61616162,  1.81818182,\n",
       "        2.02020202,  2.22222222,  2.42424242,  2.62626263,  2.82828283,\n",
       "        3.03030303,  3.23232323,  3.43434343,  3.63636364,  3.83838384,\n",
       "        4.04040404,  4.24242424,  4.44444444,  4.64646465,  4.84848485,\n",
       "        5.05050505,  5.25252525,  5.45454545,  5.65656566,  5.85858586,\n",
       "        6.06060606,  6.26262626,  6.46464646,  6.66666667,  6.86868687,\n",
       "        7.07070707,  7.27272727,  7.47474747,  7.67676768,  7.87878788,\n",
       "        8.08080808,  8.28282828,  8.48484848,  8.68686869,  8.88888889,\n",
       "        9.09090909,  9.29292929,  9.49494949,  9.6969697 ,  9.8989899 ,\n",
       "       10.1010101 , 10.3030303 , 10.5050505 , 10.70707071, 10.90909091,\n",
       "       11.11111111, 11.31313131, 11.51515151, 11.71717172, 11.91919192,\n",
       "       12.12121212, 12.32323232, 12.52525252, 12.72727273, 12.92929293,\n",
       "       13.13131313, 13.33333333, 13.53535353, 13.73737374, 13.93939394,\n",
       "       14.14141414, 14.34343434, 14.54545454, 14.74747475, 14.94949495,\n",
       "       15.15151515, 15.35353535, 15.55555556, 15.75757576, 15.95959596,\n",
       "       16.16161616, 16.36363636, 16.56565656, 16.76767677, 16.96969697,\n",
       "       17.17171717, 17.37373737, 17.57575758, 17.77777778, 17.97979798,\n",
       "       18.18181818, 18.38383838, 18.58585859, 18.78787879, 18.98989899,\n",
       "       19.19191919, 19.39393939, 19.59595959, 19.7979798 , 20.        ])"
      ]
     },
     "execution_count": 72,
     "metadata": {},
     "output_type": "execute_result"
    }
   ],
   "source": [
    "central_diff = (f(x + h) - f(x - h)) / (2 * h)\n",
    "central_diff"
   ]
  },
  {
   "cell_type": "markdown",
   "id": "bb88dc05-91be-4885-86c2-7dd9524303fd",
   "metadata": {},
   "source": [
    "### Numerical Integration"
   ]
  },
  {
   "cell_type": "markdown",
   "id": "4ee53aa7-9c99-44a2-b9b7-b93d7e0b2d4a",
   "metadata": {},
   "source": [
    "##### Compute the numerical integral of a given function"
   ]
  },
  {
   "cell_type": "code",
   "execution_count": 73,
   "id": "aa877b34-3bf3-43fc-b04b-0a90f24c73c5",
   "metadata": {},
   "outputs": [],
   "source": [
    "from scipy.integrate import simps"
   ]
  },
  {
   "cell_type": "code",
   "execution_count": 74,
   "id": "19a562a1-78b8-4987-8dac-6ecaf335c179",
   "metadata": {},
   "outputs": [],
   "source": [
    "def g(x):\n",
    "    return np.sin(x)\n",
    "\n",
    "x = np.linspace(0, np.pi, 100)\n",
    "y = g(x)"
   ]
  },
  {
   "cell_type": "markdown",
   "id": "fcc050d4-1c84-4127-a833-91b8c71f5f2d",
   "metadata": {},
   "source": [
    "##### Trapezoidal rule"
   ]
  },
  {
   "cell_type": "code",
   "execution_count": 76,
   "id": "7fb46f98-ea07-4a1b-bf4a-bf99ad757db3",
   "metadata": {},
   "outputs": [
    {
     "data": {
      "text/plain": [
       "1.9998321638939927"
      ]
     },
     "execution_count": 76,
     "metadata": {},
     "output_type": "execute_result"
    }
   ],
   "source": [
    "trapezoidal_integral = np.trapz(y, x)\n",
    "trapezoidal_integral"
   ]
  },
  {
   "cell_type": "markdown",
   "id": "5389d922-99b8-43ae-a3b6-cd4e5d60dcbc",
   "metadata": {},
   "source": [
    "##### Simpson's rule"
   ]
  },
  {
   "cell_type": "code",
   "execution_count": 77,
   "id": "4dbc8249-08d9-4907-85e4-38d9405aa855",
   "metadata": {},
   "outputs": [
    {
     "data": {
      "text/plain": [
       "2.0000000534993037"
      ]
     },
     "execution_count": 77,
     "metadata": {},
     "output_type": "execute_result"
    }
   ],
   "source": [
    "simpsons_integral = simps(y, x)\n",
    "simpsons_integral"
   ]
  },
  {
   "cell_type": "markdown",
   "id": "8d7016e4-b44e-4e16-807d-b18e1ba0e6ce",
   "metadata": {},
   "source": [
    "### Partial Derivatives"
   ]
  },
  {
   "cell_type": "markdown",
   "id": "2aa6629a-3bc6-4833-b5ae-2e7949c77f48",
   "metadata": {},
   "source": [
    "##### Calculate partial derivatives of multivariable functions"
   ]
  },
  {
   "cell_type": "code",
   "execution_count": 78,
   "id": "adb10490-e377-494b-bb8c-829d12c35b5e",
   "metadata": {},
   "outputs": [],
   "source": [
    "def h(x, y):\n",
    "    return x**2 + y**2"
   ]
  },
  {
   "cell_type": "code",
   "execution_count": 80,
   "id": "1f366875-4e6a-4456-ad0d-86bea5f2754b",
   "metadata": {},
   "outputs": [],
   "source": [
    "x = 1.0\n",
    "y = 2.0\n",
    "h_value = 0.001\n",
    "\n",
    "h_x = (h(x + h_value, y) - h(x, y)) / h_value\n",
    "h_y = (h(x, y + h_value) - h(x, y)) / h_value"
   ]
  },
  {
   "cell_type": "code",
   "execution_count": 81,
   "id": "6c5ee271-cd78-433d-bb13-55e07cc3dcc7",
   "metadata": {},
   "outputs": [
    {
     "data": {
      "text/plain": [
       "2.0009999999999195"
      ]
     },
     "execution_count": 81,
     "metadata": {},
     "output_type": "execute_result"
    }
   ],
   "source": [
    "h_x"
   ]
  },
  {
   "cell_type": "code",
   "execution_count": 82,
   "id": "7503e41c-fc97-4650-bfc9-c77e3f0e7327",
   "metadata": {},
   "outputs": [
    {
     "data": {
      "text/plain": [
       "4.000999999999699"
      ]
     },
     "execution_count": 82,
     "metadata": {},
     "output_type": "execute_result"
    }
   ],
   "source": [
    "h_y"
   ]
  },
  {
   "cell_type": "markdown",
   "id": "b22827cb-b45a-419b-b6d3-483a68703361",
   "metadata": {},
   "source": [
    "### Optimization"
   ]
  },
  {
   "cell_type": "markdown",
   "id": "769d0b27-b18d-4834-b554-1ec566725de1",
   "metadata": {},
   "source": [
    "##### Solve optimization problems with constraints"
   ]
  },
  {
   "cell_type": "code",
   "execution_count": 83,
   "id": "208ba817-5fda-40a7-86e6-97ed93640a47",
   "metadata": {},
   "outputs": [],
   "source": [
    "from scipy.optimize import minimize"
   ]
  },
  {
   "cell_type": "code",
   "execution_count": 84,
   "id": "e5221409-f99c-47a1-b8f9-645670b528ba",
   "metadata": {},
   "outputs": [],
   "source": [
    "def objective(x):\n",
    "    return x[0]**2 + x[1]**2"
   ]
  },
  {
   "cell_type": "code",
   "execution_count": 85,
   "id": "49ea843e-7b1d-4b90-9bff-c5a74a84f34a",
   "metadata": {},
   "outputs": [],
   "source": [
    "def constraint(x):\n",
    "    return x[0] + x[1] - 1\n"
   ]
  },
  {
   "cell_type": "code",
   "execution_count": 87,
   "id": "d63b7180-0a53-4cf2-88b7-44888c426596",
   "metadata": {},
   "outputs": [],
   "source": [
    "x0 = [0.5, 0.5]\n",
    "cons = {'type': 'eq', 'fun': constraint}"
   ]
  },
  {
   "cell_type": "code",
   "execution_count": 88,
   "id": "d7cfc96c-8693-465f-9bb4-73a1a37c5e9c",
   "metadata": {},
   "outputs": [
    {
     "data": {
      "text/plain": [
       " message: Optimization terminated successfully\n",
       " success: True\n",
       "  status: 0\n",
       "     fun: 0.5\n",
       "       x: [ 5.000e-01  5.000e-01]\n",
       "     nit: 1\n",
       "     jac: [ 1.000e+00  1.000e+00]\n",
       "    nfev: 3\n",
       "    njev: 1"
      ]
     },
     "execution_count": 88,
     "metadata": {},
     "output_type": "execute_result"
    }
   ],
   "source": [
    "result = minimize(objective, x0, constraints=cons)\n",
    "result"
   ]
  },
  {
   "cell_type": "code",
   "execution_count": null,
   "id": "1729bdab-ca72-4ef4-bb1f-bbc07878ef2a",
   "metadata": {},
   "outputs": [],
   "source": []
  }
 ],
 "metadata": {
  "kernelspec": {
   "display_name": "Python 3 (ipykernel)",
   "language": "python",
   "name": "python3"
  },
  "language_info": {
   "codemirror_mode": {
    "name": "ipython",
    "version": 3
   },
   "file_extension": ".py",
   "mimetype": "text/x-python",
   "name": "python",
   "nbconvert_exporter": "python",
   "pygments_lexer": "ipython3",
   "version": "3.11.7"
  }
 },
 "nbformat": 4,
 "nbformat_minor": 5
}
