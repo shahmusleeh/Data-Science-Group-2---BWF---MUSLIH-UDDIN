{
 "cells": [
  {
   "cell_type": "markdown",
   "id": "ae7723ad",
   "metadata": {},
   "source": [
    "# Creating Dictionary"
   ]
  },
  {
   "cell_type": "code",
   "execution_count": 2,
   "id": "216b33a5",
   "metadata": {},
   "outputs": [],
   "source": [
    "a = {\n",
    "    \"ID\":41404,\n",
    "    \"Year\":2015,\n",
    "    \"Color\":\"Green\"\n",
    "}"
   ]
  },
  {
   "cell_type": "code",
   "execution_count": 3,
   "id": "6555bbe5",
   "metadata": {},
   "outputs": [
    {
     "name": "stdout",
     "output_type": "stream",
     "text": [
      "{'ID': 41404, 'Year': 2015, 'Color': 'Green'}\n",
      "<class 'dict'>\n"
     ]
    }
   ],
   "source": [
    "print(a)\n",
    "print(type(a))"
   ]
  },
  {
   "cell_type": "code",
   "execution_count": 4,
   "id": "590b68d6",
   "metadata": {},
   "outputs": [],
   "source": [
    "a = {\n",
    "    \"ID\":41404,\n",
    "    \"Name\":\"Shah\",\n",
    "    \"Class\":\"9th\"\n",
    "}"
   ]
  },
  {
   "cell_type": "code",
   "execution_count": 6,
   "id": "0e43718f",
   "metadata": {},
   "outputs": [
    {
     "name": "stdout",
     "output_type": "stream",
     "text": [
      "41404\n"
     ]
    }
   ],
   "source": [
    "print(a[\"ID\"])"
   ]
  },
  {
   "cell_type": "code",
   "execution_count": 7,
   "id": "658e6fd2",
   "metadata": {},
   "outputs": [],
   "source": [
    "z = {\n",
    "    \"ID\":41404,\n",
    "    \"Name\":\"Shah\",\n",
    "    \"Class\":\"9th\"\n",
    "}"
   ]
  },
  {
   "cell_type": "code",
   "execution_count": 9,
   "id": "000f085d",
   "metadata": {},
   "outputs": [],
   "source": [
    "x = z.keys()"
   ]
  },
  {
   "cell_type": "code",
   "execution_count": 10,
   "id": "8c3cae3a",
   "metadata": {},
   "outputs": [
    {
     "data": {
      "text/plain": [
       "dict_keys(['ID', 'Name', 'Class'])"
      ]
     },
     "execution_count": 10,
     "metadata": {},
     "output_type": "execute_result"
    }
   ],
   "source": [
    "x"
   ]
  },
  {
   "cell_type": "code",
   "execution_count": 11,
   "id": "d2d79034",
   "metadata": {},
   "outputs": [],
   "source": [
    "z = {\n",
    "    \"ID\":41404,\n",
    "    \"Name\":\"Shah\",\n",
    "    \"Class\":\"9th\"\n",
    "}"
   ]
  },
  {
   "cell_type": "code",
   "execution_count": 12,
   "id": "1d3f1454",
   "metadata": {},
   "outputs": [],
   "source": [
    "y = z.values()"
   ]
  },
  {
   "cell_type": "code",
   "execution_count": 13,
   "id": "e0516b0b",
   "metadata": {},
   "outputs": [
    {
     "data": {
      "text/plain": [
       "dict_values([41404, 'Shah', '9th'])"
      ]
     },
     "execution_count": 13,
     "metadata": {},
     "output_type": "execute_result"
    }
   ],
   "source": [
    "y"
   ]
  },
  {
   "cell_type": "code",
   "execution_count": 14,
   "id": "248e1890",
   "metadata": {},
   "outputs": [],
   "source": [
    "c = {\n",
    "    \"ID\":41404,\n",
    "    \"Name\":\"Shah\",\n",
    "    \"Class\":\"9th\"\n",
    "}"
   ]
  },
  {
   "cell_type": "code",
   "execution_count": 15,
   "id": "f0d78180",
   "metadata": {},
   "outputs": [],
   "source": [
    "c[\"ID\"] = 1912126"
   ]
  },
  {
   "cell_type": "code",
   "execution_count": 16,
   "id": "ea151d29",
   "metadata": {},
   "outputs": [
    {
     "name": "stdout",
     "output_type": "stream",
     "text": [
      "{'ID': 1912126, 'Name': 'Shah', 'Class': '9th'}\n"
     ]
    }
   ],
   "source": [
    "print(c)"
   ]
  },
  {
   "cell_type": "code",
   "execution_count": 20,
   "id": "7a2199fc",
   "metadata": {},
   "outputs": [
    {
     "name": "stdout",
     "output_type": "stream",
     "text": [
      "{'ID': 41404, 'Name': 'Shah', 'Class': '9th', 'Age': 25}\n"
     ]
    }
   ],
   "source": [
    "a = {\n",
    "    \"ID\":41404,\n",
    "    \"Name\":\"Shah\",\n",
    "    \"Class\":\"9th\"\n",
    "}\n",
    "\n",
    "a.update({\"Age\":25})\n",
    "print(a)"
   ]
  },
  {
   "cell_type": "code",
   "execution_count": 23,
   "id": "a1a3cf03",
   "metadata": {},
   "outputs": [
    {
     "name": "stdout",
     "output_type": "stream",
     "text": [
      "{'ID': 41404, 'Name': 'Shah'}\n"
     ]
    }
   ],
   "source": [
    "a = {\n",
    "    \"ID\":41404,\n",
    "    \"Name\":\"Shah\",\n",
    "    \"Class\":\"9th\"\n",
    "}\n",
    "\n",
    "a.pop(\"Class\")\n",
    "print(a)"
   ]
  },
  {
   "cell_type": "code",
   "execution_count": 34,
   "id": "da591918",
   "metadata": {},
   "outputs": [
    {
     "name": "stdout",
     "output_type": "stream",
     "text": [
      "{}\n"
     ]
    }
   ],
   "source": [
    "a = {\n",
    "    \"ID\":41404,\n",
    "    \"Name\":\"Shah\",\n",
    "    \"Class\":\"9th\"\n",
    "}\n",
    "\n",
    "a.clear()\n",
    "print(a)"
   ]
  },
  {
   "cell_type": "code",
   "execution_count": 2,
   "id": "50eab716",
   "metadata": {},
   "outputs": [
    {
     "name": "stdout",
     "output_type": "stream",
     "text": [
      "{1: 10, 2: 20, 3: 30, 4: 40, 5: 50, 6: 60}\n"
     ]
    }
   ],
   "source": [
    "dict1 = {1:10, 2:20}\n",
    "dict2 = {3:30, 4:40}\n",
    "dict3 = {5:50, 6:60}\n",
    "dict4 = {}\n",
    "\n",
    "for d in (dict1, dict2, dict3): dict4.update(d)\n",
    "print(dict4)"
   ]
  },
  {
   "cell_type": "code",
   "execution_count": 3,
   "id": "2de5be29",
   "metadata": {},
   "outputs": [
    {
     "name": "stdout",
     "output_type": "stream",
     "text": [
      "{1: 1, 2: 4, 3: 9, 4: 16, 5: 25, 6: 36, 7: 49, 8: 64, 9: 81, 10: 100, 11: 121, 12: 144, 13: 169, 14: 196, 15: 225}\n"
     ]
    }
   ],
   "source": [
    "d = dict()\n",
    "for x in range(1, 16):\n",
    "    d[x] = x**2\n",
    "print(d)"
   ]
  },
  {
   "cell_type": "code",
   "execution_count": null,
   "id": "a644ca2c",
   "metadata": {},
   "outputs": [],
   "source": [
    "Check whether a given key already exists in a dictionary"
   ]
  },
  {
   "cell_type": "code",
   "execution_count": 4,
   "id": "85e8f561",
   "metadata": {},
   "outputs": [
    {
     "name": "stdout",
     "output_type": "stream",
     "text": [
      "Key is present in the Dictionary\n",
      "Key is not present in the Dictionary\n"
     ]
    }
   ],
   "source": [
    "d = {1:10, 2:20, 3:30, 4:40, 5:50, 6:60}\n",
    "def is_key_present(x):\n",
    "    if x in d:\n",
    "        print(\"Key is present in the Dictionary\")\n",
    "    else:\n",
    "        print(\"Key is not present in the Dictionary\")\n",
    "is_key_present(5)\n",
    "is_key_present(9)"
   ]
  },
  {
   "cell_type": "markdown",
   "id": "558a7a23",
   "metadata": {},
   "source": [
    "# Set"
   ]
  },
  {
   "cell_type": "markdown",
   "id": "b99db5c8",
   "metadata": {},
   "source": [
    "### Creating a set"
   ]
  },
  {
   "cell_type": "code",
   "execution_count": 6,
   "id": "3133d170",
   "metadata": {},
   "outputs": [
    {
     "name": "stdout",
     "output_type": "stream",
     "text": [
      "{'Fruits', 'Minirals', 'animal'}\n",
      "<class 'set'>\n"
     ]
    }
   ],
   "source": [
    "a = {\"animal\", \"Fruits\", \"Minirals\"}\n",
    "print(a)\n",
    "print(type(a))"
   ]
  },
  {
   "cell_type": "markdown",
   "id": "80869448",
   "metadata": {},
   "source": [
    "Set items are unordered"
   ]
  },
  {
   "cell_type": "markdown",
   "id": "62e85999",
   "metadata": {},
   "source": [
    "# Duplicates are not allowed"
   ]
  },
  {
   "cell_type": "code",
   "execution_count": 9,
   "id": "2d341177",
   "metadata": {},
   "outputs": [
    {
     "name": "stdout",
     "output_type": "stream",
     "text": [
      "{'Fruits', 'Minirals', 'animals', 'animal'}\n"
     ]
    }
   ],
   "source": [
    "a = {\"animal\", \"Fruits\", \"Minirals\", \"animals\", \"Fruits\"}\n",
    "print(a)"
   ]
  },
  {
   "cell_type": "markdown",
   "id": "aa9d264d",
   "metadata": {},
   "source": [
    "# True and 1 is consider the same"
   ]
  },
  {
   "cell_type": "code",
   "execution_count": 11,
   "id": "39a2f02e",
   "metadata": {},
   "outputs": [
    {
     "name": "stdout",
     "output_type": "stream",
     "text": [
      "{'Fruits', 1, 2, 'Minirals', 'animals'}\n"
     ]
    }
   ],
   "source": [
    "a = {\"animals\", \"Fruits\", \"Minirals\", \"animals\", \"Fruits\", 1, 2, True}\n",
    "print(a)"
   ]
  },
  {
   "cell_type": "markdown",
   "id": "52746eb0",
   "metadata": {},
   "source": [
    "# Set items - Data types"
   ]
  },
  {
   "cell_type": "code",
   "execution_count": 12,
   "id": "77ee5000",
   "metadata": {},
   "outputs": [
    {
     "name": "stdout",
     "output_type": "stream",
     "text": [
      "{1, 2, 3} {1.2, 1.3, 1.4} {'b', 'a', 'c'} {False, True}\n"
     ]
    }
   ],
   "source": [
    "x1 = {1,2,3}\n",
    "x2 = {1.2, 1.3, 1.4}\n",
    "x3 = {\"a\", \"b\", \"c\"}\n",
    "x4 = {True, False}\n",
    "print(x1,x2,x3,x4)"
   ]
  },
  {
   "cell_type": "markdown",
   "id": "e0db437e",
   "metadata": {},
   "source": [
    "# The Set() Constructor"
   ]
  },
  {
   "cell_type": "code",
   "execution_count": 13,
   "id": "9cb1c456",
   "metadata": {},
   "outputs": [
    {
     "name": "stdout",
     "output_type": "stream",
     "text": [
      "{'mango', 'apple', 'banana'}\n"
     ]
    }
   ],
   "source": [
    "set = set((\"apple\", \"banana\", \"mango\"))\n",
    "print(set)"
   ]
  },
  {
   "cell_type": "markdown",
   "id": "dedfcae3",
   "metadata": {},
   "source": [
    "# Access Items "
   ]
  },
  {
   "cell_type": "code",
   "execution_count": 14,
   "id": "0988980e",
   "metadata": {},
   "outputs": [
    {
     "name": "stdout",
     "output_type": "stream",
     "text": [
      "b\n",
      "a\n",
      "d\n",
      "c\n"
     ]
    }
   ],
   "source": [
    "a = {\"a\", \"b\", \"c\", \"d\"}\n",
    "for x in a:\n",
    "    print(x)"
   ]
  },
  {
   "cell_type": "markdown",
   "id": "64727bc1",
   "metadata": {},
   "source": [
    "Check if Item is present in Set"
   ]
  },
  {
   "cell_type": "code",
   "execution_count": 15,
   "id": "41ad615b",
   "metadata": {},
   "outputs": [
    {
     "name": "stdout",
     "output_type": "stream",
     "text": [
      "True\n"
     ]
    }
   ],
   "source": [
    "a = {\"data\", \"python\", \"code\"}\n",
    "print(\"code\" in a)"
   ]
  },
  {
   "cell_type": "code",
   "execution_count": 16,
   "id": "ba7bc3a1",
   "metadata": {},
   "outputs": [
    {
     "name": "stdout",
     "output_type": "stream",
     "text": [
      "False\n"
     ]
    }
   ],
   "source": [
    "a = {\"data\", \"python\", \"code\"}\n",
    "print(\"analyst\" in a)"
   ]
  },
  {
   "cell_type": "markdown",
   "id": "4df1cbdb",
   "metadata": {},
   "source": [
    "# Add Items"
   ]
  },
  {
   "cell_type": "code",
   "execution_count": 17,
   "id": "f5d89836",
   "metadata": {},
   "outputs": [
    {
     "name": "stdout",
     "output_type": "stream",
     "text": [
      "{'c', 100, 'b', 'a', 'd'}\n"
     ]
    }
   ],
   "source": [
    "a = {\"a\", \"b\", \"c\", \"d\"}\n",
    "a.add(100)\n",
    "print(a)"
   ]
  },
  {
   "cell_type": "code",
   "execution_count": 19,
   "id": "53ec7006",
   "metadata": {},
   "outputs": [
    {
     "name": "stdout",
     "output_type": "stream",
     "text": [
      "{'c', 'a', 'data', 'b', 'python', 'code', 'd'}\n"
     ]
    }
   ],
   "source": [
    "a = {\"a\", \"b\", \"c\", \"d\"}\n",
    "b = {\"data\", \"python\", \"code\"}\n",
    "a.update(b)\n",
    "print(a)"
   ]
  },
  {
   "cell_type": "code",
   "execution_count": 20,
   "id": "e94237ed",
   "metadata": {},
   "outputs": [
    {
     "name": "stdout",
     "output_type": "stream",
     "text": [
      "{'a', 'd', 'c'}\n"
     ]
    }
   ],
   "source": [
    "a = {\"a\", \"b\", \"c\", \"d\"}\n",
    "a.remove(\"b\")\n",
    "print(a)"
   ]
  },
  {
   "cell_type": "code",
   "execution_count": 22,
   "id": "fa5d2510",
   "metadata": {},
   "outputs": [
    {
     "name": "stdout",
     "output_type": "stream",
     "text": [
      "{'a', 'd', 'c'}\n"
     ]
    }
   ],
   "source": [
    "a = {\"a\", \"b\", \"c\", \"d\"}\n",
    "x = a.pop()\n",
    "print(a)"
   ]
  },
  {
   "cell_type": "code",
   "execution_count": 23,
   "id": "00ce1328",
   "metadata": {},
   "outputs": [
    {
     "name": "stdout",
     "output_type": "stream",
     "text": [
      "set()\n"
     ]
    }
   ],
   "source": [
    "a = {\"a\", \"b\", \"c\", \"d\"}\n",
    "a.clear()\n",
    "print(a)"
   ]
  },
  {
   "cell_type": "markdown",
   "id": "9f11e702",
   "metadata": {},
   "source": [
    "# Join two sets"
   ]
  },
  {
   "cell_type": "code",
   "execution_count": 25,
   "id": "d8c395d8",
   "metadata": {},
   "outputs": [
    {
     "name": "stdout",
     "output_type": "stream",
     "text": [
      "{'c', 'a', 'data', 'b', 'python', 'code', 'd'}\n"
     ]
    }
   ],
   "source": [
    "x = {\"a\", \"b\", \"c\", \"d\"}\n",
    "y = {\"data\", \"python\", \"code\"}\n",
    "z = x.union(y)\n",
    "print(z)"
   ]
  },
  {
   "cell_type": "markdown",
   "id": "cad6203c",
   "metadata": {},
   "source": [
    "write a program to find the max and min values"
   ]
  },
  {
   "cell_type": "code",
   "execution_count": 26,
   "id": "888412f9",
   "metadata": {},
   "outputs": [
    {
     "name": "stdout",
     "output_type": "stream",
     "text": [
      "Original set elements\n",
      "{3, 6, 7, 9, 10.74, 12}\n",
      "The max value in the set is\n",
      "12\n",
      "The min value in the set is\n",
      "3\n"
     ]
    }
   ],
   "source": [
    "set = {9, 3,12,7,6,10.74}\n",
    "print(\"Original set elements\")\n",
    "print(set)\n",
    "print(\"The max value in the set is\")\n",
    "print(max(set))\n",
    "print(\"The min value in the set is\")\n",
    "print(min(set))\n"
   ]
  },
  {
   "cell_type": "markdown",
   "id": "3c010a05",
   "metadata": {},
   "source": [
    "Return a new set of Identical items from 2 sets"
   ]
  },
  {
   "cell_type": "code",
   "execution_count": 27,
   "id": "2d625100",
   "metadata": {},
   "outputs": [
    {
     "name": "stdout",
     "output_type": "stream",
     "text": [
      "{11}\n"
     ]
    }
   ],
   "source": [
    "set1 = {11, 22, 33, 44}\n",
    "set2 = {11, 20, 28, 40}\n",
    "\n",
    "print(set1.intersection(set2))"
   ]
  },
  {
   "cell_type": "markdown",
   "id": "5800e778-e88d-45c0-a3fd-2408fcb5034f",
   "metadata": {},
   "source": [
    "# Tasks "
   ]
  },
  {
   "cell_type": "code",
   "execution_count": 33,
   "id": "07420c4f",
   "metadata": {},
   "outputs": [
    {
     "name": "stdout",
     "output_type": "stream",
     "text": [
      "Series from list:\n",
      " a    10\n",
      "b    20\n",
      "c    30\n",
      "d    40\n",
      "e    50\n",
      "dtype: int64\n",
      "\n",
      "Series from array:\n",
      " w    1\n",
      "x    2\n",
      "y    3\n",
      "z    4\n",
      "u    5\n",
      "dtype: int32\n",
      "\n",
      "Series from dictionary:\n",
      " A    100\n",
      "B    200\n",
      "C    300\n",
      "dtype: int64\n",
      "\n",
      "Series Addition:\n",
      " a     20\n",
      "b     40\n",
      "c     60\n",
      "d     80\n",
      "e    100\n",
      "dtype: int64\n",
      "\n",
      "Series Multiplication:\n",
      " a     20\n",
      "b     40\n",
      "c     60\n",
      "d     80\n",
      "e    100\n",
      "dtype: int64\n",
      "\n",
      "Element with index 'a': 10\n",
      "Element at position 2: 30\n",
      "\n",
      "Filtered Series (values > 25):\n",
      " c    30\n",
      "d    40\n",
      "e    50\n",
      "dtype: int64\n",
      "\n",
      "DataFrame from dictionary:\n",
      "      Name  Age       City\n",
      "0     Ali   24     Lahore\n",
      "1   Babar   27  Islamabad\n",
      "2  Faryal   22    Karachi\n",
      "3  Danish   32   Peshawar\n",
      "\n",
      "DataFrame from NumPy array:\n",
      "        Column1   Column2   Column3\n",
      "Row1  0.002908  0.655106  0.267045\n",
      "Row2  0.227961  0.269342  0.681085\n",
      "Row3  0.523168  0.312323  0.719847\n",
      "Row4  0.729546  0.494282  0.845579\n",
      "\n",
      "First five rows of DataFrame:\n",
      "      Name  Age       City\n",
      "0     Ali   24     Lahore\n",
      "1   Babar   27  Islamabad\n",
      "2  Faryal   22    Karachi\n",
      "3  Danish   32   Peshawar\n",
      "\n",
      "Last five rows of DataFrame:\n",
      "      Name  Age       City\n",
      "0     Ali   24     Lahore\n",
      "1   Babar   27  Islamabad\n",
      "2  Faryal   22    Karachi\n",
      "3  Danish   32   Peshawar\n",
      "\n",
      "Summary of DataFrame:\n",
      "              Age\n",
      "count   4.000000\n",
      "mean   26.250000\n",
      "std     4.349329\n",
      "min    22.000000\n",
      "25%    23.500000\n",
      "50%    25.500000\n",
      "75%    28.250000\n",
      "max    32.000000\n",
      "\n",
      "Mean Age: 26.25\n",
      "Median Age: 25.5\n",
      "Standard Deviation of Age: 4.349329450233296\n",
      "\n",
      "Age Column as Series:\n",
      " 0    24\n",
      "1    27\n",
      "2    22\n",
      "3    32\n",
      "Name: Age, dtype: int64\n",
      "\n",
      "Filtered DataFrame (Age > 25):\n",
      "      Name  Age       City\n",
      "1   Babar   27  Islamabad\n",
      "3  Danish   32   Peshawar\n",
      "\n",
      "Filtered DataFrame (Age > 25 and City is 'New York'):\n",
      " Empty DataFrame\n",
      "Columns: [Name, Age, City]\n",
      "Index: []\n",
      "\n",
      "DataFrame after adding a new column:\n",
      "      Name  Age       City  Salary\n",
      "0     Ali   24     Lahore   70000\n",
      "1   Babar   27  Islamabad   80000\n",
      "2  Faryal   22    Karachi   75000\n",
      "3  Danish   32   Peshawar   90000\n",
      "\n",
      "DataFrame after deleting the 'Salary' column:\n",
      "      Name  Age       City\n",
      "0     Ali   24     Lahore\n",
      "1   Babar   27  Islamabad\n",
      "2  Faryal   22    Karachi\n",
      "3  Danish   32   Peshawar\n",
      "\n",
      "DataFrame after renaming columns:\n",
      "   Full Name  Years       City\n",
      "0       Ali     24     Lahore\n",
      "1     Babar     27  Islamabad\n",
      "2    Faryal     22    Karachi\n",
      "3    Danish     32   Peshawar\n"
     ]
    }
   ],
   "source": [
    "import pandas as pd\n",
    "import numpy as np\n",
    "\n",
    "# Create a Series from a Python list\n",
    "python_list = [10, 20, 30, 40, 50]\n",
    "series_from_list = pd.Series(python_list, index=['a', 'b', 'c', 'd', 'e'])\n",
    "print(\"Series from list:\\n\", series_from_list)\n",
    "\n",
    "# Create a Series from a NumPy array\n",
    "numpy_array = np.array([1, 2, 3, 4, 5])\n",
    "series_from_array = pd.Series(numpy_array, index=['w', 'x', 'y', 'z', 'u'])\n",
    "print(\"\\nSeries from array:\\n\", series_from_array)\n",
    "\n",
    "# Create a Series from a dictionary\n",
    "dict_data = {'A': 100, 'B': 200, 'C': 300}\n",
    "series_from_dict = pd.Series(dict_data)\n",
    "print(\"\\nSeries from dictionary:\\n\", series_from_dict)\n",
    "\n",
    "series_addition = series_from_list + series_from_list\n",
    "series_multiplication = series_from_list * 2\n",
    "\n",
    "print(\"\\nSeries Addition:\\n\", series_addition)\n",
    "print(\"\\nSeries Multiplication:\\n\", series_multiplication)\n",
    "\n",
    "# Access elements using index labels\n",
    "element_a = series_from_list['a']\n",
    "print(\"\\nElement with index 'a':\", element_a)\n",
    "\n",
    "# Access elements using positions\n",
    "element_pos_2 = series_from_list.iloc[2]\n",
    "print(\"Element at position 2:\", element_pos_2)\n",
    "\n",
    "# Filter the Series to include only values greater than 25\n",
    "filtered_series = series_from_list[series_from_list > 25]\n",
    "print(\"\\nFiltered Series (values > 25):\\n\", filtered_series)\n",
    "\n",
    "# Create a DataFrame from a dictionary of lists\n",
    "data_dict = {\n",
    "    'Name': ['Ali', 'Babar', 'Faryal', 'Danish'],\n",
    "    'Age': [24, 27, 22, 32],\n",
    "    'City': ['Lahore', 'Islamabad', 'Karachi', 'Peshawar']\n",
    "}\n",
    "df_from_dict = pd.DataFrame(data_dict)\n",
    "print(\"\\nDataFrame from dictionary:\\n\", df_from_dict)\n",
    "\n",
    "# Create a DataFrame from a NumPy array\n",
    "array_data = np.random.rand(4, 3)\n",
    "df_from_array = pd.DataFrame(array_data, columns=['Column1', 'Column2', 'Column3'], index=['Row1', 'Row2', 'Row3', 'Row4'])\n",
    "print(\"\\nDataFrame from NumPy array:\\n\", df_from_array)\n",
    "\n",
    "# Display the first and last five rows of the DataFrame\n",
    "print(\"\\nFirst five rows of DataFrame:\\n\", df_from_dict.head())\n",
    "print(\"\\nLast five rows of DataFrame:\\n\", df_from_dict.tail())\n",
    "\n",
    "# Get a summary of the DataFrame\n",
    "summary = df_from_dict.describe()\n",
    "print(\"\\nSummary of DataFrame:\\n\", summary)\n",
    "\n",
    "# Calculate mean, median, and standard deviation\n",
    "mean_age = df_from_dict['Age'].mean()\n",
    "median_age = df_from_dict['Age'].median()\n",
    "std_dev_age = df_from_dict['Age'].std()\n",
    "print(\"\\nMean Age:\", mean_age)\n",
    "print(\"Median Age:\", median_age)\n",
    "print(\"Standard Deviation of Age:\", std_dev_age)\n",
    "\n",
    "# Extract a specific column as a Series\n",
    "age_series = df_from_dict['Age']\n",
    "print(\"\\nAge Column as Series:\\n\", age_series)\n",
    "\n",
    "# Filter rows where Age is greater than 25\n",
    "filtered_df = df_from_dict[df_from_dict['Age'] > 25]\n",
    "print(\"\\nFiltered DataFrame (Age > 25):\\n\", filtered_df)\n",
    "\n",
    "# Select rows where Age is greater than 25 and City is 'New York'\n",
    "multi_condition_df = df_from_dict[(df_from_dict['Age'] > 25) & (df_from_dict['City'] == 'New York')]\n",
    "print(\"\\nFiltered DataFrame (Age > 25 and City is 'New York'):\\n\", multi_condition_df)\n",
    "\n",
    "# Add a new column to the DataFrame\n",
    "df_from_dict['Salary'] = [70000, 80000, 75000, 90000]\n",
    "print(\"\\nDataFrame after adding a new column:\\n\", df_from_dict)\n",
    "\n",
    "# Delete a column from the DataFrame\n",
    "df_from_dict.drop('Salary', axis=1, inplace=True)\n",
    "print(\"\\nDataFrame after deleting the 'Salary' column:\\n\", df_from_dict)\n",
    "\n",
    "# Rename columns in the DataFrame\n",
    "df_from_dict.rename(columns={'Name': 'Full Name', 'Age': 'Years'}, inplace=True)\n",
    "print(\"\\nDataFrame after renaming columns:\\n\", df_from_dict)"
   ]
  },
  {
   "cell_type": "code",
   "execution_count": null,
   "id": "c80d614f-3e47-4790-b7b4-34dfa44b7cb7",
   "metadata": {},
   "outputs": [],
   "source": []
  }
 ],
 "metadata": {
  "kernelspec": {
   "display_name": "Python 3 (ipykernel)",
   "language": "python",
   "name": "python3"
  },
  "language_info": {
   "codemirror_mode": {
    "name": "ipython",
    "version": 3
   },
   "file_extension": ".py",
   "mimetype": "text/x-python",
   "name": "python",
   "nbconvert_exporter": "python",
   "pygments_lexer": "ipython3",
   "version": "3.11.7"
  }
 },
 "nbformat": 4,
 "nbformat_minor": 5
}
